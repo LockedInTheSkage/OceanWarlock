{
 "cells": [
  {
   "cell_type": "markdown",
   "metadata": {},
   "source": [
    "Group name:[7] OceanWarlocks\n",
    "\n",
    "Group number:7 \n",
    "\n",
    "Skage Klingstedt Reistad, studentnr : 545212\n",
    "\n",
    "Susan Desirée Bredesen Palencia, studentnr : 529305\n",
    "\n"
   ]
  },
  {
   "cell_type": "code",
   "execution_count": 1,
   "metadata": {},
   "outputs": [
    {
     "name": "stdout",
     "output_type": "stream",
     "text": [
      "Requirement already satisfied: xgboost in /home/susan-palencia/anaconda3/lib/python3.12/site-packages (2.1.1)\n",
      "Requirement already satisfied: numpy in /home/susan-palencia/anaconda3/lib/python3.12/site-packages (from xgboost) (1.26.4)\n",
      "Requirement already satisfied: nvidia-nccl-cu12 in /home/susan-palencia/anaconda3/lib/python3.12/site-packages (from xgboost) (2.22.3)\n",
      "Requirement already satisfied: scipy in /home/susan-palencia/anaconda3/lib/python3.12/site-packages (from xgboost) (1.13.1)\n",
      "Note: you may need to restart the kernel to use updated packages.\n",
      "Requirement already satisfied: scikit-learn in /home/susan-palencia/anaconda3/lib/python3.12/site-packages (1.4.2)\n",
      "Requirement already satisfied: numpy>=1.19.5 in /home/susan-palencia/anaconda3/lib/python3.12/site-packages (from scikit-learn) (1.26.4)\n",
      "Requirement already satisfied: scipy>=1.6.0 in /home/susan-palencia/anaconda3/lib/python3.12/site-packages (from scikit-learn) (1.13.1)\n",
      "Requirement already satisfied: joblib>=1.2.0 in /home/susan-palencia/anaconda3/lib/python3.12/site-packages (from scikit-learn) (1.4.2)\n",
      "Requirement already satisfied: threadpoolctl>=2.0.0 in /home/susan-palencia/anaconda3/lib/python3.12/site-packages (from scikit-learn) (2.2.0)\n",
      "Note: you may need to restart the kernel to use updated packages.\n",
      "Requirement already satisfied: pandas in /home/susan-palencia/anaconda3/lib/python3.12/site-packages (2.2.2)\n",
      "Requirement already satisfied: numpy>=1.26.0 in /home/susan-palencia/anaconda3/lib/python3.12/site-packages (from pandas) (1.26.4)\n",
      "Requirement already satisfied: python-dateutil>=2.8.2 in /home/susan-palencia/anaconda3/lib/python3.12/site-packages (from pandas) (2.9.0.post0)\n",
      "Requirement already satisfied: pytz>=2020.1 in /home/susan-palencia/anaconda3/lib/python3.12/site-packages (from pandas) (2024.1)\n",
      "Requirement already satisfied: tzdata>=2022.7 in /home/susan-palencia/anaconda3/lib/python3.12/site-packages (from pandas) (2023.3)\n",
      "Requirement already satisfied: six>=1.5 in /home/susan-palencia/anaconda3/lib/python3.12/site-packages (from python-dateutil>=2.8.2->pandas) (1.16.0)\n",
      "Note: you may need to restart the kernel to use updated packages.\n",
      "Requirement already satisfied: numpy in /home/susan-palencia/anaconda3/lib/python3.12/site-packages (1.26.4)\n",
      "Note: you may need to restart the kernel to use updated packages.\n"
     ]
    }
   ],
   "source": [
    "%pip install xgboost\n",
    "%pip install scikit-learn\n",
    "%pip install pandas\n",
    "%pip install numpy"
   ]
  },
  {
   "cell_type": "code",
   "execution_count": 2,
   "metadata": {},
   "outputs": [],
   "source": [
    "%load_ext autoreload\n",
    "%autoreload 2"
   ]
  },
  {
   "cell_type": "code",
   "execution_count": 3,
   "metadata": {},
   "outputs": [],
   "source": [
    "import pandas as pd\n",
    "import numpy as np\n",
    "from datetime import timedelta, datetime\n",
    "import xgboost as xgb\n",
    "from xgboost import plot_importance\n",
    "from sklearn.metrics import mean_absolute_error,mean_squared_error\n",
    "from sklearn.metrics import r2_score\n",
    "from warnings import simplefilter\n",
    "simplefilter(action=\"ignore\", category=pd.errors.PerformanceWarning)\n",
    "simplefilter(action=\"ignore\", category=FutureWarning)\n",
    "simplefilter(action=\"ignore\", category=UserWarning)"
   ]
  },
  {
   "cell_type": "code",
   "execution_count": 4,
   "metadata": {},
   "outputs": [],
   "source": [
    "def load_bar(n, i):\n",
    "    if n<=i:\n",
    "        print(\"[====================] 100.0% complete\")\n",
    "        return\n",
    "    progress = i / n\n",
    "    bar_length = 20\n",
    "    filled_length = int(progress * bar_length)\n",
    "\n",
    "    bar = '=' * filled_length + '-' * (bar_length - filled_length)\n",
    "    percentage = (float(progress)*1000000)//100/100\n",
    "\n",
    "    print(f'[{bar}] {percentage}% complete', end='\\r')"
   ]
  },
  {
   "cell_type": "code",
   "execution_count": 5,
   "metadata": {},
   "outputs": [],
   "source": [
    "RESOURCE_FOLDER=\"../../Project materials(1)\"\n",
    "#PUT IN PATH TO THE FOLDER CONTAINING TRAINING DATA HERE"
   ]
  },
  {
   "cell_type": "code",
   "execution_count": 6,
   "metadata": {},
   "outputs": [],
   "source": [
    "class CSVParser():\n",
    "\n",
    "    def __init__(\n",
    "        self, folderpath: str = RESOURCE_FOLDER\n",
    "    ):\n",
    "        self.folderpath = folderpath\n",
    "\n",
    "    def parse_time(self,raw_time):\n",
    "        try:\n",
    "            date_format = \"%m-%d %H:%M\"\n",
    "            parsed_datetime = datetime.strptime(raw_time, date_format)\n",
    "\n",
    "            return parsed_datetime.replace(year = 2024)\n",
    "        \n",
    "        except ValueError:\n",
    "            return None\n",
    "\n",
    "    def retrieve_ais(self,path):\n",
    "        df_ais = pd.read_csv(path, sep='|')\n",
    "        df_ais['time'] = pd.to_datetime(df_ais['time'])\n",
    "        df_ais['etaParsed'] = df_ais['etaRaw'].apply(self.parse_time)\n",
    "        df_ais=df_ais.drop(['etaRaw'], axis = 1)\n",
    "        return df_ais\n",
    "    \n",
    "    def retrieve_tests(self,path):\n",
    "        df_tests = pd.read_csv(path, sep=',')\n",
    "        df_tests[\"time\"] = pd.to_datetime(df_tests[\"time\"])\n",
    "        return df_tests\n",
    "\n",
    "    def retrieve_ports(self,path):\n",
    "        df_ports = pd.read_csv(path, sep='|')\n",
    "        df_ports['portLongitude'] = df_ports['longitude']\n",
    "        df_ports['portLatitude'] = df_ports['latitude']\n",
    "        df_ports=df_ports.drop(['name', 'portLocation', 'countryName', 'longitude', 'latitude'], axis = 1)\n",
    "        return df_ports\n",
    "\n",
    "    def retrieve_training_data(self):\n",
    "        df_ais=self.retrieve_ais(self.folderpath+'/ais_train.csv')\n",
    "        df_ports=self.retrieve_ports(self.folderpath+'/ports.csv')\n",
    "\n",
    "        result = df_ais\n",
    "        result = pd.merge(df_ais, df_ports, on='portId')\n",
    "\n",
    "        return result\n",
    "\n",
    "    def retrieve_test_data(self):\n",
    "        df_ais=self.retrieve_tests(self.folderpath+'/ais_test.csv')\n",
    "        \n",
    "        result = df_ais\n",
    "        \n",
    "        return result\n",
    "\n",
    "    "
   ]
  },
  {
   "cell_type": "code",
   "execution_count": 7,
   "metadata": {},
   "outputs": [],
   "source": [
    "parser = CSVParser(RESOURCE_FOLDER)"
   ]
  },
  {
   "cell_type": "code",
   "execution_count": 8,
   "metadata": {},
   "outputs": [],
   "source": [
    "total_df = parser.retrieve_training_data()"
   ]
  },
  {
   "cell_type": "code",
   "execution_count": 9,
   "metadata": {},
   "outputs": [],
   "source": [
    "total_df[\"time\"] = pd.to_datetime(total_df['time'])"
   ]
  },
  {
   "cell_type": "code",
   "execution_count": null,
   "metadata": {},
   "outputs": [],
   "source": [
    "def calculate_time_diffs_within_window(df, time_deltas=[]):\n",
    "    df[\"tempId\"]=[i for i in range(len(df))]\n",
    "    srt_cls= [\"vesselId\", \"time\", \"latitude\", \"longitude\", \"tempId\"]\n",
    "    feat_cls=[col for col in df.columns if col not in srt_cls]\n",
    "    feat_cls.append(\"tempId\")\n",
    "    sort_cut_df = df[srt_cls]\n",
    "    feat_cut_df = df[feat_cls]\n",
    "    result_list= []\n",
    "    vessel_dfs = sort_cut_df.groupby('vesselId')\n",
    "    j=0\n",
    "    for _, vessel_df in vessel_dfs:\n",
    "        j+=1\n",
    "        load_bar(len(vessel_dfs), j)\n",
    "        \n",
    "        vessel_df = vessel_df.sort_values(by='time')\n",
    "        groups = vessel_df.groupby(pd.Grouper(key=\"time\", freq='5D'))\n",
    "        \n",
    "        for _, group in groups:\n",
    "                group_deltas=time_deltas.copy()\n",
    "                if len(group) < 2:\n",
    "                    continue\n",
    "                while group_deltas and group.iloc[-1]['time']-group.iloc[0]['time'] < group_deltas[0]:\n",
    "                    group_deltas.pop(0)\n",
    "                feature_rows=[group.iloc[0]]\n",
    "\n",
    "                for i in range(len(group)):\n",
    "                    future_row = group.iloc[i]\n",
    "\n",
    "                    for current_row in feature_rows:\n",
    "                        new_row = current_row.copy()\n",
    "                        new_row['next_latitude'] = future_row['latitude']\n",
    "                        new_row['next_longitude'] = future_row['longitude']\n",
    "                        new_row['time_diff'] = (future_row['time'] - current_row['time']).total_seconds()\n",
    "                        result_list.append(new_row)\n",
    "\n",
    "                    if group_deltas:\n",
    "                        if group.iloc[-1]['time']-future_row['time'] < group_deltas[0]:\n",
    "                            group_deltas.pop(0)\n",
    "                            feature_rows.append(future_row)\n",
    "                        \n",
    "    print(\"Concating\")\n",
    "    result_df = pd.DataFrame(result_list)\n",
    "\n",
    "\n",
    "    last_rows = df.groupby('vesselId').tail(1)\n",
    "\n",
    "    last_rows = last_rows.reset_index(drop=True)\n",
    "    \n",
    "    print(\"Merging\")\n",
    "    result_df = pd.merge(result_df, feat_cut_df, on='tempId')\n",
    "\n",
    "    result_df=result_df.drop(['tempId'], axis = 1)\n",
    "\n",
    "    return result_df, last_rows"
   ]
  },
  {
   "cell_type": "code",
   "execution_count": 11,
   "metadata": {},
   "outputs": [],
   "source": [
    "timedeltas=[timedelta(days=3),timedelta(days=1)]"
   ]
  },
  {
   "cell_type": "code",
   "execution_count": 12,
   "metadata": {},
   "outputs": [
    {
     "name": "stdout",
     "output_type": "stream",
     "text": [
      "[====================] 100.0% complete\n",
      "Concating\n",
      "Merging\n"
     ]
    }
   ],
   "source": [
    "#This function is memory heavy, it has a tendency t\n",
    "total_df, last_rows = calculate_time_diffs_within_window(total_df, timedeltas) "
   ]
  },
  {
   "cell_type": "code",
   "execution_count": 13,
   "metadata": {},
   "outputs": [],
   "source": [
    "class FeatureEngineer:\n",
    "    def __init__(self, df: pd.DataFrame):\n",
    "        self.df = df\n",
    "\n",
    "    def add_feature(self, func, *args, **kwargs):\n",
    "        \"\"\"\n",
    "        Apply a function to the dataframe to add a new feature.\n",
    "        \n",
    "        Parameters:\n",
    "        func (callable): A function that takes a dataframe and returns a series.\n",
    "        *args: Additional positional arguments to pass to the function.\n",
    "        **kwargs: Additional keyword arguments to pass to the function.\n",
    "        \"\"\"\n",
    "        new_df = func(self.df, *args, **kwargs)\n",
    "        if new_df is None:\n",
    "            return\n",
    "        if len(new_df) == len(self.df):\n",
    "            self.df=new_df\n",
    "\n",
    "    def get_dataframe(self):\n",
    "        return self.df\n",
    "    \n",
    "    def apply_features(self, features):\n",
    "        \"\"\"\n",
    "        Apply a list of functions to the dataframe to add new features.\n",
    "        \n",
    "        Parameters:\n",
    "        features (list): A list of functions that take a dataframe and return a series.\n",
    "        \"\"\"\n",
    "        for func in features:\n",
    "            print(f\"Applying {func.__name__}\")\n",
    "            self.add_feature(func)"
   ]
  },
  {
   "cell_type": "code",
   "execution_count": 14,
   "metadata": {},
   "outputs": [],
   "source": [
    "def numerize_UN_LOCODE(total_df):\n",
    "    if \"UN_LOCODE\" not in total_df.columns:\n",
    "        return None\n",
    "\n",
    "    unique_values = total_df[\"UN_LOCODE\"].unique()\n",
    "    unique_values_dict = {value: i for i, value in enumerate(unique_values)}\n",
    "    \n",
    "    return_values = total_df[\"UN_LOCODE\"].map(unique_values_dict)\n",
    "    total_df = total_df.drop(columns = \"UN_LOCODE\")\n",
    "    total_df[\"UN_LOCODE_num\"] = return_values\n",
    "\n",
    "    return total_df\n",
    "\n",
    "    \n",
    "\n",
    "def numerize_ISO(total_df):\n",
    "    if \"ISO\" not in total_df.columns:\n",
    "        return None\n",
    "\n",
    "    unique_values = total_df[\"ISO\"].unique()\n",
    "    unique_values_dict = {value: i for i, value in enumerate(unique_values)}\n",
    "    \n",
    "    return_values = total_df[\"ISO\"].map(unique_values_dict)\n",
    "    \n",
    "    total_df = total_df.drop(columns = \"ISO\")\n",
    "    total_df[\"ISO_num\"] = return_values\n",
    "    return total_df\n"
   ]
  },
  {
   "cell_type": "code",
   "execution_count": 15,
   "metadata": {},
   "outputs": [
    {
     "name": "stdout",
     "output_type": "stream",
     "text": [
      "Applying numerize_UN_LOCODE\n",
      "Applying numerize_ISO\n"
     ]
    }
   ],
   "source": [
    "feature_engineering_functions = [ \n",
    "                                 numerize_UN_LOCODE, \n",
    "                                 numerize_ISO\n",
    "                                 ] \n",
    "\n",
    "\n",
    "\n",
    "feature_engineer = FeatureEngineer(total_df)\n",
    "feature_engineer.apply_features(feature_engineering_functions)\n",
    "total_df = feature_engineer.get_dataframe()\n",
    "total_df.set_index(\"time\", inplace=True)"
   ]
  },
  {
   "cell_type": "code",
   "execution_count": 16,
   "metadata": {},
   "outputs": [],
   "source": [
    "def replace_nan_with_zero(df):\n",
    "    for col in df.columns:\n",
    "        if df[col].isna().any():\n",
    "            non_na_values = df[col].dropna()\n",
    "            if non_na_values.apply(lambda x: isinstance(x, (bool, int, float))).all():\n",
    "                df[col].fillna(0, inplace=True)\n",
    "    return df\n",
    "\n",
    "total_df = replace_nan_with_zero(total_df)"
   ]
  },
  {
   "cell_type": "code",
   "execution_count": 17,
   "metadata": {},
   "outputs": [],
   "source": [
    "\n",
    "def remove_non_numeric_columns(df):\n",
    "    df = df.select_dtypes(include=['bool', 'float', 'int'])\n",
    "    return df\n",
    "\n",
    "total_df = remove_non_numeric_columns(total_df)\n"
   ]
  },
  {
   "cell_type": "code",
   "execution_count": 18,
   "metadata": {},
   "outputs": [],
   "source": [
    "def train_test_split(df_old, perc1, perc2):\n",
    "\n",
    "    df = df_old.sample(frac=1).reset_index(drop=True)\n",
    "\n",
    "    y_list = ['next_latitude', 'next_longitude']\n",
    "    ys = df[y_list]\n",
    "    Xs = df.drop(columns = y_list)\n",
    "\n",
    "    X_train = Xs.iloc[:int(np.round(Xs.shape[0]*perc1)),:]\n",
    "    y_train = ys.iloc[:int(np.round(Xs.shape[0]*perc1)),:]\n",
    "    X_val = Xs.iloc[int(np.round(Xs.shape[0]*perc1)):int(np.round(Xs.shape[0]*perc2)),:]\n",
    "    y_val = ys.iloc[int(np.round(Xs.shape[0]*perc1)):int(np.round(Xs.shape[0]*perc2)),:]\n",
    "    X_test = Xs.iloc[int(np.round(Xs.shape[0]*perc2)):,:]\n",
    "    y_test = ys.iloc[int(np.round(Xs.shape[0]*perc2)):,:]\n",
    "\n",
    "    return X_train, y_train, X_val, y_val, X_test, y_test"
   ]
  },
  {
   "cell_type": "code",
   "execution_count": 19,
   "metadata": {},
   "outputs": [],
   "source": [
    "X_train, y_train, X_val, y_val, X_test, y_test = train_test_split(total_df, 0.85, 0.95)"
   ]
  },
  {
   "cell_type": "code",
   "execution_count": 20,
   "metadata": {},
   "outputs": [],
   "source": [
    "X_train_cols= X_train.columns"
   ]
  },
  {
   "cell_type": "code",
   "execution_count": 21,
   "metadata": {},
   "outputs": [
    {
     "name": "stdout",
     "output_type": "stream",
     "text": [
      "<xgboost.core.DMatrix object at 0x785257cbe390>\n",
      "[0]\tvalidation-rmse:3.05850\n",
      "[1]\tvalidation-rmse:2.59256\n",
      "[2]\tvalidation-rmse:2.43883\n",
      "[3]\tvalidation-rmse:2.33850\n",
      "[4]\tvalidation-rmse:2.23417\n",
      "[5]\tvalidation-rmse:2.14695\n",
      "[6]\tvalidation-rmse:2.05737\n",
      "[7]\tvalidation-rmse:1.99761\n",
      "[8]\tvalidation-rmse:1.93475\n",
      "[9]\tvalidation-rmse:1.86966\n",
      "[10]\tvalidation-rmse:1.80780\n",
      "[11]\tvalidation-rmse:1.75599\n",
      "[12]\tvalidation-rmse:1.71307\n",
      "[13]\tvalidation-rmse:1.66847\n",
      "[14]\tvalidation-rmse:1.62756\n",
      "[15]\tvalidation-rmse:1.58378\n",
      "[16]\tvalidation-rmse:1.54925\n",
      "[17]\tvalidation-rmse:1.51380\n",
      "[18]\tvalidation-rmse:1.48024\n",
      "[19]\tvalidation-rmse:1.44772\n",
      "[20]\tvalidation-rmse:1.41462\n",
      "[21]\tvalidation-rmse:1.38781\n",
      "[22]\tvalidation-rmse:1.36379\n",
      "[23]\tvalidation-rmse:1.34268\n",
      "[24]\tvalidation-rmse:1.31803\n",
      "[25]\tvalidation-rmse:1.29559\n",
      "[26]\tvalidation-rmse:1.27290\n",
      "[27]\tvalidation-rmse:1.25112\n",
      "[28]\tvalidation-rmse:1.22903\n",
      "[29]\tvalidation-rmse:1.21016\n"
     ]
    }
   ],
   "source": [
    "\n",
    "dtrain = xgb.DMatrix(X_train, label=y_train)\n",
    "dval = xgb.DMatrix(X_val, label=y_val)\n",
    "dtest_X = xgb.DMatrix(X_test)\n",
    "\n",
    "params = {\"objective\": \"reg:squarederror\",\n",
    "            \"max_depth\": 10,\n",
    "            \"booster\": \"gbtree\",\n",
    "            \"tree-method\": \"gpu_hist\",\n",
    "            \"colsample_bynode\": 0.5,\n",
    "            \"num_parallel_tree\": 30,\n",
    "            \"subsample\": 0.7,\n",
    "            \"seed\": 42,\n",
    "            \"random_state\": 42,\n",
    "            \"learning_rate\": 1,\n",
    "            \"verbosity\": 1\n",
    "            }\n",
    "\n",
    "num_boost_round = 30\n",
    "\n",
    "\n",
    "\n",
    "early_stopping_rounds = 3\n",
    "\n",
    "print(dtrain)\n",
    "\n",
    "model = xgb.train(params, dtrain, num_boost_round, evals=[(dval, \"validation\")], \n",
    "                  early_stopping_rounds=early_stopping_rounds, verbose_eval=True)\n",
    "\n",
    "\n",
    "preds = model.predict(dtest_X)"
   ]
  },
  {
   "cell_type": "code",
   "execution_count": 22,
   "metadata": {},
   "outputs": [],
   "source": [
    "def calculate_time_diff_with_last_rows(test_df, last_rows):\n",
    "    \n",
    "    merged_df = pd.merge(\n",
    "        test_df[[\"ID\", \"vesselId\", \"time\"]],\n",
    "        last_rows,\n",
    "        on='vesselId',\n",
    "        suffixes=('', '_last')\n",
    "    )\n",
    "    print(merged_df.columns)\n",
    "    \n",
    "    merged_df['time_diff'] = (merged_df['time'] - merged_df['time_last']).dt.total_seconds()\n",
    "    \n",
    "    merged_df = merged_df.drop(columns=[ 'time_last'])\n",
    "    \n",
    "    \n",
    "    return merged_df"
   ]
  },
  {
   "cell_type": "code",
   "execution_count": 23,
   "metadata": {},
   "outputs": [],
   "source": [
    "test_df = parser.retrieve_test_data()"
   ]
  },
  {
   "cell_type": "code",
   "execution_count": 24,
   "metadata": {},
   "outputs": [],
   "source": [
    "def split_dataframe(df):\n",
    "    df['ID'] = range(1, len(df) + 1)\n",
    "    df_predicted = df[['ID', 'latitude', 'longitude']].rename(columns={'latitude': 'predicted_latitude', 'longitude': 'predicted_longitude'})\n",
    "    df_info = df[['ID', 'time', 'vesselId']]\n",
    "    \n",
    "    return df_predicted, df_info"
   ]
  },
  {
   "cell_type": "code",
   "execution_count": 25,
   "metadata": {},
   "outputs": [
    {
     "name": "stdout",
     "output_type": "stream",
     "text": [
      "Index(['ID', 'vesselId', 'time', 'time_last', 'cog', 'sog', 'rot', 'heading',\n",
      "       'navstat', 'latitude', 'longitude', 'portId', 'etaParsed', 'UN_LOCODE',\n",
      "       'ISO', 'portLongitude', 'portLatitude'],\n",
      "      dtype='object')\n"
     ]
    }
   ],
   "source": [
    "test_df=calculate_time_diff_with_last_rows(test_df,last_rows)"
   ]
  },
  {
   "cell_type": "code",
   "execution_count": 26,
   "metadata": {},
   "outputs": [
    {
     "name": "stdout",
     "output_type": "stream",
     "text": [
      "Applying numerize_UN_LOCODE\n",
      "Applying numerize_ISO\n"
     ]
    }
   ],
   "source": [
    "feature_engineer = FeatureEngineer(test_df)\n",
    "feature_engineer.apply_features(feature_engineering_functions)\n",
    "test_df = feature_engineer.get_dataframe()\n",
    "\n",
    "test_df.set_index(\"time\", inplace=True)\n",
    "test_df = remove_non_numeric_columns(test_df)\n",
    "\n",
    "\n",
    "\n"
   ]
  },
  {
   "cell_type": "code",
   "execution_count": 27,
   "metadata": {},
   "outputs": [],
   "source": [
    "def make_predictions(model, input_df):\n",
    "    # Extract the features for prediction, excluding the 'ID' column\n",
    "    features_df = input_df.drop(columns=['ID'])\n",
    "    features_df = features_df[X_train_cols]\n",
    "    # Generate predictions using the model\n",
    "    predictions = model.predict(xgb.DMatrix(features_df))\n",
    "    \n",
    "    # Create a DataFrame with the predictions, renaming columns as required\n",
    "    predictions_df = pd.DataFrame(predictions, columns=['next_latitude', 'next_longitude'])\n",
    "    predictions_df = predictions_df.rename(columns={'next_latitude': 'latitude', 'next_longitude': 'longitude'})\n",
    "    \n",
    "    # Combine the 'ID' column with the predictions DataFrame\n",
    "    result_df = pd.concat([input_df['ID'].reset_index(drop=True), predictions_df], axis=1)\n",
    "    \n",
    "    return result_df"
   ]
  },
  {
   "cell_type": "code",
   "execution_count": 28,
   "metadata": {},
   "outputs": [],
   "source": [
    "result_df = make_predictions(model, test_df)\n",
    "result_fin = pd.DataFrame()\n",
    "result_fin[[\"ID\",\"longitude_predicted\",\"latitude_predicted\"]]=result_df[[\"ID\",\"longitude\",\"latitude\"]]"
   ]
  },
  {
   "cell_type": "code",
   "execution_count": 29,
   "metadata": {},
   "outputs": [],
   "source": [
    "result_fin.to_csv(RESOURCE_FOLDER+\"/result_simple.csv\", index=False)"
   ]
  },
  {
   "cell_type": "code",
   "execution_count": 31,
   "metadata": {},
   "outputs": [
    {
     "name": "stdout",
     "output_type": "stream",
     "text": [
      "MAE: 0.6519620694424753\n",
      "MSE: 1.2275585699329405\n",
      "RMSE: 1.1079524222334372\n",
      "R² Score: 0.9990924885319941\n"
     ]
    }
   ],
   "source": [
    "mae = mean_absolute_error(y_test, preds)\n",
    "mse = mean_squared_error(y_test, preds)\n",
    "rmse = np.sqrt(mse)\n",
    "r2 = r2_score(y_test, preds)\n",
    "\n",
    "print(f\"MAE: {mae}\")\n",
    "print(f\"MSE: {mse}\")\n",
    "print(f\"RMSE: {rmse}\")\n",
    "print(f\"R² Score: {r2}\")"
   ]
  },
  {
   "cell_type": "code",
   "execution_count": 32,
   "metadata": {},
   "outputs": [
    {
     "data": {
      "text/plain": [
       "<Axes: title={'center': 'Feature importance'}, xlabel='F score', ylabel='Features'>"
      ]
     },
     "execution_count": 32,
     "metadata": {},
     "output_type": "execute_result"
    },
    {
     "data": {
      "image/png": "[encoded data removed]",
      "text/plain": [
       "<Figure size 640x480 with 1 Axes>"
      ]
     },
     "metadata": {},
     "output_type": "display_data"
    }
   ],
   "source": [
    "plot_importance(model, height=0.9)"
   ]
  }
 ],
 "metadata": {
  "kernelspec": {
   "display_name": "base",
   "language": "python",
   "name": "python3"
  },
  "language_info": {
   "codemirror_mode": {
    "name": "ipython",
    "version": 3
   },
   "file_extension": ".py",
   "mimetype": "text/x-python",
   "name": "python",
   "nbconvert_exporter": "python",
   "pygments_lexer": "ipython3",
   "version": "3.12.4"
  }
 },
 "nbformat": 4,
 "nbformat_minor": 2
}
