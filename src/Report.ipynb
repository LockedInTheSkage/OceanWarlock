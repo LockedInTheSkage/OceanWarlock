{
 "cells": [
  {
   "cell_type": "markdown",
   "metadata": {},
   "source": [
    "Group name:[7] OceanWarlocks\n",
    "\n",
    "Group number:7 \n",
    "\n",
    "Skage Klingstedt Reistad, studentnr : 545212\n",
    "\n",
    "Susan Desirée Bredesen Palencia, studentnr : 529305"
   ]
  },
  {
   "cell_type": "code",
   "execution_count": null,
   "metadata": {},
   "outputs": [],
   "source": [
    "from datetime import datetime\n",
    "import pandas as pd"
   ]
  },
  {
   "cell_type": "markdown",
   "metadata": {},
   "source": [
    "## Exploratory data analysis"
   ]
  },
  {
   "cell_type": "markdown",
   "metadata": {},
   "source": [
    "#### Domain Knowledge\n",
    "\n",
    "After reading the dataset definitions and explainations, we started to search after relevant papers about vessel trajectory prediction (VTP). Our relevant findings can be divided into two parts: significant input features and state-of-the art ML methods. \n",
    "\n",
    "According to research some of the most important and most widely used input features for VTP (in addition to timestamps, latitude and altitude) are SOG, COG, heading, ship type and information about ports (Yang et al, 2024, p. 7).  \n",
    "\n",
    "The same paper also mentioned that some of the most used approaches to VTP are LSTM networks and its variants, especially bidirectional variants (Yang et al, 2024, p. 7). This is mostly because VTP can be approached as a time series problem because the data always contain a temporal dimension (Yang et al, 2024, p. 7).\n",
    "\n",
    "We used these findings as a basis and inspiration for our feature engineering, and to develop our first but (not accurate!) predictor. \n",
    "\n"
   ]
  },
  {
   "cell_type": "markdown",
   "metadata": {},
   "source": [
    "#### Checking if data is intuitive\n",
    "We mostly used the AIS data, and therefore checked if especially the AIS data made sense to us. We checked for duplicated rows and missing values. We found that ETA was not in a datetime format and did not include years, we wanted it to be a datetime object and that was something we fixed during data clean up and by fixing the year to be 2024. This is not an unknown problem, because ETA is often manually entered and therefore is often in inconsistent data formats (Yang et al, 2024, p. 4).\n",
    "\n",
    "We found that the other features were of suitable data types. Note that portID and vesselID are strings, when we did feature engineering we tried adding portID and vesselID as features and we converted them to integers as can be seen in the \"cleaning features\" section.\n",
    "\n",
    "We found no duplicated rows, but we found that portID had 1615 missing values. We did let portID have its missing values, as we thought there we no particular negative consequence to have data rows with missing portIDs. Especially because that when we use portID we change them to integers, and that makes the missing portIDs into zeroes (which most predictors easily can handle).\n",
    "\n",
    "We also used some vesselData, and found that it included a lot of missing values (as seen below). We only tried to add vesselType as a feature, and we fixed the missing values by making into a categorical and letting missing values be its own category. "
   ]
  },
  {
   "cell_type": "code",
   "execution_count": 1,
   "metadata": {},
   "outputs": [],
   "source": [
    "RESOURCE_FOLDER=\"../../resources\"\n",
    "import pandas as pd"
   ]
  },
  {
   "cell_type": "code",
   "execution_count": null,
   "metadata": {},
   "outputs": [
    {
     "name": "stdout",
     "output_type": "stream",
     "text": [
      "Shape of AIS: (1522065, 11)\n",
      "Columns of AIS: Index(['time', 'cog', 'sog', 'rot', 'heading', 'navstat', 'etaRaw', 'latitude',\n",
      "       'longitude', 'vesselId', 'portId'],\n",
      "      dtype='object')\n",
      "Data types of each of the columns\n",
      "time         datetime64[ns]\n",
      "cog                 float64\n",
      "sog                 float64\n",
      "rot                   int64\n",
      "heading               int64\n",
      "navstat               int64\n",
      "etaRaw               object\n",
      "latitude            float64\n",
      "longitude           float64\n",
      "vesselId             object\n",
      "portId               object\n",
      "dtype: object\n",
      "Describtion of AIS data\n",
      "                                time           cog           sog  \\\n",
      "count                        1522065  1.522065e+06  1.522065e+06   \n",
      "mean   2024-03-06 03:20:23.657231360  1.782494e+02  6.331703e+00   \n",
      "min              2024-01-01 00:00:25  0.000000e+00  0.000000e+00   \n",
      "25%              2024-02-03 02:59:19  7.820000e+01  0.000000e+00   \n",
      "50%              2024-03-07 12:34:57  1.838000e+02  5.000000e-01   \n",
      "75%              2024-04-07 07:37:36  2.690000e+02  1.410000e+01   \n",
      "max              2024-05-07 23:59:08  3.600000e+02  1.023000e+02   \n",
      "std                              NaN  1.076785e+02  7.539364e+00   \n",
      "\n",
      "                rot       heading       navstat      latitude     longitude  \n",
      "count  1.522065e+06  1.522065e+06  1.522065e+06  1.522065e+06  1.522065e+06  \n",
      "mean   5.054561e-01  1.762737e+02  2.092604e+00  3.658497e+01  1.153646e+01  \n",
      "min   -1.270000e+02  0.000000e+00  0.000000e+00 -4.753287e+01 -1.675409e+02  \n",
      "25%    0.000000e+00  7.500000e+01  0.000000e+00  3.451683e+01 -5.212810e+00  \n",
      "50%    0.000000e+00  1.800000e+02  0.000000e+00  4.223370e+01  4.234350e+00  \n",
      "75%    0.000000e+00  2.650000e+02  5.000000e+00  5.135197e+01  1.883715e+01  \n",
      "max    1.280000e+02  5.110000e+02  1.500000e+01  7.055720e+01  1.788054e+02  \n",
      "std    1.760916e+01  1.070860e+02  2.411965e+00  2.290488e+01  6.871572e+01  \n",
      "Checking where I have missing values\n",
      "time            0\n",
      "cog             0\n",
      "sog             0\n",
      "rot             0\n",
      "heading         0\n",
      "navstat         0\n",
      "etaRaw          0\n",
      "latitude        0\n",
      "longitude       0\n",
      "vesselId        0\n",
      "portId       1615\n",
      "dtype: int64\n",
      "Checking for duplicated rows\n"
     ]
    },
    {
     "data": {
      "text/html": [
       "<div>\n",
       "<style scoped>\n",
       "    .dataframe tbody tr th:only-of-type {\n",
       "        vertical-align: middle;\n",
       "    }\n",
       "\n",
       "    .dataframe tbody tr th {\n",
       "        vertical-align: top;\n",
       "    }\n",
       "\n",
       "    .dataframe thead th {\n",
       "        text-align: right;\n",
       "    }\n",
       "</style>\n",
       "<table border=\"1\" class=\"dataframe\">\n",
       "  <thead>\n",
       "    <tr style=\"text-align: right;\">\n",
       "      <th></th>\n",
       "      <th>time</th>\n",
       "      <th>cog</th>\n",
       "      <th>sog</th>\n",
       "      <th>rot</th>\n",
       "      <th>heading</th>\n",
       "      <th>navstat</th>\n",
       "      <th>etaRaw</th>\n",
       "      <th>latitude</th>\n",
       "      <th>longitude</th>\n",
       "      <th>vesselId</th>\n",
       "      <th>portId</th>\n",
       "    </tr>\n",
       "  </thead>\n",
       "  <tbody>\n",
       "  </tbody>\n",
       "</table>\n",
       "</div>"
      ],
      "text/plain": [
       "Empty DataFrame\n",
       "Columns: [time, cog, sog, rot, heading, navstat, etaRaw, latitude, longitude, vesselId, portId]\n",
       "Index: []"
      ]
     },
     "execution_count": 7,
     "metadata": {},
     "output_type": "execute_result"
    }
   ],
   "source": [
    "\n",
    "df_ais = pd.read_csv(RESOURCE_FOLDER+'/ais_train.csv', sep='|')\n",
    "\n",
    "df_ais['time'] = pd.to_datetime(df_ais['time'])\n",
    "\n",
    "print(\"Shape of AIS: \" + str(df_ais.shape))\n",
    "#n = 1522065\n",
    "#columns = 11\n",
    "print(\"Columns of AIS: \"+ str(df_ais.columns))\n",
    "#latitude and longitude are our targets. Relevant covariates may be time, cog, sog, rot, heading, navstat, etaRAW, vesselId and portId.\n",
    "\n",
    "print(\"Data types of each of the columns\") \n",
    "print(df_ais.dtypes)\n",
    "#time is a datetime object.\n",
    "# cog, latitude and longitude are floats. Rot, heading and navstat are ints. etaRaw, vesselId and portId are objects. \n",
    "\n",
    "print(\"Describtion of AIS data\")\n",
    "print(df_ais.describe())\n",
    "#cog: course over ground. From 0 to 360 degrees.\n",
    "#sog: speed over ground. from 0 to 1023 knots. \n",
    "#rot: rate of turning (of heading, which is the compass direction of where the boats bow/nose is heading). Degrees per minute.\n",
    "#heading: direction of where boats bow is pointing. Measured in degrees from 0 to 360.\n",
    "#navstat: Navigational status. The number tells the status of the boat. From 0 to 15.\n",
    "#latitude: north-south position. Degrees. From -90 (south) to +90 (north). \n",
    "#longitude: east-west position. Degrees. From -180 (west) to +180 (east)\n",
    "\n",
    "print(\"Checking where I have missing values\")\n",
    "print(df_ais.isna().sum()) #portId (1615 entries)\n",
    "\n",
    "print(\"Checking for duplicated rows\")\n",
    "df_ais.loc[df_ais.duplicated()] #No duplicated rows"
   ]
  },
  {
   "cell_type": "code",
   "execution_count": 10,
   "metadata": {},
   "outputs": [
    {
     "name": "stdout",
     "output_type": "stream",
     "text": [
      "Data types of each of the columns\n",
      "shippingLineId     object\n",
      "vesselId           object\n",
      "CEU                 int64\n",
      "DWT               float64\n",
      "GT                  int64\n",
      "NT                float64\n",
      "vesselType        float64\n",
      "breadth           float64\n",
      "depth             float64\n",
      "draft             float64\n",
      "enginePower       float64\n",
      "freshWater        float64\n",
      "fuel              float64\n",
      "homePort           object\n",
      "length            float64\n",
      "maxHeight         float64\n",
      "maxSpeed          float64\n",
      "maxWidth          float64\n",
      "rampCapacity      float64\n",
      "yearBuilt           int64\n",
      "dtype: object\n",
      "Checking where I have missing values\n",
      "shippingLineId      0\n",
      "vesselId            0\n",
      "CEU                 0\n",
      "DWT                 8\n",
      "GT                  0\n",
      "NT                524\n",
      "vesselType         12\n",
      "breadth             8\n",
      "depth             469\n",
      "draft             701\n",
      "enginePower        20\n",
      "freshWater        490\n",
      "fuel              490\n",
      "homePort          138\n",
      "length              0\n",
      "maxHeight         676\n",
      "maxSpeed          498\n",
      "maxWidth          676\n",
      "rampCapacity      677\n",
      "yearBuilt           0\n",
      "dtype: int64\n",
      "Checking for duplicated rows\n"
     ]
    },
    {
     "data": {
      "text/html": [
       "<div>\n",
       "<style scoped>\n",
       "    .dataframe tbody tr th:only-of-type {\n",
       "        vertical-align: middle;\n",
       "    }\n",
       "\n",
       "    .dataframe tbody tr th {\n",
       "        vertical-align: top;\n",
       "    }\n",
       "\n",
       "    .dataframe thead th {\n",
       "        text-align: right;\n",
       "    }\n",
       "</style>\n",
       "<table border=\"1\" class=\"dataframe\">\n",
       "  <thead>\n",
       "    <tr style=\"text-align: right;\">\n",
       "      <th></th>\n",
       "      <th>shippingLineId</th>\n",
       "      <th>vesselId</th>\n",
       "      <th>CEU</th>\n",
       "      <th>DWT</th>\n",
       "      <th>GT</th>\n",
       "      <th>NT</th>\n",
       "      <th>vesselType</th>\n",
       "      <th>breadth</th>\n",
       "      <th>depth</th>\n",
       "      <th>draft</th>\n",
       "      <th>enginePower</th>\n",
       "      <th>freshWater</th>\n",
       "      <th>fuel</th>\n",
       "      <th>homePort</th>\n",
       "      <th>length</th>\n",
       "      <th>maxHeight</th>\n",
       "      <th>maxSpeed</th>\n",
       "      <th>maxWidth</th>\n",
       "      <th>rampCapacity</th>\n",
       "      <th>yearBuilt</th>\n",
       "    </tr>\n",
       "  </thead>\n",
       "  <tbody>\n",
       "  </tbody>\n",
       "</table>\n",
       "</div>"
      ],
      "text/plain": [
       "Empty DataFrame\n",
       "Columns: [shippingLineId, vesselId, CEU, DWT, GT, NT, vesselType, breadth, depth, draft, enginePower, freshWater, fuel, homePort, length, maxHeight, maxSpeed, maxWidth, rampCapacity, yearBuilt]\n",
       "Index: []"
      ]
     },
     "execution_count": 10,
     "metadata": {},
     "output_type": "execute_result"
    }
   ],
   "source": [
    "df_vessels = pd.read_csv(RESOURCE_FOLDER+'/vessels.csv', sep='|')\n",
    "\n",
    "print(\"Data types of each of the columns\") \n",
    "print(df_vessels.dtypes)\n",
    "\n",
    "print(\"Checking where I have missing values\")\n",
    "print(df_vessels.isna().sum()) \n",
    "print(\"Checking for duplicated rows\")\n",
    "df_vessels.loc[df_vessels.duplicated()] #No duplicated rows"
   ]
  },
  {
   "cell_type": "markdown",
   "metadata": {},
   "source": [
    "#### Understanding how the data was generated\n",
    "\n",
    "Note that we have irregular timestamps (as seen in the head of the AIS data). This is a known problem as AIS data has a lot of quality issues that leads to irregular timestamps. Two examples of this is that AIS messages has a tendency to get lost or damaged due to meterology and magnetics and that AIS tranceivers may also be intentionally turned off, which leads to missing data (Yang et al, 2024, p. 4).\n",
    "\n",
    "Irregular timestamps was a big challenge during our whole project, and we believe we could have made a more accurate model if they were regularized. How we accounted for this issue will be followed in the predictors section."
   ]
  },
  {
   "cell_type": "code",
   "execution_count": 8,
   "metadata": {},
   "outputs": [
    {
     "name": "stdout",
     "output_type": "stream",
     "text": [
      "                 time    cog   sog  rot  heading  navstat       etaRaw  \\\n",
      "0 2024-01-01 00:00:25  284.0   0.7    0       88        0  01-09 23:00   \n",
      "1 2024-01-01 00:00:36  109.6   0.0   -6      347        1  12-29 20:00   \n",
      "2 2024-01-01 00:01:45  111.0  11.0    0      112        0  01-02 09:00   \n",
      "3 2024-01-01 00:03:11   96.4   0.0    0      142        1  12-31 20:00   \n",
      "4 2024-01-01 00:03:51  214.0  19.7    0      215        0  01-25 12:00   \n",
      "5 2024-01-01 00:05:13  186.9   0.0    0      187        5  12-20 02:40   \n",
      "6 2024-01-01 00:05:40  123.4   0.0  128      511        5  12-16 01:00   \n",
      "7 2024-01-01 00:05:49  151.2   0.0    0       20        5  12-31 18:30   \n",
      "8 2024-01-01 00:06:18  265.0   0.1    0      122        1  12-30 19:00   \n",
      "9 2024-01-01 00:06:29   36.0   0.0    0       70        5  12-30 19:55   \n",
      "\n",
      "   latitude  longitude                  vesselId                    portId  \n",
      "0 -34.74370  -57.85130  61e9f3a8b937134a3c4bfdf7  61d371c43aeaecc07011a37f  \n",
      "1   8.89440  -79.47939  61e9f3d4b937134a3c4bff1f  634c4de270937fc01c3a7689  \n",
      "2  39.19065  -76.47567  61e9f436b937134a3c4c0131  61d3847bb7b7526e1adf3d19  \n",
      "3 -34.41189  151.02067  61e9f3b4b937134a3c4bfe77  61d36f770a1807568ff9a126  \n",
      "4  35.88379   -5.91636  61e9f41bb937134a3c4c0087  634c4de270937fc01c3a74f3  \n",
      "5  24.27431 -110.32727  61e9f468b937134a3c4c028f  61d37ac11366c3998241da0a  \n",
      "6  40.71466   29.46603  61e9f46bb937134a3c4c02b3  61d38259b7b7526e1adf3a41  \n",
      "7 -19.25026  146.83507  61e9f3bfb937134a3c4bfe9f  61d36f6e0a1807568ff9a115  \n",
      "8 -26.73068  153.29194  61e9f45bb937134a3c4c0221  61d36f640a1807568ff9a103  \n",
      "9  35.46922  139.68343  61e9f3e6b937134a3c4bff6d  61d379f61366c3998241d8d2  \n"
     ]
    }
   ],
   "source": [
    "print(df_ais.head(10))"
   ]
  },
  {
   "cell_type": "markdown",
   "metadata": {},
   "source": [
    "#### Exploring individual features\n",
    "\n",
    "We explored some individual features to find out if we could represent them in a clearer way for our models.\n",
    "\n",
    "First we explored ROT, and we found out that ROT could perhaps be better represented as a catagorical described under. To check if this is a better representation (or that ROT is useful at all) we need to do feature engineering."
   ]
  },
  {
   "cell_type": "code",
   "execution_count": null,
   "metadata": {},
   "outputs": [
    {
     "data": {
      "image/png": "[encoded data removed]",
      "text/plain": [
       "<Figure size 640x480 with 1 Axes>"
      ]
     },
     "metadata": {},
     "output_type": "display_data"
    },
    {
     "data": {
      "image/png": "[encoded data removed]",
      "text/plain": [
       "<Figure size 640x480 with 1 Axes>"
      ]
     },
     "metadata": {},
     "output_type": "display_data"
    }
   ],
   "source": [
    "import seaborn as sns\n",
    "import matplotlib.pyplot as plt\n",
    "import numpy as np\n",
    "\n",
    "sns.histplot(x = \"rot\", data = df_ais)\n",
    "plt.title(\"Histogram of ROT-values\")\n",
    "plt.show()\n",
    "#This show me that I have ROT-values that are quite small, most are between 0 and -40 (by eyesight). I want to make this into a categorical based on what I see.\n",
    "#But be careful about the y-axis I have a big amount of values other than between 0 and -40.\n",
    "\n",
    "#Want to make this into a categorical.\n",
    "#I want my bins to be [-127, -126, 0, 126, np.inf]\n",
    "\n",
    "toy_df = df_ais.copy()\n",
    "\n",
    "\n",
    "bins = [-127, -126, 0, 127, np.inf] #Based on the interpretation of the ROT and the histogram.\n",
    "\n",
    "labels = [\"Port_T_S\", \"Port_T_L\", \"Star_T_L\", \"Star_T_S\"]\n",
    "\n",
    "toy_df[\"rot_cat\"] = pd.cut(toy_df[\"rot\"], bins = bins, labels = labels, right = False)\n",
    "\n",
    "sns.histplot(x = \"rot_cat\", data = toy_df)\n",
    "plt.title(\"Histogram of categorical ROT-values\")\n",
    "plt.show()"
   ]
  },
  {
   "cell_type": "code",
   "execution_count": null,
   "metadata": {},
   "outputs": [
    {
     "data": {
      "image/png": "[encoded data removed]",
      "text/plain": [
       "<Figure size 640x480 with 1 Axes>"
      ]
     },
     "metadata": {},
     "output_type": "display_data"
    },
    {
     "name": "stdout",
     "output_type": "stream",
     "text": [
      "navstat\n",
      "0     782099\n",
      "5     605831\n",
      "1     129515\n",
      "2       2081\n",
      "8        948\n",
      "15       670\n",
      "6        521\n",
      "4        232\n",
      "3        161\n",
      "11         2\n",
      "12         1\n",
      "13         1\n",
      "14         1\n",
      "7          1\n",
      "9          1\n",
      "Name: count, dtype: int64\n"
     ]
    },
    {
     "data": {
      "image/png": "[encoded data removed]",
      "text/plain": [
       "<Figure size 640x480 with 1 Axes>"
      ]
     },
     "metadata": {},
     "output_type": "display_data"
    },
    {
     "name": "stdout",
     "output_type": "stream",
     "text": [
      "         navstat navstat_cat\n",
      "0              0      moving\n",
      "1              1  not_moving\n",
      "2              0      moving\n",
      "3              1  not_moving\n",
      "4              0      moving\n",
      "...          ...         ...\n",
      "1522060        0      moving\n",
      "1522061        0      moving\n",
      "1522062        0      moving\n",
      "1522063        0      moving\n",
      "1522064        0      moving\n",
      "\n",
      "[1522065 rows x 2 columns]\n",
      "time           datetime64[ns]\n",
      "cog                   float64\n",
      "sog                   float64\n",
      "rot                     int64\n",
      "heading                 int64\n",
      "navstat                 int64\n",
      "etaRaw                 object\n",
      "latitude              float64\n",
      "longitude             float64\n",
      "vesselId               object\n",
      "portId                 object\n",
      "navstat_cat            object\n",
      "dtype: object\n"
     ]
    }
   ],
   "source": [
    "#Looking at NAVSTAT\n",
    "toy_data = df_ais.copy()\n",
    "\n",
    "sns.histplot(x = \"navstat\", data = df_ais)\n",
    "plt.title(\"Histogram of NAVSTAT-values\")\n",
    "plt.show()\n",
    "\n",
    "\n",
    "print(toy_data[\"navstat\"].value_counts())\n",
    "#Which means that I want navstat to be a categorical, with 0, 1 and 5 and everything else.\n",
    "# Where 0 means under way using engine, 1 means at anchor and 5 means moored. \n",
    "\n",
    "\n",
    "important_values = {0: \"OMW_E\", 1: \"Anchor\", 5: \"Moored\"}\n",
    "\n",
    "# Create a new column with categories\n",
    "toy_data['navstat_cat'] = toy_data['navstat'].apply(lambda x: important_values.get(x, \"Other\"))\n",
    "\n",
    "sns.histplot(x = \"navstat_cat\", data = toy_data)\n",
    "plt.title(\"Histogram of categorical NAVSTAT-values\")\n",
    "plt.show()"
   ]
  },
  {
   "cell_type": "code",
   "execution_count": null,
   "metadata": {},
   "outputs": [
    {
     "name": "stdout",
     "output_type": "stream",
     "text": [
      "         navstat navstat_cat\n",
      "0              0      moving\n",
      "1              1  not_moving\n",
      "2              0      moving\n",
      "3              1  not_moving\n",
      "4              0      moving\n",
      "...          ...         ...\n",
      "1522060        0      moving\n",
      "1522061        0      moving\n",
      "1522062        0      moving\n",
      "1522063        0      moving\n",
      "1522064        0      moving\n",
      "\n",
      "[1522065 rows x 2 columns]\n",
      "time           datetime64[ns]\n",
      "cog                   float64\n",
      "sog                   float64\n",
      "rot                     int64\n",
      "heading                 int64\n",
      "navstat                 int64\n",
      "etaRaw                 object\n",
      "latitude              float64\n",
      "longitude             float64\n",
      "vesselId               object\n",
      "portId                 object\n",
      "navstat_cat            object\n",
      "dtype: object\n"
     ]
    },
    {
     "data": {
      "image/png": "[encoded data removed]",
      "text/plain": [
       "<Figure size 640x480 with 1 Axes>"
      ]
     },
     "metadata": {},
     "output_type": "display_data"
    }
   ],
   "source": [
    "#Wondering if it would be better to have a moving/not moving category instead of the one above.\n",
    "\n",
    "#Letting 0, 3, 4 and 8 be moving and the rest not moving.\n",
    "\n",
    "#This is based on the description of the navstat values in the data description.\n",
    "\n",
    "movement_values = [0, 3, 4, 8]\n",
    "\n",
    "toy_data[\"navstat_cat\"] = np.where(toy_data[\"navstat\"].isin(movement_values), \"moving\",\"not_moving\")\n",
    "\n",
    "print(toy_data[[\"navstat\", \"navstat_cat\"]])\n",
    "\n",
    "print(toy_data.dtypes)\n",
    "\n",
    "sns.histplot(x = \"navstat_cat\", data = toy_data)\n",
    "plt.show()"
   ]
  },
  {
   "cell_type": "markdown",
   "metadata": {},
   "source": [
    "#### Cleaning up features\n",
    "\n",
    "XGBoost doesn't accept input in any other form than floats, integers or booleans. For this reason date strings were turned into datetime objects and were eventually turned into time-difference in days or seconds. This became an especially pressing issue as we noticed that the eta did not feature years. We assumed that every year involved in this data was the year of 2024 since the dataset ends in the summer of 2024, and it no longers takes any ship more than half a year to reach any part of the globe.\n",
    "\n",
    "Strings were either categorized into integers or represented as dummies. This was especially relevant when we tried to make a LSTM model with Tensorflow as Tensorflow doesn't take anything else than floats.\n",
    "\n",
    "We used the csvs ais_train.csv and ports.csv. After extensive search for relevant features, we ended up using the following features: time, cog, sog, rot, heading, navstat, eta, latitude, longitude, vesselId, portLongitude, portLatitude, portId and navstat.\n",
    "\n",
    "time, vesselId and portId aren't included as features in the final dataset fed to the model, but rather as sorting parameters for feature engineering, for sorting the dataset and creating target features. For instance, days_to_eta is found by subtracting the time from the eta-date."
   ]
  },
  {
   "cell_type": "code",
   "execution_count": null,
   "metadata": {},
   "outputs": [
    {
     "name": "stdout",
     "output_type": "stream",
     "text": [
      "        etaRaw           etaParsed\n",
      "0  06-20 07:47 2024-06-20 07:47:00\n",
      "1  06-20 13:47 2024-06-20 13:47:00\n",
      "2  06-20 19:47 2024-06-20 19:47:00\n",
      "3  06-21 01:47 2024-06-21 01:47:00\n",
      "4  06-21 07:47 2024-06-21 07:47:00\n"
     ]
    }
   ],
   "source": [
    "\n",
    "\n",
    "def parse_time(raw_time):\n",
    "        try:\n",
    "            date_format = \"%m-%d %H:%M\"\n",
    "            parsed_datetime = datetime.strptime(raw_time, date_format)\n",
    "            return parsed_datetime.replace(year = 2024)\n",
    "        except ValueError:\n",
    "            return None\n",
    "        \n",
    "example_eta_dataset = pd.DataFrame({\"etaRaw\": [\"06-20 07:47\", \"06-20 13:47\", \"06-20 19:47\", \"06-21 01:47\", \"06-21 07:47\"]})\n",
    "\n",
    "example_eta_dataset[\"etaParsed\"] = example_eta_dataset[\"etaRaw\"].apply(parse_time)\n",
    "\n",
    "print(example_eta_dataset)"
   ]
  },
  {
   "cell_type": "markdown",
   "metadata": {},
   "source": [
    "## Predictors"
   ]
  },
  {
   "cell_type": "markdown",
   "metadata": {},
   "source": [
    "#### LSTM\n",
    "\n",
    "Our LSTM model was made with Tensorflow, and used on average data that went 8 hours into the past. This ended up failing though, as the Tensorflow model always predicted the same point on the face of the globe, regardless of parameters. We initially thought that this could be caused by features that weren't properly normalized, so we started writing normaliziation functions. However, the issue persissted and we had problems finding any satisfying solution. We ended up switching to XGBoost soon after."
   ]
  },
  {
   "cell_type": "markdown",
   "metadata": {},
   "source": [
    "#### XGBoost random forest\n",
    "The random forest was an immediate improvement, that is, it tried to predict where the boat was going to be unlike our LSTM that just found the point on the earth that was closest to all the worlds boats.\n",
    "\n",
    "Due to XGBoost being made up of tree models, we could use the features without having to normalize them, unlike in our LSTM model."
   ]
  },
  {
   "cell_type": "markdown",
   "metadata": {},
   "source": [
    "##### Regularized and supervised random forest\n",
    "\n",
    "Our first XGBoost model used a resampling technique on 20 min intervals, and forwardfilling and filling in for lacking positions by using searouters predicted paths. Timesteps that were more than 20 min into the future were predicted by dividing up the future timesteps into 20 min intervals and predicting each next position in an iterative process. This model performed relativley poorly (Around 180-170 at best in kaggle score!), but miles better than the traditional LSTM model.\n",
    "\n",
    "We also turned our time series problem into a supervised problem, since this was recommended in the time series lecture. Important paramteres were input window (how many shifts backwards in time) and output window (how many shifts forward in time). We tried different input windows (8,4,2,1), but let our output window be the same (1), and found that input window 4 gave the best Kaggle score.\n",
    "\n",
    "We also used boosting rounds to fit our random forest, and found that 30 boosting rounds were our preferred amount since these boosting rounds used a lot of time for training. To hinder overfitting we used quite a low number for early stopping, around 3.\n",
    "\n",
    "We also tuned our hyperparameters: {max_depth, colsample_bynode, num_parallel_tree and subsample}. We used randomsearch, to spare ourselves some time, and found two combinations of hyperparameteres that seemed promising. The two combinations were {7, 0.4, 50, 0.6} and {10, 0.4, 50, 0.4}. Our Kaggle results showed that it prereffered the first set of hyperparameters. The best Kaggle Score from this model was 171.\n",
    "\n",
    "\n",
    "One of the major issues with this model is that the forward-filled rows were also used as target features in the training phase. This is why we eventually switched to an interval trained random forest model.\n"
   ]
  },
  {
   "cell_type": "markdown",
   "metadata": {},
   "source": [
    "##### Interval trained random forest\n",
    "\n",
    "Interval trained random forest was our final type of model. Our method merely took an earlier timestep, and found the difference in time between the feature rows time and the time of the position to predict. The catch in this model was that after we have divided the vessels travelpaths into 5 day intervals, we trained the model on features from the first timestep in that interval, and tried to predict the entire rest of the path.\n",
    "\n",
    "We changed this function later so that we could also train on 1, 2 and 3 day intervals. We found that our best model was when we had 1, 3 and 5 days intervals, and that our next best model was when we had 1, 2, 3 and 5 days intervals.\n",
    "\n",
    "We still used a boosted random forest. The training took a lot less time, so we tried to use more boosting_rounds (around 100) with early_stopping at 3. We actually found out that using so many boosting_rounds lead to a lower Kaggle result (by possibly overfitting to the training data), so we lowered it to 30 and got better Kaggle results.\n",
    "\n",
    "We also tuned our hyperparameters: {max_depth, colsample_bynode, num_parallel_tree and subsample}. We used gridsearch, since training this model took a lot less time than training the supervised and resampled random forest. From gridsearch we found that {10,0.5,30,0.7} were the best hyperparameters, this also gave us a better Kaggle result. And we therefore used it in our best models, which had the following Kaggle scores: 151.78732 and 148.93198.\n",
    "\n"
   ]
  },
  {
   "cell_type": "markdown",
   "metadata": {},
   "source": [
    "## Feature engineering\n"
   ]
  },
  {
   "cell_type": "markdown",
   "metadata": {},
   "source": [
    "#### Feature Engineering on supervised and resampled XGBoost random forest\n",
    "\n",
    "We tried to improve upon this model with two major added features. First of all was a matrix of 2x2 latitude longitude grid system that kept track of how likely a boat was to leave this area, and in which direction. We called this our \"Markov Square Matrix\". It worked poorly and gave us a worse Kaggle result. We therefore did not include it in our models.\n",
    "\n",
    "We were very interested in checking out the relevancy of navstat and rot (since none of them were mentioned in our literature search), and while the model interpretation plots showed that both were relevant, we wanted to check if we could present these features in a clearer way for the model. \n",
    "\n",
    "We tried to make navstat and rot categorical, and implemented them one at a time. Making navstat categorical gave us a better Kaggle score, while making rot categorical did not. So therefore we chose to not include rot categorical in our best models.\n",
    "\n",
    "We also tried to use another categorizing system for navstat, by dividing into two categories: in movement and not in movement. This gave us a worse Kaggle result than using our first categorical navstat, so we did not use this new categorizing system. \n",
    "\n",
    "How rot and navstat were made categorical is shown in \"Exploring individual features\" in the EDA-part."
   ]
  },
  {
   "cell_type": "markdown",
   "metadata": {},
   "source": [
    "#### Feature Engineering on 5-day interval trained XGBoost random forest\n",
    "\n",
    "First and foremost we wanted to check if vesselType was relevant, and we made vesselType a categorical (as shown in \"Exploring individual features\"). We added vesselType and found that it gave us a worse Kaggle score. We did not expect this, since the literature said that vesselType should be a relevant feature (Yang et al, 2023, p. 7).\n",
    "\n",
    "In our first model we also included timedifference in seconds, minutes, hours and days. But we thought this was kind of redundant, so we tried to only include timedifference in seconds. This gave us a better Kaggle result, so in the models after we only included timedifference in seconds.\n",
    "\n",
    "We also tried to add ETA, by using days_to_ETA, but this did not lead to an improvement.\n",
    "\n",
    "We found before that making ROT categorical does lead to better accuracy, but that making navstat categorical does lead to better Kaggle score. So we tried doing that here too, but that did not lead to a worse Kaggle result. So we let navstat be a numerical instead.\n",
    "\n",
    "Our last idea was to include a numerized version of vesselID, as we have included numerized version of ISO and UN_LOCODE (basically portID). We got a worse Kaggle score by doing this, so we did not include vesselID in our final models.\n",
    "\n"
   ]
  },
  {
   "cell_type": "markdown",
   "metadata": {},
   "source": [
    "## Our two best models and the best supervised model"
   ]
  },
  {
   "cell_type": "markdown",
   "metadata": {},
   "source": [
    "#### The best model and model interpretation"
   ]
  },
  {
   "cell_type": "markdown",
   "metadata": {},
   "source": [
    "Our best model was the 5-day interval trained XGBoost random forest with the following Kaggle score: 148.93198. \n",
    "\n",
    "We used the following features: time, cog, sog, rot, heading, navstat, latitude, longitude, portLongitude, portLatitude, days_to_ETA, vesselType, ISO, UN_LOCODE and timedifference in seconds. We used the hyperparameters {10,0.5,30,0.7} and 30 boosting rounds with early stopping at 3. \n",
    "\n",
    "The model interpretation showed that the most important features were days_to_ETA, latitude, longitude, ISO, UN_LOCODE and timedifference in seconds. This was interesting, since we had expected vesselType to be an important feature. "
   ]
  },
  {
   "cell_type": "markdown",
   "metadata": {},
   "source": [
    "#### The second best model and model interpretation"
   ]
  },
  {
   "cell_type": "markdown",
   "metadata": {},
   "source": [
    "Our second best model was the 5-day interval trained XGBoost random forest with the following Kaggle score: 151.78732. \n",
    "\n",
    "We used the following features: time, cog, sog, rot, heading, navstat, latitude, longitude, portLongitude, portLatitude, days_to_ETA, vesselType, ISO, UN_LOCODE and timedifference in seconds. We used the hyperparameters {10,0.5,30,0.7} and 30 boosting rounds with early stopping at 3. \n",
    "\n",
    "The model interpretation showed that the most important features were days_to_ETA, latitude, longitude, ISO, UN_LOCODE and timedifference in seconds. This was interesting, since we had expected vesselType to be an important feature. "
   ]
  },
  {
   "cell_type": "markdown",
   "metadata": {},
   "source": [
    "#### The best supervised and resampled model and model interpretation"
   ]
  },
  {
   "cell_type": "markdown",
   "metadata": {},
   "source": [
    "Our best supervised model was the resampled and supervised XGBoost random forest with the following Kaggle score: 171. \n",
    "\n",
    "This model used the features: time, cog, sog, rot, heading, navstat, latitude, longitude, portLongitude, portLatitude, vesselType, ISO, UN_LOCODE, timedifference in days and timedifference in seconds. This model used the hyperparameters {7, 0.4, 50, 0.6} and 30 boosting rounds with early stopping at 3. \n",
    "\n",
    "The model interpretation showed that the most important features were days_to_ETA, latitude, longitude, ISO, UN_LOCODE and timedifference in days. This was interesting, since we had expected vesselType to be an important feature. "
   ]
  },
  {
   "cell_type": "markdown",
   "metadata": {},
   "source": [
    "## Model Interpretation"
   ]
  },
  {
   "cell_type": "markdown",
   "metadata": {},
   "source": [
    "#### Feature importance plots"
   ]
  },
  {
   "cell_type": "markdown",
   "metadata": {},
   "source": [
    "## Sources\n",
    "\n",
    "Yang, Y., Yang, L., Li, G., Zhang, Z. & Liu, Y.(2024).Harnessing the power of Machine learning for AIS Data-Driven maritime Research: A comprehensive review. Transportation Research Part E: Logistics and Transportation Review, 183, 103426. https://doi.org/10.1016/j.tre.2024.103426"
   ]
  }
 ],
 "metadata": {
  "kernelspec": {
   "display_name": "Python 3",
   "language": "python",
   "name": "python3"
  },
  "language_info": {
   "codemirror_mode": {
    "name": "ipython",
    "version": 3
   },
   "file_extension": ".py",
   "mimetype": "text/x-python",
   "name": "python",
   "nbconvert_exporter": "python",
   "pygments_lexer": "ipython3",
   "version": "3.11.3"
  }
 },
 "nbformat": 4,
 "nbformat_minor": 2
}
