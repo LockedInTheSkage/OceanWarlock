{
 "cells": [
  {
   "cell_type": "markdown",
   "metadata": {},
   "source": [
    "Group name:[7] OceanWarlocks\n",
    "\n",
    "Group number:7 \n",
    "\n",
    "Skage Klingstedt Reistad, studentnr : 545212\n",
    "\n",
    "Susan Desirée Bredesen Palencia, studentnr : 529305"
   ]
  },
  {
   "cell_type": "markdown",
   "metadata": {},
   "source": [
    "## Exploratory data analysis"
   ]
  },
  {
   "cell_type": "markdown",
   "metadata": {},
   "source": [
    "#### Domain Knowledge\n",
    "\n",
    "After reading the dataset definitions and explainations, we started to search after relevant papers about vessel trajectory prediction (VTP). Our relevant findings can be divided into two parts: significant input features and state-of-the art ML methods. \n",
    "\n",
    "According to research some of the most important and most widely used input features for VTP (in addition to timestamps, latitude and altitude) are SOG, COG, heading, ship type and information about ports (Yang et al, 2024, p. 7).  \n",
    "\n",
    "The same paper also mentioned that some of the most used approaches to VTP are LSTM networks and its variants, especially bidirectional variants (Yang et al, 2024, p. 7). This is mostly because VTP can be approached as a time series problem because the data always contain a temporal dimension (Yang et al, 2024, p. 7).\n",
    "\n",
    "We used these findings as a basis and inspiration for our feature engineering, and to develop our first but (not accurate!) predictor. \n",
    "\n"
   ]
  },
  {
   "cell_type": "markdown",
   "metadata": {},
   "source": [
    "#### Checking if data is intuitive\n",
    "We mostly used the AIS data, and therefore checked if especially the AIS data made sense to us. We checked for duplicated rows and missing values. We found that ETA was not in a datetime format and did not include years, we wanted it to be a datetime object and that was something we fixed during data clean up and by fixing the year to be 2024. This is not an unknown problem, because ETA is often manually entered and therefore is often in inconsistent data formats (Yang et al, 2024, p. 4).\n",
    "\n",
    "We found that the other features were of suitable data types. Note that portID and vesselID are strings, when we did feature engineering we tried adding portID and vesselID as features and we converted them to integers as can be seen in the \"cleaning features\" section.\n",
    "\n",
    "We found no duplicated rows, but we found that portID had 1615 missing values. We did let portID have its missing values, as we thought there we no particular negative consequence to have data rows with missing portIDs. Especially because that when we use portID we change them to integers, and that makes the missing portIDs into zeroes (which most predictors easily can handle).\n",
    "\n",
    "We also used some vesselData, and found that it included a lot of missing values (as seen below). We only tried to add vesselType as a feature, and we fixed the missing values by making into a categorical and letting missing values be its own category. "
   ]
  },
  {
   "cell_type": "code",
   "execution_count": 1,
   "metadata": {},
   "outputs": [],
   "source": [
    "RESOURCE_FOLDER=\"../../resources\"\n",
    "import pandas as pd"
   ]
  },
  {
   "cell_type": "code",
   "execution_count": null,
   "metadata": {},
   "outputs": [
    {
     "name": "stdout",
     "output_type": "stream",
     "text": [
      "Shape of AIS: (1522065, 11)\n",
      "Columns of AIS: Index(['time', 'cog', 'sog', 'rot', 'heading', 'navstat', 'etaRaw', 'latitude',\n",
      "       'longitude', 'vesselId', 'portId'],\n",
      "      dtype='object')\n",
      "Data types of each of the columns\n",
      "time         datetime64[ns]\n",
      "cog                 float64\n",
      "sog                 float64\n",
      "rot                   int64\n",
      "heading               int64\n",
      "navstat               int64\n",
      "etaRaw               object\n",
      "latitude            float64\n",
      "longitude           float64\n",
      "vesselId             object\n",
      "portId               object\n",
      "dtype: object\n",
      "Describtion of AIS data\n",
      "                                time           cog           sog  \\\n",
      "count                        1522065  1.522065e+06  1.522065e+06   \n",
      "mean   2024-03-06 03:20:23.657231360  1.782494e+02  6.331703e+00   \n",
      "min              2024-01-01 00:00:25  0.000000e+00  0.000000e+00   \n",
      "25%              2024-02-03 02:59:19  7.820000e+01  0.000000e+00   \n",
      "50%              2024-03-07 12:34:57  1.838000e+02  5.000000e-01   \n",
      "75%              2024-04-07 07:37:36  2.690000e+02  1.410000e+01   \n",
      "max              2024-05-07 23:59:08  3.600000e+02  1.023000e+02   \n",
      "std                              NaN  1.076785e+02  7.539364e+00   \n",
      "\n",
      "                rot       heading       navstat      latitude     longitude  \n",
      "count  1.522065e+06  1.522065e+06  1.522065e+06  1.522065e+06  1.522065e+06  \n",
      "mean   5.054561e-01  1.762737e+02  2.092604e+00  3.658497e+01  1.153646e+01  \n",
      "min   -1.270000e+02  0.000000e+00  0.000000e+00 -4.753287e+01 -1.675409e+02  \n",
      "25%    0.000000e+00  7.500000e+01  0.000000e+00  3.451683e+01 -5.212810e+00  \n",
      "50%    0.000000e+00  1.800000e+02  0.000000e+00  4.223370e+01  4.234350e+00  \n",
      "75%    0.000000e+00  2.650000e+02  5.000000e+00  5.135197e+01  1.883715e+01  \n",
      "max    1.280000e+02  5.110000e+02  1.500000e+01  7.055720e+01  1.788054e+02  \n",
      "std    1.760916e+01  1.070860e+02  2.411965e+00  2.290488e+01  6.871572e+01  \n",
      "Checking where I have missing values\n",
      "time            0\n",
      "cog             0\n",
      "sog             0\n",
      "rot             0\n",
      "heading         0\n",
      "navstat         0\n",
      "etaRaw          0\n",
      "latitude        0\n",
      "longitude       0\n",
      "vesselId        0\n",
      "portId       1615\n",
      "dtype: int64\n",
      "Checking for duplicated rows\n"
     ]
    },
    {
     "data": {
      "text/html": [
       "<div>\n",
       "<style scoped>\n",
       "    .dataframe tbody tr th:only-of-type {\n",
       "        vertical-align: middle;\n",
       "    }\n",
       "\n",
       "    .dataframe tbody tr th {\n",
       "        vertical-align: top;\n",
       "    }\n",
       "\n",
       "    .dataframe thead th {\n",
       "        text-align: right;\n",
       "    }\n",
       "</style>\n",
       "<table border=\"1\" class=\"dataframe\">\n",
       "  <thead>\n",
       "    <tr style=\"text-align: right;\">\n",
       "      <th></th>\n",
       "      <th>time</th>\n",
       "      <th>cog</th>\n",
       "      <th>sog</th>\n",
       "      <th>rot</th>\n",
       "      <th>heading</th>\n",
       "      <th>navstat</th>\n",
       "      <th>etaRaw</th>\n",
       "      <th>latitude</th>\n",
       "      <th>longitude</th>\n",
       "      <th>vesselId</th>\n",
       "      <th>portId</th>\n",
       "    </tr>\n",
       "  </thead>\n",
       "  <tbody>\n",
       "  </tbody>\n",
       "</table>\n",
       "</div>"
      ],
      "text/plain": [
       "Empty DataFrame\n",
       "Columns: [time, cog, sog, rot, heading, navstat, etaRaw, latitude, longitude, vesselId, portId]\n",
       "Index: []"
      ]
     },
     "execution_count": 7,
     "metadata": {},
     "output_type": "execute_result"
    }
   ],
   "source": [
    "\n",
    "df_ais = pd.read_csv(RESOURCE_FOLDER+'/ais_train.csv', sep='|')\n",
    "\n",
    "df_ais['time'] = pd.to_datetime(df_ais['time'])\n",
    "\n",
    "print(\"Shape of AIS: \" + str(df_ais.shape))\n",
    "#n = 1522065\n",
    "#columns = 11\n",
    "print(\"Columns of AIS: \"+ str(df_ais.columns))\n",
    "#latitude and longitude are our targets. Relevant covariates may be time, cog, sog, rot, heading, navstat, etaRAW, vesselId and portId.\n",
    "\n",
    "print(\"Data types of each of the columns\") \n",
    "print(df_ais.dtypes)\n",
    "#time is a datetime object.\n",
    "# cog, latitude and longitude are floats. Rot, heading and navstat are ints. etaRaw, vesselId and portId are objects. \n",
    "\n",
    "print(\"Describtion of AIS data\")\n",
    "print(df_ais.describe())\n",
    "#cog: course over ground. From 0 to 360 degrees.\n",
    "#sog: speed over ground. from 0 to 1023 knots. \n",
    "#rot: rate of turning (of heading, which is the compass direction of where the boats bow/nose is heading). Degrees per minute.\n",
    "#heading: direction of where boats bow is pointing. Measured in degrees from 0 to 360.\n",
    "#navstat: Navigational status. The number tells the status of the boat. From 0 to 15.\n",
    "#latitude: north-south position. Degrees. From -90 (south) to +90 (north). \n",
    "#longitude: east-west position. Degrees. From -180 (west) to +180 (east)\n",
    "\n",
    "print(\"Checking where I have missing values\")\n",
    "print(df_ais.isna().sum()) #portId (1615 entries)\n",
    "\n",
    "print(\"Checking for duplicated rows\")\n",
    "df_ais.loc[df_ais.duplicated()] #No duplicated rows"
   ]
  },
  {
   "cell_type": "code",
   "execution_count": 10,
   "metadata": {},
   "outputs": [
    {
     "name": "stdout",
     "output_type": "stream",
     "text": [
      "Data types of each of the columns\n",
      "shippingLineId     object\n",
      "vesselId           object\n",
      "CEU                 int64\n",
      "DWT               float64\n",
      "GT                  int64\n",
      "NT                float64\n",
      "vesselType        float64\n",
      "breadth           float64\n",
      "depth             float64\n",
      "draft             float64\n",
      "enginePower       float64\n",
      "freshWater        float64\n",
      "fuel              float64\n",
      "homePort           object\n",
      "length            float64\n",
      "maxHeight         float64\n",
      "maxSpeed          float64\n",
      "maxWidth          float64\n",
      "rampCapacity      float64\n",
      "yearBuilt           int64\n",
      "dtype: object\n",
      "Checking where I have missing values\n",
      "shippingLineId      0\n",
      "vesselId            0\n",
      "CEU                 0\n",
      "DWT                 8\n",
      "GT                  0\n",
      "NT                524\n",
      "vesselType         12\n",
      "breadth             8\n",
      "depth             469\n",
      "draft             701\n",
      "enginePower        20\n",
      "freshWater        490\n",
      "fuel              490\n",
      "homePort          138\n",
      "length              0\n",
      "maxHeight         676\n",
      "maxSpeed          498\n",
      "maxWidth          676\n",
      "rampCapacity      677\n",
      "yearBuilt           0\n",
      "dtype: int64\n",
      "Checking for duplicated rows\n"
     ]
    },
    {
     "data": {
      "text/html": [
       "<div>\n",
       "<style scoped>\n",
       "    .dataframe tbody tr th:only-of-type {\n",
       "        vertical-align: middle;\n",
       "    }\n",
       "\n",
       "    .dataframe tbody tr th {\n",
       "        vertical-align: top;\n",
       "    }\n",
       "\n",
       "    .dataframe thead th {\n",
       "        text-align: right;\n",
       "    }\n",
       "</style>\n",
       "<table border=\"1\" class=\"dataframe\">\n",
       "  <thead>\n",
       "    <tr style=\"text-align: right;\">\n",
       "      <th></th>\n",
       "      <th>shippingLineId</th>\n",
       "      <th>vesselId</th>\n",
       "      <th>CEU</th>\n",
       "      <th>DWT</th>\n",
       "      <th>GT</th>\n",
       "      <th>NT</th>\n",
       "      <th>vesselType</th>\n",
       "      <th>breadth</th>\n",
       "      <th>depth</th>\n",
       "      <th>draft</th>\n",
       "      <th>enginePower</th>\n",
       "      <th>freshWater</th>\n",
       "      <th>fuel</th>\n",
       "      <th>homePort</th>\n",
       "      <th>length</th>\n",
       "      <th>maxHeight</th>\n",
       "      <th>maxSpeed</th>\n",
       "      <th>maxWidth</th>\n",
       "      <th>rampCapacity</th>\n",
       "      <th>yearBuilt</th>\n",
       "    </tr>\n",
       "  </thead>\n",
       "  <tbody>\n",
       "  </tbody>\n",
       "</table>\n",
       "</div>"
      ],
      "text/plain": [
       "Empty DataFrame\n",
       "Columns: [shippingLineId, vesselId, CEU, DWT, GT, NT, vesselType, breadth, depth, draft, enginePower, freshWater, fuel, homePort, length, maxHeight, maxSpeed, maxWidth, rampCapacity, yearBuilt]\n",
       "Index: []"
      ]
     },
     "execution_count": 10,
     "metadata": {},
     "output_type": "execute_result"
    }
   ],
   "source": [
    "df_vessels = pd.read_csv(RESOURCE_FOLDER+'/vessels.csv', sep='|')\n",
    "\n",
    "print(\"Data types of each of the columns\") \n",
    "print(df_vessels.dtypes)\n",
    "\n",
    "print(\"Checking where I have missing values\")\n",
    "print(df_vessels.isna().sum()) \n",
    "print(\"Checking for duplicated rows\")\n",
    "df_vessels.loc[df_vessels.duplicated()] #No duplicated rows"
   ]
  },
  {
   "cell_type": "markdown",
   "metadata": {},
   "source": [
    "#### Understanding how the data was generated\n",
    "\n",
    "Note that we have irregular timestamps (as seen in the head of the AIS data). This is a known problem as AIS data has a lot of quality issues that leads to irregular timestamps. Two examples of this is that AIS messages has a tendency to get lost or damaged due to meterology and magnetics and that AIS tranceivers may also be intentionally turned off, which leads to missing data (Yang et al, 2024, p. 4).\n",
    "\n",
    "Irregular timestamps was a big challenge during our whole project, and we believe we could have made a more accurate model if they were regularized. How we accounted for this issue will be followed in the predictors section."
   ]
  },
  {
   "cell_type": "code",
   "execution_count": 8,
   "metadata": {},
   "outputs": [
    {
     "name": "stdout",
     "output_type": "stream",
     "text": [
      "                 time    cog   sog  rot  heading  navstat       etaRaw  \\\n",
      "0 2024-01-01 00:00:25  284.0   0.7    0       88        0  01-09 23:00   \n",
      "1 2024-01-01 00:00:36  109.6   0.0   -6      347        1  12-29 20:00   \n",
      "2 2024-01-01 00:01:45  111.0  11.0    0      112        0  01-02 09:00   \n",
      "3 2024-01-01 00:03:11   96.4   0.0    0      142        1  12-31 20:00   \n",
      "4 2024-01-01 00:03:51  214.0  19.7    0      215        0  01-25 12:00   \n",
      "5 2024-01-01 00:05:13  186.9   0.0    0      187        5  12-20 02:40   \n",
      "6 2024-01-01 00:05:40  123.4   0.0  128      511        5  12-16 01:00   \n",
      "7 2024-01-01 00:05:49  151.2   0.0    0       20        5  12-31 18:30   \n",
      "8 2024-01-01 00:06:18  265.0   0.1    0      122        1  12-30 19:00   \n",
      "9 2024-01-01 00:06:29   36.0   0.0    0       70        5  12-30 19:55   \n",
      "\n",
      "   latitude  longitude                  vesselId                    portId  \n",
      "0 -34.74370  -57.85130  61e9f3a8b937134a3c4bfdf7  61d371c43aeaecc07011a37f  \n",
      "1   8.89440  -79.47939  61e9f3d4b937134a3c4bff1f  634c4de270937fc01c3a7689  \n",
      "2  39.19065  -76.47567  61e9f436b937134a3c4c0131  61d3847bb7b7526e1adf3d19  \n",
      "3 -34.41189  151.02067  61e9f3b4b937134a3c4bfe77  61d36f770a1807568ff9a126  \n",
      "4  35.88379   -5.91636  61e9f41bb937134a3c4c0087  634c4de270937fc01c3a74f3  \n",
      "5  24.27431 -110.32727  61e9f468b937134a3c4c028f  61d37ac11366c3998241da0a  \n",
      "6  40.71466   29.46603  61e9f46bb937134a3c4c02b3  61d38259b7b7526e1adf3a41  \n",
      "7 -19.25026  146.83507  61e9f3bfb937134a3c4bfe9f  61d36f6e0a1807568ff9a115  \n",
      "8 -26.73068  153.29194  61e9f45bb937134a3c4c0221  61d36f640a1807568ff9a103  \n",
      "9  35.46922  139.68343  61e9f3e6b937134a3c4bff6d  61d379f61366c3998241d8d2  \n"
     ]
    }
   ],
   "source": [
    "print(df_ais.head(10))"
   ]
  },
  {
   "cell_type": "markdown",
   "metadata": {},
   "source": [
    "#### Exploring individual features\n",
    "\n",
    "We explored some individual features."
   ]
  },
  {
   "cell_type": "code",
   "execution_count": null,
   "metadata": {},
   "outputs": [],
   "source": []
  },
  {
   "cell_type": "markdown",
   "metadata": {},
   "source": [
    "#### Cleaning up features"
   ]
  },
  {
   "cell_type": "markdown",
   "metadata": {},
   "source": [
    "## Predictors"
   ]
  },
  {
   "cell_type": "markdown",
   "metadata": {},
   "source": [
    "#### LSTM"
   ]
  },
  {
   "cell_type": "markdown",
   "metadata": {},
   "source": [
    "#### XGBoost random forest"
   ]
  },
  {
   "cell_type": "markdown",
   "metadata": {},
   "source": [
    "##### Regularized and supervised random forest"
   ]
  },
  {
   "cell_type": "markdown",
   "metadata": {},
   "source": [
    "##### Interval trained random forest"
   ]
  },
  {
   "cell_type": "markdown",
   "metadata": {},
   "source": [
    "## Feature engineering"
   ]
  },
  {
   "cell_type": "markdown",
   "metadata": {},
   "source": [
    "#### Feature Engineering on supervised and resampled XGBoost random forest"
   ]
  },
  {
   "cell_type": "markdown",
   "metadata": {},
   "source": [
    "#### Feature Engineering on 5-day interval trained XGBoost random forest"
   ]
  },
  {
   "cell_type": "markdown",
   "metadata": {},
   "source": [
    "## Model Interpretation"
   ]
  },
  {
   "cell_type": "markdown",
   "metadata": {},
   "source": [
    "#### Feature importance plots"
   ]
  },
  {
   "cell_type": "markdown",
   "metadata": {},
   "source": [
    "## Sources\n",
    "\n",
    "Yang, Y., Yang, L., Li, G., Zhang, Z. & Liu, Y.(2024).Harnessing the power of Machine learning for AIS Data-Driven maritime Research: A comprehensive review. Transportation Research Part E: Logistics and Transportation Review, 183, 103426. https://doi.org/10.1016/j.tre.2024.103426"
   ]
  }
 ],
 "metadata": {
  "kernelspec": {
   "display_name": "Python 3",
   "language": "python",
   "name": "python3"
  },
  "language_info": {
   "codemirror_mode": {
    "name": "ipython",
    "version": 3
   },
   "file_extension": ".py",
   "mimetype": "text/x-python",
   "name": "python",
   "nbconvert_exporter": "python",
   "pygments_lexer": "ipython3",
   "version": "3.11.3"
  }
 },
 "nbformat": 4,
 "nbformat_minor": 2
}
