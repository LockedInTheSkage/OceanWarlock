{
 "cells": [
  {
   "cell_type": "code",
   "execution_count": 2,
   "metadata": {},
   "outputs": [
    {
     "name": "stderr",
     "output_type": "stream",
     "text": [
      "2024-10-24 20:11:34.740529: I tensorflow/core/util/port.cc:153] oneDNN custom operations are on. You may see slightly different numerical results due to floating-point round-off errors from different computation orders. To turn them off, set the environment variable `TF_ENABLE_ONEDNN_OPTS=0`.\n",
      "2024-10-24 20:11:34.749112: I external/local_xla/xla/tsl/cuda/cudart_stub.cc:32] Could not find cuda drivers on your machine, GPU will not be used.\n",
      "2024-10-24 20:11:34.817040: I external/local_xla/xla/tsl/cuda/cudart_stub.cc:32] Could not find cuda drivers on your machine, GPU will not be used.\n",
      "2024-10-24 20:11:34.870022: E external/local_xla/xla/stream_executor/cuda/cuda_fft.cc:485] Unable to register cuFFT factory: Attempting to register factory for plugin cuFFT when one has already been registered\n",
      "2024-10-24 20:11:34.935963: E external/local_xla/xla/stream_executor/cuda/cuda_dnn.cc:8454] Unable to register cuDNN factory: Attempting to register factory for plugin cuDNN when one has already been registered\n",
      "2024-10-24 20:11:34.952098: E external/local_xla/xla/stream_executor/cuda/cuda_blas.cc:1452] Unable to register cuBLAS factory: Attempting to register factory for plugin cuBLAS when one has already been registered\n",
      "2024-10-24 20:11:35.043215: I tensorflow/core/platform/cpu_feature_guard.cc:210] This TensorFlow binary is optimized to use available CPU instructions in performance-critical operations.\n",
      "To enable the following instructions: AVX2 AVX512F AVX512_VNNI FMA, in other operations, rebuild TensorFlow with the appropriate compiler flags.\n",
      "2024-10-24 20:11:36.428894: W tensorflow/compiler/tf2tensorrt/utils/py_utils.cc:38] TF-TRT Warning: Could not find TensorRT\n"
     ]
    }
   ],
   "source": [
    "%load_ext autoreload\n",
    "%autoreload 2\n",
    "import tensorflow as tf\n",
    "import pandas as pd\n",
    "import numpy as np\n",
    "import tensorflow as tf\n",
    "from tensorflow.keras.models import Sequential\n",
    "from tensorflow.keras.layers import Dense, Dropout\n",
    "from tensorflow.keras.optimizers import Adam\n",
    "import datetime\n",
    "import os\n",
    "from feature_engineering.tensor_features import develop_features, floating_conv\n",
    "from sklearn.preprocessing import StandardScaler\n",
    "from data_handler import LocalToLargeDataLoader\n",
    "from path_finder import path_sorter"
   ]
  },
  {
   "cell_type": "code",
   "execution_count": 6,
   "metadata": {},
   "outputs": [
    {
     "name": "stdout",
     "output_type": "stream",
     "text": [
      "Retrieving training data...\n"
     ]
    }
   ],
   "source": [
    "data_loader = LocalToLargeDataLoader(print_progress=True)\n",
    "parsed_data = data_loader.load_raw_data(path=\"../../Project materials(1)\")"
   ]
  },
  {
   "cell_type": "code",
   "execution_count": 7,
   "metadata": {},
   "outputs": [
    {
     "name": "stdout",
     "output_type": "stream",
     "text": [
      "Index(['time', 'cog', 'sog', 'rot', 'heading', 'navstat', 'latitude',\n",
      "       'longitude', 'vesselId', 'portId', 'etaParsed'],\n",
      "      dtype='object')\n"
     ]
    }
   ],
   "source": [
    "print(parsed_data.keys())"
   ]
  },
  {
   "cell_type": "code",
   "execution_count": 11,
   "metadata": {},
   "outputs": [
    {
     "name": "stdout",
     "output_type": "stream",
     "text": [
      "[===================-] 100.0% complete\n",
      "[====================] 100.0% complete\n",
      "Concatting dataframes\n",
      "Number of dataframes: 152532\n"
     ]
    }
   ],
   "source": [
    "path_dict = path_sorter(parsed_data)"
   ]
  },
  {
   "cell_type": "code",
   "execution_count": 13,
   "metadata": {},
   "outputs": [
    {
     "name": "stdout",
     "output_type": "stream",
     "text": [
      "['vesselId', 'portId', 'etaParsed', 'time_0', 'cog_0', 'sog_0', 'latitude_0', 'longitude_0', 'navstat_0', 'rot_0', 'heading_0', 'time_1', 'cog_1', 'sog_1', 'latitude_1', 'longitude_1', 'navstat_1', 'rot_1', 'heading_1', 'time_2', 'cog_2', 'sog_2', 'latitude_2', 'longitude_2', 'navstat_2', 'rot_2', 'heading_2', 'time_3', 'cog_3', 'sog_3', 'latitude_3', 'longitude_3', 'navstat_3', 'rot_3', 'heading_3', 'time_4', 'cog_4', 'sog_4', 'latitude_4', 'longitude_4', 'navstat_4', 'rot_4', 'heading_4', 'time_5', 'cog_5', 'sog_5', 'latitude_5', 'longitude_5', 'navstat_5', 'rot_5', 'heading_5', 'time_6', 'cog_6', 'sog_6', 'latitude_6', 'longitude_6', 'navstat_6', 'rot_6', 'heading_6', 'time_7', 'cog_7', 'sog_7', 'latitude_7', 'longitude_7', 'navstat_7', 'rot_7', 'heading_7', 'time_8', 'cog_8', 'sog_8', 'latitude_8', 'longitude_8', 'navstat_8', 'rot_8', 'heading_8', 'time_9', 'cog_9', 'sog_9', 'latitude_9', 'longitude_9', 'navstat_9', 'rot_9', 'heading_9']\n",
      "0         1\n",
      "1         0\n",
      "2         0\n",
      "3         0\n",
      "4         0\n",
      "         ..\n",
      "152527    0\n",
      "152528    0\n",
      "152529    5\n",
      "152530    0\n",
      "152531    0\n",
      "Name: navstat_0, Length: 152532, dtype: int64\n",
      "61e9f38eb937134a3c4bfd8b\n"
     ]
    }
   ],
   "source": [
    "print(list(path_dict.keys()))\n",
    "\n",
    "print(path_dict['navstat_0'])\n",
    "print(path_dict[list(path_dict.keys())[0]][0])\n"
   ]
  }
 ],
 "metadata": {
  "kernelspec": {
   "display_name": "base",
   "language": "python",
   "name": "python3"
  },
  "language_info": {
   "codemirror_mode": {
    "name": "ipython",
    "version": 3
   },
   "file_extension": ".py",
   "mimetype": "text/x-python",
   "name": "python",
   "nbconvert_exporter": "python",
   "pygments_lexer": "ipython3",
   "version": "3.12.4"
  }
 },
 "nbformat": 4,
 "nbformat_minor": 2
}
