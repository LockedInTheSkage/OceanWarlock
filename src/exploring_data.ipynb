{
 "cells": [
  {
   "cell_type": "code",
   "execution_count": 1,
   "metadata": {},
   "outputs": [],
   "source": [
    "%load_ext autoreload"
   ]
  },
  {
   "cell_type": "code",
   "execution_count": 2,
   "metadata": {},
   "outputs": [],
   "source": [
    "import pandas as pd\n",
    "import numpy as np\n",
    "import re\n",
    "import xgboost as xgb\n",
    "from xgboost import plot_importance, plot_tree\n",
    "from sklearn.metrics import mean_absolute_error\n",
    "from sklearn.metrics import r2_score\n",
    "import seaborn as sns\n",
    "import matplotlib.pyplot as plt\n",
    "\n",
    "from csv_parser import CSVParser\n",
    "from markovSquares import markovSquares, markov_index_inner"
   ]
  },
  {
   "cell_type": "code",
   "execution_count": 3,
   "metadata": {},
   "outputs": [],
   "source": [
    "# Define categories based on ranges or discrete values\n",
    "total_df = pd.read_csv(\"../../Project materials(1)/resampled_data_20min.csv\")\n",
    "\n",
    "# total_df = pd.read_csv(\"../../resources/resampled_data_h.csv\")\n",
    "\n",
    "total_df['etaParsed'] = pd.to_datetime(total_df['etaParsed'])\n",
    "total_df[\"time\"] = pd.to_datetime(total_df['time'])\n",
    "\n",
    "start_date = pd.to_datetime('2024-01-01')\n",
    "\n",
    "total_df[\"etaParsed\"] = (total_df['etaParsed'] - start_date).dt.days\n",
    "\n",
    "\n",
    "total_df = total_df.drop(columns=[\"navstat\"])\n",
    "\n",
    "\n",
    "\n",
    "time_diffs = total_df[\"time\"].diff()\n",
    "time_interval = time_diffs.dropna().iloc[0]\n",
    "time_interval = int(time_interval.total_seconds()/(60*20))\n",
    "\n",
    "\n",
    "\n",
    "total_df.set_index(\"time\", inplace=True)\n"
   ]
  },
  {
   "cell_type": "code",
   "execution_count": null,
   "metadata": {},
   "outputs": [
    {
     "data": {
      "image/png": "[encoded data removed]",
      "text/plain": [
       "<Figure size 640x480 with 1 Axes>"
      ]
     },
     "metadata": {},
     "output_type": "display_data"
    },
    {
     "name": "stdout",
     "output_type": "stream",
     "text": [
      "Empty DataFrame\n",
      "Columns: [cog, sog, rot, heading, latitude, longitude, vesselId, portId, etaParsed, UN_LOCODE, ISO, portLongitude, portLatitude, rot_cat]\n",
      "Index: []\n",
      "Empty DataFrame\n",
      "Columns: [cog, sog, rot, heading, latitude, longitude, vesselId, portId, etaParsed, UN_LOCODE, ISO, portLongitude, portLatitude, rot_cat]\n",
      "Index: []\n"
     ]
    },
    {
     "data": {
      "image/png": "[encoded data removed]",
      "text/plain": [
       "<Figure size 640x480 with 1 Axes>"
      ]
     },
     "metadata": {},
     "output_type": "display_data"
    }
   ],
   "source": [
    "#I want to make rot_values a categorical\n",
    "toy_data = total_df.copy()\n",
    "rot_values = total_df[\"rot\"]\n",
    "\n",
    "sns.histplot(x = \"rot\", data = total_df)\n",
    "\n",
    "plt.show()\n",
    "\n",
    "#This show me that I have ROT-values that are quite small, most are between 0 and -40 (by eyesight). I want to make this into a categorical based on what I see.\n",
    "#But be careful about the y-axis I have a big amount of values other than between 0 and -40.\n",
    "\n",
    "#Want to make this into a categorical.\n",
    "#I want my bins to be [-127, -126, 0, 126, np.inf]\n",
    "\n",
    "bins = [-127, -126, 0, 127, np.inf] #Based on the interpretation of the ROT and the histogram.\n",
    "\n",
    "labels = [\"Port_T_S\", \"Port_T_L\", \"Star_T_L\", \"Star_T_S\"]\n",
    "\n",
    "total_df[\"rot_cat\"] = pd.cut(rot_values, bins = bins, labels = labels, right = False)\n",
    "\n",
    "no_df = total_df[total_df[\"rot_cat\"]==\"No_T\"]\n",
    "\n",
    "print(no_df.head())\n",
    "\n",
    "min_df = total_df[total_df[\"rot\"]<=-128]\n",
    "\n",
    "print(min_df)\n",
    "\n",
    "#I have no values which are -128 or lower, so I change my bins.\n",
    "\n",
    "sns.histplot(x = \"rot_cat\", data = total_df)\n",
    "plt.show()\n",
    "\n",
    "#Will check if this actually changes anything based on the test error."
   ]
  },
  {
   "cell_type": "code",
   "execution_count": null,
   "metadata": {},
   "outputs": [
    {
     "name": "stderr",
     "output_type": "stream",
     "text": [
      "/home/susan-palencia/Documents/Maskinlæring/OceanWarlock/src/markovSquares.py:34: RuntimeWarning: invalid value encountered in divide\n",
      "  normalized_markov_matrix = markov_matrix / np.sum(markov_matrix, axis=-1, keepdims=True)\n"
     ]
    },
    {
     "data": {
      "text/plain": [
       "0.8947368421052632"
      ]
     },
     "execution_count": 5,
     "metadata": {},
     "output_type": "execute_result"
    }
   ],
   "source": []
  }
 ],
 "metadata": {
  "kernelspec": {
   "display_name": "base",
   "language": "python",
   "name": "python3"
  },
  "language_info": {
   "codemirror_mode": {
    "name": "ipython",
    "version": 3
   },
   "file_extension": ".py",
   "mimetype": "text/x-python",
   "name": "python",
   "nbconvert_exporter": "python",
   "pygments_lexer": "ipython3",
   "version": "3.12.4"
  }
 },
 "nbformat": 4,
 "nbformat_minor": 2
}
