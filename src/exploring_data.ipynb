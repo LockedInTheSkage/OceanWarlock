{
 "cells": [
  {
   "cell_type": "code",
   "execution_count": 1,
   "metadata": {},
   "outputs": [],
   "source": [
    "%load_ext autoreload"
   ]
  },
  {
   "cell_type": "code",
   "execution_count": 2,
   "metadata": {},
   "outputs": [],
   "source": [
    "import pandas as pd\n",
    "import numpy as np\n",
    "import re\n",
    "import xgboost as xgb\n",
    "from xgboost import plot_importance, plot_tree\n",
    "from sklearn.metrics import mean_absolute_error\n",
    "from sklearn.metrics import r2_score\n",
    "\n",
    "from csv_parser import CSVParser\n",
    "from markovSquares import markovSquares, markov_index_inner"
   ]
  },
  {
   "cell_type": "code",
   "execution_count": 3,
   "metadata": {},
   "outputs": [],
   "source": [
    "# Define categories based on ranges or discrete values\n",
    "total_df = pd.read_csv(\"../../Project materials(1)/resampled_data_20min.csv\")\n",
    "\n",
    "# total_df = pd.read_csv(\"../../resources/resampled_data_h.csv\")\n",
    "\n",
    "total_df['etaParsed'] = pd.to_datetime(total_df['etaParsed'])\n",
    "total_df[\"time\"] = pd.to_datetime(total_df['time'])\n",
    "\n",
    "start_date = pd.to_datetime('2024-01-01')\n",
    "\n",
    "total_df[\"etaParsed\"] = (total_df['etaParsed'] - start_date).dt.days\n",
    "\n",
    "\n",
    "total_df = total_df.drop(columns=[\"navstat\"])\n",
    "\n",
    "\n",
    "\n",
    "time_diffs = total_df[\"time\"].diff()\n",
    "time_interval = time_diffs.dropna().iloc[0]\n",
    "time_interval = int(time_interval.total_seconds()/(60*20))\n",
    "\n",
    "\n",
    "\n",
    "total_df.set_index(\"time\", inplace=True)\n"
   ]
  },
  {
   "cell_type": "code",
   "execution_count": 4,
   "metadata": {},
   "outputs": [
    {
     "name": "stdout",
     "output_type": "stream",
     "text": [
      "                       cog   sog  rot  heading  latitude  longitude  \\\n",
      "time                                                                  \n",
      "2024-01-01 00:00:00  284.0   0.7  0.0     88.0 -34.74370  -57.85130   \n",
      "2024-01-01 00:20:00   92.8  14.2  0.0     90.0 -35.16787  -56.77210   \n",
      "2024-01-01 00:40:00   92.8  14.2  0.0     90.0 -35.16787  -56.77210   \n",
      "2024-01-01 01:00:00   92.8  14.2  0.0     90.0 -35.16787  -56.77210   \n",
      "2024-01-01 01:20:00   92.8  14.2  0.0     90.0 -35.16787  -56.77210   \n",
      "2024-01-01 01:40:00   92.8  14.2  0.0     90.0 -35.16787  -56.77210   \n",
      "2024-01-01 02:00:00   92.8  14.2  0.0     90.0 -35.16787  -56.77210   \n",
      "2024-01-01 02:20:00   92.8  14.2  0.0     90.0 -35.16787  -56.77210   \n",
      "2024-01-01 02:40:00   92.8  14.2  0.0     90.0 -35.16787  -56.77210   \n",
      "2024-01-01 03:00:00   92.8  14.2  0.0     90.0 -35.16787  -56.77210   \n",
      "2024-01-01 03:20:00   92.8  14.2  0.0     90.0 -35.16787  -56.77210   \n",
      "2024-01-01 03:40:00   92.8  14.2  0.0     90.0 -35.16787  -56.77210   \n",
      "2024-01-01 04:00:00   92.8  14.2  0.0     90.0 -35.16787  -56.77210   \n",
      "2024-01-01 04:20:00   92.8  14.2  0.0     90.0 -35.16787  -56.77210   \n",
      "2024-01-01 04:40:00   92.8  14.2  0.0     90.0 -35.16787  -56.77210   \n",
      "2024-01-01 05:00:00   92.8  14.2  0.0     90.0 -35.16787  -56.77210   \n",
      "2024-01-01 05:20:00   92.8  14.2  0.0     90.0 -35.16787  -56.77210   \n",
      "2024-01-01 05:40:00   92.8  14.2  0.0     90.0 -35.16787  -56.77210   \n",
      "2024-01-01 06:00:00   92.8  14.2  0.0     90.0 -35.16787  -56.77210   \n",
      "2024-01-01 06:20:00   90.5  14.3  0.0     88.0 -35.16863  -56.63185   \n",
      "\n",
      "                                     vesselId                    portId  \\\n",
      "time                                                                      \n",
      "2024-01-01 00:00:00  61e9f3a8b937134a3c4bfdf7  61d371c43aeaecc07011a37f   \n",
      "2024-01-01 00:20:00  61e9f3a8b937134a3c4bfdf7  61d371c43aeaecc07011a37f   \n",
      "2024-01-01 00:40:00  61e9f3a8b937134a3c4bfdf7  61d371c43aeaecc07011a37f   \n",
      "2024-01-01 01:00:00  61e9f3a8b937134a3c4bfdf7  61d371c43aeaecc07011a37f   \n",
      "2024-01-01 01:20:00  61e9f3a8b937134a3c4bfdf7  61d371c43aeaecc07011a37f   \n",
      "2024-01-01 01:40:00  61e9f3a8b937134a3c4bfdf7  61d371c43aeaecc07011a37f   \n",
      "2024-01-01 02:00:00  61e9f3a8b937134a3c4bfdf7  61d371c43aeaecc07011a37f   \n",
      "2024-01-01 02:20:00  61e9f3a8b937134a3c4bfdf7  61d371c43aeaecc07011a37f   \n",
      "2024-01-01 02:40:00  61e9f3a8b937134a3c4bfdf7  61d371c43aeaecc07011a37f   \n",
      "2024-01-01 03:00:00  61e9f3a8b937134a3c4bfdf7  61d371c43aeaecc07011a37f   \n",
      "2024-01-01 03:20:00  61e9f3a8b937134a3c4bfdf7  61d371c43aeaecc07011a37f   \n",
      "2024-01-01 03:40:00  61e9f3a8b937134a3c4bfdf7  61d371c43aeaecc07011a37f   \n",
      "2024-01-01 04:00:00  61e9f3a8b937134a3c4bfdf7  61d371c43aeaecc07011a37f   \n",
      "2024-01-01 04:20:00  61e9f3a8b937134a3c4bfdf7  61d371c43aeaecc07011a37f   \n",
      "2024-01-01 04:40:00  61e9f3a8b937134a3c4bfdf7  61d371c43aeaecc07011a37f   \n",
      "2024-01-01 05:00:00  61e9f3a8b937134a3c4bfdf7  61d371c43aeaecc07011a37f   \n",
      "2024-01-01 05:20:00  61e9f3a8b937134a3c4bfdf7  61d371c43aeaecc07011a37f   \n",
      "2024-01-01 05:40:00  61e9f3a8b937134a3c4bfdf7  61d371c43aeaecc07011a37f   \n",
      "2024-01-01 06:00:00  61e9f3a8b937134a3c4bfdf7  61d371c43aeaecc07011a37f   \n",
      "2024-01-01 06:20:00  61e9f3a8b937134a3c4bfdf7  61d371c43aeaecc07011a37f   \n",
      "\n",
      "                     etaParsed UN_LOCODE ISO  portLongitude  portLatitude  \n",
      "time                                                                       \n",
      "2024-01-01 00:00:00        8.0     CLSAI  CL     -71.618889      -33.5875  \n",
      "2024-01-01 00:20:00        8.0     CLSAI  CL     -71.618889      -33.5875  \n",
      "2024-01-01 00:40:00        8.0     CLSAI  CL     -71.618889      -33.5875  \n",
      "2024-01-01 01:00:00        8.0     CLSAI  CL     -71.618889      -33.5875  \n",
      "2024-01-01 01:20:00        8.0     CLSAI  CL     -71.618889      -33.5875  \n",
      "2024-01-01 01:40:00        8.0     CLSAI  CL     -71.618889      -33.5875  \n",
      "2024-01-01 02:00:00        8.0     CLSAI  CL     -71.618889      -33.5875  \n",
      "2024-01-01 02:20:00        8.0     CLSAI  CL     -71.618889      -33.5875  \n",
      "2024-01-01 02:40:00        8.0     CLSAI  CL     -71.618889      -33.5875  \n",
      "2024-01-01 03:00:00        8.0     CLSAI  CL     -71.618889      -33.5875  \n",
      "2024-01-01 03:20:00        8.0     CLSAI  CL     -71.618889      -33.5875  \n",
      "2024-01-01 03:40:00        8.0     CLSAI  CL     -71.618889      -33.5875  \n",
      "2024-01-01 04:00:00        8.0     CLSAI  CL     -71.618889      -33.5875  \n",
      "2024-01-01 04:20:00        8.0     CLSAI  CL     -71.618889      -33.5875  \n",
      "2024-01-01 04:40:00        8.0     CLSAI  CL     -71.618889      -33.5875  \n",
      "2024-01-01 05:00:00        8.0     CLSAI  CL     -71.618889      -33.5875  \n",
      "2024-01-01 05:20:00        8.0     CLSAI  CL     -71.618889      -33.5875  \n",
      "2024-01-01 05:40:00        8.0     CLSAI  CL     -71.618889      -33.5875  \n",
      "2024-01-01 06:00:00        8.0     CLSAI  CL     -71.618889      -33.5875  \n",
      "2024-01-01 06:20:00        8.0     CLSAI  CL     -71.618889      -33.5875  \n"
     ]
    }
   ],
   "source": [
    "print(total_df.head(20))"
   ]
  },
  {
   "cell_type": "code",
   "execution_count": 5,
   "metadata": {},
   "outputs": [
    {
     "name": "stdout",
     "output_type": "stream",
     "text": [
      "[[[0. 0. 0. ... 0. 0. 0.]\n",
      "  [0. 0. 0. ... 0. 0. 0.]\n",
      "  [0. 0. 0. ... 0. 0. 0.]\n",
      "  ...\n",
      "  [0. 0. 0. ... 0. 0. 0.]\n",
      "  [0. 0. 0. ... 0. 0. 0.]\n",
      "  [0. 0. 0. ... 0. 0. 0.]]\n",
      "\n",
      " [[0. 0. 0. ... 0. 0. 0.]\n",
      "  [0. 0. 0. ... 0. 0. 0.]\n",
      "  [0. 0. 0. ... 0. 0. 0.]\n",
      "  ...\n",
      "  [0. 0. 0. ... 0. 0. 0.]\n",
      "  [0. 0. 0. ... 0. 0. 0.]\n",
      "  [0. 0. 0. ... 0. 0. 0.]]\n",
      "\n",
      " [[0. 0. 0. ... 0. 0. 0.]\n",
      "  [0. 0. 0. ... 0. 0. 0.]\n",
      "  [0. 0. 0. ... 0. 0. 0.]\n",
      "  ...\n",
      "  [0. 0. 0. ... 0. 0. 0.]\n",
      "  [0. 0. 0. ... 0. 0. 0.]\n",
      "  [0. 0. 0. ... 0. 0. 0.]]\n",
      "\n",
      " ...\n",
      "\n",
      " [[0. 0. 0. ... 0. 0. 0.]\n",
      "  [0. 0. 0. ... 0. 0. 0.]\n",
      "  [0. 0. 0. ... 0. 0. 0.]\n",
      "  ...\n",
      "  [0. 0. 0. ... 0. 0. 0.]\n",
      "  [0. 0. 0. ... 0. 0. 0.]\n",
      "  [0. 0. 0. ... 0. 0. 0.]]\n",
      "\n",
      " [[0. 0. 0. ... 0. 0. 0.]\n",
      "  [0. 0. 0. ... 0. 0. 0.]\n",
      "  [0. 0. 0. ... 0. 0. 0.]\n",
      "  ...\n",
      "  [0. 0. 0. ... 0. 0. 0.]\n",
      "  [0. 0. 0. ... 0. 0. 0.]\n",
      "  [0. 0. 0. ... 0. 0. 0.]]\n",
      "\n",
      " [[0. 0. 0. ... 0. 0. 0.]\n",
      "  [0. 0. 0. ... 0. 0. 0.]\n",
      "  [0. 0. 0. ... 0. 0. 0.]\n",
      "  ...\n",
      "  [0. 0. 0. ... 0. 0. 0.]\n",
      "  [0. 0. 0. ... 0. 0. 0.]\n",
      "  [0. 0. 0. ... 0. 0. 0.]]]\n"
     ]
    },
    {
     "name": "stderr",
     "output_type": "stream",
     "text": [
      "/home/susan-palencia/Documents/Maskinlæring/OceanWarlock/src/markovSquares.py:35: RuntimeWarning: invalid value encountered in divide\n",
      "  normalized_markov_matrix = markov_matrix / np.sum(markov_matrix, axis=-1, keepdims=True)\n"
     ]
    },
    {
     "data": {
      "text/plain": [
       "0.8947368421052632"
      ]
     },
     "execution_count": 5,
     "metadata": {},
     "output_type": "execute_result"
    }
   ],
   "source": [
    "sub_df = total_df.head(20)\n",
    "transition_matrix = markovSquares(sub_df, \"vesselId\", 2)\n",
    "transition_matrix[72, 151, 4]"
   ]
  }
 ],
 "metadata": {
  "kernelspec": {
   "display_name": "base",
   "language": "python",
   "name": "python3"
  },
  "language_info": {
   "codemirror_mode": {
    "name": "ipython",
    "version": 3
   },
   "file_extension": ".py",
   "mimetype": "text/x-python",
   "name": "python",
   "nbconvert_exporter": "python",
   "pygments_lexer": "ipython3",
   "version": "3.12.4"
  }
 },
 "nbformat": 4,
 "nbformat_minor": 2
}
