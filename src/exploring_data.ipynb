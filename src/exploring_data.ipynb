{
 "cells": [
  {
   "cell_type": "code",
   "execution_count": 1,
   "metadata": {},
   "outputs": [],
   "source": [
    "%load_ext autoreload"
   ]
  },
  {
   "cell_type": "code",
   "execution_count": 2,
   "metadata": {},
   "outputs": [],
   "source": [
    "import pandas as pd\n",
    "import numpy as np\n",
    "import re\n",
    "import xgboost as xgb\n",
    "from xgboost import plot_importance, plot_tree\n",
    "from sklearn.metrics import mean_absolute_error\n",
    "from sklearn.metrics import r2_score\n",
    "import seaborn as sns\n",
    "import matplotlib.pyplot as plt\n",
    "\n",
    "\n",
    "from globals import *\n",
    "from csv_parser import CSVParser"
   ]
  },
  {
   "cell_type": "code",
   "execution_count": 3,
   "metadata": {},
   "outputs": [],
   "source": [
    "# Define categories based on ranges or discrete values\n",
    "parser= CSVParser(RESOURCE_FOLDER)\n",
    "total_df = parser.retrieve_training_data()\n",
    "\n",
    "# total_df = pd.read_csv(\"../../resources/resampled_data_h.csv\")\n",
    "\n",
    "total_df['etaParsed'] = pd.to_datetime(total_df['etaParsed'])\n",
    "total_df[\"time\"] = pd.to_datetime(total_df['time'])\n",
    "\n",
    "start_date = pd.to_datetime('2024-01-01')\n",
    "\n",
    "total_df[\"etaParsed\"] = (total_df['etaParsed'] - start_date).dt.days\n",
    "\n",
    "\n",
    "\n",
    "time_diffs = total_df[\"time\"].diff()\n",
    "time_interval = time_diffs.dropna().iloc[0]\n",
    "time_interval = int(time_interval.total_seconds()/(60*20))\n",
    "\n",
    "\n",
    "\n",
    "total_df.set_index(\"time\", inplace=True)\n"
   ]
  },
  {
   "cell_type": "code",
   "execution_count": null,
   "metadata": {},
   "outputs": [
    {
     "data": {
      "text/html": [
       "<div>\n",
       "<style scoped>\n",
       "    .dataframe tbody tr th:only-of-type {\n",
       "        vertical-align: middle;\n",
       "    }\n",
       "\n",
       "    .dataframe tbody tr th {\n",
       "        vertical-align: top;\n",
       "    }\n",
       "\n",
       "    .dataframe thead th {\n",
       "        text-align: right;\n",
       "    }\n",
       "</style>\n",
       "<table border=\"1\" class=\"dataframe\">\n",
       "  <thead>\n",
       "    <tr style=\"text-align: right;\">\n",
       "      <th></th>\n",
       "      <th>value_14.0</th>\n",
       "      <th>value_21.0</th>\n",
       "      <th>value_83.0</th>\n",
       "      <th>value_nan</th>\n",
       "    </tr>\n",
       "    <tr>\n",
       "      <th>time</th>\n",
       "      <th></th>\n",
       "      <th></th>\n",
       "      <th></th>\n",
       "      <th></th>\n",
       "    </tr>\n",
       "  </thead>\n",
       "  <tbody>\n",
       "    <tr>\n",
       "      <th>2024-01-01 00:00:25</th>\n",
       "      <td>False</td>\n",
       "      <td>False</td>\n",
       "      <td>True</td>\n",
       "      <td>False</td>\n",
       "    </tr>\n",
       "    <tr>\n",
       "      <th>2024-01-01 00:00:36</th>\n",
       "      <td>False</td>\n",
       "      <td>False</td>\n",
       "      <td>True</td>\n",
       "      <td>False</td>\n",
       "    </tr>\n",
       "    <tr>\n",
       "      <th>2024-01-01 00:01:45</th>\n",
       "      <td>False</td>\n",
       "      <td>False</td>\n",
       "      <td>True</td>\n",
       "      <td>False</td>\n",
       "    </tr>\n",
       "    <tr>\n",
       "      <th>2024-01-01 00:03:11</th>\n",
       "      <td>False</td>\n",
       "      <td>False</td>\n",
       "      <td>True</td>\n",
       "      <td>False</td>\n",
       "    </tr>\n",
       "    <tr>\n",
       "      <th>2024-01-01 00:03:51</th>\n",
       "      <td>False</td>\n",
       "      <td>False</td>\n",
       "      <td>True</td>\n",
       "      <td>False</td>\n",
       "    </tr>\n",
       "  </tbody>\n",
       "</table>\n",
       "</div>"
      ],
      "text/plain": [
       "                     value_14.0  value_21.0  value_83.0  value_nan\n",
       "time                                                              \n",
       "2024-01-01 00:00:25       False       False        True      False\n",
       "2024-01-01 00:00:36       False       False        True      False\n",
       "2024-01-01 00:01:45       False       False        True      False\n",
       "2024-01-01 00:03:11       False       False        True      False\n",
       "2024-01-01 00:03:51       False       False        True      False"
      ]
     },
     "execution_count": 4,
     "metadata": {},
     "output_type": "execute_result"
    }
   ],
   "source": [
    "return_values = pd.get_dummies(total_df[\"vesselType\"], dummy_na=True, prefix='value')\n",
    "\n",
    "return_values.head()\n",
    "\n",
    "#Want different \n",
    "    #return_values = return_values[\"vesselType_dummies\"]\n",
    "    #return_values.name = \"vesselType_dummies\""
   ]
  },
  {
   "cell_type": "code",
   "execution_count": null,
   "metadata": {},
   "outputs": [
    {
     "name": "stdout",
     "output_type": "stream",
     "text": [
      "[83. 21. nan 14.]\n",
      "vesselType\n",
      "83.0    1105726\n",
      "21.0     391290\n",
      "14.0       2447\n",
      "Name: count, dtype: int64\n"
     ]
    }
   ],
   "source": [
    "\n",
    "toy_data = total_df.copy()\n",
    "type_values = total_df[\"vesselType\"].value_counts()\n",
    "print(total_df[\"vesselType\"].unique())\n",
    "\n",
    "# Display the result\n",
    "print(type_values)\n",
    "\n",
    "#This show me that I have ROT-values that are quite small, most are between 0 and -40 (by eyesight). I want to make this into a categorical based on what I see.\n",
    "#But be careful about the y-axis I have a big amount of values other than between 0 and -40.\n",
    "\n",
    "#Want to make this into a categorical.\n",
    "#I want my bins to be [-127, -126, 0, 126, np.inf]\n",
    "\n",
    "# bins = [-127, -126, 0, 127, np.inf] #Based on the interpretation of the ROT and the histogram.\n",
    "\n",
    "# labels = [\"Port_T_S\", \"Port_T_L\", \"Star_T_L\", \"Star_T_S\"]\n",
    "\n",
    "# total_df[\"rot_cat\"] = pd.cut(rot_values, bins = bins, labels = labels, right = False)\n",
    "\n",
    "# no_df = total_df[total_df[\"rot_cat\"]==\"No_T\"]\n",
    "\n",
    "# print(no_df.head())\n",
    "\n",
    "# min_df = total_df[total_df[\"rot\"]<=-128]\n",
    "\n",
    "# print(min_df)\n",
    "\n",
    "# #I have no values which are -128 or lower, so I change my bins.\n",
    "# sns.histplot(x = \"rot_cat\", data = total_df)\n",
    "# plt.show()\n",
    "\n",
    "# #Will check if this actually changes anything based on the test error.\n",
    "\n",
    "# total_df.drop()"
   ]
  },
  {
   "cell_type": "code",
   "execution_count": null,
   "metadata": {},
   "outputs": [
    {
     "name": "stdout",
     "output_type": "stream",
     "text": [
      "Index(['cog', 'sog', 'rot', 'heading', 'latitude', 'longitude', 'vesselId',\n",
      "       'portId', 'etaParsed', 'UN_LOCODE', 'ISO', 'portLongitude',\n",
      "       'portLatitude', 'shippingLineId', 'CEU', 'DWT', 'GT', 'NT',\n",
      "       'vesselType', 'breadth', 'depth', 'draft', 'enginePower', 'freshWater',\n",
      "       'fuel', 'homePort', 'length', 'maxHeight', 'maxSpeed', 'maxWidth',\n",
      "       'rampCapacity', 'yearBuilt', 'rot_cat'],\n",
      "      dtype='object')\n",
      "(1520450, 33)\n"
     ]
    },
    {
     "data": {
      "text/plain": [
       "<Axes: xlabel='draft', ylabel='Count'>"
      ]
     },
     "execution_count": 8,
     "metadata": {},
     "output_type": "execute_result"
    },
    {
     "data": {
      "image/png": "[encoded data removed]",
      "text/plain": [
       "<Figure size 640x480 with 1 Axes>"
      ]
     },
     "metadata": {},
     "output_type": "display_data"
    }
   ],
   "source": [
    "print(total_df.columns)\n",
    "\n",
    "\n",
    "\n",
    "dwt = total_df[\"DWT\"] #Deadweight Tonnage. For Deep Sea vessels this is usually larger than 10 000.\n",
    "length = total_df[\"length\"] #Length. For deep sea vessels this is usually larger than 150m.\n",
    "breadth = total_df[\"breadth\"] #A type of width. For deep sea vessels this is usually between 25-60m.\n",
    "draft = total_df[\"draft\"] #Draft. For deep sea vessels this is usually between 10-20m.\n",
    "\n",
    "#Plots\n",
    "\n",
    "#print(dwt.head())\n",
    "\n",
    "#sns.histplot(x = \"length\", data = total_df) Most lengths are larger than 150m.\n",
    "\n",
    "#sns.histplot(x = \"breadth\", data = total_df)\n",
    "#print(total_df.columns[total_df.columns.duplicated()])\n",
    "#print(total_df.index[total_df.index.duplicated()])\n",
    "print(total_df.shape)\n",
    "\n",
    "\n",
    "\n",
    "#Change index into counts for now.\n",
    "toy_data = total_df.copy()\n",
    "toy_data.reset_index(drop=True, inplace=True)\n",
    "#sns.histplot(x = \"length\", data = total_df) #Most lengths are larger than 150m.\n",
    "#sns.histplot(x = \"DWT\", data = toy_data) #Most are between 10000-30000.\n",
    "#sns.histplot(x = \"breadth\", data = toy_data) #Most are between 25-35m.3\n",
    "#sns.histplot(x = \"draft\", data = toy_data) #Most have draft lower than 10m. \n"
   ]
  },
  {
   "cell_type": "code",
   "execution_count": 6,
   "metadata": {},
   "outputs": [
    {
     "name": "stdout",
     "output_type": "stream",
     "text": [
      "Index(['cog', 'sog', 'rot', 'heading', 'navstat', 'latitude', 'longitude',\n",
      "       'vesselId', 'portId', 'etaParsed', 'UN_LOCODE', 'ISO', 'portLongitude',\n",
      "       'portLatitude', 'rot_cat'],\n",
      "      dtype='object')\n"
     ]
    }
   ],
   "source": [
    "print(total_df.columns)"
   ]
  },
  {
   "cell_type": "code",
   "execution_count": 8,
   "metadata": {},
   "outputs": [
    {
     "data": {
      "image/png": "[encoded data removed]",
      "text/plain": [
       "<Figure size 640x480 with 1 Axes>"
      ]
     },
     "metadata": {},
     "output_type": "display_data"
    },
    {
     "name": "stdout",
     "output_type": "stream",
     "text": [
      "[ 0  1  5 15  3  2  8 12 13  4  6 14 11  7  9]\n",
      "navstat\n",
      "0     781831\n",
      "5     604525\n",
      "1     129491\n",
      "2       2081\n",
      "8        948\n",
      "15       653\n",
      "6        521\n",
      "4        232\n",
      "3        161\n",
      "11         2\n",
      "13         1\n",
      "12         1\n",
      "14         1\n",
      "7          1\n",
      "9          1\n",
      "Name: count, dtype: int64\n",
      "         navstat navstat_cat\n",
      "0              0      moving\n",
      "1              1  not_moving\n",
      "2              0      moving\n",
      "3              1  not_moving\n",
      "4              0      moving\n",
      "...          ...         ...\n",
      "1520445        0      moving\n",
      "1520446        0      moving\n",
      "1520447        0      moving\n",
      "1520448        0      moving\n",
      "1520449        0      moving\n",
      "\n",
      "[1520450 rows x 2 columns]\n",
      "cog              float64\n",
      "sog              float64\n",
      "rot                int64\n",
      "heading            int64\n",
      "navstat            int64\n",
      "latitude         float64\n",
      "longitude        float64\n",
      "vesselId          object\n",
      "portId            object\n",
      "etaParsed        float64\n",
      "UN_LOCODE         object\n",
      "ISO               object\n",
      "portLongitude    float64\n",
      "portLatitude     float64\n",
      "navstat_cat       object\n",
      "dtype: object\n"
     ]
    }
   ],
   "source": [
    "#Looking at NAVSTAT\n",
    "toy_data = total_df.copy()\n",
    "toy_data.reset_index(drop=True, inplace=True)\n",
    "sns.histplot(x = \"navstat\", data = total_df)\n",
    "plt.show()\n",
    "\n",
    "#print(total_df.shape)\n",
    "\n",
    "print(toy_data[\"navstat\"].unique())\n",
    "#A lot of 0, i.e under way using engine.\n",
    "#Some 1, which means at anchor\n",
    "#A lot of 5, which means moored\n",
    "print(toy_data[\"navstat\"].value_counts())\n",
    "#Which means that I want navstat to be a categorical, with 0, 1 and 5 and everything else. \n",
    "\n",
    "#print(toy_data.dtypes)\n",
    "\n",
    "#Want to make this into a categorical.\n",
    "#I want my bins to be [-127, -126, 0, 126, np.inf]\n",
    "\n",
    "#important_values = {0: \"OMW_E\", 1: \"Anchor\", 5: \"Moored\"}\n",
    "\n",
    "# Create a new column with categories\n",
    "#toy_data['navstat_cat'] = toy_data['navstat'].apply(lambda x: important_values.get(x, \"Other\"))\n",
    "\n",
    "#print(toy_data[[\"navstat_cat\",\"navstat\"]].head(30))\n",
    "\n",
    "movement_values = [0, 3, 4, 8]\n",
    "\n",
    "toy_data[\"navstat_cat\"] = np.where(toy_data[\"navstat\"].isin(movement_values), \"moving\",\"not_moving\")\n",
    "\n",
    "print(toy_data[[\"navstat\", \"navstat_cat\"]])\n",
    "\n",
    "print(toy_data.dtypes)"
   ]
  }
 ],
 "metadata": {
  "kernelspec": {
   "display_name": "base",
   "language": "python",
   "name": "python3"
  },
  "language_info": {
   "codemirror_mode": {
    "name": "ipython",
    "version": 3
   },
   "file_extension": ".py",
   "mimetype": "text/x-python",
   "name": "python",
   "nbconvert_exporter": "python",
   "pygments_lexer": "ipython3",
   "version": "3.12.4"
  }
 },
 "nbformat": 4,
 "nbformat_minor": 2
}
