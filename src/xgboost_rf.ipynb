{
 "cells": [
  {
   "cell_type": "code",
   "execution_count": 1,
   "metadata": {},
   "outputs": [],
   "source": [
    "%load_ext autoreload"
   ]
  },
  {
   "cell_type": "code",
   "execution_count": 2,
   "metadata": {},
   "outputs": [],
   "source": [
    "import pandas as pd\n",
    "import numpy as np\n",
    "import re\n",
    "import xgboost as xgb\n",
    "from xgboost import plot_importance, plot_tree\n",
    "from sklearn.metrics import mean_absolute_error\n",
    "from sklearn.metrics import r2_score\n",
    "from warnings import simplefilter\n",
    "simplefilter(action=\"ignore\", category=pd.errors.PerformanceWarning)\n",
    "from sklearn.model_selection import RandomizedSearchCV, TimeSeriesSplit\n",
    "\n",
    "import loadBar\n",
    "from csv_parser import CSVParser\n",
    "from globals import RESOURCE_FOLDER\n",
    "from markovSquares import MarkovSquares\n",
    "from data_handler import LocalToLargeDataLoader\n",
    "from searoutePointFinder import fill_with_proximity\n"
   ]
  },
  {
   "cell_type": "code",
   "execution_count": 3,
   "metadata": {},
   "outputs": [
    {
     "name": "stdout",
     "output_type": "stream",
     "text": [
      "Retrieving training data...\n"
     ]
    }
   ],
   "source": [
    "data_loader = LocalToLargeDataLoader(print_progress=True)\n",
    "parsed_data = data_loader.load_raw_data(path=\"../../Project materials(1)\")\n"
   ]
  },
  {
   "cell_type": "code",
   "execution_count": 4,
   "metadata": {},
   "outputs": [],
   "source": [
    "index_data = parsed_data.copy()\n",
    "index_data.set_index(\"time\", inplace=True)"
   ]
  },
  {
   "cell_type": "code",
   "execution_count": 5,
   "metadata": {},
   "outputs": [
    {
     "name": "stdout",
     "output_type": "stream",
     "text": [
      "                       cog   sog  rot  heading  navstat  latitude  longitude  \\\n",
      "time                                                                           \n",
      "2024-01-01 00:00:25  284.0   0.7    0       88        0 -34.74370  -57.85130   \n",
      "2024-01-01 00:00:36  109.6   0.0   -6      347        1   8.89440  -79.47939   \n",
      "2024-01-01 00:01:45  111.0  11.0    0      112        0  39.19065  -76.47567   \n",
      "2024-01-01 00:03:11   96.4   0.0    0      142        1 -34.41189  151.02067   \n",
      "2024-01-01 00:03:51  214.0  19.7    0      215        0  35.88379   -5.91636   \n",
      "...                    ...   ...  ...      ...      ...       ...        ...   \n",
      "2024-05-07 23:59:07  359.1  13.4    0        1        0  52.19131   -5.82223   \n",
      "2024-05-07 23:59:08   12.3  17.1    0       13        0  38.96142  -12.00502   \n",
      "2024-05-07 23:59:08  269.8  14.9   -1      270        0  49.71372   -5.22042   \n",
      "2024-05-07 23:59:08    8.0  18.7    0        6        0  38.27895   10.78280   \n",
      "2024-05-07 23:59:08  336.0  14.3    5      337        0  38.98635  -75.13275   \n",
      "\n",
      "                                      vesselId                    portId  \\\n",
      "time                                                                       \n",
      "2024-01-01 00:00:25   61e9f3a8b937134a3c4bfdf7  61d371c43aeaecc07011a37f   \n",
      "2024-01-01 00:00:36   61e9f3d4b937134a3c4bff1f  634c4de270937fc01c3a7689   \n",
      "2024-01-01 00:01:45   61e9f436b937134a3c4c0131  61d3847bb7b7526e1adf3d19   \n",
      "2024-01-01 00:03:11   61e9f3b4b937134a3c4bfe77  61d36f770a1807568ff9a126   \n",
      "2024-01-01 00:03:51   61e9f41bb937134a3c4c0087  634c4de270937fc01c3a74f3   \n",
      "...                                        ...                       ...   \n",
      "2024-05-07 23:59:07  clh6aqawa0002gh0zypfa5dut  634c4de270937fc01c3a7417   \n",
      "2024-05-07 23:59:08   61e9f3aeb937134a3c4bfe43  634c4de270937fc01c3a76a1   \n",
      "2024-05-07 23:59:08   61e9f43db937134a3c4c0169  634c4de270937fc01c3a787b   \n",
      "2024-05-07 23:59:08   61e9f469b937134a3c4c029b  61d3781293c6feb83e5eb73b   \n",
      "2024-05-07 23:59:08   62080cff66fc0a8e43c6123a  61d38528b7b7526e1adf3e6f   \n",
      "\n",
      "                              etaParsed UN_LOCODE ISO  portLongitude  \\\n",
      "time                                                                   \n",
      "2024-01-01 00:00:25 2024-01-09 23:00:00     CLSAI  CL     -71.618889   \n",
      "2024-01-01 00:00:36 2024-12-29 20:00:00     PAPTY  PA     -79.533000   \n",
      "2024-01-01 00:01:45 2024-01-02 09:00:00     USBAL  US     -76.558889   \n",
      "2024-01-01 00:03:11 2024-12-31 20:00:00     AUPKL  AU     150.899444   \n",
      "2024-01-01 00:03:51 2024-01-25 12:00:00     MATNG  MA      -5.817000   \n",
      "...                                 ...       ...  ..            ...   \n",
      "2024-05-07 23:59:07 2024-05-08 05:00:00     IEWCQ  IE      -7.100000   \n",
      "2024-05-07 23:59:08 2024-05-10 03:00:00     PTCAS  PT      -9.417000   \n",
      "2024-05-07 23:59:08 2024-05-15 23:00:00     GBPLV  GB      -5.317000   \n",
      "2024-05-07 23:59:08 2024-05-08 12:45:00     ITCVV  IT      11.780833   \n",
      "2024-05-07 23:59:08 2024-05-07 23:00:00     USILG  US     -75.521667   \n",
      "\n",
      "                     portLatitude  \n",
      "time                               \n",
      "2024-01-01 00:00:25    -33.587500  \n",
      "2024-01-01 00:00:36      8.967000  \n",
      "2024-01-01 00:01:45     39.232500  \n",
      "2024-01-01 00:03:11    -34.462500  \n",
      "2024-01-01 00:03:51     35.783000  \n",
      "...                           ...  \n",
      "2024-05-07 23:59:07     52.250000  \n",
      "2024-05-07 23:59:08     38.700000  \n",
      "2024-05-07 23:59:08     50.083000  \n",
      "2024-05-07 23:59:08     42.098889  \n",
      "2024-05-07 23:59:08     39.716667  \n",
      "\n",
      "[1520450 rows x 14 columns]\n",
      "[====================] 100.0% complete\n"
     ]
    }
   ],
   "source": [
    "def resampler(df, sorting_column, freq):\n",
    "    unique_ids = df[sorting_column].unique()\n",
    "    final_df = pd.DataFrame()\n",
    "    partial_list = []\n",
    "\n",
    "    for i in range(len(unique_ids)):\n",
    "        loadBar.load_bar(len(unique_ids),i+1)\n",
    "        resample_partial = df[df[sorting_column] == unique_ids[i]].resample(freq).last()\n",
    "\n",
    "        resample_partial = fill_with_proximity(resample_partial)\n",
    "        partial_list.append(resample_partial)\n",
    "\n",
    "    for chunk in partial_list:\n",
    "        final_df = pd.concat([final_df,chunk])\n",
    "    \n",
    "    return final_df\n",
    "\n",
    "print(index_data)\n",
    "resampled_data_20min = resampler(index_data, \"vesselId\", \"20min\")\n",
    "\n",
    "resampled_data_20min.to_csv(\"../../Project materials(1)/data_resampled_20min.csv\")"
   ]
  },
  {
   "cell_type": "code",
   "execution_count": 6,
   "metadata": {},
   "outputs": [
    {
     "name": "stdout",
     "output_type": "stream",
     "text": [
      "                       cog   sog  rot  heading  navstat   latitude  \\\n",
      "time                                                                 \n",
      "2024-01-01 00:00:00  284.0   0.7  0.0     88.0      0.0 -34.743700   \n",
      "2024-01-01 00:20:00  284.0   0.7  0.0     88.0      0.0 -34.627229   \n",
      "2024-01-01 00:40:00  284.0   0.7  0.0     88.0      0.0 -34.510757   \n",
      "2024-01-01 01:00:00  284.0   0.7  0.0     88.0      0.0 -34.394286   \n",
      "2024-01-01 01:20:00  284.0   0.7  0.0     88.0      0.0 -34.277814   \n",
      "...                    ...   ...  ...      ...      ...        ...   \n",
      "2024-05-04 04:00:00   60.7  16.0  0.0     54.0      0.0  37.064840   \n",
      "2024-05-04 04:20:00   58.2  15.7  0.0     51.0      0.0  37.110410   \n",
      "2024-05-04 04:40:00   57.7  15.4  0.0     50.0      0.0  37.157450   \n",
      "2024-05-04 05:00:00   58.7  15.1  0.0     48.0      0.0  37.204090   \n",
      "2024-05-04 05:20:00   59.8  14.9  0.0     48.0      0.0  37.222310   \n",
      "\n",
      "                      longitude                  vesselId  \\\n",
      "time                                                        \n",
      "2024-01-01 00:00:00  -57.851300  61e9f3a8b937134a3c4bfdf7   \n",
      "2024-01-01 00:20:00  -57.966135  61e9f3a8b937134a3c4bfdf7   \n",
      "2024-01-01 00:40:00  -58.080969  61e9f3a8b937134a3c4bfdf7   \n",
      "2024-01-01 01:00:00  -58.195804  61e9f3a8b937134a3c4bfdf7   \n",
      "2024-01-01 01:20:00  -58.310639  61e9f3a8b937134a3c4bfdf7   \n",
      "...                         ...                       ...   \n",
      "2024-05-04 04:00:00  144.664350  61e9f47ab937134a3c4c02f7   \n",
      "2024-05-04 04:20:00  144.761650  61e9f47ab937134a3c4c02f7   \n",
      "2024-05-04 04:40:00  144.851640  61e9f47ab937134a3c4c02f7   \n",
      "2024-05-04 05:00:00  144.947320  61e9f47ab937134a3c4c02f7   \n",
      "2024-05-04 05:20:00  144.984520  61e9f47ab937134a3c4c02f7   \n",
      "\n",
      "                                       portId           etaParsed UN_LOCODE  \\\n",
      "time                                                                          \n",
      "2024-01-01 00:00:00  61d371c43aeaecc07011a37f 2024-01-09 23:00:00     CLSAI   \n",
      "2024-01-01 00:20:00  61d371c43aeaecc07011a37f 2024-01-09 23:00:00     CLSAI   \n",
      "2024-01-01 00:40:00  61d371c43aeaecc07011a37f 2024-01-09 23:00:00     CLSAI   \n",
      "2024-01-01 01:00:00  61d371c43aeaecc07011a37f 2024-01-09 23:00:00     CLSAI   \n",
      "2024-01-01 01:20:00  61d371c43aeaecc07011a37f 2024-01-09 23:00:00     CLSAI   \n",
      "...                                       ...                 ...       ...   \n",
      "2024-05-04 04:00:00  61d37a061366c3998241d8f1 2024-05-14 15:00:00     JPISM   \n",
      "2024-05-04 04:20:00  61d37a061366c3998241d8f1 2024-05-14 15:00:00     JPISM   \n",
      "2024-05-04 04:40:00  61d37a061366c3998241d8f1 2024-05-14 15:00:00     JPISM   \n",
      "2024-05-04 05:00:00  61d37a061366c3998241d8f1 2024-05-14 15:00:00     JPISM   \n",
      "2024-05-04 05:20:00  61d37a061366c3998241d8f1 2024-05-14 15:00:00     JPISM   \n",
      "\n",
      "                    ISO  portLongitude  portLatitude  \n",
      "time                                                  \n",
      "2024-01-01 00:00:00  CL     -71.618889    -33.587500  \n",
      "2024-01-01 00:20:00  CL     -71.618889    -33.587500  \n",
      "2024-01-01 00:40:00  CL     -71.618889    -33.587500  \n",
      "2024-01-01 01:00:00  CL     -71.618889    -33.587500  \n",
      "2024-01-01 01:20:00  CL     -71.618889    -33.587500  \n",
      "...                  ..            ...           ...  \n",
      "2024-05-04 04:00:00  JP     141.265833     38.413333  \n",
      "2024-05-04 04:20:00  JP     141.265833     38.413333  \n",
      "2024-05-04 04:40:00  JP     141.265833     38.413333  \n",
      "2024-05-04 05:00:00  JP     141.265833     38.413333  \n",
      "2024-05-04 05:20:00  JP     141.265833     38.413333  \n",
      "\n",
      "[5899721 rows x 14 columns]\n"
     ]
    }
   ],
   "source": [
    "print(resampled_data_20min)"
   ]
  },
  {
   "cell_type": "code",
   "execution_count": 7,
   "metadata": {},
   "outputs": [],
   "source": [
    "class MarkovSquares():\n",
    "\n",
    "    def __init__(self, square_size):\n",
    "        self.square_size = square_size\n",
    "        self.normalized_markov_matrix = None\n",
    "        self.direction_columns = [\"SW\", \"S\", \"SE\", \"W\", \"C\", \"E\", \"NW\", \"N\", \"NE\"]\n",
    "\n",
    "    def markovSquares(self, df, sorting_column):\n",
    "        unique_sorts = df[sorting_column].unique()\n",
    "\n",
    "        markov_matrix = np.zeros((180//self.square_size,360//self.square_size,9))\n",
    "        print(\"Generating Markov Matrix\")\n",
    "        for j, sorts in enumerate(unique_sorts):\n",
    "            \n",
    "            loadBar.load_bar(len(unique_sorts),j)\n",
    "            sort_df = df[df[sorting_column] == sorts]\n",
    "\n",
    "            #Iterate through all columns for input features\n",
    "            for i in range(len(sort_df)-1):\n",
    "                entry1 = sort_df.iloc[i]\n",
    "                entry2 = sort_df.iloc[i+1]\n",
    "\n",
    "                lat1 = entry1[\"latitude\"]\n",
    "                lon1 = entry1[\"longitude\"]\n",
    "\n",
    "                lat2 = entry2[\"latitude\"]\n",
    "                lon2 = entry2[\"longitude\"]\n",
    "\n",
    "                lat_diff = (lat1-lat2)//self.square_size\n",
    "                lon_diff = (lon1-lon2)//self.square_size\n",
    "\n",
    "                inner_idx=self.markov_index_inner(lat_diff, lon_diff)\n",
    "\n",
    "                lat_idx=int(lat1//self.square_size)\n",
    "                lon_idx=int(lon1//self.square_size)\n",
    "            \n",
    "                markov_matrix[lat_idx][lon_idx][inner_idx]+=1\n",
    "            \n",
    "        self.normalized_markov_matrix  = markov_matrix / np.sum(markov_matrix, axis=-1, keepdims=True)\n",
    "\n",
    "    def add_as_columns(self, df):\n",
    "        # Define column names for the new data\n",
    "        column_names = self.direction_columns\n",
    "        \n",
    "        # Initialize a DataFrame to hold the results\n",
    "        results_df = pd.DataFrame(columns=column_names, index=df.index)\n",
    "        \n",
    "        print(\"Adding Markov Squares as columns\")\n",
    "        i=0\n",
    "        for idx, row in df.iterrows():\n",
    "            i+=1\n",
    "            loadBar.load_bar(len(df),i)\n",
    "            # Extract latitude and longitude values\n",
    "            latitude = row[\"latitude\"]\n",
    "            longitude = row[\"longitude\"]\n",
    "            \n",
    "            # Check for NaN values in latitude and longitude\n",
    "            if pd.notna(latitude) and pd.notna(longitude):\n",
    "                # Get the processed values (assumes `get_markov_square` returns a list of 9 values)\n",
    "                processed_values = self.get_markov_square(latitude, longitude)\n",
    "                # Set the result in the corresponding row of results_df\n",
    "                results_df.loc[idx] = processed_values\n",
    "            else:\n",
    "                # Set NaN for each new column if latitude or longitude is NaN\n",
    "                results_df.loc[idx] = [np.nan] * 9\n",
    "\n",
    "        # Concatenate results_df with the original df along the columns axis\n",
    "        df = pd.concat([df, results_df], axis=1)\n",
    "        \n",
    "        return df\n",
    "\n",
    "\n",
    "    def get_markov_square(self, lat, lon):\n",
    "        lat_idx = int(lat//self.square_size)\n",
    "        lon_idx = int(lon//self.square_size)\n",
    "        return self.normalized_markov_matrix[lat_idx][lon_idx]\n",
    "\n",
    "    def markov_index_inner(self, lat_diff, lon_diff):\n",
    "        lat_index = 0 if lat_diff <= -1 else (1 if lat_diff == 0 else 2)\n",
    "        lon_index = 0 if lon_diff <= -1 else (1 if lon_diff == 0 else 2)\n",
    "        index = lat_index * 3 + lon_index\n",
    "        return index"
   ]
  },
  {
   "cell_type": "code",
   "execution_count": 8,
   "metadata": {},
   "outputs": [],
   "source": [
    "total_df = pd.read_csv(\"../../Project materials(1)/data_resampled_20min.csv\")\n",
    "\n",
    "\n",
    "# total_df = pd.read_csv(RESOURCE_FOLDER+\"/resampled_data_h.csv\")\n",
    "\n",
    "total_df['etaParsed'] = pd.to_datetime(total_df['etaParsed'])\n",
    "total_df[\"time\"] = pd.to_datetime(total_df['time'])\n",
    "\n",
    "start_date = pd.to_datetime('2024-01-01')\n",
    "\n",
    "total_df[\"etaParsed\"] = (total_df['etaParsed'] - start_date).dt.days"
   ]
  },
  {
   "cell_type": "code",
   "execution_count": 9,
   "metadata": {},
   "outputs": [],
   "source": [
    "#markov = MarkovSquares(2)\n",
    "#markov.markovSquares(total_df, \"vesselId\")\n",
    "#np.save(\"../../Project materials(1)/markov_matrix.npy\", markov.normalized_markov_matrix)"
   ]
  },
  {
   "cell_type": "code",
   "execution_count": null,
   "metadata": {},
   "outputs": [
    {
     "ename": "AttributeError",
     "evalue": "'numpy.ndarray' object has no attribute 'add_as_columns'",
     "output_type": "error",
     "traceback": [
      "\u001b[0;31m---------------------------------------------------------------------------\u001b[0m",
      "\u001b[0;31mAttributeError\u001b[0m                            Traceback (most recent call last)",
      "Cell \u001b[0;32mIn[10], line 3\u001b[0m\n\u001b[1;32m      1\u001b[0m \u001b[38;5;66;03m#np.save(\"../../Project materials(1)/markov_matrix.npy\", markov.normalized_markov_matrix)\u001b[39;00m\n\u001b[1;32m      2\u001b[0m markov \u001b[38;5;241m=\u001b[39m np\u001b[38;5;241m.\u001b[39mload(\u001b[38;5;124m\"\u001b[39m\u001b[38;5;124m../../Project materials(1)/markov_matrix.npy\u001b[39m\u001b[38;5;124m\"\u001b[39m)\n\u001b[0;32m----> 3\u001b[0m total_df \u001b[38;5;241m=\u001b[39m markov\u001b[38;5;241m.\u001b[39madd_as_columns(total_df)\n",
      "\u001b[0;31mAttributeError\u001b[0m: 'numpy.ndarray' object has no attribute 'add_as_columns'"
     ]
    }
   ],
   "source": [
    "#np.save(\"../../Project materials(1)/markov_matrix.npy\", markov.normalized_markov_matrix)\n",
    "#markov = np.load(\"../../Project materials(1)/markov_matrix.npy\")\n",
    "#total_df = markov.add_as_columns(total_df)"
   ]
  },
  {
   "cell_type": "code",
   "execution_count": 11,
   "metadata": {},
   "outputs": [
    {
     "name": "stdout",
     "output_type": "stream",
     "text": [
      "                 time    cog  sog  rot  heading  navstat   latitude  \\\n",
      "0 2024-01-01 00:00:00  284.0  0.7  0.0     88.0      0.0 -34.743700   \n",
      "1 2024-01-01 00:20:00  284.0  0.7  0.0     88.0      0.0 -34.627229   \n",
      "2 2024-01-01 00:40:00  284.0  0.7  0.0     88.0      0.0 -34.510757   \n",
      "3 2024-01-01 01:00:00  284.0  0.7  0.0     88.0      0.0 -34.394286   \n",
      "4 2024-01-01 01:20:00  284.0  0.7  0.0     88.0      0.0 -34.277814   \n",
      "\n",
      "   longitude                  vesselId                    portId  etaParsed  \\\n",
      "0 -57.851300  61e9f3a8b937134a3c4bfdf7  61d371c43aeaecc07011a37f          8   \n",
      "1 -57.966135  61e9f3a8b937134a3c4bfdf7  61d371c43aeaecc07011a37f          8   \n",
      "2 -58.080969  61e9f3a8b937134a3c4bfdf7  61d371c43aeaecc07011a37f          8   \n",
      "3 -58.195804  61e9f3a8b937134a3c4bfdf7  61d371c43aeaecc07011a37f          8   \n",
      "4 -58.310639  61e9f3a8b937134a3c4bfdf7  61d371c43aeaecc07011a37f          8   \n",
      "\n",
      "  UN_LOCODE ISO  portLongitude  portLatitude  \n",
      "0     CLSAI  CL     -71.618889      -33.5875  \n",
      "1     CLSAI  CL     -71.618889      -33.5875  \n",
      "2     CLSAI  CL     -71.618889      -33.5875  \n",
      "3     CLSAI  CL     -71.618889      -33.5875  \n",
      "4     CLSAI  CL     -71.618889      -33.5875  \n"
     ]
    }
   ],
   "source": [
    "\n",
    "print(total_df.head())"
   ]
  },
  {
   "cell_type": "code",
   "execution_count": 12,
   "metadata": {},
   "outputs": [],
   "source": [
    "\n",
    "time_diffs = total_df[\"time\"].diff()\n",
    "time_interval = time_diffs.dropna().iloc[0]\n",
    "time_interval = int(time_interval.total_seconds()/(60*20))\n",
    "\n",
    "\n",
    "\n",
    "total_df.set_index(\"time\", inplace=True)"
   ]
  },
  {
   "cell_type": "code",
   "execution_count": null,
   "metadata": {},
   "outputs": [
    {
     "ename": "NameError",
     "evalue": "name 'total_df' is not defined",
     "output_type": "error",
     "traceback": [
      "\u001b[0;31m---------------------------------------------------------------------------\u001b[0m",
      "\u001b[0;31mNameError\u001b[0m                                 Traceback (most recent call last)",
      "Cell \u001b[0;32mIn[3], line 1\u001b[0m\n\u001b[0;32m----> 1\u001b[0m total_df\u001b[38;5;241m.\u001b[39mto_csv(\u001b[38;5;124m\"\u001b[39m\u001b[38;5;124m../../Project materials(1)/data_resampled_20min_markov.csv\u001b[39m\u001b[38;5;124m\"\u001b[39m)\n",
      "\u001b[0;31mNameError\u001b[0m: name 'total_df' is not defined"
     ]
    }
   ],
   "source": [
    "total_df.to_csv(\"../../Project materials(1)/data_resampled_20min_markov.csv\")"
   ]
  },
  {
   "cell_type": "code",
   "execution_count": 13,
   "metadata": {},
   "outputs": [
    {
     "name": "stdout",
     "output_type": "stream",
     "text": [
      "Index(['cog', 'sog', 'rot', 'heading', 'navstat', 'latitude', 'longitude',\n",
      "       'vesselId', 'portId', 'etaParsed', 'UN_LOCODE', 'ISO', 'portLongitude',\n",
      "       'portLatitude'],\n",
      "      dtype='object')\n"
     ]
    }
   ],
   "source": [
    "print(total_df.columns)"
   ]
  },
  {
   "cell_type": "code",
   "execution_count": null,
   "metadata": {},
   "outputs": [],
   "source": [
    "total_df = pd.read_csv(\"../../Project materials(1)/data_resampled_20min_markov.csv\")\n",
    "total_df[\"time\"] = pd.to_datetime(total_df['time'])\n",
    "total_df.set_index(\"time\", inplace=True)"
   ]
  },
  {
   "cell_type": "code",
   "execution_count": 5,
   "metadata": {},
   "outputs": [
    {
     "name": "stdout",
     "output_type": "stream",
     "text": [
      "5899721\n",
      "                       cog  sog  rot  heading  navstat   latitude  longitude  \\\n",
      "time                                                                           \n",
      "2024-01-01 00:00:00  284.0  0.7  0.0     88.0      0.0 -34.743700 -57.851300   \n",
      "2024-01-01 00:20:00  284.0  0.7  0.0     88.0      0.0 -34.627229 -57.966135   \n",
      "2024-01-01 00:40:00  284.0  0.7  0.0     88.0      0.0 -34.510757 -58.080969   \n",
      "2024-01-01 01:00:00  284.0  0.7  0.0     88.0      0.0 -34.394286 -58.195804   \n",
      "2024-01-01 01:20:00  284.0  0.7  0.0     88.0      0.0 -34.277814 -58.310639   \n",
      "\n",
      "                                     vesselId                    portId  \\\n",
      "time                                                                      \n",
      "2024-01-01 00:00:00  61e9f3a8b937134a3c4bfdf7  61d371c43aeaecc07011a37f   \n",
      "2024-01-01 00:20:00  61e9f3a8b937134a3c4bfdf7  61d371c43aeaecc07011a37f   \n",
      "2024-01-01 00:40:00  61e9f3a8b937134a3c4bfdf7  61d371c43aeaecc07011a37f   \n",
      "2024-01-01 01:00:00  61e9f3a8b937134a3c4bfdf7  61d371c43aeaecc07011a37f   \n",
      "2024-01-01 01:20:00  61e9f3a8b937134a3c4bfdf7  61d371c43aeaecc07011a37f   \n",
      "\n",
      "                     etaParsed UN_LOCODE ISO  portLongitude  portLatitude  \n",
      "time                                                                       \n",
      "2024-01-01 00:00:00          8     CLSAI  CL     -71.618889      -33.5875  \n",
      "2024-01-01 00:20:00          8     CLSAI  CL     -71.618889      -33.5875  \n",
      "2024-01-01 00:40:00          8     CLSAI  CL     -71.618889      -33.5875  \n",
      "2024-01-01 01:00:00          8     CLSAI  CL     -71.618889      -33.5875  \n",
      "2024-01-01 01:20:00          8     CLSAI  CL     -71.618889      -33.5875  \n"
     ]
    }
   ],
   "source": [
    "print(len(total_df))\n",
    "\n",
    "print(total_df.head())"
   ]
  },
  {
   "cell_type": "code",
   "execution_count": 7,
   "metadata": {},
   "outputs": [],
   "source": [
    "STEPSIZES = [1] #3, 6, 18, 36, 72, 144, 216, 288, 360]\n",
    "OUTPUT_WINDOW = 1\n",
    "INPUT_WINDOW = 4\n",
    "OUTPUT_FORECAST = [\"latitude\", \"longitude\", \"cog\", \"sog\", \"rot\", \"heading\"]"
   ]
  },
  {
   "cell_type": "code",
   "execution_count": 14,
   "metadata": {},
   "outputs": [],
   "source": [
    "#Make time series into supervised problem\n",
    "\n",
    "# 1 = 20 minutes\n",
    "# 3 = 1 hour\n",
    "# 18 = 6 hours\n",
    "# 72 = 24 hours\n",
    "# 144 = 2 days\n",
    "# 216 = 3 days\n",
    "# 288 = 4 days\n",
    "# 360 = 5 days\n",
    "\n",
    "\n",
    "\n",
    "def make_supervised(df, forecast_columns, sorting_column, input_window=1, output_window=1):\n",
    "    \"\"\"\n",
    "    Converts a multivariate time series dataframe into a supervised learning problem.\n",
    "    \n",
    "    Parameters:\n",
    "    df (pd.DataFrame): The original dataframe with time series data.\n",
    "    forecast_columns (list): A list of column names to forecast.\n",
    "    input_window (int): The number of past observations to use as features.\n",
    "    output_window (int): The number of steps to forecast into the future.\n",
    "    \n",
    "    Returns:\n",
    "    pd.DataFrame: A new dataframe with supervised learning format.\n",
    "    \"\"\"\n",
    "    \n",
    "\n",
    "    df_new = pd.DataFrame()\n",
    "    #Put in a for loop here where you iterate over all IDs, to make sure things get correct\n",
    "    unique_sorts = df[sorting_column].unique()\n",
    "\n",
    "    forbidden_cols = [\"vesselId\", \"UN_LOCODE\", \"ISO\", \"portId\", \"etaParsed\"]\n",
    "    \n",
    "    #Iterate through all IDs\n",
    "    print(\"Creating supervised data\")\n",
    "    for i, sorts in enumerate(unique_sorts):\n",
    "        \n",
    "        loadBar.load_bar(len(unique_sorts),i+1)\n",
    "        df_supervised = pd.DataFrame()\n",
    "        sort_df = df[df[sorting_column] == sorts]\n",
    "\n",
    "        #Iterate through all columns for input features\n",
    "        for col in sort_df.columns: \n",
    "            if col in forbidden_cols:\n",
    "                    continue\n",
    "            for i in range(input_window, 0, -1):\n",
    "                df_supervised[f\"{col}_t-{i}\"] = sort_df[col].shift(i)\n",
    "            \n",
    "            df_supervised[f\"{col}_t\"] = sort_df[col]\n",
    "            \n",
    "\n",
    "        # Create columns for forecast (target) with forward shift\n",
    "        for col in forecast_columns:\n",
    "            for j in range(output_window, 0,-1):\n",
    "                df_supervised[f\"{col}_t+{j}\"] = sort_df[col].shift(-j)\n",
    "\n",
    "        df_supervised = df_supervised.dropna()\n",
    "        \n",
    "        df_new = pd.concat([df_new, df_supervised])\n",
    "    \n",
    "    return df_new\n",
    "\n",
    "# total_df = pd.read_csv(\"../../build_resources/data_resampled_20min_markov.csv\")\n",
    "\n"
   ]
  },
  {
   "cell_type": "code",
   "execution_count": 35,
   "metadata": {},
   "outputs": [
    {
     "name": "stdout",
     "output_type": "stream",
     "text": [
      "Creating supervised data\n",
      "[--------------------] 0.72% complete\r"
     ]
    },
    {
     "ename": "KeyboardInterrupt",
     "evalue": "",
     "output_type": "error",
     "traceback": [
      "\u001b[0;31m---------------------------------------------------------------------------\u001b[0m",
      "\u001b[0;31mKeyboardInterrupt\u001b[0m                         Traceback (most recent call last)",
      "Cell \u001b[0;32mIn[35], line 1\u001b[0m\n\u001b[0;32m----> 1\u001b[0m total_df \u001b[38;5;241m=\u001b[39m make_supervised(total_df, OUTPUT_FORECAST, \u001b[38;5;124m\"\u001b[39m\u001b[38;5;124mvesselId\u001b[39m\u001b[38;5;124m\"\u001b[39m, input_window\u001b[38;5;241m=\u001b[39mINPUT_WINDOW, output_window\u001b[38;5;241m=\u001b[39mOUTPUT_WINDOW)\n",
      "Cell \u001b[0;32mIn[17], line 41\u001b[0m, in \u001b[0;36mmake_supervised\u001b[0;34m(df, forecast_columns, sorting_column, input_window, output_window)\u001b[0m\n\u001b[1;32m     39\u001b[0m loadBar\u001b[38;5;241m.\u001b[39mload_bar(\u001b[38;5;28mlen\u001b[39m(unique_sorts),i\u001b[38;5;241m+\u001b[39m\u001b[38;5;241m1\u001b[39m)\n\u001b[1;32m     40\u001b[0m df_supervised \u001b[38;5;241m=\u001b[39m pd\u001b[38;5;241m.\u001b[39mDataFrame()\n\u001b[0;32m---> 41\u001b[0m sort_df \u001b[38;5;241m=\u001b[39m df[df[sorting_column] \u001b[38;5;241m==\u001b[39m sorts]\n\u001b[1;32m     43\u001b[0m \u001b[38;5;66;03m#Iterate through all columns for input features\u001b[39;00m\n\u001b[1;32m     44\u001b[0m \u001b[38;5;28;01mfor\u001b[39;00m col \u001b[38;5;129;01min\u001b[39;00m sort_df\u001b[38;5;241m.\u001b[39mcolumns: \n",
      "File \u001b[0;32m~/anaconda3/lib/python3.12/site-packages/pandas/core/ops/common.py:76\u001b[0m, in \u001b[0;36m_unpack_zerodim_and_defer.<locals>.new_method\u001b[0;34m(self, other)\u001b[0m\n\u001b[1;32m     72\u001b[0m             \u001b[38;5;28;01mreturn\u001b[39;00m \u001b[38;5;28mNotImplemented\u001b[39m\n\u001b[1;32m     74\u001b[0m other \u001b[38;5;241m=\u001b[39m item_from_zerodim(other)\n\u001b[0;32m---> 76\u001b[0m \u001b[38;5;28;01mreturn\u001b[39;00m method(\u001b[38;5;28mself\u001b[39m, other)\n",
      "File \u001b[0;32m~/anaconda3/lib/python3.12/site-packages/pandas/core/arraylike.py:40\u001b[0m, in \u001b[0;36mOpsMixin.__eq__\u001b[0;34m(self, other)\u001b[0m\n\u001b[1;32m     38\u001b[0m \u001b[38;5;129m@unpack_zerodim_and_defer\u001b[39m(\u001b[38;5;124m\"\u001b[39m\u001b[38;5;124m__eq__\u001b[39m\u001b[38;5;124m\"\u001b[39m)\n\u001b[1;32m     39\u001b[0m \u001b[38;5;28;01mdef\u001b[39;00m \u001b[38;5;21m__eq__\u001b[39m(\u001b[38;5;28mself\u001b[39m, other):\n\u001b[0;32m---> 40\u001b[0m     \u001b[38;5;28;01mreturn\u001b[39;00m \u001b[38;5;28mself\u001b[39m\u001b[38;5;241m.\u001b[39m_cmp_method(other, operator\u001b[38;5;241m.\u001b[39meq)\n",
      "File \u001b[0;32m~/anaconda3/lib/python3.12/site-packages/pandas/core/series.py:6119\u001b[0m, in \u001b[0;36mSeries._cmp_method\u001b[0;34m(self, other, op)\u001b[0m\n\u001b[1;32m   6116\u001b[0m lvalues \u001b[38;5;241m=\u001b[39m \u001b[38;5;28mself\u001b[39m\u001b[38;5;241m.\u001b[39m_values\n\u001b[1;32m   6117\u001b[0m rvalues \u001b[38;5;241m=\u001b[39m extract_array(other, extract_numpy\u001b[38;5;241m=\u001b[39m\u001b[38;5;28;01mTrue\u001b[39;00m, extract_range\u001b[38;5;241m=\u001b[39m\u001b[38;5;28;01mTrue\u001b[39;00m)\n\u001b[0;32m-> 6119\u001b[0m res_values \u001b[38;5;241m=\u001b[39m ops\u001b[38;5;241m.\u001b[39mcomparison_op(lvalues, rvalues, op)\n\u001b[1;32m   6121\u001b[0m \u001b[38;5;28;01mreturn\u001b[39;00m \u001b[38;5;28mself\u001b[39m\u001b[38;5;241m.\u001b[39m_construct_result(res_values, name\u001b[38;5;241m=\u001b[39mres_name)\n",
      "File \u001b[0;32m~/anaconda3/lib/python3.12/site-packages/pandas/core/ops/array_ops.py:344\u001b[0m, in \u001b[0;36mcomparison_op\u001b[0;34m(left, right, op)\u001b[0m\n\u001b[1;32m    341\u001b[0m     \u001b[38;5;28;01mreturn\u001b[39;00m invalid_comparison(lvalues, rvalues, op)\n\u001b[1;32m    343\u001b[0m \u001b[38;5;28;01melif\u001b[39;00m lvalues\u001b[38;5;241m.\u001b[39mdtype \u001b[38;5;241m==\u001b[39m \u001b[38;5;28mobject\u001b[39m \u001b[38;5;129;01mor\u001b[39;00m \u001b[38;5;28misinstance\u001b[39m(rvalues, \u001b[38;5;28mstr\u001b[39m):\n\u001b[0;32m--> 344\u001b[0m     res_values \u001b[38;5;241m=\u001b[39m comp_method_OBJECT_ARRAY(op, lvalues, rvalues)\n\u001b[1;32m    346\u001b[0m \u001b[38;5;28;01melse\u001b[39;00m:\n\u001b[1;32m    347\u001b[0m     res_values \u001b[38;5;241m=\u001b[39m _na_arithmetic_op(lvalues, rvalues, op, is_cmp\u001b[38;5;241m=\u001b[39m\u001b[38;5;28;01mTrue\u001b[39;00m)\n",
      "File \u001b[0;32m~/anaconda3/lib/python3.12/site-packages/pandas/core/ops/array_ops.py:129\u001b[0m, in \u001b[0;36mcomp_method_OBJECT_ARRAY\u001b[0;34m(op, x, y)\u001b[0m\n\u001b[1;32m    127\u001b[0m     result \u001b[38;5;241m=\u001b[39m libops\u001b[38;5;241m.\u001b[39mvec_compare(x\u001b[38;5;241m.\u001b[39mravel(), y\u001b[38;5;241m.\u001b[39mravel(), op)\n\u001b[1;32m    128\u001b[0m \u001b[38;5;28;01melse\u001b[39;00m:\n\u001b[0;32m--> 129\u001b[0m     result \u001b[38;5;241m=\u001b[39m libops\u001b[38;5;241m.\u001b[39mscalar_compare(x\u001b[38;5;241m.\u001b[39mravel(), y, op)\n\u001b[1;32m    130\u001b[0m \u001b[38;5;28;01mreturn\u001b[39;00m result\u001b[38;5;241m.\u001b[39mreshape(x\u001b[38;5;241m.\u001b[39mshape)\n",
      "\u001b[0;31mKeyboardInterrupt\u001b[0m: "
     ]
    }
   ],
   "source": [
    "total_df = make_supervised(total_df, OUTPUT_FORECAST, \"vesselId\", input_window=INPUT_WINDOW, output_window=OUTPUT_WINDOW)"
   ]
  },
  {
   "cell_type": "code",
   "execution_count": 18,
   "metadata": {},
   "outputs": [
    {
     "name": "stdout",
     "output_type": "stream",
     "text": [
      "5896285\n",
      "                     cog_t-4  cog_t-3  cog_t-2  cog_t-1  cog_t  sog_t-4  \\\n",
      "time                                                                      \n",
      "2024-01-01 01:20:00    284.0    284.0    284.0    284.0  284.0      0.7   \n",
      "2024-01-01 01:40:00    284.0    284.0    284.0    284.0  284.0      0.7   \n",
      "2024-01-01 02:00:00    284.0    284.0    284.0    284.0  284.0      0.7   \n",
      "2024-01-01 02:20:00    284.0    284.0    284.0    284.0  284.0      0.7   \n",
      "2024-01-01 02:40:00    284.0    284.0    284.0    284.0  284.0      0.7   \n",
      "\n",
      "                     sog_t-3  sog_t-2  sog_t-1  sog_t  ...  portLatitude_t-3  \\\n",
      "time                                                   ...                     \n",
      "2024-01-01 01:20:00      0.7      0.7      0.7    0.7  ...          -33.5875   \n",
      "2024-01-01 01:40:00      0.7      0.7      0.7    0.7  ...          -33.5875   \n",
      "2024-01-01 02:00:00      0.7      0.7      0.7    0.7  ...          -33.5875   \n",
      "2024-01-01 02:20:00      0.7      0.7      0.7    0.7  ...          -33.5875   \n",
      "2024-01-01 02:40:00      0.7      0.7      0.7    0.7  ...          -33.5875   \n",
      "\n",
      "                     portLatitude_t-2  portLatitude_t-1  portLatitude_t  \\\n",
      "time                                                                      \n",
      "2024-01-01 01:20:00          -33.5875          -33.5875        -33.5875   \n",
      "2024-01-01 01:40:00          -33.5875          -33.5875        -33.5875   \n",
      "2024-01-01 02:00:00          -33.5875          -33.5875        -33.5875   \n",
      "2024-01-01 02:20:00          -33.5875          -33.5875        -33.5875   \n",
      "2024-01-01 02:40:00          -33.5875          -33.5875        -33.5875   \n",
      "\n",
      "                     latitude_t+1  longitude_t+1  cog_t+1  sog_t+1  rot_t+1  \\\n",
      "time                                                                          \n",
      "2024-01-01 01:20:00    -34.239269     -58.315756    284.0      0.7      0.0   \n",
      "2024-01-01 01:40:00    -34.309330     -58.167959    284.0      0.7      0.0   \n",
      "2024-01-01 02:00:00    -34.379391     -58.020161    284.0      0.7      0.0   \n",
      "2024-01-01 02:20:00    -34.449452     -57.872364    284.0      0.7      0.0   \n",
      "2024-01-01 02:40:00    -34.519513     -57.724567    284.0      0.7      0.0   \n",
      "\n",
      "                     heading_t+1  \n",
      "time                              \n",
      "2024-01-01 01:20:00         88.0  \n",
      "2024-01-01 01:40:00         88.0  \n",
      "2024-01-01 02:00:00         88.0  \n",
      "2024-01-01 02:20:00         88.0  \n",
      "2024-01-01 02:40:00         88.0  \n",
      "\n",
      "[5 rows x 51 columns]\n"
     ]
    }
   ],
   "source": [
    "print(len(total_df))\n",
    "print(total_df.head())"
   ]
  },
  {
   "cell_type": "code",
   "execution_count": 3,
   "metadata": {},
   "outputs": [],
   "source": [
    "\n",
    "# Display the first few rows of the dataframe\n",
    "# total_df.to_csv(\"../../Project materials(1)/data_resampled_20min_super.csv\")\n",
    "total_df = pd.read_csv(\"../../Project materials(1)/data_resampled_20min_super.csv\")\n",
    "total_df[\"time\"] = pd.to_datetime(total_df['time'])\n",
    "total_df.set_index(\"time\", inplace=True)\n"
   ]
  },
  {
   "cell_type": "code",
   "execution_count": 4,
   "metadata": {},
   "outputs": [
    {
     "name": "stdout",
     "output_type": "stream",
     "text": [
      "5896285\n",
      "                     cog_t-4  sog_t-4  rot_t-4  heading_t-4  navstat_t-4  \\\n",
      "time                                                                       \n",
      "2024-01-01 01:20:00    284.0      0.7      0.0         88.0          0.0   \n",
      "2024-01-01 01:20:00     11.5      0.0      0.0        352.0          5.0   \n",
      "2024-01-01 01:20:00    320.0      1.2      0.0        134.0          0.0   \n",
      "2024-01-01 01:20:00    162.8      9.9      0.0        164.0          0.0   \n",
      "2024-01-01 01:20:00    271.5      0.0      0.0        242.0          5.0   \n",
      "...                      ...      ...      ...          ...          ...   \n",
      "2024-05-07 23:20:00    352.5      0.0      0.0        174.0          5.0   \n",
      "2024-05-07 23:20:00    224.6      0.2      0.0        282.0          1.0   \n",
      "2024-05-07 23:20:00    296.3     14.7      3.0        298.0          0.0   \n",
      "2024-05-07 23:20:00    113.6      0.0      0.0        113.0          5.0   \n",
      "2024-05-07 23:20:00    342.0      7.8      0.0        336.0          0.0   \n",
      "\n",
      "                     latitude_t-4  longitude_t-4  portLongitude_t-4  \\\n",
      "time                                                                  \n",
      "2024-01-01 01:20:00     -34.74370      -57.85130         -71.618889   \n",
      "2024-01-01 01:20:00      44.40593        8.88505           8.916389   \n",
      "2024-01-01 01:20:00      52.32413        2.10535           1.150000   \n",
      "2024-01-01 01:20:00      33.63707     -118.23330        -118.265278   \n",
      "2024-01-01 01:20:00      53.57537        8.56014           8.554722   \n",
      "...                           ...            ...                ...   \n",
      "2024-05-07 23:20:00      43.58091       10.30400          10.303056   \n",
      "2024-05-07 23:20:00       1.17829      103.75309         103.725278   \n",
      "2024-05-07 23:20:00      59.57721       21.54090          22.216389   \n",
      "2024-05-07 23:20:00      10.63965      106.76226         106.720833   \n",
      "2024-05-07 23:20:00      36.86324     -122.49700        -122.210556   \n",
      "\n",
      "                     portLatitude_t-4  cog_t-3  ...  latitude_t  longitude_t  \\\n",
      "time                                            ...                            \n",
      "2024-01-01 01:20:00        -33.587500    284.0  ...  -34.277814   -58.310639   \n",
      "2024-01-01 01:20:00         44.404722     11.5  ...   44.405980     8.885010   \n",
      "2024-01-01 01:20:00         51.800000     75.0  ...   52.332410     2.125100   \n",
      "2024-01-01 01:20:00         33.731944    161.6  ...   33.422470  -118.150390   \n",
      "2024-01-01 01:20:00         53.563611    292.3  ...   53.575360     8.560130   \n",
      "...                               ...      ...  ...         ...          ...   \n",
      "2024-05-07 23:20:00         43.555833    352.5  ...   43.580910    10.304030   \n",
      "2024-05-07 23:20:00          1.292778    238.6  ...    1.178450   103.753070   \n",
      "2024-05-07 23:20:00         60.437778    324.1  ...   59.833160    21.384890   \n",
      "2024-05-07 23:20:00         10.759444    113.6  ...   10.639660   106.762230   \n",
      "2024-05-07 23:20:00         37.511389    339.0  ...   37.035400  -122.565140   \n",
      "\n",
      "                     portLongitude_t  portLatitude_t  latitude_t+1  \\\n",
      "time                                                                 \n",
      "2024-01-01 01:20:00       -71.618889      -33.587500    -34.239269   \n",
      "2024-01-01 01:20:00         8.916389       44.404722     44.405950   \n",
      "2024-01-01 01:20:00         1.150000       51.800000     52.341190   \n",
      "2024-01-01 01:20:00      -117.917000       33.617000     33.369040   \n",
      "2024-01-01 01:20:00         8.554722       53.563611     53.575360   \n",
      "...                              ...             ...           ...   \n",
      "2024-05-07 23:20:00        10.303056       43.555833     43.580910   \n",
      "2024-05-07 23:20:00       103.725278        1.292778      1.178350   \n",
      "2024-05-07 23:20:00        22.216389       60.437778     59.891670   \n",
      "2024-05-07 23:20:00       106.720833       10.759444     10.639660   \n",
      "2024-05-07 23:20:00      -122.210556       37.511389     37.078740   \n",
      "\n",
      "                     longitude_t+1  cog_t+1  sog_t+1  rot_t+1  heading_t+1  \n",
      "time                                                                        \n",
      "2024-01-01 01:20:00     -58.315756    284.0      0.7      0.0         88.0  \n",
      "2024-01-01 01:20:00       8.884960     11.5      0.0      0.0        352.0  \n",
      "2024-01-01 01:20:00       2.126380      2.0      1.8      0.0        145.0  \n",
      "2024-01-01 01:20:00    -118.125150    159.0      9.4      0.0        161.0  \n",
      "2024-01-01 01:20:00       8.560130    255.1      0.0      0.0        242.0  \n",
      "...                            ...      ...      ...      ...          ...  \n",
      "2024-05-07 23:20:00      10.304020    352.5      0.0      0.0        173.0  \n",
      "2024-05-07 23:20:00     103.752370    295.3      0.1      0.0          5.0  \n",
      "2024-05-07 23:20:00      21.546850     53.6     17.7     -1.0         51.0  \n",
      "2024-05-07 23:20:00     106.762210    113.6      0.0      0.0        113.0  \n",
      "2024-05-07 23:20:00    -122.581370    342.2      7.9      0.0        339.0  \n",
      "\n",
      "[5896285 rows x 51 columns]\n"
     ]
    }
   ],
   "source": [
    "\n",
    "\n",
    "#Sorting columns\n",
    "def sort_columns(df):\n",
    "    \n",
    "    # Extract suffixes and assign _t as _t0\n",
    "    columns_with_suffix = []\n",
    "    for col in df.columns:\n",
    "        match = re.search(r\"_t([+-]?\\d*)$\", col)\n",
    "        # If there's no number after _t, treat it as _t0\n",
    "        suffix = int(match.group(1)) if match.group(1) else 0\n",
    "        columns_with_suffix.append((col, suffix))\n",
    "    \n",
    "    # Sort by suffix value (ascending)\n",
    "    sorted_t_columns = [col for col, _ in sorted(columns_with_suffix, key=lambda x: x[1])]\n",
    "    \n",
    "    # Reorder dataframe columns\n",
    "    return df[sorted_t_columns]\n",
    "\n",
    "total_df = total_df.dropna()\n",
    "print(len(total_df))\n",
    "total_df = total_df.sort_index(ascending = True)\n",
    "total_df=sort_columns(total_df)\n",
    "\n",
    "print(total_df)\n",
    "\n"
   ]
  },
  {
   "cell_type": "code",
   "execution_count": 5,
   "metadata": {},
   "outputs": [
    {
     "name": "stdout",
     "output_type": "stream",
     "text": [
      "                     cog_t-4  sog_t-4  rot_t-4  heading_t-4  navstat_t-4  \\\n",
      "time                                                                       \n",
      "2024-01-01 01:20:00    284.0      0.7      0.0         88.0          0.0   \n",
      "2024-01-01 01:20:00     11.5      0.0      0.0        352.0          5.0   \n",
      "2024-01-01 01:20:00    320.0      1.2      0.0        134.0          0.0   \n",
      "2024-01-01 01:20:00    162.8      9.9      0.0        164.0          0.0   \n",
      "2024-01-01 01:20:00    271.5      0.0      0.0        242.0          5.0   \n",
      "\n",
      "                     latitude_t-4  longitude_t-4  portLongitude_t-4  \\\n",
      "time                                                                  \n",
      "2024-01-01 01:20:00     -34.74370      -57.85130         -71.618889   \n",
      "2024-01-01 01:20:00      44.40593        8.88505           8.916389   \n",
      "2024-01-01 01:20:00      52.32413        2.10535           1.150000   \n",
      "2024-01-01 01:20:00      33.63707     -118.23330        -118.265278   \n",
      "2024-01-01 01:20:00      53.57537        8.56014           8.554722   \n",
      "\n",
      "                     portLatitude_t-4  cog_t-3  ...  latitude_t  longitude_t  \\\n",
      "time                                            ...                            \n",
      "2024-01-01 01:20:00        -33.587500    284.0  ...  -34.277814   -58.310639   \n",
      "2024-01-01 01:20:00         44.404722     11.5  ...   44.405980     8.885010   \n",
      "2024-01-01 01:20:00         51.800000     75.0  ...   52.332410     2.125100   \n",
      "2024-01-01 01:20:00         33.731944    161.6  ...   33.422470  -118.150390   \n",
      "2024-01-01 01:20:00         53.563611    292.3  ...   53.575360     8.560130   \n",
      "\n",
      "                     portLongitude_t  portLatitude_t  latitude_t+1  \\\n",
      "time                                                                 \n",
      "2024-01-01 01:20:00       -71.618889      -33.587500    -34.239269   \n",
      "2024-01-01 01:20:00         8.916389       44.404722     44.405950   \n",
      "2024-01-01 01:20:00         1.150000       51.800000     52.341190   \n",
      "2024-01-01 01:20:00      -117.917000       33.617000     33.369040   \n",
      "2024-01-01 01:20:00         8.554722       53.563611     53.575360   \n",
      "\n",
      "                     longitude_t+1  cog_t+1  sog_t+1  rot_t+1  heading_t+1  \n",
      "time                                                                        \n",
      "2024-01-01 01:20:00     -58.315756    284.0      0.7      0.0         88.0  \n",
      "2024-01-01 01:20:00       8.884960     11.5      0.0      0.0        352.0  \n",
      "2024-01-01 01:20:00       2.126380      2.0      1.8      0.0        145.0  \n",
      "2024-01-01 01:20:00    -118.125150    159.0      9.4      0.0        161.0  \n",
      "2024-01-01 01:20:00       8.560130    255.1      0.0      0.0        242.0  \n",
      "\n",
      "[5 rows x 51 columns]\n"
     ]
    }
   ],
   "source": [
    "print(total_df.head()) "
   ]
  },
  {
   "cell_type": "code",
   "execution_count": 8,
   "metadata": {},
   "outputs": [],
   "source": [
    "\n",
    "\n",
    "def train_test_split(df, perc1, perc2, output_window):\n",
    "    y_list = []\n",
    "    for j in range(output_window):\n",
    "        for col in OUTPUT_FORECAST:\n",
    "            y_list.append(f\"{col}_t+{j+1}\")\n",
    "    ys = df[y_list]\n",
    "    Xs = df.drop(columns = y_list)\n",
    "\n",
    "    X_train = Xs.iloc[:int(np.round(Xs.shape[0]*perc1)),:]\n",
    "    y_train = ys.iloc[:int(np.round(Xs.shape[0]*perc1)),:]\n",
    "    X_val = Xs.iloc[int(np.round(Xs.shape[0]*perc1)):int(np.round(Xs.shape[0]*perc2)),:]\n",
    "    y_val = ys.iloc[int(np.round(Xs.shape[0]*perc1)):int(np.round(Xs.shape[0]*perc2)),:]\n",
    "    X_test = Xs.iloc[int(np.round(Xs.shape[0]*perc2)):,:]\n",
    "    y_test = ys.iloc[int(np.round(Xs.shape[0]*perc2)):,:]\n",
    "\n",
    "    return X_train, y_train, X_val, y_val, X_test, y_test\n",
    "\n",
    "\n",
    "\n",
    "X_train, y_train, X_val, y_val, X_test, y_test = train_test_split(total_df, 0.75, 0.85, OUTPUT_WINDOW)\n",
    "\n"
   ]
  },
  {
   "cell_type": "code",
   "execution_count": 9,
   "metadata": {},
   "outputs": [],
   "source": [
    "def evaluate(stepsize, preds, y_val):\n",
    "    print(\"/\"+\"-\"*50+\"\\\\\")\n",
    "    print(\"Evaluating model with stepsize\", stepsize)\n",
    "\n",
    "    results = {\n",
    "        \"MAE\": mean_absolute_error(y_val, preds),\n",
    "        \"MSE\": np.square(np.subtract(y_val,preds)).mean(),\n",
    "        \"R2 Score\": r2_score(y_val, preds),\n",
    "        \"RMSE\": np.sqrt(np.square(np.subtract(y_val,preds)).mean())\n",
    "    }\n",
    "\n",
    "    for metric, value in results.items():\n",
    "        print(f\"{metric}: {value}\")\n",
    "    print(\"\\\\\"+\"-\"*50+\"/\")\n",
    "\n"
   ]
  },
  {
   "cell_type": "code",
   "execution_count": null,
   "metadata": {},
   "outputs": [
    {
     "name": "stdout",
     "output_type": "stream",
     "text": [
      "Fitting 10 folds for each of 20 candidates, totalling 200 fits\n"
     ]
    },
    {
     "ename": "ValueError",
     "evalue": "\nAll the 200 fits failed.\nIt is very likely that your model is misconfigured.\nYou can try to debug the error by setting error_score='raise'.\n\nBelow are more details about the failures:\n--------------------------------------------------------------------------------\n200 fits failed with the following error:\nTraceback (most recent call last):\n  File \"/home/susan-palencia/anaconda3/lib/python3.12/site-packages/sklearn/model_selection/_validation.py\", line 895, in _fit_and_score\n    estimator.fit(X_train, y_train, **fit_params)\n  File \"/home/susan-palencia/anaconda3/lib/python3.12/site-packages/xgboost/core.py\", line 726, in inner_f\n    return func(**kwargs)\n           ^^^^^^^^^^^^^^\nTypeError: XGBRFRegressor.fit() got an unexpected keyword argument 'early_stopping_rounds'\n",
     "output_type": "error",
     "traceback": [
      "\u001b[0;31m---------------------------------------------------------------------------\u001b[0m",
      "\u001b[0;31mValueError\u001b[0m                                Traceback (most recent call last)",
      "Cell \u001b[0;32mIn[10], line 42\u001b[0m\n\u001b[1;32m     31\u001b[0m random_search \u001b[38;5;241m=\u001b[39m RandomizedSearchCV(\n\u001b[1;32m     32\u001b[0m     estimator\u001b[38;5;241m=\u001b[39mmodel,\n\u001b[1;32m     33\u001b[0m     param_distributions\u001b[38;5;241m=\u001b[39mparam_grid,\n\u001b[0;32m   (...)\u001b[0m\n\u001b[1;32m     38\u001b[0m     random_state\u001b[38;5;241m=\u001b[39m\u001b[38;5;241m42\u001b[39m\n\u001b[1;32m     39\u001b[0m )\n\u001b[1;32m     41\u001b[0m \u001b[38;5;66;03m# Fit with early stopping\u001b[39;00m\n\u001b[0;32m---> 42\u001b[0m random_search\u001b[38;5;241m.\u001b[39mfit(X_train, y_train, \u001b[38;5;241m*\u001b[39m\u001b[38;5;241m*\u001b[39mfit_params)\n\u001b[1;32m     44\u001b[0m \u001b[38;5;66;03m# Output best parameters and number of boosting rounds\u001b[39;00m\n\u001b[1;32m     45\u001b[0m best_params \u001b[38;5;241m=\u001b[39m random_search\u001b[38;5;241m.\u001b[39mbest_params_\n",
      "File \u001b[0;32m~/anaconda3/lib/python3.12/site-packages/sklearn/base.py:1474\u001b[0m, in \u001b[0;36m_fit_context.<locals>.decorator.<locals>.wrapper\u001b[0;34m(estimator, *args, **kwargs)\u001b[0m\n\u001b[1;32m   1467\u001b[0m     estimator\u001b[38;5;241m.\u001b[39m_validate_params()\n\u001b[1;32m   1469\u001b[0m \u001b[38;5;28;01mwith\u001b[39;00m config_context(\n\u001b[1;32m   1470\u001b[0m     skip_parameter_validation\u001b[38;5;241m=\u001b[39m(\n\u001b[1;32m   1471\u001b[0m         prefer_skip_nested_validation \u001b[38;5;129;01mor\u001b[39;00m global_skip_validation\n\u001b[1;32m   1472\u001b[0m     )\n\u001b[1;32m   1473\u001b[0m ):\n\u001b[0;32m-> 1474\u001b[0m     \u001b[38;5;28;01mreturn\u001b[39;00m fit_method(estimator, \u001b[38;5;241m*\u001b[39margs, \u001b[38;5;241m*\u001b[39m\u001b[38;5;241m*\u001b[39mkwargs)\n",
      "File \u001b[0;32m~/anaconda3/lib/python3.12/site-packages/sklearn/model_selection/_search.py:970\u001b[0m, in \u001b[0;36mBaseSearchCV.fit\u001b[0;34m(self, X, y, **params)\u001b[0m\n\u001b[1;32m    964\u001b[0m     results \u001b[38;5;241m=\u001b[39m \u001b[38;5;28mself\u001b[39m\u001b[38;5;241m.\u001b[39m_format_results(\n\u001b[1;32m    965\u001b[0m         all_candidate_params, n_splits, all_out, all_more_results\n\u001b[1;32m    966\u001b[0m     )\n\u001b[1;32m    968\u001b[0m     \u001b[38;5;28;01mreturn\u001b[39;00m results\n\u001b[0;32m--> 970\u001b[0m \u001b[38;5;28mself\u001b[39m\u001b[38;5;241m.\u001b[39m_run_search(evaluate_candidates)\n\u001b[1;32m    972\u001b[0m \u001b[38;5;66;03m# multimetric is determined here because in the case of a callable\u001b[39;00m\n\u001b[1;32m    973\u001b[0m \u001b[38;5;66;03m# self.scoring the return type is only known after calling\u001b[39;00m\n\u001b[1;32m    974\u001b[0m first_test_score \u001b[38;5;241m=\u001b[39m all_out[\u001b[38;5;241m0\u001b[39m][\u001b[38;5;124m\"\u001b[39m\u001b[38;5;124mtest_scores\u001b[39m\u001b[38;5;124m\"\u001b[39m]\n",
      "File \u001b[0;32m~/anaconda3/lib/python3.12/site-packages/sklearn/model_selection/_search.py:1914\u001b[0m, in \u001b[0;36mRandomizedSearchCV._run_search\u001b[0;34m(self, evaluate_candidates)\u001b[0m\n\u001b[1;32m   1912\u001b[0m \u001b[38;5;28;01mdef\u001b[39;00m \u001b[38;5;21m_run_search\u001b[39m(\u001b[38;5;28mself\u001b[39m, evaluate_candidates):\n\u001b[1;32m   1913\u001b[0m \u001b[38;5;250m    \u001b[39m\u001b[38;5;124;03m\"\"\"Search n_iter candidates from param_distributions\"\"\"\u001b[39;00m\n\u001b[0;32m-> 1914\u001b[0m     evaluate_candidates(\n\u001b[1;32m   1915\u001b[0m         ParameterSampler(\n\u001b[1;32m   1916\u001b[0m             \u001b[38;5;28mself\u001b[39m\u001b[38;5;241m.\u001b[39mparam_distributions, \u001b[38;5;28mself\u001b[39m\u001b[38;5;241m.\u001b[39mn_iter, random_state\u001b[38;5;241m=\u001b[39m\u001b[38;5;28mself\u001b[39m\u001b[38;5;241m.\u001b[39mrandom_state\n\u001b[1;32m   1917\u001b[0m         )\n\u001b[1;32m   1918\u001b[0m     )\n",
      "File \u001b[0;32m~/anaconda3/lib/python3.12/site-packages/sklearn/model_selection/_search.py:947\u001b[0m, in \u001b[0;36mBaseSearchCV.fit.<locals>.evaluate_candidates\u001b[0;34m(candidate_params, cv, more_results)\u001b[0m\n\u001b[1;32m    940\u001b[0m \u001b[38;5;28;01melif\u001b[39;00m \u001b[38;5;28mlen\u001b[39m(out) \u001b[38;5;241m!=\u001b[39m n_candidates \u001b[38;5;241m*\u001b[39m n_splits:\n\u001b[1;32m    941\u001b[0m     \u001b[38;5;28;01mraise\u001b[39;00m \u001b[38;5;167;01mValueError\u001b[39;00m(\n\u001b[1;32m    942\u001b[0m         \u001b[38;5;124m\"\u001b[39m\u001b[38;5;124mcv.split and cv.get_n_splits returned \u001b[39m\u001b[38;5;124m\"\u001b[39m\n\u001b[1;32m    943\u001b[0m         \u001b[38;5;124m\"\u001b[39m\u001b[38;5;124minconsistent results. Expected \u001b[39m\u001b[38;5;132;01m{}\u001b[39;00m\u001b[38;5;124m \u001b[39m\u001b[38;5;124m\"\u001b[39m\n\u001b[1;32m    944\u001b[0m         \u001b[38;5;124m\"\u001b[39m\u001b[38;5;124msplits, got \u001b[39m\u001b[38;5;132;01m{}\u001b[39;00m\u001b[38;5;124m\"\u001b[39m\u001b[38;5;241m.\u001b[39mformat(n_splits, \u001b[38;5;28mlen\u001b[39m(out) \u001b[38;5;241m/\u001b[39m\u001b[38;5;241m/\u001b[39m n_candidates)\n\u001b[1;32m    945\u001b[0m     )\n\u001b[0;32m--> 947\u001b[0m _warn_or_raise_about_fit_failures(out, \u001b[38;5;28mself\u001b[39m\u001b[38;5;241m.\u001b[39merror_score)\n\u001b[1;32m    949\u001b[0m \u001b[38;5;66;03m# For callable self.scoring, the return type is only know after\u001b[39;00m\n\u001b[1;32m    950\u001b[0m \u001b[38;5;66;03m# calling. If the return type is a dictionary, the error scores\u001b[39;00m\n\u001b[1;32m    951\u001b[0m \u001b[38;5;66;03m# can now be inserted with the correct key. The type checking\u001b[39;00m\n\u001b[1;32m    952\u001b[0m \u001b[38;5;66;03m# of out will be done in `_insert_error_scores`.\u001b[39;00m\n\u001b[1;32m    953\u001b[0m \u001b[38;5;28;01mif\u001b[39;00m \u001b[38;5;28mcallable\u001b[39m(\u001b[38;5;28mself\u001b[39m\u001b[38;5;241m.\u001b[39mscoring):\n",
      "File \u001b[0;32m~/anaconda3/lib/python3.12/site-packages/sklearn/model_selection/_validation.py:536\u001b[0m, in \u001b[0;36m_warn_or_raise_about_fit_failures\u001b[0;34m(results, error_score)\u001b[0m\n\u001b[1;32m    529\u001b[0m \u001b[38;5;28;01mif\u001b[39;00m num_failed_fits \u001b[38;5;241m==\u001b[39m num_fits:\n\u001b[1;32m    530\u001b[0m     all_fits_failed_message \u001b[38;5;241m=\u001b[39m (\n\u001b[1;32m    531\u001b[0m         \u001b[38;5;124mf\u001b[39m\u001b[38;5;124m\"\u001b[39m\u001b[38;5;130;01m\\n\u001b[39;00m\u001b[38;5;124mAll the \u001b[39m\u001b[38;5;132;01m{\u001b[39;00mnum_fits\u001b[38;5;132;01m}\u001b[39;00m\u001b[38;5;124m fits failed.\u001b[39m\u001b[38;5;130;01m\\n\u001b[39;00m\u001b[38;5;124m\"\u001b[39m\n\u001b[1;32m    532\u001b[0m         \u001b[38;5;124m\"\u001b[39m\u001b[38;5;124mIt is very likely that your model is misconfigured.\u001b[39m\u001b[38;5;130;01m\\n\u001b[39;00m\u001b[38;5;124m\"\u001b[39m\n\u001b[1;32m    533\u001b[0m         \u001b[38;5;124m\"\u001b[39m\u001b[38;5;124mYou can try to debug the error by setting error_score=\u001b[39m\u001b[38;5;124m'\u001b[39m\u001b[38;5;124mraise\u001b[39m\u001b[38;5;124m'\u001b[39m\u001b[38;5;124m.\u001b[39m\u001b[38;5;130;01m\\n\u001b[39;00m\u001b[38;5;130;01m\\n\u001b[39;00m\u001b[38;5;124m\"\u001b[39m\n\u001b[1;32m    534\u001b[0m         \u001b[38;5;124mf\u001b[39m\u001b[38;5;124m\"\u001b[39m\u001b[38;5;124mBelow are more details about the failures:\u001b[39m\u001b[38;5;130;01m\\n\u001b[39;00m\u001b[38;5;132;01m{\u001b[39;00mfit_errors_summary\u001b[38;5;132;01m}\u001b[39;00m\u001b[38;5;124m\"\u001b[39m\n\u001b[1;32m    535\u001b[0m     )\n\u001b[0;32m--> 536\u001b[0m     \u001b[38;5;28;01mraise\u001b[39;00m \u001b[38;5;167;01mValueError\u001b[39;00m(all_fits_failed_message)\n\u001b[1;32m    538\u001b[0m \u001b[38;5;28;01melse\u001b[39;00m:\n\u001b[1;32m    539\u001b[0m     some_fits_failed_message \u001b[38;5;241m=\u001b[39m (\n\u001b[1;32m    540\u001b[0m         \u001b[38;5;124mf\u001b[39m\u001b[38;5;124m\"\u001b[39m\u001b[38;5;130;01m\\n\u001b[39;00m\u001b[38;5;132;01m{\u001b[39;00mnum_failed_fits\u001b[38;5;132;01m}\u001b[39;00m\u001b[38;5;124m fits failed out of a total of \u001b[39m\u001b[38;5;132;01m{\u001b[39;00mnum_fits\u001b[38;5;132;01m}\u001b[39;00m\u001b[38;5;124m.\u001b[39m\u001b[38;5;130;01m\\n\u001b[39;00m\u001b[38;5;124m\"\u001b[39m\n\u001b[1;32m    541\u001b[0m         \u001b[38;5;124m\"\u001b[39m\u001b[38;5;124mThe score on these train-test partitions for these parameters\u001b[39m\u001b[38;5;124m\"\u001b[39m\n\u001b[0;32m   (...)\u001b[0m\n\u001b[1;32m    545\u001b[0m         \u001b[38;5;124mf\u001b[39m\u001b[38;5;124m\"\u001b[39m\u001b[38;5;124mBelow are more details about the failures:\u001b[39m\u001b[38;5;130;01m\\n\u001b[39;00m\u001b[38;5;132;01m{\u001b[39;00mfit_errors_summary\u001b[38;5;132;01m}\u001b[39;00m\u001b[38;5;124m\"\u001b[39m\n\u001b[1;32m    546\u001b[0m     )\n",
      "\u001b[0;31mValueError\u001b[0m: \nAll the 200 fits failed.\nIt is very likely that your model is misconfigured.\nYou can try to debug the error by setting error_score='raise'.\n\nBelow are more details about the failures:\n--------------------------------------------------------------------------------\n200 fits failed with the following error:\nTraceback (most recent call last):\n  File \"/home/susan-palencia/anaconda3/lib/python3.12/site-packages/sklearn/model_selection/_validation.py\", line 895, in _fit_and_score\n    estimator.fit(X_train, y_train, **fit_params)\n  File \"/home/susan-palencia/anaconda3/lib/python3.12/site-packages/xgboost/core.py\", line 726, in inner_f\n    return func(**kwargs)\n           ^^^^^^^^^^^^^^\nTypeError: XGBRFRegressor.fit() got an unexpected keyword argument 'early_stopping_rounds'\n"
     ]
    }
   ],
   "source": [
    "#Tuning params\n",
    "# We need to use XGB\n",
    "\n",
    "# Define model with a high num_boost_round\n",
    "model = xgb.XGBRFRegressor(\n",
    "    objective=\"reg:squarederror\",\n",
    "    tree_method=\"hist\",  # or \"hist\" if not using GPU\n",
    "    n_jobs=-1\n",
    ")\n",
    "\n",
    "# Define parameter grid\n",
    "param_grid = {\n",
    "    \"max_depth\": [3, 5, 7],\n",
    "    \"learning_rate\": [1],\n",
    "    \"subsample\": [0.6, 0.8, 1.0],\n",
    "    \"colsample_bynode\": [0.4, 0.6, 0.8],\n",
    "    \"num_parallel_tree\": [50, 100, 200]\n",
    "}\n",
    "\n",
    "# Use TimeSeriesSplit for time series cross-validation\n",
    "tscv = TimeSeriesSplit(n_splits=10)\n",
    "\n",
    "# Set early stopping and validation set in fit parameters\n",
    "fit_params = {\n",
    "    \"eval_set\": [(X_val, y_val)],  # Validation set to monitor performance\n",
    "    \"verbose\": 1\n",
    "}\n",
    "\n",
    "# RandomizedSearchCV with early stopping\n",
    "random_search = RandomizedSearchCV(\n",
    "    estimator=model,\n",
    "    param_distributions=param_grid,\n",
    "    n_iter=20,  # Number of sampled parameter combinations\n",
    "    scoring=\"neg_mean_squared_error\",\n",
    "    cv=tscv,\n",
    "    verbose=1,\n",
    "    random_state=42\n",
    ")\n",
    "\n",
    "# Fit with early stopping\n",
    "random_search.fit(X_train, y_train, **fit_params)\n",
    "\n",
    "# Output best parameters and number of boosting rounds\n",
    "best_params = random_search.best_params_\n",
    "best_num_boost_round = model.get_booster().best_iteration  # Retrieve best boosting rounds\n",
    "print(\"Best parameters:\", best_params)\n",
    "print(\"Best num_boost_round:\", best_num_boost_round)\n"
   ]
  },
  {
   "cell_type": "code",
   "execution_count": 9,
   "metadata": {},
   "outputs": [
    {
     "name": "stdout",
     "output_type": "stream",
     "text": [
      "                     cog_t-4  sog_t-4  rot_t-4  heading_t-4  navstat_t-4  \\\n",
      "time                                                                       \n",
      "2024-01-01 01:20:00    284.0      0.7      0.0         88.0          0.0   \n",
      "2024-01-01 01:20:00     11.5      0.0      0.0        352.0          5.0   \n",
      "2024-01-01 01:20:00    320.0      1.2      0.0        134.0          0.0   \n",
      "2024-01-01 01:20:00    162.8      9.9      0.0        164.0          0.0   \n",
      "2024-01-01 01:20:00    271.5      0.0      0.0        242.0          5.0   \n",
      "...                      ...      ...      ...          ...          ...   \n",
      "2024-04-04 10:20:00    276.0     16.6      0.0        276.0          0.0   \n",
      "2024-04-04 10:20:00    322.1     15.6      0.0        326.0          0.0   \n",
      "2024-04-04 10:20:00    217.7     14.4      0.0        216.0          0.0   \n",
      "2024-04-04 10:20:00    204.6     18.3      0.0        205.0          0.0   \n",
      "2024-04-04 10:20:00    346.9      0.0      0.0        317.0          5.0   \n",
      "\n",
      "                     latitude_t-4  longitude_t-4  portLongitude_t-4  \\\n",
      "time                                                                  \n",
      "2024-01-01 01:20:00    -34.743700     -57.851300         -71.618889   \n",
      "2024-01-01 01:20:00     44.405930       8.885050           8.916389   \n",
      "2024-01-01 01:20:00     52.324130       2.105350           1.150000   \n",
      "2024-01-01 01:20:00     33.637070    -118.233300        -118.265278   \n",
      "2024-01-01 01:20:00     53.575370       8.560140           8.554722   \n",
      "...                           ...            ...                ...   \n",
      "2024-04-04 10:20:00     37.981977       8.333008           9.000000   \n",
      "2024-04-04 10:20:00    -33.567415      16.853843          18.436389   \n",
      "2024-04-04 10:20:00     40.276139     -10.943409          -0.212500   \n",
      "2024-04-04 10:20:00    -26.249571       4.188977        -117.161389   \n",
      "2024-04-04 10:20:00    -23.957620     -46.300340         -46.300833   \n",
      "\n",
      "                     portLatitude_t-4  cog_t-3  ...  portLatitude_t-1  cog_t  \\\n",
      "time                                            ...                            \n",
      "2024-01-01 01:20:00        -33.587500    284.0  ...        -33.587500  284.0   \n",
      "2024-01-01 01:20:00         44.404722     11.5  ...         44.404722   11.5   \n",
      "2024-01-01 01:20:00         51.800000     75.0  ...         51.800000   59.0   \n",
      "2024-01-01 01:20:00         33.731944    161.6  ...         33.617000  158.8   \n",
      "2024-01-01 01:20:00         53.563611    292.3  ...         53.563611  322.1   \n",
      "...                               ...      ...  ...               ...    ...   \n",
      "2024-04-04 10:20:00         39.050000    276.0  ...         39.050000  276.0   \n",
      "2024-04-04 10:20:00        -33.909167    322.1  ...        -33.909167  322.1   \n",
      "2024-04-04 10:20:00         39.642778    217.7  ...         39.642778  217.7   \n",
      "2024-04-04 10:20:00         32.684444    204.6  ...         32.684444  204.6   \n",
      "2024-04-04 10:20:00        -23.968889    346.9  ...        -23.968889  346.9   \n",
      "\n",
      "                     sog_t  rot_t  heading_t  navstat_t  latitude_t  \\\n",
      "time                                                                  \n",
      "2024-01-01 01:20:00    0.7    0.0       88.0        0.0  -34.277814   \n",
      "2024-01-01 01:20:00    0.0   -5.0      352.0        5.0   44.405980   \n",
      "2024-01-01 01:20:00    1.2    0.0      148.0        0.0   52.332410   \n",
      "2024-01-01 01:20:00   10.0    0.0      161.0        0.0   33.422470   \n",
      "2024-01-01 01:20:00    0.0    0.0      242.0        5.0   53.575360   \n",
      "...                    ...    ...        ...        ...         ...   \n",
      "2024-04-04 10:20:00   16.6    0.0      276.0        0.0   38.074675   \n",
      "2024-04-04 10:20:00   15.6    0.0      326.0        0.0  -33.280727   \n",
      "2024-04-04 10:20:00   14.4    0.0      216.0        0.0   39.765644   \n",
      "2024-04-04 10:20:00   18.3    0.0      205.0        0.0  -26.249778   \n",
      "2024-04-04 10:20:00    0.0    0.0      317.0        5.0  -24.231518   \n",
      "\n",
      "                     longitude_t  portLongitude_t  portLatitude_t  \n",
      "time                                                               \n",
      "2024-01-01 01:20:00   -58.310639       -71.618889      -33.587500  \n",
      "2024-01-01 01:20:00     8.885010         8.916389       44.404722  \n",
      "2024-01-01 01:20:00     2.125100         1.150000       51.800000  \n",
      "2024-01-01 01:20:00  -118.150390      -117.917000       33.617000  \n",
      "2024-01-01 01:20:00     8.560130         8.554722       53.563611  \n",
      "...                          ...              ...             ...  \n",
      "2024-04-04 10:20:00     7.820069         9.000000       39.050000  \n",
      "2024-04-04 10:20:00    16.624475        18.436389      -33.909167  \n",
      "2024-04-04 10:20:00   -10.646763        -0.212500       39.642778  \n",
      "2024-04-04 10:20:00     5.066401      -117.161389       32.684444  \n",
      "2024-04-04 10:20:00   -46.300068       -46.300833      -23.968889  \n",
      "\n",
      "[4422214 rows x 45 columns]\n",
      "<xgboost.core.DMatrix object at 0x751110f84260>\n"
     ]
    },
    {
     "name": "stderr",
     "output_type": "stream",
     "text": [
      "/home/susan-palencia/anaconda3/lib/python3.12/site-packages/xgboost/core.py:158: UserWarning: [11:50:51] WARNING: /workspace/src/learner.cc:740: \n",
      "Parameters: { \"col_sample_bynode\", \"tree-method\" } are not used.\n",
      "\n",
      "  warnings.warn(smsg, UserWarning)\n"
     ]
    },
    {
     "name": "stdout",
     "output_type": "stream",
     "text": [
      "[0]\tvalidation-rmse:18.25536\n",
      "[1]\tvalidation-rmse:18.00081\n",
      "[2]\tvalidation-rmse:17.84957\n",
      "[3]\tvalidation-rmse:17.75762\n",
      "[4]\tvalidation-rmse:17.66046\n",
      "[5]\tvalidation-rmse:17.59065\n",
      "[6]\tvalidation-rmse:17.51540\n",
      "[7]\tvalidation-rmse:17.46008\n",
      "[8]\tvalidation-rmse:17.42471\n",
      "[9]\tvalidation-rmse:17.39337\n"
     ]
    }
   ],
   "source": [
    "\n",
    "print(X_train)\n",
    "\n",
    "\n",
    "\n",
    "dtrain = xgb.DMatrix(X_train, label=y_train)\n",
    "dval = xgb.DMatrix(X_val, label=y_val)\n",
    "dtest_X = xgb.DMatrix(X_test)\n",
    "\n",
    "params = {\"objective\": \"reg:squarederror\",\n",
    "            \"max_depth\": 5,\n",
    "            \"booster\": \"gbtree\",\n",
    "            \"tree-method\": \"gpu_hist\",\n",
    "            \"col_sample_bynode\": 0.5,\n",
    "            \"num_parallel_tree\": 100,\n",
    "            \"subsample\": 0.8,\n",
    "            \"learning_rate\": 1,\n",
    "            #\"n_estimators\": 100,\n",
    "            #\"reg_alpha\": 0.1,\n",
    "            #\"reg_lambda\": 0.1,\n",
    "            #\"n_jobs\": -1,\n",
    "            \"verbosity\": 1\n",
    "            }\n",
    "\n",
    "num_boost_round = 10\n",
    "\n",
    "early_stopping_rounds = 2\n",
    "\n",
    "print(dtrain)\n",
    "\n",
    "model = xgb.train(params, dtrain, num_boost_round, evals=[(dval, \"validation\")], early_stopping_rounds=early_stopping_rounds, verbose_eval=True)\n",
    "\n",
    "\n",
    "preds = model.predict(dtest_X)\n",
    "\n"
   ]
  },
  {
   "cell_type": "code",
   "execution_count": 16,
   "metadata": {},
   "outputs": [],
   "source": [
    "def closest_n_min_mark(timestamp, n=1):\n",
    "    timestamp = pd.to_datetime(timestamp)\n",
    "    minutes = timestamp.minute\n",
    "    closest_mark = round(minutes / (n*20)) * n*20\n",
    "    if closest_mark == 60:\n",
    "        rounded_timestamp = timestamp.replace(minute=0, second=0, microsecond=0) + pd.Timedelta(hours=1)\n",
    "    else:\n",
    "        rounded_timestamp = timestamp.replace(minute=closest_mark, second=0, microsecond=0)\n",
    "    \n",
    "    return rounded_timestamp"
   ]
  },
  {
   "cell_type": "code",
   "execution_count": 11,
   "metadata": {},
   "outputs": [],
   "source": [
    "def shift_to_back(process_df):      \n",
    "    for _, col in enumerate(OUTPUT_FORECAST):\n",
    "\n",
    "        max_suffix_neg = 0\n",
    "        max_suffix_pos = 0\n",
    "        \n",
    "        # Identify existing suffixes in the process_df for the current column\n",
    "        while f\"{col}_t-{max_suffix_neg+1}\" in process_df.columns:\n",
    "            max_suffix_neg += 1\n",
    "        while f\"{col}_t+{max_suffix_pos+1}\" in process_df.columns:\n",
    "            max_suffix_pos += 1\n",
    "        for shift in range(max_suffix_neg - 1, -max_suffix_pos, -1):  # Start from max_suffix-1 down to 0\n",
    "            if shift == 0:\n",
    "                # Set the new predicted value as the most recent\n",
    "                process_df[f\"{col}_t\"] = process_df[f\"{col}_t+1\"]\n",
    "            elif shift == 1:\n",
    "                # Shift the column\n",
    "                process_df[f\"{col}_t-{shift}\"] = process_df[f\"{col}_t\"]\n",
    "            elif shift > 1:\n",
    "                # Shift the column\n",
    "                process_df[f\"{col}_t-{shift}\"] = process_df[f\"{col}_t-{shift - 1}\"]\n",
    "            else:\n",
    "                process_df[f\"{col}_t+{-shift}\"] = process_df[f\"{col}_t+{-shift + 1}\"]\n",
    "\n",
    "        for shift in range(1, max_suffix_pos+1):\n",
    "            process_df = process_df.drop(columns=[f\"{col}_t+{shift}\"])\n",
    "    \n",
    "    return process_df\n"
   ]
  },
  {
   "cell_type": "code",
   "execution_count": 12,
   "metadata": {},
   "outputs": [],
   "source": [
    "def predict_far_future(model, features, test_df,  forecast_columns):\n",
    "    \n",
    "    X_test = features.copy().iloc[-1:]\n",
    "    preds = pd.DataFrame(columns=[\"vesselId\", \"approximate_time\"])\n",
    "    \n",
    "    # Determine the furthest time in 20-minute intervals\n",
    "    furthest_time = closest_n_min_mark(test_df[\"time\"].max())\n",
    "    current_time = closest_n_min_mark(X_test.index.max())\n",
    "    \n",
    "    # Generate the future time steps at 20-minute intervals\n",
    "    future_steps = pd.date_range(start=current_time, end=furthest_time, freq='20min')\n",
    "    \n",
    "    for future_time in future_steps:\n",
    "        y_pred = model.predict(xgb.DMatrix(X_test))\n",
    "\n",
    "        new_row = pd.DataFrame({\n",
    "            \"vesselId\": [test_df[\"vesselId\"].iloc[0]],\n",
    "            \"approximate_time\": [future_time]\n",
    "        })\n",
    "        for idx, col in enumerate(forecast_columns):\n",
    "            new_row[f\"{col}\"] = y_pred[0, idx]  # Use the predicted value\n",
    "        #new_row = markov.add_as_columns(new_row)\n",
    "        \n",
    "        \n",
    "        preds = pd.concat([preds, new_row], ignore_index=True)\n",
    "        \n",
    "        # Update X_test for the next iteration\n",
    "        for idx, col in enumerate(forecast_columns):\n",
    "\n",
    "            max_suffix = 0\n",
    "            \n",
    "            # Identify existing suffixes in the X_test for the current column\n",
    "            while f\"{col}_t-{max_suffix+1}\" in X_test.columns:\n",
    "                max_suffix += 1\n",
    "            for shift in range(max_suffix - 1, -1, -1):  # Start from max_suffix-1 down to 0\n",
    "                if shift == 0:\n",
    "                    # Set the new predicted value as the most recent\n",
    "                    X_test[f\"{col}_t\"] = y_pred[0, idx]\n",
    "                elif shift == 1:\n",
    "                    # Shift the column\n",
    "                    X_test[f\"{col}_t-{shift}\"] = X_test[f\"{col}_t\"]\n",
    "                else:\n",
    "                    # Shift the column\n",
    "                    X_test[f\"{col}_t-{shift}\"] = X_test[f\"{col}_t-{shift - 1}\"]\n",
    "    \n",
    "    return preds\n",
    "\n",
    "\n",
    "csv_parser = CSVParser(folderpath=\"../../Project materials(1)\")\n",
    "\n",
    "test_df = csv_parser.retrieve_test_data()\n",
    "\n",
    "\n"
   ]
  },
  {
   "cell_type": "code",
   "execution_count": 18,
   "metadata": {},
   "outputs": [
    {
     "name": "stdout",
     "output_type": "stream",
     "text": [
      "          ID                  vesselId                time  scaling_factor\n",
      "0          0  61e9f3aeb937134a3c4bfe3d 2024-05-08 00:03:16             0.3\n",
      "1          1  61e9f473b937134a3c4c02df 2024-05-08 00:06:17             0.3\n",
      "2          2  61e9f469b937134a3c4c029b 2024-05-08 00:10:02             0.3\n",
      "3          3  61e9f45bb937134a3c4c0221 2024-05-08 00:10:34             0.3\n",
      "4          4  61e9f38eb937134a3c4bfd8d 2024-05-08 00:12:27             0.3\n",
      "...      ...                       ...                 ...             ...\n",
      "51734  51734  61e9f3a8b937134a3c4bfdf3 2024-05-12 23:59:58             0.1\n",
      "51735  51735  61e9f3b4b937134a3c4bfe77 2024-05-12 23:59:58             0.1\n",
      "51736  51736  61e9f46cb937134a3c4c02b7 2024-05-12 23:59:58             0.1\n",
      "51737  51737  61e9f465b937134a3c4c0269 2024-05-12 23:59:58             0.1\n",
      "51738  51738  61e9f3adb937134a3c4bfe39 2024-05-12 23:59:58             0.1\n",
      "\n",
      "[51739 rows x 4 columns]\n",
      "                       cog  sog  rot  heading  navstat   latitude  longitude  \\\n",
      "time                                                                           \n",
      "2024-01-01 00:00:00  284.0  0.7  0.0     88.0      0.0 -34.743700 -57.851300   \n",
      "2024-01-01 00:20:00  284.0  0.7  0.0     88.0      0.0 -34.627229 -57.966135   \n",
      "2024-01-01 00:40:00  284.0  0.7  0.0     88.0      0.0 -34.510757 -58.080969   \n",
      "2024-01-01 01:00:00  284.0  0.7  0.0     88.0      0.0 -34.394286 -58.195804   \n",
      "2024-01-01 01:20:00  284.0  0.7  0.0     88.0      0.0 -34.277814 -58.310639   \n",
      "\n",
      "                                     vesselId                    portId  \\\n",
      "time                                                                      \n",
      "2024-01-01 00:00:00  61e9f3a8b937134a3c4bfdf7  61d371c43aeaecc07011a37f   \n",
      "2024-01-01 00:20:00  61e9f3a8b937134a3c4bfdf7  61d371c43aeaecc07011a37f   \n",
      "2024-01-01 00:40:00  61e9f3a8b937134a3c4bfdf7  61d371c43aeaecc07011a37f   \n",
      "2024-01-01 01:00:00  61e9f3a8b937134a3c4bfdf7  61d371c43aeaecc07011a37f   \n",
      "2024-01-01 01:20:00  61e9f3a8b937134a3c4bfdf7  61d371c43aeaecc07011a37f   \n",
      "\n",
      "                               etaParsed UN_LOCODE ISO  portLongitude  \\\n",
      "time                                                                    \n",
      "2024-01-01 00:00:00  2024-01-09 23:00:00     CLSAI  CL     -71.618889   \n",
      "2024-01-01 00:20:00  2024-01-09 23:00:00     CLSAI  CL     -71.618889   \n",
      "2024-01-01 00:40:00  2024-01-09 23:00:00     CLSAI  CL     -71.618889   \n",
      "2024-01-01 01:00:00  2024-01-09 23:00:00     CLSAI  CL     -71.618889   \n",
      "2024-01-01 01:20:00  2024-01-09 23:00:00     CLSAI  CL     -71.618889   \n",
      "\n",
      "                     portLatitude  \n",
      "time                               \n",
      "2024-01-01 00:00:00      -33.5875  \n",
      "2024-01-01 00:20:00      -33.5875  \n",
      "2024-01-01 00:40:00      -33.5875  \n",
      "2024-01-01 01:00:00      -33.5875  \n",
      "2024-01-01 01:20:00      -33.5875  \n",
      "Creating supervised data\n",
      "[====================] 100.0% complete\n"
     ]
    },
    {
     "name": "stderr",
     "output_type": "stream",
     "text": [
      "/tmp/ipykernel_10545/2888594386.py:25: FutureWarning: The behavior of DataFrame concatenation with empty or all-NA entries is deprecated. In a future version, this will no longer exclude empty or all-NA columns when determining the result dtypes. To retain the old behavior, exclude the relevant entries before the concat operation.\n",
      "  preds = pd.concat([preds, new_row], ignore_index=True)\n"
     ]
    },
    {
     "name": "stdout",
     "output_type": "stream",
     "text": [
      "Creating supervised data\n",
      "[====================] 100.0% complete\n"
     ]
    },
    {
     "name": "stderr",
     "output_type": "stream",
     "text": [
      "/tmp/ipykernel_10545/2888594386.py:25: FutureWarning: The behavior of DataFrame concatenation with empty or all-NA entries is deprecated. In a future version, this will no longer exclude empty or all-NA columns when determining the result dtypes. To retain the old behavior, exclude the relevant entries before the concat operation.\n",
      "  preds = pd.concat([preds, new_row], ignore_index=True)\n"
     ]
    },
    {
     "name": "stdout",
     "output_type": "stream",
     "text": [
      "Creating supervised data\n",
      "[====================] 100.0% complete\n"
     ]
    },
    {
     "name": "stderr",
     "output_type": "stream",
     "text": [
      "/tmp/ipykernel_10545/2888594386.py:25: FutureWarning: The behavior of DataFrame concatenation with empty or all-NA entries is deprecated. In a future version, this will no longer exclude empty or all-NA columns when determining the result dtypes. To retain the old behavior, exclude the relevant entries before the concat operation.\n",
      "  preds = pd.concat([preds, new_row], ignore_index=True)\n"
     ]
    },
    {
     "name": "stdout",
     "output_type": "stream",
     "text": [
      "Creating supervised data\n",
      "[====================] 100.0% complete\n"
     ]
    },
    {
     "name": "stderr",
     "output_type": "stream",
     "text": [
      "/tmp/ipykernel_10545/2888594386.py:25: FutureWarning: The behavior of DataFrame concatenation with empty or all-NA entries is deprecated. In a future version, this will no longer exclude empty or all-NA columns when determining the result dtypes. To retain the old behavior, exclude the relevant entries before the concat operation.\n",
      "  preds = pd.concat([preds, new_row], ignore_index=True)\n"
     ]
    },
    {
     "name": "stdout",
     "output_type": "stream",
     "text": [
      "Creating supervised data\n",
      "[====================] 100.0% complete\n"
     ]
    },
    {
     "name": "stderr",
     "output_type": "stream",
     "text": [
      "/tmp/ipykernel_10545/2888594386.py:25: FutureWarning: The behavior of DataFrame concatenation with empty or all-NA entries is deprecated. In a future version, this will no longer exclude empty or all-NA columns when determining the result dtypes. To retain the old behavior, exclude the relevant entries before the concat operation.\n",
      "  preds = pd.concat([preds, new_row], ignore_index=True)\n"
     ]
    },
    {
     "name": "stdout",
     "output_type": "stream",
     "text": [
      "Creating supervised data\n",
      "[====================] 100.0% complete\n"
     ]
    },
    {
     "name": "stderr",
     "output_type": "stream",
     "text": [
      "/tmp/ipykernel_10545/2888594386.py:25: FutureWarning: The behavior of DataFrame concatenation with empty or all-NA entries is deprecated. In a future version, this will no longer exclude empty or all-NA columns when determining the result dtypes. To retain the old behavior, exclude the relevant entries before the concat operation.\n",
      "  preds = pd.concat([preds, new_row], ignore_index=True)\n"
     ]
    },
    {
     "name": "stdout",
     "output_type": "stream",
     "text": [
      "Creating supervised data\n",
      "[====================] 100.0% complete\n"
     ]
    },
    {
     "name": "stderr",
     "output_type": "stream",
     "text": [
      "/tmp/ipykernel_10545/2888594386.py:25: FutureWarning: The behavior of DataFrame concatenation with empty or all-NA entries is deprecated. In a future version, this will no longer exclude empty or all-NA columns when determining the result dtypes. To retain the old behavior, exclude the relevant entries before the concat operation.\n",
      "  preds = pd.concat([preds, new_row], ignore_index=True)\n"
     ]
    },
    {
     "name": "stdout",
     "output_type": "stream",
     "text": [
      "Creating supervised data\n",
      "[====================] 100.0% complete\n"
     ]
    },
    {
     "name": "stderr",
     "output_type": "stream",
     "text": [
      "/tmp/ipykernel_10545/2888594386.py:25: FutureWarning: The behavior of DataFrame concatenation with empty or all-NA entries is deprecated. In a future version, this will no longer exclude empty or all-NA columns when determining the result dtypes. To retain the old behavior, exclude the relevant entries before the concat operation.\n",
      "  preds = pd.concat([preds, new_row], ignore_index=True)\n"
     ]
    },
    {
     "name": "stdout",
     "output_type": "stream",
     "text": [
      "Creating supervised data\n",
      "[====================] 100.0% complete\n"
     ]
    },
    {
     "name": "stderr",
     "output_type": "stream",
     "text": [
      "/tmp/ipykernel_10545/2888594386.py:25: FutureWarning: The behavior of DataFrame concatenation with empty or all-NA entries is deprecated. In a future version, this will no longer exclude empty or all-NA columns when determining the result dtypes. To retain the old behavior, exclude the relevant entries before the concat operation.\n",
      "  preds = pd.concat([preds, new_row], ignore_index=True)\n"
     ]
    },
    {
     "name": "stdout",
     "output_type": "stream",
     "text": [
      "Creating supervised data\n",
      "[====================] 100.0% complete\n"
     ]
    },
    {
     "name": "stderr",
     "output_type": "stream",
     "text": [
      "/tmp/ipykernel_10545/2888594386.py:25: FutureWarning: The behavior of DataFrame concatenation with empty or all-NA entries is deprecated. In a future version, this will no longer exclude empty or all-NA columns when determining the result dtypes. To retain the old behavior, exclude the relevant entries before the concat operation.\n",
      "  preds = pd.concat([preds, new_row], ignore_index=True)\n"
     ]
    },
    {
     "name": "stdout",
     "output_type": "stream",
     "text": [
      "Creating supervised data\n",
      "[====================] 100.0% complete\n"
     ]
    },
    {
     "name": "stderr",
     "output_type": "stream",
     "text": [
      "/tmp/ipykernel_10545/2888594386.py:25: FutureWarning: The behavior of DataFrame concatenation with empty or all-NA entries is deprecated. In a future version, this will no longer exclude empty or all-NA columns when determining the result dtypes. To retain the old behavior, exclude the relevant entries before the concat operation.\n",
      "  preds = pd.concat([preds, new_row], ignore_index=True)\n"
     ]
    },
    {
     "name": "stdout",
     "output_type": "stream",
     "text": [
      "Creating supervised data\n",
      "[====================] 100.0% complete\n"
     ]
    },
    {
     "name": "stderr",
     "output_type": "stream",
     "text": [
      "/tmp/ipykernel_10545/2888594386.py:25: FutureWarning: The behavior of DataFrame concatenation with empty or all-NA entries is deprecated. In a future version, this will no longer exclude empty or all-NA columns when determining the result dtypes. To retain the old behavior, exclude the relevant entries before the concat operation.\n",
      "  preds = pd.concat([preds, new_row], ignore_index=True)\n"
     ]
    },
    {
     "name": "stdout",
     "output_type": "stream",
     "text": [
      "Creating supervised data\n",
      "[====================] 100.0% complete\n"
     ]
    },
    {
     "name": "stderr",
     "output_type": "stream",
     "text": [
      "/tmp/ipykernel_10545/2888594386.py:25: FutureWarning: The behavior of DataFrame concatenation with empty or all-NA entries is deprecated. In a future version, this will no longer exclude empty or all-NA columns when determining the result dtypes. To retain the old behavior, exclude the relevant entries before the concat operation.\n",
      "  preds = pd.concat([preds, new_row], ignore_index=True)\n"
     ]
    },
    {
     "name": "stdout",
     "output_type": "stream",
     "text": [
      "Creating supervised data\n",
      "[====================] 100.0% complete\n"
     ]
    },
    {
     "name": "stderr",
     "output_type": "stream",
     "text": [
      "/tmp/ipykernel_10545/2888594386.py:25: FutureWarning: The behavior of DataFrame concatenation with empty or all-NA entries is deprecated. In a future version, this will no longer exclude empty or all-NA columns when determining the result dtypes. To retain the old behavior, exclude the relevant entries before the concat operation.\n",
      "  preds = pd.concat([preds, new_row], ignore_index=True)\n"
     ]
    },
    {
     "name": "stdout",
     "output_type": "stream",
     "text": [
      "Creating supervised data\n",
      "[====================] 100.0% complete\n"
     ]
    },
    {
     "name": "stderr",
     "output_type": "stream",
     "text": [
      "/tmp/ipykernel_10545/2888594386.py:25: FutureWarning: The behavior of DataFrame concatenation with empty or all-NA entries is deprecated. In a future version, this will no longer exclude empty or all-NA columns when determining the result dtypes. To retain the old behavior, exclude the relevant entries before the concat operation.\n",
      "  preds = pd.concat([preds, new_row], ignore_index=True)\n"
     ]
    },
    {
     "name": "stdout",
     "output_type": "stream",
     "text": [
      "Creating supervised data\n",
      "[====================] 100.0% complete\n"
     ]
    },
    {
     "name": "stderr",
     "output_type": "stream",
     "text": [
      "/tmp/ipykernel_10545/2888594386.py:25: FutureWarning: The behavior of DataFrame concatenation with empty or all-NA entries is deprecated. In a future version, this will no longer exclude empty or all-NA columns when determining the result dtypes. To retain the old behavior, exclude the relevant entries before the concat operation.\n",
      "  preds = pd.concat([preds, new_row], ignore_index=True)\n"
     ]
    },
    {
     "name": "stdout",
     "output_type": "stream",
     "text": [
      "Creating supervised data\n",
      "[====================] 100.0% complete\n"
     ]
    },
    {
     "name": "stderr",
     "output_type": "stream",
     "text": [
      "/tmp/ipykernel_10545/2888594386.py:25: FutureWarning: The behavior of DataFrame concatenation with empty or all-NA entries is deprecated. In a future version, this will no longer exclude empty or all-NA columns when determining the result dtypes. To retain the old behavior, exclude the relevant entries before the concat operation.\n",
      "  preds = pd.concat([preds, new_row], ignore_index=True)\n"
     ]
    },
    {
     "name": "stdout",
     "output_type": "stream",
     "text": [
      "Creating supervised data\n",
      "[====================] 100.0% complete\n"
     ]
    },
    {
     "name": "stderr",
     "output_type": "stream",
     "text": [
      "/tmp/ipykernel_10545/2888594386.py:25: FutureWarning: The behavior of DataFrame concatenation with empty or all-NA entries is deprecated. In a future version, this will no longer exclude empty or all-NA columns when determining the result dtypes. To retain the old behavior, exclude the relevant entries before the concat operation.\n",
      "  preds = pd.concat([preds, new_row], ignore_index=True)\n"
     ]
    },
    {
     "name": "stdout",
     "output_type": "stream",
     "text": [
      "Creating supervised data\n",
      "[====================] 100.0% complete\n"
     ]
    },
    {
     "name": "stderr",
     "output_type": "stream",
     "text": [
      "/tmp/ipykernel_10545/2888594386.py:25: FutureWarning: The behavior of DataFrame concatenation with empty or all-NA entries is deprecated. In a future version, this will no longer exclude empty or all-NA columns when determining the result dtypes. To retain the old behavior, exclude the relevant entries before the concat operation.\n",
      "  preds = pd.concat([preds, new_row], ignore_index=True)\n"
     ]
    },
    {
     "name": "stdout",
     "output_type": "stream",
     "text": [
      "Creating supervised data\n",
      "[====================] 100.0% complete\n"
     ]
    },
    {
     "name": "stderr",
     "output_type": "stream",
     "text": [
      "/tmp/ipykernel_10545/2888594386.py:25: FutureWarning: The behavior of DataFrame concatenation with empty or all-NA entries is deprecated. In a future version, this will no longer exclude empty or all-NA columns when determining the result dtypes. To retain the old behavior, exclude the relevant entries before the concat operation.\n",
      "  preds = pd.concat([preds, new_row], ignore_index=True)\n"
     ]
    },
    {
     "name": "stdout",
     "output_type": "stream",
     "text": [
      "Creating supervised data\n",
      "[====================] 100.0% complete\n"
     ]
    },
    {
     "name": "stderr",
     "output_type": "stream",
     "text": [
      "/tmp/ipykernel_10545/2888594386.py:25: FutureWarning: The behavior of DataFrame concatenation with empty or all-NA entries is deprecated. In a future version, this will no longer exclude empty or all-NA columns when determining the result dtypes. To retain the old behavior, exclude the relevant entries before the concat operation.\n",
      "  preds = pd.concat([preds, new_row], ignore_index=True)\n"
     ]
    },
    {
     "name": "stdout",
     "output_type": "stream",
     "text": [
      "Creating supervised data\n",
      "[====================] 100.0% complete\n"
     ]
    },
    {
     "name": "stderr",
     "output_type": "stream",
     "text": [
      "/tmp/ipykernel_10545/2888594386.py:25: FutureWarning: The behavior of DataFrame concatenation with empty or all-NA entries is deprecated. In a future version, this will no longer exclude empty or all-NA columns when determining the result dtypes. To retain the old behavior, exclude the relevant entries before the concat operation.\n",
      "  preds = pd.concat([preds, new_row], ignore_index=True)\n"
     ]
    },
    {
     "name": "stdout",
     "output_type": "stream",
     "text": [
      "Creating supervised data\n",
      "[====================] 100.0% complete\n"
     ]
    },
    {
     "name": "stderr",
     "output_type": "stream",
     "text": [
      "/tmp/ipykernel_10545/2888594386.py:25: FutureWarning: The behavior of DataFrame concatenation with empty or all-NA entries is deprecated. In a future version, this will no longer exclude empty or all-NA columns when determining the result dtypes. To retain the old behavior, exclude the relevant entries before the concat operation.\n",
      "  preds = pd.concat([preds, new_row], ignore_index=True)\n"
     ]
    },
    {
     "name": "stdout",
     "output_type": "stream",
     "text": [
      "Creating supervised data\n",
      "[====================] 100.0% complete\n"
     ]
    },
    {
     "name": "stderr",
     "output_type": "stream",
     "text": [
      "/tmp/ipykernel_10545/2888594386.py:25: FutureWarning: The behavior of DataFrame concatenation with empty or all-NA entries is deprecated. In a future version, this will no longer exclude empty or all-NA columns when determining the result dtypes. To retain the old behavior, exclude the relevant entries before the concat operation.\n",
      "  preds = pd.concat([preds, new_row], ignore_index=True)\n"
     ]
    },
    {
     "name": "stdout",
     "output_type": "stream",
     "text": [
      "Creating supervised data\n",
      "[====================] 100.0% complete\n"
     ]
    },
    {
     "name": "stderr",
     "output_type": "stream",
     "text": [
      "/tmp/ipykernel_10545/2888594386.py:25: FutureWarning: The behavior of DataFrame concatenation with empty or all-NA entries is deprecated. In a future version, this will no longer exclude empty or all-NA columns when determining the result dtypes. To retain the old behavior, exclude the relevant entries before the concat operation.\n",
      "  preds = pd.concat([preds, new_row], ignore_index=True)\n"
     ]
    },
    {
     "name": "stdout",
     "output_type": "stream",
     "text": [
      "Creating supervised data\n",
      "[====================] 100.0% complete\n"
     ]
    },
    {
     "name": "stderr",
     "output_type": "stream",
     "text": [
      "/tmp/ipykernel_10545/2888594386.py:25: FutureWarning: The behavior of DataFrame concatenation with empty or all-NA entries is deprecated. In a future version, this will no longer exclude empty or all-NA columns when determining the result dtypes. To retain the old behavior, exclude the relevant entries before the concat operation.\n",
      "  preds = pd.concat([preds, new_row], ignore_index=True)\n"
     ]
    },
    {
     "name": "stdout",
     "output_type": "stream",
     "text": [
      "Creating supervised data\n",
      "[====================] 100.0% complete\n"
     ]
    },
    {
     "name": "stderr",
     "output_type": "stream",
     "text": [
      "/tmp/ipykernel_10545/2888594386.py:25: FutureWarning: The behavior of DataFrame concatenation with empty or all-NA entries is deprecated. In a future version, this will no longer exclude empty or all-NA columns when determining the result dtypes. To retain the old behavior, exclude the relevant entries before the concat operation.\n",
      "  preds = pd.concat([preds, new_row], ignore_index=True)\n"
     ]
    },
    {
     "name": "stdout",
     "output_type": "stream",
     "text": [
      "Creating supervised data\n",
      "[====================] 100.0% complete\n"
     ]
    },
    {
     "name": "stderr",
     "output_type": "stream",
     "text": [
      "/tmp/ipykernel_10545/2888594386.py:25: FutureWarning: The behavior of DataFrame concatenation with empty or all-NA entries is deprecated. In a future version, this will no longer exclude empty or all-NA columns when determining the result dtypes. To retain the old behavior, exclude the relevant entries before the concat operation.\n",
      "  preds = pd.concat([preds, new_row], ignore_index=True)\n"
     ]
    },
    {
     "name": "stdout",
     "output_type": "stream",
     "text": [
      "Creating supervised data\n",
      "[====================] 100.0% complete\n"
     ]
    },
    {
     "name": "stderr",
     "output_type": "stream",
     "text": [
      "/tmp/ipykernel_10545/2888594386.py:25: FutureWarning: The behavior of DataFrame concatenation with empty or all-NA entries is deprecated. In a future version, this will no longer exclude empty or all-NA columns when determining the result dtypes. To retain the old behavior, exclude the relevant entries before the concat operation.\n",
      "  preds = pd.concat([preds, new_row], ignore_index=True)\n"
     ]
    },
    {
     "name": "stdout",
     "output_type": "stream",
     "text": [
      "Creating supervised data\n",
      "[====================] 100.0% complete\n"
     ]
    },
    {
     "name": "stderr",
     "output_type": "stream",
     "text": [
      "/tmp/ipykernel_10545/2888594386.py:25: FutureWarning: The behavior of DataFrame concatenation with empty or all-NA entries is deprecated. In a future version, this will no longer exclude empty or all-NA columns when determining the result dtypes. To retain the old behavior, exclude the relevant entries before the concat operation.\n",
      "  preds = pd.concat([preds, new_row], ignore_index=True)\n"
     ]
    },
    {
     "name": "stdout",
     "output_type": "stream",
     "text": [
      "Creating supervised data\n",
      "[====================] 100.0% complete\n"
     ]
    },
    {
     "name": "stderr",
     "output_type": "stream",
     "text": [
      "/tmp/ipykernel_10545/2888594386.py:25: FutureWarning: The behavior of DataFrame concatenation with empty or all-NA entries is deprecated. In a future version, this will no longer exclude empty or all-NA columns when determining the result dtypes. To retain the old behavior, exclude the relevant entries before the concat operation.\n",
      "  preds = pd.concat([preds, new_row], ignore_index=True)\n"
     ]
    },
    {
     "name": "stdout",
     "output_type": "stream",
     "text": [
      "Creating supervised data\n",
      "[====================] 100.0% complete\n"
     ]
    },
    {
     "name": "stderr",
     "output_type": "stream",
     "text": [
      "/tmp/ipykernel_10545/2888594386.py:25: FutureWarning: The behavior of DataFrame concatenation with empty or all-NA entries is deprecated. In a future version, this will no longer exclude empty or all-NA columns when determining the result dtypes. To retain the old behavior, exclude the relevant entries before the concat operation.\n",
      "  preds = pd.concat([preds, new_row], ignore_index=True)\n"
     ]
    },
    {
     "name": "stdout",
     "output_type": "stream",
     "text": [
      "Creating supervised data\n",
      "[====================] 100.0% complete\n"
     ]
    },
    {
     "name": "stderr",
     "output_type": "stream",
     "text": [
      "/tmp/ipykernel_10545/2888594386.py:25: FutureWarning: The behavior of DataFrame concatenation with empty or all-NA entries is deprecated. In a future version, this will no longer exclude empty or all-NA columns when determining the result dtypes. To retain the old behavior, exclude the relevant entries before the concat operation.\n",
      "  preds = pd.concat([preds, new_row], ignore_index=True)\n"
     ]
    },
    {
     "name": "stdout",
     "output_type": "stream",
     "text": [
      "Creating supervised data\n",
      "[====================] 100.0% complete\n"
     ]
    },
    {
     "name": "stderr",
     "output_type": "stream",
     "text": [
      "/tmp/ipykernel_10545/2888594386.py:25: FutureWarning: The behavior of DataFrame concatenation with empty or all-NA entries is deprecated. In a future version, this will no longer exclude empty or all-NA columns when determining the result dtypes. To retain the old behavior, exclude the relevant entries before the concat operation.\n",
      "  preds = pd.concat([preds, new_row], ignore_index=True)\n"
     ]
    },
    {
     "name": "stdout",
     "output_type": "stream",
     "text": [
      "Creating supervised data\n",
      "[====================] 100.0% complete\n"
     ]
    },
    {
     "name": "stderr",
     "output_type": "stream",
     "text": [
      "/tmp/ipykernel_10545/2888594386.py:25: FutureWarning: The behavior of DataFrame concatenation with empty or all-NA entries is deprecated. In a future version, this will no longer exclude empty or all-NA columns when determining the result dtypes. To retain the old behavior, exclude the relevant entries before the concat operation.\n",
      "  preds = pd.concat([preds, new_row], ignore_index=True)\n"
     ]
    },
    {
     "name": "stdout",
     "output_type": "stream",
     "text": [
      "Creating supervised data\n",
      "[====================] 100.0% complete\n"
     ]
    },
    {
     "name": "stderr",
     "output_type": "stream",
     "text": [
      "/tmp/ipykernel_10545/2888594386.py:25: FutureWarning: The behavior of DataFrame concatenation with empty or all-NA entries is deprecated. In a future version, this will no longer exclude empty or all-NA columns when determining the result dtypes. To retain the old behavior, exclude the relevant entries before the concat operation.\n",
      "  preds = pd.concat([preds, new_row], ignore_index=True)\n"
     ]
    },
    {
     "name": "stdout",
     "output_type": "stream",
     "text": [
      "Creating supervised data\n",
      "[====================] 100.0% complete\n"
     ]
    },
    {
     "name": "stderr",
     "output_type": "stream",
     "text": [
      "/tmp/ipykernel_10545/2888594386.py:25: FutureWarning: The behavior of DataFrame concatenation with empty or all-NA entries is deprecated. In a future version, this will no longer exclude empty or all-NA columns when determining the result dtypes. To retain the old behavior, exclude the relevant entries before the concat operation.\n",
      "  preds = pd.concat([preds, new_row], ignore_index=True)\n"
     ]
    },
    {
     "name": "stdout",
     "output_type": "stream",
     "text": [
      "Creating supervised data\n",
      "[====================] 100.0% complete\n"
     ]
    },
    {
     "name": "stderr",
     "output_type": "stream",
     "text": [
      "/tmp/ipykernel_10545/2888594386.py:25: FutureWarning: The behavior of DataFrame concatenation with empty or all-NA entries is deprecated. In a future version, this will no longer exclude empty or all-NA columns when determining the result dtypes. To retain the old behavior, exclude the relevant entries before the concat operation.\n",
      "  preds = pd.concat([preds, new_row], ignore_index=True)\n"
     ]
    },
    {
     "name": "stdout",
     "output_type": "stream",
     "text": [
      "Creating supervised data\n",
      "[====================] 100.0% complete\n"
     ]
    },
    {
     "name": "stderr",
     "output_type": "stream",
     "text": [
      "/tmp/ipykernel_10545/2888594386.py:25: FutureWarning: The behavior of DataFrame concatenation with empty or all-NA entries is deprecated. In a future version, this will no longer exclude empty or all-NA columns when determining the result dtypes. To retain the old behavior, exclude the relevant entries before the concat operation.\n",
      "  preds = pd.concat([preds, new_row], ignore_index=True)\n"
     ]
    },
    {
     "name": "stdout",
     "output_type": "stream",
     "text": [
      "Creating supervised data\n",
      "[====================] 100.0% complete\n"
     ]
    },
    {
     "name": "stderr",
     "output_type": "stream",
     "text": [
      "/tmp/ipykernel_10545/2888594386.py:25: FutureWarning: The behavior of DataFrame concatenation with empty or all-NA entries is deprecated. In a future version, this will no longer exclude empty or all-NA columns when determining the result dtypes. To retain the old behavior, exclude the relevant entries before the concat operation.\n",
      "  preds = pd.concat([preds, new_row], ignore_index=True)\n"
     ]
    },
    {
     "name": "stdout",
     "output_type": "stream",
     "text": [
      "Creating supervised data\n",
      "[====================] 100.0% complete\n"
     ]
    },
    {
     "name": "stderr",
     "output_type": "stream",
     "text": [
      "/tmp/ipykernel_10545/2888594386.py:25: FutureWarning: The behavior of DataFrame concatenation with empty or all-NA entries is deprecated. In a future version, this will no longer exclude empty or all-NA columns when determining the result dtypes. To retain the old behavior, exclude the relevant entries before the concat operation.\n",
      "  preds = pd.concat([preds, new_row], ignore_index=True)\n"
     ]
    },
    {
     "name": "stdout",
     "output_type": "stream",
     "text": [
      "Creating supervised data\n",
      "[====================] 100.0% complete\n"
     ]
    },
    {
     "name": "stderr",
     "output_type": "stream",
     "text": [
      "/tmp/ipykernel_10545/2888594386.py:25: FutureWarning: The behavior of DataFrame concatenation with empty or all-NA entries is deprecated. In a future version, this will no longer exclude empty or all-NA columns when determining the result dtypes. To retain the old behavior, exclude the relevant entries before the concat operation.\n",
      "  preds = pd.concat([preds, new_row], ignore_index=True)\n"
     ]
    },
    {
     "name": "stdout",
     "output_type": "stream",
     "text": [
      "Creating supervised data\n",
      "[====================] 100.0% complete\n"
     ]
    },
    {
     "name": "stderr",
     "output_type": "stream",
     "text": [
      "/tmp/ipykernel_10545/2888594386.py:25: FutureWarning: The behavior of DataFrame concatenation with empty or all-NA entries is deprecated. In a future version, this will no longer exclude empty or all-NA columns when determining the result dtypes. To retain the old behavior, exclude the relevant entries before the concat operation.\n",
      "  preds = pd.concat([preds, new_row], ignore_index=True)\n"
     ]
    },
    {
     "name": "stdout",
     "output_type": "stream",
     "text": [
      "Creating supervised data\n",
      "[====================] 100.0% complete\n"
     ]
    },
    {
     "name": "stderr",
     "output_type": "stream",
     "text": [
      "/tmp/ipykernel_10545/2888594386.py:25: FutureWarning: The behavior of DataFrame concatenation with empty or all-NA entries is deprecated. In a future version, this will no longer exclude empty or all-NA columns when determining the result dtypes. To retain the old behavior, exclude the relevant entries before the concat operation.\n",
      "  preds = pd.concat([preds, new_row], ignore_index=True)\n"
     ]
    },
    {
     "name": "stdout",
     "output_type": "stream",
     "text": [
      "Creating supervised data\n",
      "[====================] 100.0% complete\n"
     ]
    },
    {
     "name": "stderr",
     "output_type": "stream",
     "text": [
      "/tmp/ipykernel_10545/2888594386.py:25: FutureWarning: The behavior of DataFrame concatenation with empty or all-NA entries is deprecated. In a future version, this will no longer exclude empty or all-NA columns when determining the result dtypes. To retain the old behavior, exclude the relevant entries before the concat operation.\n",
      "  preds = pd.concat([preds, new_row], ignore_index=True)\n"
     ]
    },
    {
     "name": "stdout",
     "output_type": "stream",
     "text": [
      "Creating supervised data\n",
      "[====================] 100.0% complete\n"
     ]
    },
    {
     "name": "stderr",
     "output_type": "stream",
     "text": [
      "/tmp/ipykernel_10545/2888594386.py:25: FutureWarning: The behavior of DataFrame concatenation with empty or all-NA entries is deprecated. In a future version, this will no longer exclude empty or all-NA columns when determining the result dtypes. To retain the old behavior, exclude the relevant entries before the concat operation.\n",
      "  preds = pd.concat([preds, new_row], ignore_index=True)\n"
     ]
    },
    {
     "name": "stdout",
     "output_type": "stream",
     "text": [
      "Creating supervised data\n",
      "[====================] 100.0% complete\n"
     ]
    },
    {
     "name": "stderr",
     "output_type": "stream",
     "text": [
      "/tmp/ipykernel_10545/2888594386.py:25: FutureWarning: The behavior of DataFrame concatenation with empty or all-NA entries is deprecated. In a future version, this will no longer exclude empty or all-NA columns when determining the result dtypes. To retain the old behavior, exclude the relevant entries before the concat operation.\n",
      "  preds = pd.concat([preds, new_row], ignore_index=True)\n"
     ]
    },
    {
     "name": "stdout",
     "output_type": "stream",
     "text": [
      "Creating supervised data\n",
      "[====================] 100.0% complete\n"
     ]
    },
    {
     "name": "stderr",
     "output_type": "stream",
     "text": [
      "/tmp/ipykernel_10545/2888594386.py:25: FutureWarning: The behavior of DataFrame concatenation with empty or all-NA entries is deprecated. In a future version, this will no longer exclude empty or all-NA columns when determining the result dtypes. To retain the old behavior, exclude the relevant entries before the concat operation.\n",
      "  preds = pd.concat([preds, new_row], ignore_index=True)\n"
     ]
    },
    {
     "name": "stdout",
     "output_type": "stream",
     "text": [
      "Creating supervised data\n",
      "[====================] 100.0% complete\n"
     ]
    },
    {
     "name": "stderr",
     "output_type": "stream",
     "text": [
      "/tmp/ipykernel_10545/2888594386.py:25: FutureWarning: The behavior of DataFrame concatenation with empty or all-NA entries is deprecated. In a future version, this will no longer exclude empty or all-NA columns when determining the result dtypes. To retain the old behavior, exclude the relevant entries before the concat operation.\n",
      "  preds = pd.concat([preds, new_row], ignore_index=True)\n"
     ]
    },
    {
     "name": "stdout",
     "output_type": "stream",
     "text": [
      "Creating supervised data\n",
      "[====================] 100.0% complete\n"
     ]
    },
    {
     "name": "stderr",
     "output_type": "stream",
     "text": [
      "/tmp/ipykernel_10545/2888594386.py:25: FutureWarning: The behavior of DataFrame concatenation with empty or all-NA entries is deprecated. In a future version, this will no longer exclude empty or all-NA columns when determining the result dtypes. To retain the old behavior, exclude the relevant entries before the concat operation.\n",
      "  preds = pd.concat([preds, new_row], ignore_index=True)\n"
     ]
    },
    {
     "name": "stdout",
     "output_type": "stream",
     "text": [
      "Creating supervised data\n",
      "[====================] 100.0% complete\n"
     ]
    },
    {
     "name": "stderr",
     "output_type": "stream",
     "text": [
      "/tmp/ipykernel_10545/2888594386.py:25: FutureWarning: The behavior of DataFrame concatenation with empty or all-NA entries is deprecated. In a future version, this will no longer exclude empty or all-NA columns when determining the result dtypes. To retain the old behavior, exclude the relevant entries before the concat operation.\n",
      "  preds = pd.concat([preds, new_row], ignore_index=True)\n"
     ]
    },
    {
     "name": "stdout",
     "output_type": "stream",
     "text": [
      "Creating supervised data\n",
      "[====================] 100.0% complete\n"
     ]
    },
    {
     "name": "stderr",
     "output_type": "stream",
     "text": [
      "/tmp/ipykernel_10545/2888594386.py:25: FutureWarning: The behavior of DataFrame concatenation with empty or all-NA entries is deprecated. In a future version, this will no longer exclude empty or all-NA columns when determining the result dtypes. To retain the old behavior, exclude the relevant entries before the concat operation.\n",
      "  preds = pd.concat([preds, new_row], ignore_index=True)\n"
     ]
    },
    {
     "name": "stdout",
     "output_type": "stream",
     "text": [
      "Creating supervised data\n",
      "[====================] 100.0% complete\n"
     ]
    },
    {
     "name": "stderr",
     "output_type": "stream",
     "text": [
      "/tmp/ipykernel_10545/2888594386.py:25: FutureWarning: The behavior of DataFrame concatenation with empty or all-NA entries is deprecated. In a future version, this will no longer exclude empty or all-NA columns when determining the result dtypes. To retain the old behavior, exclude the relevant entries before the concat operation.\n",
      "  preds = pd.concat([preds, new_row], ignore_index=True)\n"
     ]
    },
    {
     "name": "stdout",
     "output_type": "stream",
     "text": [
      "Creating supervised data\n",
      "[====================] 100.0% complete\n"
     ]
    },
    {
     "name": "stderr",
     "output_type": "stream",
     "text": [
      "/tmp/ipykernel_10545/2888594386.py:25: FutureWarning: The behavior of DataFrame concatenation with empty or all-NA entries is deprecated. In a future version, this will no longer exclude empty or all-NA columns when determining the result dtypes. To retain the old behavior, exclude the relevant entries before the concat operation.\n",
      "  preds = pd.concat([preds, new_row], ignore_index=True)\n"
     ]
    },
    {
     "name": "stdout",
     "output_type": "stream",
     "text": [
      "Creating supervised data\n",
      "[====================] 100.0% complete\n"
     ]
    },
    {
     "name": "stderr",
     "output_type": "stream",
     "text": [
      "/tmp/ipykernel_10545/2888594386.py:25: FutureWarning: The behavior of DataFrame concatenation with empty or all-NA entries is deprecated. In a future version, this will no longer exclude empty or all-NA columns when determining the result dtypes. To retain the old behavior, exclude the relevant entries before the concat operation.\n",
      "  preds = pd.concat([preds, new_row], ignore_index=True)\n"
     ]
    },
    {
     "name": "stdout",
     "output_type": "stream",
     "text": [
      "Creating supervised data\n",
      "[====================] 100.0% complete\n"
     ]
    },
    {
     "name": "stderr",
     "output_type": "stream",
     "text": [
      "/tmp/ipykernel_10545/2888594386.py:25: FutureWarning: The behavior of DataFrame concatenation with empty or all-NA entries is deprecated. In a future version, this will no longer exclude empty or all-NA columns when determining the result dtypes. To retain the old behavior, exclude the relevant entries before the concat operation.\n",
      "  preds = pd.concat([preds, new_row], ignore_index=True)\n"
     ]
    },
    {
     "name": "stdout",
     "output_type": "stream",
     "text": [
      "Creating supervised data\n",
      "[====================] 100.0% complete\n"
     ]
    },
    {
     "name": "stderr",
     "output_type": "stream",
     "text": [
      "/tmp/ipykernel_10545/2888594386.py:25: FutureWarning: The behavior of DataFrame concatenation with empty or all-NA entries is deprecated. In a future version, this will no longer exclude empty or all-NA columns when determining the result dtypes. To retain the old behavior, exclude the relevant entries before the concat operation.\n",
      "  preds = pd.concat([preds, new_row], ignore_index=True)\n"
     ]
    },
    {
     "name": "stdout",
     "output_type": "stream",
     "text": [
      "Creating supervised data\n",
      "[====================] 100.0% complete\n"
     ]
    },
    {
     "name": "stderr",
     "output_type": "stream",
     "text": [
      "/tmp/ipykernel_10545/2888594386.py:25: FutureWarning: The behavior of DataFrame concatenation with empty or all-NA entries is deprecated. In a future version, this will no longer exclude empty or all-NA columns when determining the result dtypes. To retain the old behavior, exclude the relevant entries before the concat operation.\n",
      "  preds = pd.concat([preds, new_row], ignore_index=True)\n"
     ]
    },
    {
     "name": "stdout",
     "output_type": "stream",
     "text": [
      "Creating supervised data\n",
      "[====================] 100.0% complete\n"
     ]
    },
    {
     "name": "stderr",
     "output_type": "stream",
     "text": [
      "/tmp/ipykernel_10545/2888594386.py:25: FutureWarning: The behavior of DataFrame concatenation with empty or all-NA entries is deprecated. In a future version, this will no longer exclude empty or all-NA columns when determining the result dtypes. To retain the old behavior, exclude the relevant entries before the concat operation.\n",
      "  preds = pd.concat([preds, new_row], ignore_index=True)\n"
     ]
    },
    {
     "name": "stdout",
     "output_type": "stream",
     "text": [
      "Creating supervised data\n",
      "[====================] 100.0% complete\n"
     ]
    },
    {
     "name": "stderr",
     "output_type": "stream",
     "text": [
      "/tmp/ipykernel_10545/2888594386.py:25: FutureWarning: The behavior of DataFrame concatenation with empty or all-NA entries is deprecated. In a future version, this will no longer exclude empty or all-NA columns when determining the result dtypes. To retain the old behavior, exclude the relevant entries before the concat operation.\n",
      "  preds = pd.concat([preds, new_row], ignore_index=True)\n"
     ]
    },
    {
     "name": "stdout",
     "output_type": "stream",
     "text": [
      "Creating supervised data\n",
      "[====================] 100.0% complete\n"
     ]
    },
    {
     "name": "stderr",
     "output_type": "stream",
     "text": [
      "/tmp/ipykernel_10545/2888594386.py:25: FutureWarning: The behavior of DataFrame concatenation with empty or all-NA entries is deprecated. In a future version, this will no longer exclude empty or all-NA columns when determining the result dtypes. To retain the old behavior, exclude the relevant entries before the concat operation.\n",
      "  preds = pd.concat([preds, new_row], ignore_index=True)\n"
     ]
    },
    {
     "name": "stdout",
     "output_type": "stream",
     "text": [
      "Creating supervised data\n",
      "[====================] 100.0% complete\n"
     ]
    },
    {
     "name": "stderr",
     "output_type": "stream",
     "text": [
      "/tmp/ipykernel_10545/2888594386.py:25: FutureWarning: The behavior of DataFrame concatenation with empty or all-NA entries is deprecated. In a future version, this will no longer exclude empty or all-NA columns when determining the result dtypes. To retain the old behavior, exclude the relevant entries before the concat operation.\n",
      "  preds = pd.concat([preds, new_row], ignore_index=True)\n"
     ]
    },
    {
     "name": "stdout",
     "output_type": "stream",
     "text": [
      "Creating supervised data\n",
      "[====================] 100.0% complete\n"
     ]
    },
    {
     "name": "stderr",
     "output_type": "stream",
     "text": [
      "/tmp/ipykernel_10545/2888594386.py:25: FutureWarning: The behavior of DataFrame concatenation with empty or all-NA entries is deprecated. In a future version, this will no longer exclude empty or all-NA columns when determining the result dtypes. To retain the old behavior, exclude the relevant entries before the concat operation.\n",
      "  preds = pd.concat([preds, new_row], ignore_index=True)\n"
     ]
    },
    {
     "name": "stdout",
     "output_type": "stream",
     "text": [
      "Creating supervised data\n",
      "[====================] 100.0% complete\n"
     ]
    },
    {
     "name": "stderr",
     "output_type": "stream",
     "text": [
      "/tmp/ipykernel_10545/2888594386.py:25: FutureWarning: The behavior of DataFrame concatenation with empty or all-NA entries is deprecated. In a future version, this will no longer exclude empty or all-NA columns when determining the result dtypes. To retain the old behavior, exclude the relevant entries before the concat operation.\n",
      "  preds = pd.concat([preds, new_row], ignore_index=True)\n"
     ]
    },
    {
     "name": "stdout",
     "output_type": "stream",
     "text": [
      "Creating supervised data\n",
      "[====================] 100.0% complete\n"
     ]
    },
    {
     "name": "stderr",
     "output_type": "stream",
     "text": [
      "/tmp/ipykernel_10545/2888594386.py:25: FutureWarning: The behavior of DataFrame concatenation with empty or all-NA entries is deprecated. In a future version, this will no longer exclude empty or all-NA columns when determining the result dtypes. To retain the old behavior, exclude the relevant entries before the concat operation.\n",
      "  preds = pd.concat([preds, new_row], ignore_index=True)\n"
     ]
    },
    {
     "name": "stdout",
     "output_type": "stream",
     "text": [
      "Creating supervised data\n",
      "[====================] 100.0% complete\n"
     ]
    },
    {
     "name": "stderr",
     "output_type": "stream",
     "text": [
      "/tmp/ipykernel_10545/2888594386.py:25: FutureWarning: The behavior of DataFrame concatenation with empty or all-NA entries is deprecated. In a future version, this will no longer exclude empty or all-NA columns when determining the result dtypes. To retain the old behavior, exclude the relevant entries before the concat operation.\n",
      "  preds = pd.concat([preds, new_row], ignore_index=True)\n"
     ]
    },
    {
     "name": "stdout",
     "output_type": "stream",
     "text": [
      "Creating supervised data\n",
      "[====================] 100.0% complete\n"
     ]
    },
    {
     "name": "stderr",
     "output_type": "stream",
     "text": [
      "/tmp/ipykernel_10545/2888594386.py:25: FutureWarning: The behavior of DataFrame concatenation with empty or all-NA entries is deprecated. In a future version, this will no longer exclude empty or all-NA columns when determining the result dtypes. To retain the old behavior, exclude the relevant entries before the concat operation.\n",
      "  preds = pd.concat([preds, new_row], ignore_index=True)\n"
     ]
    },
    {
     "name": "stdout",
     "output_type": "stream",
     "text": [
      "Creating supervised data\n",
      "[====================] 100.0% complete\n"
     ]
    },
    {
     "name": "stderr",
     "output_type": "stream",
     "text": [
      "/tmp/ipykernel_10545/2888594386.py:25: FutureWarning: The behavior of DataFrame concatenation with empty or all-NA entries is deprecated. In a future version, this will no longer exclude empty or all-NA columns when determining the result dtypes. To retain the old behavior, exclude the relevant entries before the concat operation.\n",
      "  preds = pd.concat([preds, new_row], ignore_index=True)\n"
     ]
    },
    {
     "name": "stdout",
     "output_type": "stream",
     "text": [
      "Creating supervised data\n",
      "[====================] 100.0% complete\n"
     ]
    },
    {
     "name": "stderr",
     "output_type": "stream",
     "text": [
      "/tmp/ipykernel_10545/2888594386.py:25: FutureWarning: The behavior of DataFrame concatenation with empty or all-NA entries is deprecated. In a future version, this will no longer exclude empty or all-NA columns when determining the result dtypes. To retain the old behavior, exclude the relevant entries before the concat operation.\n",
      "  preds = pd.concat([preds, new_row], ignore_index=True)\n"
     ]
    },
    {
     "name": "stdout",
     "output_type": "stream",
     "text": [
      "Creating supervised data\n",
      "[====================] 100.0% complete\n"
     ]
    },
    {
     "name": "stderr",
     "output_type": "stream",
     "text": [
      "/tmp/ipykernel_10545/2888594386.py:25: FutureWarning: The behavior of DataFrame concatenation with empty or all-NA entries is deprecated. In a future version, this will no longer exclude empty or all-NA columns when determining the result dtypes. To retain the old behavior, exclude the relevant entries before the concat operation.\n",
      "  preds = pd.concat([preds, new_row], ignore_index=True)\n"
     ]
    },
    {
     "name": "stdout",
     "output_type": "stream",
     "text": [
      "Creating supervised data\n",
      "[====================] 100.0% complete\n"
     ]
    },
    {
     "name": "stderr",
     "output_type": "stream",
     "text": [
      "/tmp/ipykernel_10545/2888594386.py:25: FutureWarning: The behavior of DataFrame concatenation with empty or all-NA entries is deprecated. In a future version, this will no longer exclude empty or all-NA columns when determining the result dtypes. To retain the old behavior, exclude the relevant entries before the concat operation.\n",
      "  preds = pd.concat([preds, new_row], ignore_index=True)\n"
     ]
    },
    {
     "name": "stdout",
     "output_type": "stream",
     "text": [
      "Creating supervised data\n",
      "[====================] 100.0% complete\n"
     ]
    },
    {
     "name": "stderr",
     "output_type": "stream",
     "text": [
      "/tmp/ipykernel_10545/2888594386.py:25: FutureWarning: The behavior of DataFrame concatenation with empty or all-NA entries is deprecated. In a future version, this will no longer exclude empty or all-NA columns when determining the result dtypes. To retain the old behavior, exclude the relevant entries before the concat operation.\n",
      "  preds = pd.concat([preds, new_row], ignore_index=True)\n"
     ]
    },
    {
     "name": "stdout",
     "output_type": "stream",
     "text": [
      "Creating supervised data\n",
      "[====================] 100.0% complete\n"
     ]
    },
    {
     "name": "stderr",
     "output_type": "stream",
     "text": [
      "/tmp/ipykernel_10545/2888594386.py:25: FutureWarning: The behavior of DataFrame concatenation with empty or all-NA entries is deprecated. In a future version, this will no longer exclude empty or all-NA columns when determining the result dtypes. To retain the old behavior, exclude the relevant entries before the concat operation.\n",
      "  preds = pd.concat([preds, new_row], ignore_index=True)\n"
     ]
    },
    {
     "name": "stdout",
     "output_type": "stream",
     "text": [
      "Creating supervised data\n",
      "[====================] 100.0% complete\n"
     ]
    },
    {
     "name": "stderr",
     "output_type": "stream",
     "text": [
      "/tmp/ipykernel_10545/2888594386.py:25: FutureWarning: The behavior of DataFrame concatenation with empty or all-NA entries is deprecated. In a future version, this will no longer exclude empty or all-NA columns when determining the result dtypes. To retain the old behavior, exclude the relevant entries before the concat operation.\n",
      "  preds = pd.concat([preds, new_row], ignore_index=True)\n"
     ]
    },
    {
     "name": "stdout",
     "output_type": "stream",
     "text": [
      "Creating supervised data\n",
      "[====================] 100.0% complete\n"
     ]
    },
    {
     "name": "stderr",
     "output_type": "stream",
     "text": [
      "/tmp/ipykernel_10545/2888594386.py:25: FutureWarning: The behavior of DataFrame concatenation with empty or all-NA entries is deprecated. In a future version, this will no longer exclude empty or all-NA columns when determining the result dtypes. To retain the old behavior, exclude the relevant entries before the concat operation.\n",
      "  preds = pd.concat([preds, new_row], ignore_index=True)\n"
     ]
    },
    {
     "name": "stdout",
     "output_type": "stream",
     "text": [
      "Creating supervised data\n",
      "[====================] 100.0% complete\n"
     ]
    },
    {
     "name": "stderr",
     "output_type": "stream",
     "text": [
      "/tmp/ipykernel_10545/2888594386.py:25: FutureWarning: The behavior of DataFrame concatenation with empty or all-NA entries is deprecated. In a future version, this will no longer exclude empty or all-NA columns when determining the result dtypes. To retain the old behavior, exclude the relevant entries before the concat operation.\n",
      "  preds = pd.concat([preds, new_row], ignore_index=True)\n"
     ]
    },
    {
     "name": "stdout",
     "output_type": "stream",
     "text": [
      "Creating supervised data\n",
      "[====================] 100.0% complete\n"
     ]
    },
    {
     "name": "stderr",
     "output_type": "stream",
     "text": [
      "/tmp/ipykernel_10545/2888594386.py:25: FutureWarning: The behavior of DataFrame concatenation with empty or all-NA entries is deprecated. In a future version, this will no longer exclude empty or all-NA columns when determining the result dtypes. To retain the old behavior, exclude the relevant entries before the concat operation.\n",
      "  preds = pd.concat([preds, new_row], ignore_index=True)\n"
     ]
    },
    {
     "name": "stdout",
     "output_type": "stream",
     "text": [
      "Creating supervised data\n",
      "[====================] 100.0% complete\n"
     ]
    },
    {
     "name": "stderr",
     "output_type": "stream",
     "text": [
      "/tmp/ipykernel_10545/2888594386.py:25: FutureWarning: The behavior of DataFrame concatenation with empty or all-NA entries is deprecated. In a future version, this will no longer exclude empty or all-NA columns when determining the result dtypes. To retain the old behavior, exclude the relevant entries before the concat operation.\n",
      "  preds = pd.concat([preds, new_row], ignore_index=True)\n"
     ]
    },
    {
     "name": "stdout",
     "output_type": "stream",
     "text": [
      "Creating supervised data\n",
      "[====================] 100.0% complete\n"
     ]
    },
    {
     "name": "stderr",
     "output_type": "stream",
     "text": [
      "/tmp/ipykernel_10545/2888594386.py:25: FutureWarning: The behavior of DataFrame concatenation with empty or all-NA entries is deprecated. In a future version, this will no longer exclude empty or all-NA columns when determining the result dtypes. To retain the old behavior, exclude the relevant entries before the concat operation.\n",
      "  preds = pd.concat([preds, new_row], ignore_index=True)\n"
     ]
    },
    {
     "name": "stdout",
     "output_type": "stream",
     "text": [
      "Creating supervised data\n",
      "[====================] 100.0% complete\n"
     ]
    },
    {
     "name": "stderr",
     "output_type": "stream",
     "text": [
      "/tmp/ipykernel_10545/2888594386.py:25: FutureWarning: The behavior of DataFrame concatenation with empty or all-NA entries is deprecated. In a future version, this will no longer exclude empty or all-NA columns when determining the result dtypes. To retain the old behavior, exclude the relevant entries before the concat operation.\n",
      "  preds = pd.concat([preds, new_row], ignore_index=True)\n"
     ]
    },
    {
     "name": "stdout",
     "output_type": "stream",
     "text": [
      "Creating supervised data\n",
      "[====================] 100.0% complete\n"
     ]
    },
    {
     "name": "stderr",
     "output_type": "stream",
     "text": [
      "/tmp/ipykernel_10545/2888594386.py:25: FutureWarning: The behavior of DataFrame concatenation with empty or all-NA entries is deprecated. In a future version, this will no longer exclude empty or all-NA columns when determining the result dtypes. To retain the old behavior, exclude the relevant entries before the concat operation.\n",
      "  preds = pd.concat([preds, new_row], ignore_index=True)\n"
     ]
    },
    {
     "name": "stdout",
     "output_type": "stream",
     "text": [
      "Creating supervised data\n",
      "[====================] 100.0% complete\n"
     ]
    },
    {
     "name": "stderr",
     "output_type": "stream",
     "text": [
      "/tmp/ipykernel_10545/2888594386.py:25: FutureWarning: The behavior of DataFrame concatenation with empty or all-NA entries is deprecated. In a future version, this will no longer exclude empty or all-NA columns when determining the result dtypes. To retain the old behavior, exclude the relevant entries before the concat operation.\n",
      "  preds = pd.concat([preds, new_row], ignore_index=True)\n"
     ]
    },
    {
     "name": "stdout",
     "output_type": "stream",
     "text": [
      "Creating supervised data\n",
      "[====================] 100.0% complete\n"
     ]
    },
    {
     "name": "stderr",
     "output_type": "stream",
     "text": [
      "/tmp/ipykernel_10545/2888594386.py:25: FutureWarning: The behavior of DataFrame concatenation with empty or all-NA entries is deprecated. In a future version, this will no longer exclude empty or all-NA columns when determining the result dtypes. To retain the old behavior, exclude the relevant entries before the concat operation.\n",
      "  preds = pd.concat([preds, new_row], ignore_index=True)\n"
     ]
    },
    {
     "name": "stdout",
     "output_type": "stream",
     "text": [
      "Creating supervised data\n",
      "[====================] 100.0% complete\n"
     ]
    },
    {
     "name": "stderr",
     "output_type": "stream",
     "text": [
      "/tmp/ipykernel_10545/2888594386.py:25: FutureWarning: The behavior of DataFrame concatenation with empty or all-NA entries is deprecated. In a future version, this will no longer exclude empty or all-NA columns when determining the result dtypes. To retain the old behavior, exclude the relevant entries before the concat operation.\n",
      "  preds = pd.concat([preds, new_row], ignore_index=True)\n"
     ]
    },
    {
     "name": "stdout",
     "output_type": "stream",
     "text": [
      "Creating supervised data\n",
      "[====================] 100.0% complete\n"
     ]
    },
    {
     "name": "stderr",
     "output_type": "stream",
     "text": [
      "/tmp/ipykernel_10545/2888594386.py:25: FutureWarning: The behavior of DataFrame concatenation with empty or all-NA entries is deprecated. In a future version, this will no longer exclude empty or all-NA columns when determining the result dtypes. To retain the old behavior, exclude the relevant entries before the concat operation.\n",
      "  preds = pd.concat([preds, new_row], ignore_index=True)\n"
     ]
    },
    {
     "name": "stdout",
     "output_type": "stream",
     "text": [
      "Creating supervised data\n",
      "[====================] 100.0% complete\n"
     ]
    },
    {
     "name": "stderr",
     "output_type": "stream",
     "text": [
      "/tmp/ipykernel_10545/2888594386.py:25: FutureWarning: The behavior of DataFrame concatenation with empty or all-NA entries is deprecated. In a future version, this will no longer exclude empty or all-NA columns when determining the result dtypes. To retain the old behavior, exclude the relevant entries before the concat operation.\n",
      "  preds = pd.concat([preds, new_row], ignore_index=True)\n"
     ]
    },
    {
     "name": "stdout",
     "output_type": "stream",
     "text": [
      "Creating supervised data\n",
      "[====================] 100.0% complete\n"
     ]
    },
    {
     "name": "stderr",
     "output_type": "stream",
     "text": [
      "/tmp/ipykernel_10545/2888594386.py:25: FutureWarning: The behavior of DataFrame concatenation with empty or all-NA entries is deprecated. In a future version, this will no longer exclude empty or all-NA columns when determining the result dtypes. To retain the old behavior, exclude the relevant entries before the concat operation.\n",
      "  preds = pd.concat([preds, new_row], ignore_index=True)\n"
     ]
    },
    {
     "name": "stdout",
     "output_type": "stream",
     "text": [
      "Creating supervised data\n",
      "[====================] 100.0% complete\n"
     ]
    },
    {
     "name": "stderr",
     "output_type": "stream",
     "text": [
      "/tmp/ipykernel_10545/2888594386.py:25: FutureWarning: The behavior of DataFrame concatenation with empty or all-NA entries is deprecated. In a future version, this will no longer exclude empty or all-NA columns when determining the result dtypes. To retain the old behavior, exclude the relevant entries before the concat operation.\n",
      "  preds = pd.concat([preds, new_row], ignore_index=True)\n"
     ]
    },
    {
     "name": "stdout",
     "output_type": "stream",
     "text": [
      "Creating supervised data\n",
      "[====================] 100.0% complete\n"
     ]
    },
    {
     "name": "stderr",
     "output_type": "stream",
     "text": [
      "/tmp/ipykernel_10545/2888594386.py:25: FutureWarning: The behavior of DataFrame concatenation with empty or all-NA entries is deprecated. In a future version, this will no longer exclude empty or all-NA columns when determining the result dtypes. To retain the old behavior, exclude the relevant entries before the concat operation.\n",
      "  preds = pd.concat([preds, new_row], ignore_index=True)\n"
     ]
    },
    {
     "name": "stdout",
     "output_type": "stream",
     "text": [
      "Creating supervised data\n",
      "[====================] 100.0% complete\n"
     ]
    },
    {
     "name": "stderr",
     "output_type": "stream",
     "text": [
      "/tmp/ipykernel_10545/2888594386.py:25: FutureWarning: The behavior of DataFrame concatenation with empty or all-NA entries is deprecated. In a future version, this will no longer exclude empty or all-NA columns when determining the result dtypes. To retain the old behavior, exclude the relevant entries before the concat operation.\n",
      "  preds = pd.concat([preds, new_row], ignore_index=True)\n"
     ]
    },
    {
     "name": "stdout",
     "output_type": "stream",
     "text": [
      "Creating supervised data\n",
      "[====================] 100.0% complete\n"
     ]
    },
    {
     "name": "stderr",
     "output_type": "stream",
     "text": [
      "/tmp/ipykernel_10545/2888594386.py:25: FutureWarning: The behavior of DataFrame concatenation with empty or all-NA entries is deprecated. In a future version, this will no longer exclude empty or all-NA columns when determining the result dtypes. To retain the old behavior, exclude the relevant entries before the concat operation.\n",
      "  preds = pd.concat([preds, new_row], ignore_index=True)\n"
     ]
    },
    {
     "name": "stdout",
     "output_type": "stream",
     "text": [
      "Creating supervised data\n",
      "[====================] 100.0% complete\n"
     ]
    },
    {
     "name": "stderr",
     "output_type": "stream",
     "text": [
      "/tmp/ipykernel_10545/2888594386.py:25: FutureWarning: The behavior of DataFrame concatenation with empty or all-NA entries is deprecated. In a future version, this will no longer exclude empty or all-NA columns when determining the result dtypes. To retain the old behavior, exclude the relevant entries before the concat operation.\n",
      "  preds = pd.concat([preds, new_row], ignore_index=True)\n"
     ]
    },
    {
     "name": "stdout",
     "output_type": "stream",
     "text": [
      "Creating supervised data\n",
      "[====================] 100.0% complete\n"
     ]
    },
    {
     "name": "stderr",
     "output_type": "stream",
     "text": [
      "/tmp/ipykernel_10545/2888594386.py:25: FutureWarning: The behavior of DataFrame concatenation with empty or all-NA entries is deprecated. In a future version, this will no longer exclude empty or all-NA columns when determining the result dtypes. To retain the old behavior, exclude the relevant entries before the concat operation.\n",
      "  preds = pd.concat([preds, new_row], ignore_index=True)\n"
     ]
    },
    {
     "name": "stdout",
     "output_type": "stream",
     "text": [
      "Creating supervised data\n",
      "[====================] 100.0% complete\n"
     ]
    },
    {
     "name": "stderr",
     "output_type": "stream",
     "text": [
      "/tmp/ipykernel_10545/2888594386.py:25: FutureWarning: The behavior of DataFrame concatenation with empty or all-NA entries is deprecated. In a future version, this will no longer exclude empty or all-NA columns when determining the result dtypes. To retain the old behavior, exclude the relevant entries before the concat operation.\n",
      "  preds = pd.concat([preds, new_row], ignore_index=True)\n"
     ]
    },
    {
     "name": "stdout",
     "output_type": "stream",
     "text": [
      "Creating supervised data\n",
      "[====================] 100.0% complete\n"
     ]
    },
    {
     "name": "stderr",
     "output_type": "stream",
     "text": [
      "/tmp/ipykernel_10545/2888594386.py:25: FutureWarning: The behavior of DataFrame concatenation with empty or all-NA entries is deprecated. In a future version, this will no longer exclude empty or all-NA columns when determining the result dtypes. To retain the old behavior, exclude the relevant entries before the concat operation.\n",
      "  preds = pd.concat([preds, new_row], ignore_index=True)\n"
     ]
    },
    {
     "name": "stdout",
     "output_type": "stream",
     "text": [
      "Creating supervised data\n",
      "[====================] 100.0% complete\n"
     ]
    },
    {
     "name": "stderr",
     "output_type": "stream",
     "text": [
      "/tmp/ipykernel_10545/2888594386.py:25: FutureWarning: The behavior of DataFrame concatenation with empty or all-NA entries is deprecated. In a future version, this will no longer exclude empty or all-NA columns when determining the result dtypes. To retain the old behavior, exclude the relevant entries before the concat operation.\n",
      "  preds = pd.concat([preds, new_row], ignore_index=True)\n"
     ]
    },
    {
     "name": "stdout",
     "output_type": "stream",
     "text": [
      "Creating supervised data\n",
      "[====================] 100.0% complete\n"
     ]
    },
    {
     "name": "stderr",
     "output_type": "stream",
     "text": [
      "/tmp/ipykernel_10545/2888594386.py:25: FutureWarning: The behavior of DataFrame concatenation with empty or all-NA entries is deprecated. In a future version, this will no longer exclude empty or all-NA columns when determining the result dtypes. To retain the old behavior, exclude the relevant entries before the concat operation.\n",
      "  preds = pd.concat([preds, new_row], ignore_index=True)\n"
     ]
    },
    {
     "name": "stdout",
     "output_type": "stream",
     "text": [
      "Creating supervised data\n",
      "[====================] 100.0% complete\n"
     ]
    },
    {
     "name": "stderr",
     "output_type": "stream",
     "text": [
      "/tmp/ipykernel_10545/2888594386.py:25: FutureWarning: The behavior of DataFrame concatenation with empty or all-NA entries is deprecated. In a future version, this will no longer exclude empty or all-NA columns when determining the result dtypes. To retain the old behavior, exclude the relevant entries before the concat operation.\n",
      "  preds = pd.concat([preds, new_row], ignore_index=True)\n"
     ]
    },
    {
     "name": "stdout",
     "output_type": "stream",
     "text": [
      "Creating supervised data\n",
      "[====================] 100.0% complete\n"
     ]
    },
    {
     "name": "stderr",
     "output_type": "stream",
     "text": [
      "/tmp/ipykernel_10545/2888594386.py:25: FutureWarning: The behavior of DataFrame concatenation with empty or all-NA entries is deprecated. In a future version, this will no longer exclude empty or all-NA columns when determining the result dtypes. To retain the old behavior, exclude the relevant entries before the concat operation.\n",
      "  preds = pd.concat([preds, new_row], ignore_index=True)\n"
     ]
    },
    {
     "name": "stdout",
     "output_type": "stream",
     "text": [
      "Creating supervised data\n",
      "[====================] 100.0% complete\n"
     ]
    },
    {
     "name": "stderr",
     "output_type": "stream",
     "text": [
      "/tmp/ipykernel_10545/2888594386.py:25: FutureWarning: The behavior of DataFrame concatenation with empty or all-NA entries is deprecated. In a future version, this will no longer exclude empty or all-NA columns when determining the result dtypes. To retain the old behavior, exclude the relevant entries before the concat operation.\n",
      "  preds = pd.concat([preds, new_row], ignore_index=True)\n"
     ]
    },
    {
     "name": "stdout",
     "output_type": "stream",
     "text": [
      "Creating supervised data\n",
      "[====================] 100.0% complete\n"
     ]
    },
    {
     "name": "stderr",
     "output_type": "stream",
     "text": [
      "/tmp/ipykernel_10545/2888594386.py:25: FutureWarning: The behavior of DataFrame concatenation with empty or all-NA entries is deprecated. In a future version, this will no longer exclude empty or all-NA columns when determining the result dtypes. To retain the old behavior, exclude the relevant entries before the concat operation.\n",
      "  preds = pd.concat([preds, new_row], ignore_index=True)\n"
     ]
    },
    {
     "name": "stdout",
     "output_type": "stream",
     "text": [
      "Creating supervised data\n",
      "[====================] 100.0% complete\n"
     ]
    },
    {
     "name": "stderr",
     "output_type": "stream",
     "text": [
      "/tmp/ipykernel_10545/2888594386.py:25: FutureWarning: The behavior of DataFrame concatenation with empty or all-NA entries is deprecated. In a future version, this will no longer exclude empty or all-NA columns when determining the result dtypes. To retain the old behavior, exclude the relevant entries before the concat operation.\n",
      "  preds = pd.concat([preds, new_row], ignore_index=True)\n"
     ]
    },
    {
     "name": "stdout",
     "output_type": "stream",
     "text": [
      "Creating supervised data\n",
      "[====================] 100.0% complete\n"
     ]
    },
    {
     "name": "stderr",
     "output_type": "stream",
     "text": [
      "/tmp/ipykernel_10545/2888594386.py:25: FutureWarning: The behavior of DataFrame concatenation with empty or all-NA entries is deprecated. In a future version, this will no longer exclude empty or all-NA columns when determining the result dtypes. To retain the old behavior, exclude the relevant entries before the concat operation.\n",
      "  preds = pd.concat([preds, new_row], ignore_index=True)\n"
     ]
    },
    {
     "name": "stdout",
     "output_type": "stream",
     "text": [
      "Creating supervised data\n",
      "[====================] 100.0% complete\n"
     ]
    },
    {
     "name": "stderr",
     "output_type": "stream",
     "text": [
      "/tmp/ipykernel_10545/2888594386.py:25: FutureWarning: The behavior of DataFrame concatenation with empty or all-NA entries is deprecated. In a future version, this will no longer exclude empty or all-NA columns when determining the result dtypes. To retain the old behavior, exclude the relevant entries before the concat operation.\n",
      "  preds = pd.concat([preds, new_row], ignore_index=True)\n"
     ]
    },
    {
     "name": "stdout",
     "output_type": "stream",
     "text": [
      "Creating supervised data\n",
      "[====================] 100.0% complete\n"
     ]
    },
    {
     "name": "stderr",
     "output_type": "stream",
     "text": [
      "/tmp/ipykernel_10545/2888594386.py:25: FutureWarning: The behavior of DataFrame concatenation with empty or all-NA entries is deprecated. In a future version, this will no longer exclude empty or all-NA columns when determining the result dtypes. To retain the old behavior, exclude the relevant entries before the concat operation.\n",
      "  preds = pd.concat([preds, new_row], ignore_index=True)\n"
     ]
    },
    {
     "name": "stdout",
     "output_type": "stream",
     "text": [
      "Creating supervised data\n",
      "[====================] 100.0% complete\n"
     ]
    },
    {
     "name": "stderr",
     "output_type": "stream",
     "text": [
      "/tmp/ipykernel_10545/2888594386.py:25: FutureWarning: The behavior of DataFrame concatenation with empty or all-NA entries is deprecated. In a future version, this will no longer exclude empty or all-NA columns when determining the result dtypes. To retain the old behavior, exclude the relevant entries before the concat operation.\n",
      "  preds = pd.concat([preds, new_row], ignore_index=True)\n"
     ]
    },
    {
     "name": "stdout",
     "output_type": "stream",
     "text": [
      "Creating supervised data\n",
      "[====================] 100.0% complete\n"
     ]
    },
    {
     "name": "stderr",
     "output_type": "stream",
     "text": [
      "/tmp/ipykernel_10545/2888594386.py:25: FutureWarning: The behavior of DataFrame concatenation with empty or all-NA entries is deprecated. In a future version, this will no longer exclude empty or all-NA columns when determining the result dtypes. To retain the old behavior, exclude the relevant entries before the concat operation.\n",
      "  preds = pd.concat([preds, new_row], ignore_index=True)\n"
     ]
    },
    {
     "name": "stdout",
     "output_type": "stream",
     "text": [
      "Creating supervised data\n",
      "[====================] 100.0% complete\n"
     ]
    },
    {
     "name": "stderr",
     "output_type": "stream",
     "text": [
      "/tmp/ipykernel_10545/2888594386.py:25: FutureWarning: The behavior of DataFrame concatenation with empty or all-NA entries is deprecated. In a future version, this will no longer exclude empty or all-NA columns when determining the result dtypes. To retain the old behavior, exclude the relevant entries before the concat operation.\n",
      "  preds = pd.concat([preds, new_row], ignore_index=True)\n"
     ]
    },
    {
     "name": "stdout",
     "output_type": "stream",
     "text": [
      "Creating supervised data\n",
      "[====================] 100.0% complete\n"
     ]
    },
    {
     "name": "stderr",
     "output_type": "stream",
     "text": [
      "/tmp/ipykernel_10545/2888594386.py:25: FutureWarning: The behavior of DataFrame concatenation with empty or all-NA entries is deprecated. In a future version, this will no longer exclude empty or all-NA columns when determining the result dtypes. To retain the old behavior, exclude the relevant entries before the concat operation.\n",
      "  preds = pd.concat([preds, new_row], ignore_index=True)\n"
     ]
    },
    {
     "name": "stdout",
     "output_type": "stream",
     "text": [
      "Creating supervised data\n",
      "[====================] 100.0% complete\n"
     ]
    },
    {
     "name": "stderr",
     "output_type": "stream",
     "text": [
      "/tmp/ipykernel_10545/2888594386.py:25: FutureWarning: The behavior of DataFrame concatenation with empty or all-NA entries is deprecated. In a future version, this will no longer exclude empty or all-NA columns when determining the result dtypes. To retain the old behavior, exclude the relevant entries before the concat operation.\n",
      "  preds = pd.concat([preds, new_row], ignore_index=True)\n"
     ]
    },
    {
     "name": "stdout",
     "output_type": "stream",
     "text": [
      "Creating supervised data\n",
      "[====================] 100.0% complete\n"
     ]
    },
    {
     "name": "stderr",
     "output_type": "stream",
     "text": [
      "/tmp/ipykernel_10545/2888594386.py:25: FutureWarning: The behavior of DataFrame concatenation with empty or all-NA entries is deprecated. In a future version, this will no longer exclude empty or all-NA columns when determining the result dtypes. To retain the old behavior, exclude the relevant entries before the concat operation.\n",
      "  preds = pd.concat([preds, new_row], ignore_index=True)\n"
     ]
    },
    {
     "name": "stdout",
     "output_type": "stream",
     "text": [
      "Creating supervised data\n",
      "[====================] 100.0% complete\n"
     ]
    },
    {
     "name": "stderr",
     "output_type": "stream",
     "text": [
      "/tmp/ipykernel_10545/2888594386.py:25: FutureWarning: The behavior of DataFrame concatenation with empty or all-NA entries is deprecated. In a future version, this will no longer exclude empty or all-NA columns when determining the result dtypes. To retain the old behavior, exclude the relevant entries before the concat operation.\n",
      "  preds = pd.concat([preds, new_row], ignore_index=True)\n"
     ]
    },
    {
     "name": "stdout",
     "output_type": "stream",
     "text": [
      "Creating supervised data\n",
      "[====================] 100.0% complete\n"
     ]
    },
    {
     "name": "stderr",
     "output_type": "stream",
     "text": [
      "/tmp/ipykernel_10545/2888594386.py:25: FutureWarning: The behavior of DataFrame concatenation with empty or all-NA entries is deprecated. In a future version, this will no longer exclude empty or all-NA columns when determining the result dtypes. To retain the old behavior, exclude the relevant entries before the concat operation.\n",
      "  preds = pd.concat([preds, new_row], ignore_index=True)\n"
     ]
    },
    {
     "name": "stdout",
     "output_type": "stream",
     "text": [
      "Creating supervised data\n",
      "[====================] 100.0% complete\n"
     ]
    },
    {
     "name": "stderr",
     "output_type": "stream",
     "text": [
      "/tmp/ipykernel_10545/2888594386.py:25: FutureWarning: The behavior of DataFrame concatenation with empty or all-NA entries is deprecated. In a future version, this will no longer exclude empty or all-NA columns when determining the result dtypes. To retain the old behavior, exclude the relevant entries before the concat operation.\n",
      "  preds = pd.concat([preds, new_row], ignore_index=True)\n"
     ]
    },
    {
     "name": "stdout",
     "output_type": "stream",
     "text": [
      "Creating supervised data\n",
      "[====================] 100.0% complete\n"
     ]
    },
    {
     "name": "stderr",
     "output_type": "stream",
     "text": [
      "/tmp/ipykernel_10545/2888594386.py:25: FutureWarning: The behavior of DataFrame concatenation with empty or all-NA entries is deprecated. In a future version, this will no longer exclude empty or all-NA columns when determining the result dtypes. To retain the old behavior, exclude the relevant entries before the concat operation.\n",
      "  preds = pd.concat([preds, new_row], ignore_index=True)\n"
     ]
    },
    {
     "name": "stdout",
     "output_type": "stream",
     "text": [
      "Creating supervised data\n",
      "[====================] 100.0% complete\n"
     ]
    },
    {
     "name": "stderr",
     "output_type": "stream",
     "text": [
      "/tmp/ipykernel_10545/2888594386.py:25: FutureWarning: The behavior of DataFrame concatenation with empty or all-NA entries is deprecated. In a future version, this will no longer exclude empty or all-NA columns when determining the result dtypes. To retain the old behavior, exclude the relevant entries before the concat operation.\n",
      "  preds = pd.concat([preds, new_row], ignore_index=True)\n"
     ]
    },
    {
     "name": "stdout",
     "output_type": "stream",
     "text": [
      "Creating supervised data\n",
      "[====================] 100.0% complete\n"
     ]
    },
    {
     "name": "stderr",
     "output_type": "stream",
     "text": [
      "/tmp/ipykernel_10545/2888594386.py:25: FutureWarning: The behavior of DataFrame concatenation with empty or all-NA entries is deprecated. In a future version, this will no longer exclude empty or all-NA columns when determining the result dtypes. To retain the old behavior, exclude the relevant entries before the concat operation.\n",
      "  preds = pd.concat([preds, new_row], ignore_index=True)\n"
     ]
    },
    {
     "name": "stdout",
     "output_type": "stream",
     "text": [
      "Creating supervised data\n",
      "[====================] 100.0% complete\n"
     ]
    },
    {
     "name": "stderr",
     "output_type": "stream",
     "text": [
      "/tmp/ipykernel_10545/2888594386.py:25: FutureWarning: The behavior of DataFrame concatenation with empty or all-NA entries is deprecated. In a future version, this will no longer exclude empty or all-NA columns when determining the result dtypes. To retain the old behavior, exclude the relevant entries before the concat operation.\n",
      "  preds = pd.concat([preds, new_row], ignore_index=True)\n"
     ]
    },
    {
     "name": "stdout",
     "output_type": "stream",
     "text": [
      "Creating supervised data\n",
      "[====================] 100.0% complete\n"
     ]
    },
    {
     "name": "stderr",
     "output_type": "stream",
     "text": [
      "/tmp/ipykernel_10545/2888594386.py:25: FutureWarning: The behavior of DataFrame concatenation with empty or all-NA entries is deprecated. In a future version, this will no longer exclude empty or all-NA columns when determining the result dtypes. To retain the old behavior, exclude the relevant entries before the concat operation.\n",
      "  preds = pd.concat([preds, new_row], ignore_index=True)\n"
     ]
    },
    {
     "name": "stdout",
     "output_type": "stream",
     "text": [
      "Creating supervised data\n",
      "[====================] 100.0% complete\n"
     ]
    },
    {
     "name": "stderr",
     "output_type": "stream",
     "text": [
      "/tmp/ipykernel_10545/2888594386.py:25: FutureWarning: The behavior of DataFrame concatenation with empty or all-NA entries is deprecated. In a future version, this will no longer exclude empty or all-NA columns when determining the result dtypes. To retain the old behavior, exclude the relevant entries before the concat operation.\n",
      "  preds = pd.concat([preds, new_row], ignore_index=True)\n"
     ]
    },
    {
     "name": "stdout",
     "output_type": "stream",
     "text": [
      "Creating supervised data\n",
      "[====================] 100.0% complete\n"
     ]
    },
    {
     "name": "stderr",
     "output_type": "stream",
     "text": [
      "/tmp/ipykernel_10545/2888594386.py:25: FutureWarning: The behavior of DataFrame concatenation with empty or all-NA entries is deprecated. In a future version, this will no longer exclude empty or all-NA columns when determining the result dtypes. To retain the old behavior, exclude the relevant entries before the concat operation.\n",
      "  preds = pd.concat([preds, new_row], ignore_index=True)\n"
     ]
    },
    {
     "name": "stdout",
     "output_type": "stream",
     "text": [
      "Creating supervised data\n",
      "[====================] 100.0% complete\n"
     ]
    },
    {
     "name": "stderr",
     "output_type": "stream",
     "text": [
      "/tmp/ipykernel_10545/2888594386.py:25: FutureWarning: The behavior of DataFrame concatenation with empty or all-NA entries is deprecated. In a future version, this will no longer exclude empty or all-NA columns when determining the result dtypes. To retain the old behavior, exclude the relevant entries before the concat operation.\n",
      "  preds = pd.concat([preds, new_row], ignore_index=True)\n"
     ]
    },
    {
     "name": "stdout",
     "output_type": "stream",
     "text": [
      "Creating supervised data\n",
      "[====================] 100.0% complete\n"
     ]
    },
    {
     "name": "stderr",
     "output_type": "stream",
     "text": [
      "/tmp/ipykernel_10545/2888594386.py:25: FutureWarning: The behavior of DataFrame concatenation with empty or all-NA entries is deprecated. In a future version, this will no longer exclude empty or all-NA columns when determining the result dtypes. To retain the old behavior, exclude the relevant entries before the concat operation.\n",
      "  preds = pd.concat([preds, new_row], ignore_index=True)\n"
     ]
    },
    {
     "name": "stdout",
     "output_type": "stream",
     "text": [
      "Creating supervised data\n",
      "[====================] 100.0% complete\n"
     ]
    },
    {
     "name": "stderr",
     "output_type": "stream",
     "text": [
      "/tmp/ipykernel_10545/2888594386.py:25: FutureWarning: The behavior of DataFrame concatenation with empty or all-NA entries is deprecated. In a future version, this will no longer exclude empty or all-NA columns when determining the result dtypes. To retain the old behavior, exclude the relevant entries before the concat operation.\n",
      "  preds = pd.concat([preds, new_row], ignore_index=True)\n"
     ]
    },
    {
     "name": "stdout",
     "output_type": "stream",
     "text": [
      "Creating supervised data\n",
      "[====================] 100.0% complete\n"
     ]
    },
    {
     "name": "stderr",
     "output_type": "stream",
     "text": [
      "/tmp/ipykernel_10545/2888594386.py:25: FutureWarning: The behavior of DataFrame concatenation with empty or all-NA entries is deprecated. In a future version, this will no longer exclude empty or all-NA columns when determining the result dtypes. To retain the old behavior, exclude the relevant entries before the concat operation.\n",
      "  preds = pd.concat([preds, new_row], ignore_index=True)\n"
     ]
    },
    {
     "name": "stdout",
     "output_type": "stream",
     "text": [
      "Creating supervised data\n",
      "[====================] 100.0% complete\n"
     ]
    },
    {
     "name": "stderr",
     "output_type": "stream",
     "text": [
      "/tmp/ipykernel_10545/2888594386.py:25: FutureWarning: The behavior of DataFrame concatenation with empty or all-NA entries is deprecated. In a future version, this will no longer exclude empty or all-NA columns when determining the result dtypes. To retain the old behavior, exclude the relevant entries before the concat operation.\n",
      "  preds = pd.concat([preds, new_row], ignore_index=True)\n"
     ]
    },
    {
     "name": "stdout",
     "output_type": "stream",
     "text": [
      "Creating supervised data\n",
      "[====================] 100.0% complete\n"
     ]
    },
    {
     "name": "stderr",
     "output_type": "stream",
     "text": [
      "/tmp/ipykernel_10545/2888594386.py:25: FutureWarning: The behavior of DataFrame concatenation with empty or all-NA entries is deprecated. In a future version, this will no longer exclude empty or all-NA columns when determining the result dtypes. To retain the old behavior, exclude the relevant entries before the concat operation.\n",
      "  preds = pd.concat([preds, new_row], ignore_index=True)\n"
     ]
    },
    {
     "name": "stdout",
     "output_type": "stream",
     "text": [
      "Creating supervised data\n",
      "[====================] 100.0% complete\n"
     ]
    },
    {
     "name": "stderr",
     "output_type": "stream",
     "text": [
      "/tmp/ipykernel_10545/2888594386.py:25: FutureWarning: The behavior of DataFrame concatenation with empty or all-NA entries is deprecated. In a future version, this will no longer exclude empty or all-NA columns when determining the result dtypes. To retain the old behavior, exclude the relevant entries before the concat operation.\n",
      "  preds = pd.concat([preds, new_row], ignore_index=True)\n"
     ]
    },
    {
     "name": "stdout",
     "output_type": "stream",
     "text": [
      "Creating supervised data\n",
      "[====================] 100.0% complete\n"
     ]
    },
    {
     "name": "stderr",
     "output_type": "stream",
     "text": [
      "/tmp/ipykernel_10545/2888594386.py:25: FutureWarning: The behavior of DataFrame concatenation with empty or all-NA entries is deprecated. In a future version, this will no longer exclude empty or all-NA columns when determining the result dtypes. To retain the old behavior, exclude the relevant entries before the concat operation.\n",
      "  preds = pd.concat([preds, new_row], ignore_index=True)\n"
     ]
    },
    {
     "name": "stdout",
     "output_type": "stream",
     "text": [
      "Creating supervised data\n",
      "[====================] 100.0% complete\n"
     ]
    },
    {
     "name": "stderr",
     "output_type": "stream",
     "text": [
      "/tmp/ipykernel_10545/2888594386.py:25: FutureWarning: The behavior of DataFrame concatenation with empty or all-NA entries is deprecated. In a future version, this will no longer exclude empty or all-NA columns when determining the result dtypes. To retain the old behavior, exclude the relevant entries before the concat operation.\n",
      "  preds = pd.concat([preds, new_row], ignore_index=True)\n"
     ]
    },
    {
     "name": "stdout",
     "output_type": "stream",
     "text": [
      "Creating supervised data\n",
      "[====================] 100.0% complete\n"
     ]
    },
    {
     "name": "stderr",
     "output_type": "stream",
     "text": [
      "/tmp/ipykernel_10545/2888594386.py:25: FutureWarning: The behavior of DataFrame concatenation with empty or all-NA entries is deprecated. In a future version, this will no longer exclude empty or all-NA columns when determining the result dtypes. To retain the old behavior, exclude the relevant entries before the concat operation.\n",
      "  preds = pd.concat([preds, new_row], ignore_index=True)\n"
     ]
    },
    {
     "name": "stdout",
     "output_type": "stream",
     "text": [
      "Creating supervised data\n",
      "[====================] 100.0% complete\n"
     ]
    },
    {
     "name": "stderr",
     "output_type": "stream",
     "text": [
      "/tmp/ipykernel_10545/2888594386.py:25: FutureWarning: The behavior of DataFrame concatenation with empty or all-NA entries is deprecated. In a future version, this will no longer exclude empty or all-NA columns when determining the result dtypes. To retain the old behavior, exclude the relevant entries before the concat operation.\n",
      "  preds = pd.concat([preds, new_row], ignore_index=True)\n"
     ]
    },
    {
     "name": "stdout",
     "output_type": "stream",
     "text": [
      "Creating supervised data\n",
      "[====================] 100.0% complete\n"
     ]
    },
    {
     "name": "stderr",
     "output_type": "stream",
     "text": [
      "/tmp/ipykernel_10545/2888594386.py:25: FutureWarning: The behavior of DataFrame concatenation with empty or all-NA entries is deprecated. In a future version, this will no longer exclude empty or all-NA columns when determining the result dtypes. To retain the old behavior, exclude the relevant entries before the concat operation.\n",
      "  preds = pd.concat([preds, new_row], ignore_index=True)\n"
     ]
    },
    {
     "name": "stdout",
     "output_type": "stream",
     "text": [
      "Creating supervised data\n",
      "[====================] 100.0% complete\n"
     ]
    },
    {
     "name": "stderr",
     "output_type": "stream",
     "text": [
      "/tmp/ipykernel_10545/2888594386.py:25: FutureWarning: The behavior of DataFrame concatenation with empty or all-NA entries is deprecated. In a future version, this will no longer exclude empty or all-NA columns when determining the result dtypes. To retain the old behavior, exclude the relevant entries before the concat operation.\n",
      "  preds = pd.concat([preds, new_row], ignore_index=True)\n"
     ]
    },
    {
     "name": "stdout",
     "output_type": "stream",
     "text": [
      "Creating supervised data\n",
      "[====================] 100.0% complete\n"
     ]
    },
    {
     "name": "stderr",
     "output_type": "stream",
     "text": [
      "/tmp/ipykernel_10545/2888594386.py:25: FutureWarning: The behavior of DataFrame concatenation with empty or all-NA entries is deprecated. In a future version, this will no longer exclude empty or all-NA columns when determining the result dtypes. To retain the old behavior, exclude the relevant entries before the concat operation.\n",
      "  preds = pd.concat([preds, new_row], ignore_index=True)\n"
     ]
    },
    {
     "name": "stdout",
     "output_type": "stream",
     "text": [
      "Creating supervised data\n",
      "[====================] 100.0% complete\n"
     ]
    },
    {
     "name": "stderr",
     "output_type": "stream",
     "text": [
      "/tmp/ipykernel_10545/2888594386.py:25: FutureWarning: The behavior of DataFrame concatenation with empty or all-NA entries is deprecated. In a future version, this will no longer exclude empty or all-NA columns when determining the result dtypes. To retain the old behavior, exclude the relevant entries before the concat operation.\n",
      "  preds = pd.concat([preds, new_row], ignore_index=True)\n"
     ]
    },
    {
     "name": "stdout",
     "output_type": "stream",
     "text": [
      "Creating supervised data\n",
      "[====================] 100.0% complete\n"
     ]
    },
    {
     "name": "stderr",
     "output_type": "stream",
     "text": [
      "/tmp/ipykernel_10545/2888594386.py:25: FutureWarning: The behavior of DataFrame concatenation with empty or all-NA entries is deprecated. In a future version, this will no longer exclude empty or all-NA columns when determining the result dtypes. To retain the old behavior, exclude the relevant entries before the concat operation.\n",
      "  preds = pd.concat([preds, new_row], ignore_index=True)\n"
     ]
    },
    {
     "name": "stdout",
     "output_type": "stream",
     "text": [
      "Creating supervised data\n",
      "[====================] 100.0% complete\n"
     ]
    },
    {
     "name": "stderr",
     "output_type": "stream",
     "text": [
      "/tmp/ipykernel_10545/2888594386.py:25: FutureWarning: The behavior of DataFrame concatenation with empty or all-NA entries is deprecated. In a future version, this will no longer exclude empty or all-NA columns when determining the result dtypes. To retain the old behavior, exclude the relevant entries before the concat operation.\n",
      "  preds = pd.concat([preds, new_row], ignore_index=True)\n"
     ]
    },
    {
     "name": "stdout",
     "output_type": "stream",
     "text": [
      "Creating supervised data\n",
      "[====================] 100.0% complete\n"
     ]
    },
    {
     "name": "stderr",
     "output_type": "stream",
     "text": [
      "/tmp/ipykernel_10545/2888594386.py:25: FutureWarning: The behavior of DataFrame concatenation with empty or all-NA entries is deprecated. In a future version, this will no longer exclude empty or all-NA columns when determining the result dtypes. To retain the old behavior, exclude the relevant entries before the concat operation.\n",
      "  preds = pd.concat([preds, new_row], ignore_index=True)\n"
     ]
    },
    {
     "name": "stdout",
     "output_type": "stream",
     "text": [
      "Creating supervised data\n",
      "[====================] 100.0% complete\n"
     ]
    },
    {
     "name": "stderr",
     "output_type": "stream",
     "text": [
      "/tmp/ipykernel_10545/2888594386.py:25: FutureWarning: The behavior of DataFrame concatenation with empty or all-NA entries is deprecated. In a future version, this will no longer exclude empty or all-NA columns when determining the result dtypes. To retain the old behavior, exclude the relevant entries before the concat operation.\n",
      "  preds = pd.concat([preds, new_row], ignore_index=True)\n"
     ]
    },
    {
     "name": "stdout",
     "output_type": "stream",
     "text": [
      "Creating supervised data\n",
      "[====================] 100.0% complete\n"
     ]
    },
    {
     "name": "stderr",
     "output_type": "stream",
     "text": [
      "/tmp/ipykernel_10545/2888594386.py:25: FutureWarning: The behavior of DataFrame concatenation with empty or all-NA entries is deprecated. In a future version, this will no longer exclude empty or all-NA columns when determining the result dtypes. To retain the old behavior, exclude the relevant entries before the concat operation.\n",
      "  preds = pd.concat([preds, new_row], ignore_index=True)\n"
     ]
    },
    {
     "name": "stdout",
     "output_type": "stream",
     "text": [
      "Creating supervised data\n",
      "[====================] 100.0% complete\n"
     ]
    },
    {
     "name": "stderr",
     "output_type": "stream",
     "text": [
      "/tmp/ipykernel_10545/2888594386.py:25: FutureWarning: The behavior of DataFrame concatenation with empty or all-NA entries is deprecated. In a future version, this will no longer exclude empty or all-NA columns when determining the result dtypes. To retain the old behavior, exclude the relevant entries before the concat operation.\n",
      "  preds = pd.concat([preds, new_row], ignore_index=True)\n"
     ]
    },
    {
     "name": "stdout",
     "output_type": "stream",
     "text": [
      "Creating supervised data\n",
      "[====================] 100.0% complete\n"
     ]
    },
    {
     "name": "stderr",
     "output_type": "stream",
     "text": [
      "/tmp/ipykernel_10545/2888594386.py:25: FutureWarning: The behavior of DataFrame concatenation with empty or all-NA entries is deprecated. In a future version, this will no longer exclude empty or all-NA columns when determining the result dtypes. To retain the old behavior, exclude the relevant entries before the concat operation.\n",
      "  preds = pd.concat([preds, new_row], ignore_index=True)\n"
     ]
    },
    {
     "name": "stdout",
     "output_type": "stream",
     "text": [
      "Creating supervised data\n",
      "[====================] 100.0% complete\n"
     ]
    },
    {
     "name": "stderr",
     "output_type": "stream",
     "text": [
      "/tmp/ipykernel_10545/2888594386.py:25: FutureWarning: The behavior of DataFrame concatenation with empty or all-NA entries is deprecated. In a future version, this will no longer exclude empty or all-NA columns when determining the result dtypes. To retain the old behavior, exclude the relevant entries before the concat operation.\n",
      "  preds = pd.concat([preds, new_row], ignore_index=True)\n"
     ]
    },
    {
     "name": "stdout",
     "output_type": "stream",
     "text": [
      "Creating supervised data\n",
      "[====================] 100.0% complete\n"
     ]
    },
    {
     "name": "stderr",
     "output_type": "stream",
     "text": [
      "/tmp/ipykernel_10545/2888594386.py:25: FutureWarning: The behavior of DataFrame concatenation with empty or all-NA entries is deprecated. In a future version, this will no longer exclude empty or all-NA columns when determining the result dtypes. To retain the old behavior, exclude the relevant entries before the concat operation.\n",
      "  preds = pd.concat([preds, new_row], ignore_index=True)\n"
     ]
    },
    {
     "name": "stdout",
     "output_type": "stream",
     "text": [
      "Creating supervised data\n",
      "[====================] 100.0% complete\n"
     ]
    },
    {
     "name": "stderr",
     "output_type": "stream",
     "text": [
      "/tmp/ipykernel_10545/2888594386.py:25: FutureWarning: The behavior of DataFrame concatenation with empty or all-NA entries is deprecated. In a future version, this will no longer exclude empty or all-NA columns when determining the result dtypes. To retain the old behavior, exclude the relevant entries before the concat operation.\n",
      "  preds = pd.concat([preds, new_row], ignore_index=True)\n"
     ]
    },
    {
     "name": "stdout",
     "output_type": "stream",
     "text": [
      "Creating supervised data\n",
      "[====================] 100.0% complete\n"
     ]
    },
    {
     "name": "stderr",
     "output_type": "stream",
     "text": [
      "/tmp/ipykernel_10545/2888594386.py:25: FutureWarning: The behavior of DataFrame concatenation with empty or all-NA entries is deprecated. In a future version, this will no longer exclude empty or all-NA columns when determining the result dtypes. To retain the old behavior, exclude the relevant entries before the concat operation.\n",
      "  preds = pd.concat([preds, new_row], ignore_index=True)\n"
     ]
    },
    {
     "name": "stdout",
     "output_type": "stream",
     "text": [
      "Creating supervised data\n",
      "[====================] 100.0% complete\n"
     ]
    },
    {
     "name": "stderr",
     "output_type": "stream",
     "text": [
      "/tmp/ipykernel_10545/2888594386.py:25: FutureWarning: The behavior of DataFrame concatenation with empty or all-NA entries is deprecated. In a future version, this will no longer exclude empty or all-NA columns when determining the result dtypes. To retain the old behavior, exclude the relevant entries before the concat operation.\n",
      "  preds = pd.concat([preds, new_row], ignore_index=True)\n"
     ]
    },
    {
     "name": "stdout",
     "output_type": "stream",
     "text": [
      "Creating supervised data\n",
      "[====================] 100.0% complete\n"
     ]
    },
    {
     "name": "stderr",
     "output_type": "stream",
     "text": [
      "/tmp/ipykernel_10545/2888594386.py:25: FutureWarning: The behavior of DataFrame concatenation with empty or all-NA entries is deprecated. In a future version, this will no longer exclude empty or all-NA columns when determining the result dtypes. To retain the old behavior, exclude the relevant entries before the concat operation.\n",
      "  preds = pd.concat([preds, new_row], ignore_index=True)\n"
     ]
    },
    {
     "name": "stdout",
     "output_type": "stream",
     "text": [
      "Creating supervised data\n",
      "[====================] 100.0% complete\n"
     ]
    },
    {
     "name": "stderr",
     "output_type": "stream",
     "text": [
      "/tmp/ipykernel_10545/2888594386.py:25: FutureWarning: The behavior of DataFrame concatenation with empty or all-NA entries is deprecated. In a future version, this will no longer exclude empty or all-NA columns when determining the result dtypes. To retain the old behavior, exclude the relevant entries before the concat operation.\n",
      "  preds = pd.concat([preds, new_row], ignore_index=True)\n"
     ]
    },
    {
     "name": "stdout",
     "output_type": "stream",
     "text": [
      "Creating supervised data\n",
      "[====================] 100.0% complete\n"
     ]
    },
    {
     "name": "stderr",
     "output_type": "stream",
     "text": [
      "/tmp/ipykernel_10545/2888594386.py:25: FutureWarning: The behavior of DataFrame concatenation with empty or all-NA entries is deprecated. In a future version, this will no longer exclude empty or all-NA columns when determining the result dtypes. To retain the old behavior, exclude the relevant entries before the concat operation.\n",
      "  preds = pd.concat([preds, new_row], ignore_index=True)\n"
     ]
    },
    {
     "name": "stdout",
     "output_type": "stream",
     "text": [
      "Creating supervised data\n",
      "[====================] 100.0% complete\n"
     ]
    },
    {
     "name": "stderr",
     "output_type": "stream",
     "text": [
      "/tmp/ipykernel_10545/2888594386.py:25: FutureWarning: The behavior of DataFrame concatenation with empty or all-NA entries is deprecated. In a future version, this will no longer exclude empty or all-NA columns when determining the result dtypes. To retain the old behavior, exclude the relevant entries before the concat operation.\n",
      "  preds = pd.concat([preds, new_row], ignore_index=True)\n"
     ]
    },
    {
     "name": "stdout",
     "output_type": "stream",
     "text": [
      "Creating supervised data\n",
      "[====================] 100.0% complete\n"
     ]
    },
    {
     "name": "stderr",
     "output_type": "stream",
     "text": [
      "/tmp/ipykernel_10545/2888594386.py:25: FutureWarning: The behavior of DataFrame concatenation with empty or all-NA entries is deprecated. In a future version, this will no longer exclude empty or all-NA columns when determining the result dtypes. To retain the old behavior, exclude the relevant entries before the concat operation.\n",
      "  preds = pd.concat([preds, new_row], ignore_index=True)\n"
     ]
    },
    {
     "name": "stdout",
     "output_type": "stream",
     "text": [
      "Creating supervised data\n",
      "[====================] 100.0% complete\n"
     ]
    },
    {
     "name": "stderr",
     "output_type": "stream",
     "text": [
      "/tmp/ipykernel_10545/2888594386.py:25: FutureWarning: The behavior of DataFrame concatenation with empty or all-NA entries is deprecated. In a future version, this will no longer exclude empty or all-NA columns when determining the result dtypes. To retain the old behavior, exclude the relevant entries before the concat operation.\n",
      "  preds = pd.concat([preds, new_row], ignore_index=True)\n"
     ]
    },
    {
     "name": "stdout",
     "output_type": "stream",
     "text": [
      "Creating supervised data\n",
      "[====================] 100.0% complete\n"
     ]
    },
    {
     "name": "stderr",
     "output_type": "stream",
     "text": [
      "/tmp/ipykernel_10545/2888594386.py:25: FutureWarning: The behavior of DataFrame concatenation with empty or all-NA entries is deprecated. In a future version, this will no longer exclude empty or all-NA columns when determining the result dtypes. To retain the old behavior, exclude the relevant entries before the concat operation.\n",
      "  preds = pd.concat([preds, new_row], ignore_index=True)\n"
     ]
    },
    {
     "name": "stdout",
     "output_type": "stream",
     "text": [
      "Creating supervised data\n",
      "[====================] 100.0% complete\n"
     ]
    },
    {
     "name": "stderr",
     "output_type": "stream",
     "text": [
      "/tmp/ipykernel_10545/2888594386.py:25: FutureWarning: The behavior of DataFrame concatenation with empty or all-NA entries is deprecated. In a future version, this will no longer exclude empty or all-NA columns when determining the result dtypes. To retain the old behavior, exclude the relevant entries before the concat operation.\n",
      "  preds = pd.concat([preds, new_row], ignore_index=True)\n"
     ]
    },
    {
     "name": "stdout",
     "output_type": "stream",
     "text": [
      "Creating supervised data\n",
      "[====================] 100.0% complete\n"
     ]
    },
    {
     "name": "stderr",
     "output_type": "stream",
     "text": [
      "/tmp/ipykernel_10545/2888594386.py:25: FutureWarning: The behavior of DataFrame concatenation with empty or all-NA entries is deprecated. In a future version, this will no longer exclude empty or all-NA columns when determining the result dtypes. To retain the old behavior, exclude the relevant entries before the concat operation.\n",
      "  preds = pd.concat([preds, new_row], ignore_index=True)\n"
     ]
    },
    {
     "name": "stdout",
     "output_type": "stream",
     "text": [
      "Creating supervised data\n",
      "[====================] 100.0% complete\n"
     ]
    },
    {
     "name": "stderr",
     "output_type": "stream",
     "text": [
      "/tmp/ipykernel_10545/2888594386.py:25: FutureWarning: The behavior of DataFrame concatenation with empty or all-NA entries is deprecated. In a future version, this will no longer exclude empty or all-NA columns when determining the result dtypes. To retain the old behavior, exclude the relevant entries before the concat operation.\n",
      "  preds = pd.concat([preds, new_row], ignore_index=True)\n"
     ]
    },
    {
     "name": "stdout",
     "output_type": "stream",
     "text": [
      "Creating supervised data\n",
      "[====================] 100.0% complete\n"
     ]
    },
    {
     "name": "stderr",
     "output_type": "stream",
     "text": [
      "/tmp/ipykernel_10545/2888594386.py:25: FutureWarning: The behavior of DataFrame concatenation with empty or all-NA entries is deprecated. In a future version, this will no longer exclude empty or all-NA columns when determining the result dtypes. To retain the old behavior, exclude the relevant entries before the concat operation.\n",
      "  preds = pd.concat([preds, new_row], ignore_index=True)\n"
     ]
    },
    {
     "name": "stdout",
     "output_type": "stream",
     "text": [
      "Creating supervised data\n",
      "[====================] 100.0% complete\n"
     ]
    },
    {
     "name": "stderr",
     "output_type": "stream",
     "text": [
      "/tmp/ipykernel_10545/2888594386.py:25: FutureWarning: The behavior of DataFrame concatenation with empty or all-NA entries is deprecated. In a future version, this will no longer exclude empty or all-NA columns when determining the result dtypes. To retain the old behavior, exclude the relevant entries before the concat operation.\n",
      "  preds = pd.concat([preds, new_row], ignore_index=True)\n"
     ]
    },
    {
     "name": "stdout",
     "output_type": "stream",
     "text": [
      "Creating supervised data\n",
      "[====================] 100.0% complete\n"
     ]
    },
    {
     "name": "stderr",
     "output_type": "stream",
     "text": [
      "/tmp/ipykernel_10545/2888594386.py:25: FutureWarning: The behavior of DataFrame concatenation with empty or all-NA entries is deprecated. In a future version, this will no longer exclude empty or all-NA columns when determining the result dtypes. To retain the old behavior, exclude the relevant entries before the concat operation.\n",
      "  preds = pd.concat([preds, new_row], ignore_index=True)\n"
     ]
    },
    {
     "name": "stdout",
     "output_type": "stream",
     "text": [
      "Creating supervised data\n",
      "[====================] 100.0% complete\n"
     ]
    },
    {
     "name": "stderr",
     "output_type": "stream",
     "text": [
      "/tmp/ipykernel_10545/2888594386.py:25: FutureWarning: The behavior of DataFrame concatenation with empty or all-NA entries is deprecated. In a future version, this will no longer exclude empty or all-NA columns when determining the result dtypes. To retain the old behavior, exclude the relevant entries before the concat operation.\n",
      "  preds = pd.concat([preds, new_row], ignore_index=True)\n"
     ]
    },
    {
     "name": "stdout",
     "output_type": "stream",
     "text": [
      "Creating supervised data\n",
      "[====================] 100.0% complete\n"
     ]
    },
    {
     "name": "stderr",
     "output_type": "stream",
     "text": [
      "/tmp/ipykernel_10545/2888594386.py:25: FutureWarning: The behavior of DataFrame concatenation with empty or all-NA entries is deprecated. In a future version, this will no longer exclude empty or all-NA columns when determining the result dtypes. To retain the old behavior, exclude the relevant entries before the concat operation.\n",
      "  preds = pd.concat([preds, new_row], ignore_index=True)\n"
     ]
    },
    {
     "name": "stdout",
     "output_type": "stream",
     "text": [
      "Creating supervised data\n",
      "[====================] 100.0% complete\n"
     ]
    },
    {
     "name": "stderr",
     "output_type": "stream",
     "text": [
      "/tmp/ipykernel_10545/2888594386.py:25: FutureWarning: The behavior of DataFrame concatenation with empty or all-NA entries is deprecated. In a future version, this will no longer exclude empty or all-NA columns when determining the result dtypes. To retain the old behavior, exclude the relevant entries before the concat operation.\n",
      "  preds = pd.concat([preds, new_row], ignore_index=True)\n"
     ]
    },
    {
     "name": "stdout",
     "output_type": "stream",
     "text": [
      "Creating supervised data\n",
      "[====================] 100.0% complete\n"
     ]
    },
    {
     "name": "stderr",
     "output_type": "stream",
     "text": [
      "/tmp/ipykernel_10545/2888594386.py:25: FutureWarning: The behavior of DataFrame concatenation with empty or all-NA entries is deprecated. In a future version, this will no longer exclude empty or all-NA columns when determining the result dtypes. To retain the old behavior, exclude the relevant entries before the concat operation.\n",
      "  preds = pd.concat([preds, new_row], ignore_index=True)\n"
     ]
    },
    {
     "name": "stdout",
     "output_type": "stream",
     "text": [
      "Creating supervised data\n",
      "[====================] 100.0% complete\n"
     ]
    },
    {
     "name": "stderr",
     "output_type": "stream",
     "text": [
      "/tmp/ipykernel_10545/2888594386.py:25: FutureWarning: The behavior of DataFrame concatenation with empty or all-NA entries is deprecated. In a future version, this will no longer exclude empty or all-NA columns when determining the result dtypes. To retain the old behavior, exclude the relevant entries before the concat operation.\n",
      "  preds = pd.concat([preds, new_row], ignore_index=True)\n"
     ]
    },
    {
     "name": "stdout",
     "output_type": "stream",
     "text": [
      "Creating supervised data\n",
      "[====================] 100.0% complete\n"
     ]
    },
    {
     "name": "stderr",
     "output_type": "stream",
     "text": [
      "/tmp/ipykernel_10545/2888594386.py:25: FutureWarning: The behavior of DataFrame concatenation with empty or all-NA entries is deprecated. In a future version, this will no longer exclude empty or all-NA columns when determining the result dtypes. To retain the old behavior, exclude the relevant entries before the concat operation.\n",
      "  preds = pd.concat([preds, new_row], ignore_index=True)\n"
     ]
    },
    {
     "name": "stdout",
     "output_type": "stream",
     "text": [
      "Creating supervised data\n",
      "[====================] 100.0% complete\n"
     ]
    },
    {
     "name": "stderr",
     "output_type": "stream",
     "text": [
      "/tmp/ipykernel_10545/2888594386.py:25: FutureWarning: The behavior of DataFrame concatenation with empty or all-NA entries is deprecated. In a future version, this will no longer exclude empty or all-NA columns when determining the result dtypes. To retain the old behavior, exclude the relevant entries before the concat operation.\n",
      "  preds = pd.concat([preds, new_row], ignore_index=True)\n"
     ]
    },
    {
     "name": "stdout",
     "output_type": "stream",
     "text": [
      "Creating supervised data\n",
      "[====================] 100.0% complete\n"
     ]
    },
    {
     "name": "stderr",
     "output_type": "stream",
     "text": [
      "/tmp/ipykernel_10545/2888594386.py:25: FutureWarning: The behavior of DataFrame concatenation with empty or all-NA entries is deprecated. In a future version, this will no longer exclude empty or all-NA columns when determining the result dtypes. To retain the old behavior, exclude the relevant entries before the concat operation.\n",
      "  preds = pd.concat([preds, new_row], ignore_index=True)\n"
     ]
    },
    {
     "name": "stdout",
     "output_type": "stream",
     "text": [
      "Creating supervised data\n",
      "[====================] 100.0% complete\n"
     ]
    },
    {
     "name": "stderr",
     "output_type": "stream",
     "text": [
      "/tmp/ipykernel_10545/2888594386.py:25: FutureWarning: The behavior of DataFrame concatenation with empty or all-NA entries is deprecated. In a future version, this will no longer exclude empty or all-NA columns when determining the result dtypes. To retain the old behavior, exclude the relevant entries before the concat operation.\n",
      "  preds = pd.concat([preds, new_row], ignore_index=True)\n"
     ]
    },
    {
     "name": "stdout",
     "output_type": "stream",
     "text": [
      "Creating supervised data\n",
      "[====================] 100.0% complete\n"
     ]
    },
    {
     "name": "stderr",
     "output_type": "stream",
     "text": [
      "/tmp/ipykernel_10545/2888594386.py:25: FutureWarning: The behavior of DataFrame concatenation with empty or all-NA entries is deprecated. In a future version, this will no longer exclude empty or all-NA columns when determining the result dtypes. To retain the old behavior, exclude the relevant entries before the concat operation.\n",
      "  preds = pd.concat([preds, new_row], ignore_index=True)\n"
     ]
    },
    {
     "name": "stdout",
     "output_type": "stream",
     "text": [
      "Creating supervised data\n",
      "[====================] 100.0% complete\n"
     ]
    },
    {
     "name": "stderr",
     "output_type": "stream",
     "text": [
      "/tmp/ipykernel_10545/2888594386.py:25: FutureWarning: The behavior of DataFrame concatenation with empty or all-NA entries is deprecated. In a future version, this will no longer exclude empty or all-NA columns when determining the result dtypes. To retain the old behavior, exclude the relevant entries before the concat operation.\n",
      "  preds = pd.concat([preds, new_row], ignore_index=True)\n"
     ]
    },
    {
     "name": "stdout",
     "output_type": "stream",
     "text": [
      "Creating supervised data\n",
      "[====================] 100.0% complete\n"
     ]
    },
    {
     "name": "stderr",
     "output_type": "stream",
     "text": [
      "/tmp/ipykernel_10545/2888594386.py:25: FutureWarning: The behavior of DataFrame concatenation with empty or all-NA entries is deprecated. In a future version, this will no longer exclude empty or all-NA columns when determining the result dtypes. To retain the old behavior, exclude the relevant entries before the concat operation.\n",
      "  preds = pd.concat([preds, new_row], ignore_index=True)\n"
     ]
    },
    {
     "name": "stdout",
     "output_type": "stream",
     "text": [
      "Creating supervised data\n",
      "[====================] 100.0% complete\n"
     ]
    },
    {
     "name": "stderr",
     "output_type": "stream",
     "text": [
      "/tmp/ipykernel_10545/2888594386.py:25: FutureWarning: The behavior of DataFrame concatenation with empty or all-NA entries is deprecated. In a future version, this will no longer exclude empty or all-NA columns when determining the result dtypes. To retain the old behavior, exclude the relevant entries before the concat operation.\n",
      "  preds = pd.concat([preds, new_row], ignore_index=True)\n"
     ]
    },
    {
     "name": "stdout",
     "output_type": "stream",
     "text": [
      "Creating supervised data\n",
      "[====================] 100.0% complete\n"
     ]
    },
    {
     "name": "stderr",
     "output_type": "stream",
     "text": [
      "/tmp/ipykernel_10545/2888594386.py:25: FutureWarning: The behavior of DataFrame concatenation with empty or all-NA entries is deprecated. In a future version, this will no longer exclude empty or all-NA columns when determining the result dtypes. To retain the old behavior, exclude the relevant entries before the concat operation.\n",
      "  preds = pd.concat([preds, new_row], ignore_index=True)\n"
     ]
    },
    {
     "name": "stdout",
     "output_type": "stream",
     "text": [
      "Creating supervised data\n",
      "[====================] 100.0% complete\n"
     ]
    },
    {
     "name": "stderr",
     "output_type": "stream",
     "text": [
      "/tmp/ipykernel_10545/2888594386.py:25: FutureWarning: The behavior of DataFrame concatenation with empty or all-NA entries is deprecated. In a future version, this will no longer exclude empty or all-NA columns when determining the result dtypes. To retain the old behavior, exclude the relevant entries before the concat operation.\n",
      "  preds = pd.concat([preds, new_row], ignore_index=True)\n"
     ]
    },
    {
     "name": "stdout",
     "output_type": "stream",
     "text": [
      "Creating supervised data\n",
      "[====================] 100.0% complete\n"
     ]
    },
    {
     "name": "stderr",
     "output_type": "stream",
     "text": [
      "/tmp/ipykernel_10545/2888594386.py:25: FutureWarning: The behavior of DataFrame concatenation with empty or all-NA entries is deprecated. In a future version, this will no longer exclude empty or all-NA columns when determining the result dtypes. To retain the old behavior, exclude the relevant entries before the concat operation.\n",
      "  preds = pd.concat([preds, new_row], ignore_index=True)\n"
     ]
    },
    {
     "name": "stdout",
     "output_type": "stream",
     "text": [
      "Creating supervised data\n",
      "[====================] 100.0% complete\n"
     ]
    },
    {
     "name": "stderr",
     "output_type": "stream",
     "text": [
      "/tmp/ipykernel_10545/2888594386.py:25: FutureWarning: The behavior of DataFrame concatenation with empty or all-NA entries is deprecated. In a future version, this will no longer exclude empty or all-NA columns when determining the result dtypes. To retain the old behavior, exclude the relevant entries before the concat operation.\n",
      "  preds = pd.concat([preds, new_row], ignore_index=True)\n"
     ]
    },
    {
     "name": "stdout",
     "output_type": "stream",
     "text": [
      "Creating supervised data\n",
      "[====================] 100.0% complete\n"
     ]
    },
    {
     "name": "stderr",
     "output_type": "stream",
     "text": [
      "/tmp/ipykernel_10545/2888594386.py:25: FutureWarning: The behavior of DataFrame concatenation with empty or all-NA entries is deprecated. In a future version, this will no longer exclude empty or all-NA columns when determining the result dtypes. To retain the old behavior, exclude the relevant entries before the concat operation.\n",
      "  preds = pd.concat([preds, new_row], ignore_index=True)\n"
     ]
    },
    {
     "name": "stdout",
     "output_type": "stream",
     "text": [
      "Creating supervised data\n",
      "[====================] 100.0% complete\n"
     ]
    },
    {
     "name": "stderr",
     "output_type": "stream",
     "text": [
      "/tmp/ipykernel_10545/2888594386.py:25: FutureWarning: The behavior of DataFrame concatenation with empty or all-NA entries is deprecated. In a future version, this will no longer exclude empty or all-NA columns when determining the result dtypes. To retain the old behavior, exclude the relevant entries before the concat operation.\n",
      "  preds = pd.concat([preds, new_row], ignore_index=True)\n"
     ]
    },
    {
     "name": "stdout",
     "output_type": "stream",
     "text": [
      "Creating supervised data\n",
      "[====================] 100.0% complete\n"
     ]
    },
    {
     "name": "stderr",
     "output_type": "stream",
     "text": [
      "/tmp/ipykernel_10545/2888594386.py:25: FutureWarning: The behavior of DataFrame concatenation with empty or all-NA entries is deprecated. In a future version, this will no longer exclude empty or all-NA columns when determining the result dtypes. To retain the old behavior, exclude the relevant entries before the concat operation.\n",
      "  preds = pd.concat([preds, new_row], ignore_index=True)\n"
     ]
    },
    {
     "name": "stdout",
     "output_type": "stream",
     "text": [
      "Creating supervised data\n",
      "[====================] 100.0% complete\n"
     ]
    },
    {
     "name": "stderr",
     "output_type": "stream",
     "text": [
      "/tmp/ipykernel_10545/2888594386.py:25: FutureWarning: The behavior of DataFrame concatenation with empty or all-NA entries is deprecated. In a future version, this will no longer exclude empty or all-NA columns when determining the result dtypes. To retain the old behavior, exclude the relevant entries before the concat operation.\n",
      "  preds = pd.concat([preds, new_row], ignore_index=True)\n"
     ]
    },
    {
     "name": "stdout",
     "output_type": "stream",
     "text": [
      "Creating supervised data\n",
      "[====================] 100.0% complete\n"
     ]
    },
    {
     "name": "stderr",
     "output_type": "stream",
     "text": [
      "/tmp/ipykernel_10545/2888594386.py:25: FutureWarning: The behavior of DataFrame concatenation with empty or all-NA entries is deprecated. In a future version, this will no longer exclude empty or all-NA columns when determining the result dtypes. To retain the old behavior, exclude the relevant entries before the concat operation.\n",
      "  preds = pd.concat([preds, new_row], ignore_index=True)\n"
     ]
    },
    {
     "name": "stdout",
     "output_type": "stream",
     "text": [
      "Creating supervised data\n",
      "[====================] 100.0% complete\n"
     ]
    },
    {
     "name": "stderr",
     "output_type": "stream",
     "text": [
      "/tmp/ipykernel_10545/2888594386.py:25: FutureWarning: The behavior of DataFrame concatenation with empty or all-NA entries is deprecated. In a future version, this will no longer exclude empty or all-NA columns when determining the result dtypes. To retain the old behavior, exclude the relevant entries before the concat operation.\n",
      "  preds = pd.concat([preds, new_row], ignore_index=True)\n"
     ]
    },
    {
     "name": "stdout",
     "output_type": "stream",
     "text": [
      "Creating supervised data\n",
      "[====================] 100.0% complete\n"
     ]
    },
    {
     "name": "stderr",
     "output_type": "stream",
     "text": [
      "/tmp/ipykernel_10545/2888594386.py:25: FutureWarning: The behavior of DataFrame concatenation with empty or all-NA entries is deprecated. In a future version, this will no longer exclude empty or all-NA columns when determining the result dtypes. To retain the old behavior, exclude the relevant entries before the concat operation.\n",
      "  preds = pd.concat([preds, new_row], ignore_index=True)\n"
     ]
    },
    {
     "name": "stdout",
     "output_type": "stream",
     "text": [
      "Creating supervised data\n",
      "[====================] 100.0% complete\n"
     ]
    },
    {
     "name": "stderr",
     "output_type": "stream",
     "text": [
      "/tmp/ipykernel_10545/2888594386.py:25: FutureWarning: The behavior of DataFrame concatenation with empty or all-NA entries is deprecated. In a future version, this will no longer exclude empty or all-NA columns when determining the result dtypes. To retain the old behavior, exclude the relevant entries before the concat operation.\n",
      "  preds = pd.concat([preds, new_row], ignore_index=True)\n"
     ]
    },
    {
     "name": "stdout",
     "output_type": "stream",
     "text": [
      "Creating supervised data\n",
      "[====================] 100.0% complete\n"
     ]
    },
    {
     "name": "stderr",
     "output_type": "stream",
     "text": [
      "/tmp/ipykernel_10545/2888594386.py:25: FutureWarning: The behavior of DataFrame concatenation with empty or all-NA entries is deprecated. In a future version, this will no longer exclude empty or all-NA columns when determining the result dtypes. To retain the old behavior, exclude the relevant entries before the concat operation.\n",
      "  preds = pd.concat([preds, new_row], ignore_index=True)\n"
     ]
    },
    {
     "name": "stdout",
     "output_type": "stream",
     "text": [
      "Creating supervised data\n",
      "[====================] 100.0% complete\n"
     ]
    },
    {
     "name": "stderr",
     "output_type": "stream",
     "text": [
      "/tmp/ipykernel_10545/2888594386.py:25: FutureWarning: The behavior of DataFrame concatenation with empty or all-NA entries is deprecated. In a future version, this will no longer exclude empty or all-NA columns when determining the result dtypes. To retain the old behavior, exclude the relevant entries before the concat operation.\n",
      "  preds = pd.concat([preds, new_row], ignore_index=True)\n"
     ]
    },
    {
     "name": "stdout",
     "output_type": "stream",
     "text": [
      "Creating supervised data\n",
      "[====================] 100.0% complete\n"
     ]
    },
    {
     "name": "stderr",
     "output_type": "stream",
     "text": [
      "/tmp/ipykernel_10545/2888594386.py:25: FutureWarning: The behavior of DataFrame concatenation with empty or all-NA entries is deprecated. In a future version, this will no longer exclude empty or all-NA columns when determining the result dtypes. To retain the old behavior, exclude the relevant entries before the concat operation.\n",
      "  preds = pd.concat([preds, new_row], ignore_index=True)\n"
     ]
    },
    {
     "name": "stdout",
     "output_type": "stream",
     "text": [
      "Creating supervised data\n",
      "[====================] 100.0% complete\n"
     ]
    },
    {
     "name": "stderr",
     "output_type": "stream",
     "text": [
      "/tmp/ipykernel_10545/2888594386.py:25: FutureWarning: The behavior of DataFrame concatenation with empty or all-NA entries is deprecated. In a future version, this will no longer exclude empty or all-NA columns when determining the result dtypes. To retain the old behavior, exclude the relevant entries before the concat operation.\n",
      "  preds = pd.concat([preds, new_row], ignore_index=True)\n"
     ]
    },
    {
     "name": "stdout",
     "output_type": "stream",
     "text": [
      "Creating supervised data\n",
      "[====================] 100.0% complete\n"
     ]
    },
    {
     "name": "stderr",
     "output_type": "stream",
     "text": [
      "/tmp/ipykernel_10545/2888594386.py:25: FutureWarning: The behavior of DataFrame concatenation with empty or all-NA entries is deprecated. In a future version, this will no longer exclude empty or all-NA columns when determining the result dtypes. To retain the old behavior, exclude the relevant entries before the concat operation.\n",
      "  preds = pd.concat([preds, new_row], ignore_index=True)\n"
     ]
    },
    {
     "name": "stdout",
     "output_type": "stream",
     "text": [
      "Creating supervised data\n",
      "[====================] 100.0% complete\n"
     ]
    },
    {
     "name": "stderr",
     "output_type": "stream",
     "text": [
      "/tmp/ipykernel_10545/2888594386.py:25: FutureWarning: The behavior of DataFrame concatenation with empty or all-NA entries is deprecated. In a future version, this will no longer exclude empty or all-NA columns when determining the result dtypes. To retain the old behavior, exclude the relevant entries before the concat operation.\n",
      "  preds = pd.concat([preds, new_row], ignore_index=True)\n"
     ]
    },
    {
     "name": "stdout",
     "output_type": "stream",
     "text": [
      "Creating supervised data\n",
      "[====================] 100.0% complete\n"
     ]
    },
    {
     "name": "stderr",
     "output_type": "stream",
     "text": [
      "/tmp/ipykernel_10545/2888594386.py:25: FutureWarning: The behavior of DataFrame concatenation with empty or all-NA entries is deprecated. In a future version, this will no longer exclude empty or all-NA columns when determining the result dtypes. To retain the old behavior, exclude the relevant entries before the concat operation.\n",
      "  preds = pd.concat([preds, new_row], ignore_index=True)\n"
     ]
    },
    {
     "name": "stdout",
     "output_type": "stream",
     "text": [
      "Creating supervised data\n",
      "[====================] 100.0% complete\n"
     ]
    },
    {
     "name": "stderr",
     "output_type": "stream",
     "text": [
      "/tmp/ipykernel_10545/2888594386.py:25: FutureWarning: The behavior of DataFrame concatenation with empty or all-NA entries is deprecated. In a future version, this will no longer exclude empty or all-NA columns when determining the result dtypes. To retain the old behavior, exclude the relevant entries before the concat operation.\n",
      "  preds = pd.concat([preds, new_row], ignore_index=True)\n"
     ]
    },
    {
     "name": "stdout",
     "output_type": "stream",
     "text": [
      "Creating supervised data\n",
      "[====================] 100.0% complete\n"
     ]
    },
    {
     "name": "stderr",
     "output_type": "stream",
     "text": [
      "/tmp/ipykernel_10545/2888594386.py:25: FutureWarning: The behavior of DataFrame concatenation with empty or all-NA entries is deprecated. In a future version, this will no longer exclude empty or all-NA columns when determining the result dtypes. To retain the old behavior, exclude the relevant entries before the concat operation.\n",
      "  preds = pd.concat([preds, new_row], ignore_index=True)\n"
     ]
    },
    {
     "name": "stdout",
     "output_type": "stream",
     "text": [
      "Creating supervised data\n",
      "[====================] 100.0% complete\n"
     ]
    },
    {
     "name": "stderr",
     "output_type": "stream",
     "text": [
      "/tmp/ipykernel_10545/2888594386.py:25: FutureWarning: The behavior of DataFrame concatenation with empty or all-NA entries is deprecated. In a future version, this will no longer exclude empty or all-NA columns when determining the result dtypes. To retain the old behavior, exclude the relevant entries before the concat operation.\n",
      "  preds = pd.concat([preds, new_row], ignore_index=True)\n"
     ]
    },
    {
     "name": "stdout",
     "output_type": "stream",
     "text": [
      "Creating supervised data\n",
      "[====================] 100.0% complete\n"
     ]
    },
    {
     "name": "stderr",
     "output_type": "stream",
     "text": [
      "/tmp/ipykernel_10545/2888594386.py:25: FutureWarning: The behavior of DataFrame concatenation with empty or all-NA entries is deprecated. In a future version, this will no longer exclude empty or all-NA columns when determining the result dtypes. To retain the old behavior, exclude the relevant entries before the concat operation.\n",
      "  preds = pd.concat([preds, new_row], ignore_index=True)\n"
     ]
    },
    {
     "name": "stdout",
     "output_type": "stream",
     "text": [
      "Creating supervised data\n",
      "[====================] 100.0% complete\n"
     ]
    },
    {
     "name": "stderr",
     "output_type": "stream",
     "text": [
      "/tmp/ipykernel_10545/2888594386.py:25: FutureWarning: The behavior of DataFrame concatenation with empty or all-NA entries is deprecated. In a future version, this will no longer exclude empty or all-NA columns when determining the result dtypes. To retain the old behavior, exclude the relevant entries before the concat operation.\n",
      "  preds = pd.concat([preds, new_row], ignore_index=True)\n"
     ]
    },
    {
     "name": "stdout",
     "output_type": "stream",
     "text": [
      "Creating supervised data\n",
      "[====================] 100.0% complete\n"
     ]
    },
    {
     "name": "stderr",
     "output_type": "stream",
     "text": [
      "/tmp/ipykernel_10545/2888594386.py:25: FutureWarning: The behavior of DataFrame concatenation with empty or all-NA entries is deprecated. In a future version, this will no longer exclude empty or all-NA columns when determining the result dtypes. To retain the old behavior, exclude the relevant entries before the concat operation.\n",
      "  preds = pd.concat([preds, new_row], ignore_index=True)\n"
     ]
    },
    {
     "name": "stdout",
     "output_type": "stream",
     "text": [
      "Creating supervised data\n",
      "[====================] 100.0% complete\n"
     ]
    },
    {
     "name": "stderr",
     "output_type": "stream",
     "text": [
      "/tmp/ipykernel_10545/2888594386.py:25: FutureWarning: The behavior of DataFrame concatenation with empty or all-NA entries is deprecated. In a future version, this will no longer exclude empty or all-NA columns when determining the result dtypes. To retain the old behavior, exclude the relevant entries before the concat operation.\n",
      "  preds = pd.concat([preds, new_row], ignore_index=True)\n"
     ]
    },
    {
     "name": "stdout",
     "output_type": "stream",
     "text": [
      "Creating supervised data\n",
      "[====================] 100.0% complete\n"
     ]
    },
    {
     "name": "stderr",
     "output_type": "stream",
     "text": [
      "/tmp/ipykernel_10545/2888594386.py:25: FutureWarning: The behavior of DataFrame concatenation with empty or all-NA entries is deprecated. In a future version, this will no longer exclude empty or all-NA columns when determining the result dtypes. To retain the old behavior, exclude the relevant entries before the concat operation.\n",
      "  preds = pd.concat([preds, new_row], ignore_index=True)\n"
     ]
    },
    {
     "name": "stdout",
     "output_type": "stream",
     "text": [
      "Creating supervised data\n",
      "[====================] 100.0% complete\n"
     ]
    },
    {
     "name": "stderr",
     "output_type": "stream",
     "text": [
      "/tmp/ipykernel_10545/2888594386.py:25: FutureWarning: The behavior of DataFrame concatenation with empty or all-NA entries is deprecated. In a future version, this will no longer exclude empty or all-NA columns when determining the result dtypes. To retain the old behavior, exclude the relevant entries before the concat operation.\n",
      "  preds = pd.concat([preds, new_row], ignore_index=True)\n"
     ]
    },
    {
     "name": "stdout",
     "output_type": "stream",
     "text": [
      "Creating supervised data\n",
      "[====================] 100.0% complete\n"
     ]
    },
    {
     "name": "stderr",
     "output_type": "stream",
     "text": [
      "/tmp/ipykernel_10545/2888594386.py:25: FutureWarning: The behavior of DataFrame concatenation with empty or all-NA entries is deprecated. In a future version, this will no longer exclude empty or all-NA columns when determining the result dtypes. To retain the old behavior, exclude the relevant entries before the concat operation.\n",
      "  preds = pd.concat([preds, new_row], ignore_index=True)\n"
     ]
    },
    {
     "name": "stdout",
     "output_type": "stream",
     "text": [
      "Creating supervised data\n",
      "[====================] 100.0% complete\n"
     ]
    },
    {
     "name": "stderr",
     "output_type": "stream",
     "text": [
      "/tmp/ipykernel_10545/2888594386.py:25: FutureWarning: The behavior of DataFrame concatenation with empty or all-NA entries is deprecated. In a future version, this will no longer exclude empty or all-NA columns when determining the result dtypes. To retain the old behavior, exclude the relevant entries before the concat operation.\n",
      "  preds = pd.concat([preds, new_row], ignore_index=True)\n"
     ]
    },
    {
     "name": "stdout",
     "output_type": "stream",
     "text": [
      "Creating supervised data\n",
      "[====================] 100.0% complete\n"
     ]
    },
    {
     "name": "stderr",
     "output_type": "stream",
     "text": [
      "/tmp/ipykernel_10545/2888594386.py:25: FutureWarning: The behavior of DataFrame concatenation with empty or all-NA entries is deprecated. In a future version, this will no longer exclude empty or all-NA columns when determining the result dtypes. To retain the old behavior, exclude the relevant entries before the concat operation.\n",
      "  preds = pd.concat([preds, new_row], ignore_index=True)\n"
     ]
    },
    {
     "name": "stdout",
     "output_type": "stream",
     "text": [
      "Creating supervised data\n",
      "[====================] 100.0% complete\n"
     ]
    },
    {
     "name": "stderr",
     "output_type": "stream",
     "text": [
      "/tmp/ipykernel_10545/2888594386.py:25: FutureWarning: The behavior of DataFrame concatenation with empty or all-NA entries is deprecated. In a future version, this will no longer exclude empty or all-NA columns when determining the result dtypes. To retain the old behavior, exclude the relevant entries before the concat operation.\n",
      "  preds = pd.concat([preds, new_row], ignore_index=True)\n"
     ]
    },
    {
     "name": "stdout",
     "output_type": "stream",
     "text": [
      "Creating supervised data\n",
      "[====================] 100.0% complete\n"
     ]
    },
    {
     "name": "stderr",
     "output_type": "stream",
     "text": [
      "/tmp/ipykernel_10545/2888594386.py:25: FutureWarning: The behavior of DataFrame concatenation with empty or all-NA entries is deprecated. In a future version, this will no longer exclude empty or all-NA columns when determining the result dtypes. To retain the old behavior, exclude the relevant entries before the concat operation.\n",
      "  preds = pd.concat([preds, new_row], ignore_index=True)\n"
     ]
    },
    {
     "name": "stdout",
     "output_type": "stream",
     "text": [
      "Creating supervised data\n",
      "[====================] 100.0% complete\n"
     ]
    },
    {
     "name": "stderr",
     "output_type": "stream",
     "text": [
      "/tmp/ipykernel_10545/2888594386.py:25: FutureWarning: The behavior of DataFrame concatenation with empty or all-NA entries is deprecated. In a future version, this will no longer exclude empty or all-NA columns when determining the result dtypes. To retain the old behavior, exclude the relevant entries before the concat operation.\n",
      "  preds = pd.concat([preds, new_row], ignore_index=True)\n"
     ]
    },
    {
     "name": "stdout",
     "output_type": "stream",
     "text": [
      "Creating supervised data\n",
      "[====================] 100.0% complete\n"
     ]
    },
    {
     "name": "stderr",
     "output_type": "stream",
     "text": [
      "/tmp/ipykernel_10545/2888594386.py:25: FutureWarning: The behavior of DataFrame concatenation with empty or all-NA entries is deprecated. In a future version, this will no longer exclude empty or all-NA columns when determining the result dtypes. To retain the old behavior, exclude the relevant entries before the concat operation.\n",
      "  preds = pd.concat([preds, new_row], ignore_index=True)\n"
     ]
    },
    {
     "name": "stdout",
     "output_type": "stream",
     "text": [
      "Creating supervised data\n",
      "[====================] 100.0% complete\n"
     ]
    },
    {
     "name": "stderr",
     "output_type": "stream",
     "text": [
      "/tmp/ipykernel_10545/2888594386.py:25: FutureWarning: The behavior of DataFrame concatenation with empty or all-NA entries is deprecated. In a future version, this will no longer exclude empty or all-NA columns when determining the result dtypes. To retain the old behavior, exclude the relevant entries before the concat operation.\n",
      "  preds = pd.concat([preds, new_row], ignore_index=True)\n"
     ]
    },
    {
     "name": "stdout",
     "output_type": "stream",
     "text": [
      "Creating supervised data\n",
      "[====================] 100.0% complete\n"
     ]
    },
    {
     "name": "stderr",
     "output_type": "stream",
     "text": [
      "/tmp/ipykernel_10545/2888594386.py:25: FutureWarning: The behavior of DataFrame concatenation with empty or all-NA entries is deprecated. In a future version, this will no longer exclude empty or all-NA columns when determining the result dtypes. To retain the old behavior, exclude the relevant entries before the concat operation.\n",
      "  preds = pd.concat([preds, new_row], ignore_index=True)\n"
     ]
    },
    {
     "name": "stdout",
     "output_type": "stream",
     "text": [
      "Creating supervised data\n",
      "[====================] 100.0% complete\n"
     ]
    },
    {
     "name": "stderr",
     "output_type": "stream",
     "text": [
      "/tmp/ipykernel_10545/2888594386.py:25: FutureWarning: The behavior of DataFrame concatenation with empty or all-NA entries is deprecated. In a future version, this will no longer exclude empty or all-NA columns when determining the result dtypes. To retain the old behavior, exclude the relevant entries before the concat operation.\n",
      "  preds = pd.concat([preds, new_row], ignore_index=True)\n"
     ]
    },
    {
     "name": "stdout",
     "output_type": "stream",
     "text": [
      "Creating supervised data\n",
      "[====================] 100.0% complete\n"
     ]
    },
    {
     "name": "stderr",
     "output_type": "stream",
     "text": [
      "/tmp/ipykernel_10545/2888594386.py:25: FutureWarning: The behavior of DataFrame concatenation with empty or all-NA entries is deprecated. In a future version, this will no longer exclude empty or all-NA columns when determining the result dtypes. To retain the old behavior, exclude the relevant entries before the concat operation.\n",
      "  preds = pd.concat([preds, new_row], ignore_index=True)\n"
     ]
    },
    {
     "name": "stdout",
     "output_type": "stream",
     "text": [
      "Creating supervised data\n",
      "[====================] 100.0% complete\n"
     ]
    },
    {
     "name": "stderr",
     "output_type": "stream",
     "text": [
      "/tmp/ipykernel_10545/2888594386.py:25: FutureWarning: The behavior of DataFrame concatenation with empty or all-NA entries is deprecated. In a future version, this will no longer exclude empty or all-NA columns when determining the result dtypes. To retain the old behavior, exclude the relevant entries before the concat operation.\n",
      "  preds = pd.concat([preds, new_row], ignore_index=True)\n"
     ]
    },
    {
     "name": "stdout",
     "output_type": "stream",
     "text": [
      "Creating supervised data\n",
      "[====================] 100.0% complete\n"
     ]
    },
    {
     "name": "stderr",
     "output_type": "stream",
     "text": [
      "/tmp/ipykernel_10545/2888594386.py:25: FutureWarning: The behavior of DataFrame concatenation with empty or all-NA entries is deprecated. In a future version, this will no longer exclude empty or all-NA columns when determining the result dtypes. To retain the old behavior, exclude the relevant entries before the concat operation.\n",
      "  preds = pd.concat([preds, new_row], ignore_index=True)\n"
     ]
    },
    {
     "name": "stdout",
     "output_type": "stream",
     "text": [
      "         ID  longitude_predicted  latitude_predicted\n",
      "2         0           -81.872749           31.170771\n",
      "2         1           120.029510           14.514480\n",
      "2         2            10.880864           38.644531\n",
      "2         3           173.261154          -43.644081\n",
      "3         4            -6.459991           48.384121\n",
      "...     ...                  ...                 ...\n",
      "1088  51734           -79.743683           25.780249\n",
      "1185  51735           141.545029           41.920494\n",
      "1024  51736           141.545029           35.554764\n",
      "375   51737            22.119131           59.696823\n",
      "362   51738            10.098973           56.301670\n",
      "\n",
      "[51739 rows x 3 columns]\n"
     ]
    }
   ],
   "source": [
    "def predict_times(model,total_df,test_df):\n",
    "    unique_sorts = test_df[\"vesselId\"].unique()\n",
    "    preds_df = pd.DataFrame()\n",
    "    result = pd.DataFrame()\n",
    "\n",
    "    for sorts in unique_sorts:\n",
    "        latest_features=total_df[total_df[\"vesselId\"] == sorts]\n",
    "        test_by_vessel_df = test_df[test_df[\"vesselId\"] == sorts]\n",
    "        latest_features = make_supervised(latest_features, OUTPUT_FORECAST, \"vesselId\" , INPUT_WINDOW, OUTPUT_WINDOW)\n",
    "        latest_features = shift_to_back(latest_features)\n",
    "        latest_features = sort_columns(latest_features)\n",
    "        preds = predict_far_future(model, latest_features, test_by_vessel_df, OUTPUT_FORECAST)\n",
    "        preds_df = pd.concat([preds_df, preds])\n",
    "    \n",
    "    for test in test_df.iterrows():\n",
    "        test=pd.Series(test[1])\n",
    "        new_row = pd.DataFrame()\n",
    "        new_row=preds_df[\n",
    "            (preds_df[\"vesselId\"] == test[\"vesselId\"]) & \n",
    "            (preds_df[\"approximate_time\"] == closest_n_min_mark(test[\"time\"]))\n",
    "            ][[\"latitude\", \"longitude\"]]\n",
    "        new_row[\"ID\"] = test[\"ID\"]\n",
    "        new_row[\"time\"] = test[\"time\"]\n",
    "        \n",
    "        result = pd.concat([result, new_row])\n",
    "    result[\"latitude_predicted\"] = result[\"latitude\"]\n",
    "    result[\"longitude_predicted\"] = result[\"longitude\"]\n",
    "\n",
    "    return result[[\"ID\",\"longitude_predicted\",\"latitude_predicted\"]]\n",
    "\n",
    "print(test_df)\n",
    "total_df = pd.read_csv(\"../../Project materials(1)/data_resampled_20min.csv\")\n",
    "total_df[\"time\"] = pd.to_datetime(total_df['time'])\n",
    "total_df.set_index(\"time\", inplace=True)\n",
    "print(total_df.head())\n",
    "result_df = predict_times(model, total_df, test_df)\n",
    "print(result_df)\n",
    "\n",
    "\n",
    "\n"
   ]
  },
  {
   "cell_type": "code",
   "execution_count": null,
   "metadata": {},
   "outputs": [],
   "source": [
    "\n"
   ]
  },
  {
   "cell_type": "code",
   "execution_count": 20,
   "metadata": {},
   "outputs": [],
   "source": [
    "#turn results into a csv file\n",
    "result_df.to_csv(\"../../Project materials(1)/results.csv\", index=False)"
   ]
  },
  {
   "cell_type": "code",
   "execution_count": null,
   "metadata": {},
   "outputs": [],
   "source": [
    "_ = plot_importance(model, height=0.9)"
   ]
  },
  {
   "cell_type": "markdown",
   "metadata": {},
   "source": [
    "### First model:\n",
    "Included navstat and etaParsed\n",
    "\n",
    "Timewindow: (3,2)\n",
    "\n",
    "MAE: 0.8521843262281953 \n",
    "\n",
    "MSE: longitude_t+1    21.225563\n",
    "\n",
    "latitude_t+1      1.993130\n",
    "\n",
    "longitude_t+2    38.471488\n",
    "\n",
    "latitude_t+2      3.840146\n",
    "\n",
    "dtype: float64\n",
    "\n",
    "R2 Score: 0.9958523607729776\n",
    "\n",
    "RMSE: longitude_t+1    4.607121\n",
    "\n",
    "latitude_t+1     1.411783\n",
    "\n",
    "longitude_t+2    6.202539\n",
    "\n",
    "latitude_t+2     1.959629\n",
    "\n",
    "dtype: float64\n",
    "\n",
    "\n",
    "### Second model:\n",
    "\n",
    "Added cog, rot and heading to target features.\n",
    "\n",
    "Timewindow: (3,2)\n",
    "\n",
    "MAE: 7.198335594601071\n",
    "MSE: latitude_t+1        1.980426\n",
    "longitude_t+1      21.577318\n",
    "cog_t+1          1820.208937\n",
    "rot_t+1            92.532501\n",
    "heading_t+1      1172.604934\n",
    "latitude_t+2        3.813640\n",
    "longitude_t+2      39.218475\n",
    "cog_t+2          2370.325440\n",
    "rot_t+2           107.991661\n",
    "heading_t+2      1769.347459\n",
    "dtype: float64\n",
    "R2 Score: 0.8826565909012996\n",
    "RMSE: latitude_t+1      1.407276\n",
    "longitude_t+1     4.645139\n",
    "cog_t+1          42.663907\n",
    "rot_t+1           9.619382\n",
    "heading_t+1      34.243320\n",
    "latitude_t+2      1.952854\n",
    "longitude_t+2     6.262466\n",
    "cog_t+2          48.685988\n",
    "rot_t+2          10.391904\n",
    "heading_t+2      42.063612\n",
    "dtype: float64\n"
   ]
  },
  {
   "cell_type": "markdown",
   "metadata": {},
   "source": []
  }
 ],
 "metadata": {
  "kernelspec": {
   "display_name": "base",
   "language": "python",
   "name": "python3"
  },
  "language_info": {
   "codemirror_mode": {
    "name": "ipython",
    "version": 3
   },
   "file_extension": ".py",
   "mimetype": "text/x-python",
   "name": "python",
   "nbconvert_exporter": "python",
   "pygments_lexer": "ipython3",
   "version": "3.12.4"
  }
 },
 "nbformat": 4,
 "nbformat_minor": 2
}
