{
 "cells": [
  {
   "cell_type": "code",
   "execution_count": 1,
   "metadata": {},
   "outputs": [
    {
     "name": "stderr",
     "output_type": "stream",
     "text": [
      "2024-10-09 13:08:53.979056: I tensorflow/core/util/port.cc:153] oneDNN custom operations are on. You may see slightly different numerical results due to floating-point round-off errors from different computation orders. To turn them off, set the environment variable `TF_ENABLE_ONEDNN_OPTS=0`.\n",
      "2024-10-09 13:08:53.989439: I external/local_xla/xla/tsl/cuda/cudart_stub.cc:32] Could not find cuda drivers on your machine, GPU will not be used.\n",
      "2024-10-09 13:08:54.072137: I external/local_xla/xla/tsl/cuda/cudart_stub.cc:32] Could not find cuda drivers on your machine, GPU will not be used.\n",
      "2024-10-09 13:08:54.149603: E external/local_xla/xla/stream_executor/cuda/cuda_fft.cc:485] Unable to register cuFFT factory: Attempting to register factory for plugin cuFFT when one has already been registered\n",
      "2024-10-09 13:08:54.228919: E external/local_xla/xla/stream_executor/cuda/cuda_dnn.cc:8454] Unable to register cuDNN factory: Attempting to register factory for plugin cuDNN when one has already been registered\n",
      "2024-10-09 13:08:54.252177: E external/local_xla/xla/stream_executor/cuda/cuda_blas.cc:1452] Unable to register cuBLAS factory: Attempting to register factory for plugin cuBLAS when one has already been registered\n",
      "2024-10-09 13:08:54.377713: I tensorflow/core/platform/cpu_feature_guard.cc:210] This TensorFlow binary is optimized to use available CPU instructions in performance-critical operations.\n",
      "To enable the following instructions: AVX2 AVX512F AVX512_VNNI FMA, in other operations, rebuild TensorFlow with the appropriate compiler flags.\n",
      "2024-10-09 13:08:55.712028: W tensorflow/compiler/tf2tensorrt/utils/py_utils.cc:38] TF-TRT Warning: Could not find TensorRT\n"
     ]
    }
   ],
   "source": [
    "import pandas as pd\n",
    "import numpy as np\n",
    "import matplotlib.pyplot as plt\n",
    "import seaborn as sns\n",
    "from datetime import datetime\n",
    "from csv_parser import CSVParser\n",
    "from sklearn.model_selection import train_test_split\n",
    "from sklearn.preprocessing import StandardScaler\n",
    "import tensorflow as ts\n",
    "import os"
   ]
  },
  {
   "cell_type": "code",
   "execution_count": 2,
   "metadata": {},
   "outputs": [],
   "source": [
    "from tensorflow.keras.models import Sequential\n",
    "from tensorflow.keras.layers import *\n",
    "from tensorflow.keras.callbacks import ModelCheckpoint\n",
    "from tensorflow.keras.losses import MeanSquaredError\n",
    "from tensorflow.keras.metrics import RootMeanSquaredError\n",
    "from tensorflow.keras.optimizers import Adam\n",
    "from tensorflow.keras.preprocessing.text import Tokenizer\n",
    "from tensorflow.keras.preprocessing.sequence import pad_sequences"
   ]
  },
  {
   "cell_type": "code",
   "execution_count": 3,
   "metadata": {},
   "outputs": [
    {
     "data": {
      "text/html": [
       "<div>\n",
       "<style scoped>\n",
       "    .dataframe tbody tr th:only-of-type {\n",
       "        vertical-align: middle;\n",
       "    }\n",
       "\n",
       "    .dataframe tbody tr th {\n",
       "        vertical-align: top;\n",
       "    }\n",
       "\n",
       "    .dataframe thead th {\n",
       "        text-align: right;\n",
       "    }\n",
       "</style>\n",
       "<table border=\"1\" class=\"dataframe\">\n",
       "  <thead>\n",
       "    <tr style=\"text-align: right;\">\n",
       "      <th></th>\n",
       "      <th>time</th>\n",
       "      <th>cog</th>\n",
       "      <th>sog</th>\n",
       "      <th>rot</th>\n",
       "      <th>heading</th>\n",
       "      <th>navstat</th>\n",
       "      <th>latitude</th>\n",
       "      <th>longitude</th>\n",
       "      <th>vesselId</th>\n",
       "      <th>portId</th>\n",
       "      <th>etaParsed</th>\n",
       "    </tr>\n",
       "  </thead>\n",
       "  <tbody>\n",
       "    <tr>\n",
       "      <th>0</th>\n",
       "      <td>2024-01-01 00:00:25</td>\n",
       "      <td>284.0</td>\n",
       "      <td>0.7</td>\n",
       "      <td>0</td>\n",
       "      <td>88</td>\n",
       "      <td>0</td>\n",
       "      <td>-34.74370</td>\n",
       "      <td>-57.85130</td>\n",
       "      <td>61e9f3a8b937134a3c4bfdf7</td>\n",
       "      <td>61d371c43aeaecc07011a37f</td>\n",
       "      <td>2024-01-09 23:00:00</td>\n",
       "    </tr>\n",
       "    <tr>\n",
       "      <th>1</th>\n",
       "      <td>2024-01-01 00:00:36</td>\n",
       "      <td>109.6</td>\n",
       "      <td>0.0</td>\n",
       "      <td>-6</td>\n",
       "      <td>347</td>\n",
       "      <td>1</td>\n",
       "      <td>8.89440</td>\n",
       "      <td>-79.47939</td>\n",
       "      <td>61e9f3d4b937134a3c4bff1f</td>\n",
       "      <td>634c4de270937fc01c3a7689</td>\n",
       "      <td>2024-12-29 20:00:00</td>\n",
       "    </tr>\n",
       "    <tr>\n",
       "      <th>2</th>\n",
       "      <td>2024-01-01 00:01:45</td>\n",
       "      <td>111.0</td>\n",
       "      <td>11.0</td>\n",
       "      <td>0</td>\n",
       "      <td>112</td>\n",
       "      <td>0</td>\n",
       "      <td>39.19065</td>\n",
       "      <td>-76.47567</td>\n",
       "      <td>61e9f436b937134a3c4c0131</td>\n",
       "      <td>61d3847bb7b7526e1adf3d19</td>\n",
       "      <td>2024-01-02 09:00:00</td>\n",
       "    </tr>\n",
       "    <tr>\n",
       "      <th>3</th>\n",
       "      <td>2024-01-01 00:03:11</td>\n",
       "      <td>96.4</td>\n",
       "      <td>0.0</td>\n",
       "      <td>0</td>\n",
       "      <td>142</td>\n",
       "      <td>1</td>\n",
       "      <td>-34.41189</td>\n",
       "      <td>151.02067</td>\n",
       "      <td>61e9f3b4b937134a3c4bfe77</td>\n",
       "      <td>61d36f770a1807568ff9a126</td>\n",
       "      <td>2024-12-31 20:00:00</td>\n",
       "    </tr>\n",
       "    <tr>\n",
       "      <th>4</th>\n",
       "      <td>2024-01-01 00:03:51</td>\n",
       "      <td>214.0</td>\n",
       "      <td>19.7</td>\n",
       "      <td>0</td>\n",
       "      <td>215</td>\n",
       "      <td>0</td>\n",
       "      <td>35.88379</td>\n",
       "      <td>-5.91636</td>\n",
       "      <td>61e9f41bb937134a3c4c0087</td>\n",
       "      <td>634c4de270937fc01c3a74f3</td>\n",
       "      <td>2024-01-25 12:00:00</td>\n",
       "    </tr>\n",
       "  </tbody>\n",
       "</table>\n",
       "</div>"
      ],
      "text/plain": [
       "                 time    cog   sog  rot  heading  navstat  latitude  \\\n",
       "0 2024-01-01 00:00:25  284.0   0.7    0       88        0 -34.74370   \n",
       "1 2024-01-01 00:00:36  109.6   0.0   -6      347        1   8.89440   \n",
       "2 2024-01-01 00:01:45  111.0  11.0    0      112        0  39.19065   \n",
       "3 2024-01-01 00:03:11   96.4   0.0    0      142        1 -34.41189   \n",
       "4 2024-01-01 00:03:51  214.0  19.7    0      215        0  35.88379   \n",
       "\n",
       "   longitude                  vesselId                    portId  \\\n",
       "0  -57.85130  61e9f3a8b937134a3c4bfdf7  61d371c43aeaecc07011a37f   \n",
       "1  -79.47939  61e9f3d4b937134a3c4bff1f  634c4de270937fc01c3a7689   \n",
       "2  -76.47567  61e9f436b937134a3c4c0131  61d3847bb7b7526e1adf3d19   \n",
       "3  151.02067  61e9f3b4b937134a3c4bfe77  61d36f770a1807568ff9a126   \n",
       "4   -5.91636  61e9f41bb937134a3c4c0087  634c4de270937fc01c3a74f3   \n",
       "\n",
       "            etaParsed  \n",
       "0 2024-01-09 23:00:00  \n",
       "1 2024-12-29 20:00:00  \n",
       "2 2024-01-02 09:00:00  \n",
       "3 2024-12-31 20:00:00  \n",
       "4 2024-01-25 12:00:00  "
      ]
     },
     "execution_count": 3,
     "metadata": {},
     "output_type": "execute_result"
    }
   ],
   "source": [
    "parser = CSVParser(folderpath=\"../../Project materials(1)/\")\n",
    "df = parser.retrieve_training_data()\n",
    "df.head()\n",
    "\n",
    "#Column 6 is lat.\n",
    "#Column 7 is long.\n"
   ]
  },
  {
   "cell_type": "code",
   "execution_count": 4,
   "metadata": {},
   "outputs": [
    {
     "data": {
      "text/html": [
       "<div>\n",
       "<style scoped>\n",
       "    .dataframe tbody tr th:only-of-type {\n",
       "        vertical-align: middle;\n",
       "    }\n",
       "\n",
       "    .dataframe tbody tr th {\n",
       "        vertical-align: top;\n",
       "    }\n",
       "\n",
       "    .dataframe thead th {\n",
       "        text-align: right;\n",
       "    }\n",
       "</style>\n",
       "<table border=\"1\" class=\"dataframe\">\n",
       "  <thead>\n",
       "    <tr style=\"text-align: right;\">\n",
       "      <th></th>\n",
       "      <th>time_s</th>\n",
       "      <th>cog</th>\n",
       "      <th>sog</th>\n",
       "      <th>rot</th>\n",
       "      <th>heading</th>\n",
       "      <th>navstat</th>\n",
       "      <th>latitude</th>\n",
       "      <th>longitude</th>\n",
       "      <th>vesselId</th>\n",
       "      <th>padded_vesselId</th>\n",
       "      <th>padded_portId</th>\n",
       "      <th>eta_s</th>\n",
       "    </tr>\n",
       "  </thead>\n",
       "  <tbody>\n",
       "    <tr>\n",
       "      <th>0</th>\n",
       "      <td>1.704067e+09</td>\n",
       "      <td>284.0</td>\n",
       "      <td>0.7</td>\n",
       "      <td>0</td>\n",
       "      <td>88</td>\n",
       "      <td>0</td>\n",
       "      <td>-34.74370</td>\n",
       "      <td>-57.85130</td>\n",
       "      <td>61e9f3a8b937134a3c4bfdf7</td>\n",
       "      <td>595.0</td>\n",
       "      <td>966.0</td>\n",
       "      <td>1.704841e+09</td>\n",
       "    </tr>\n",
       "    <tr>\n",
       "      <th>1</th>\n",
       "      <td>1.704067e+09</td>\n",
       "      <td>109.6</td>\n",
       "      <td>0.0</td>\n",
       "      <td>-6</td>\n",
       "      <td>347</td>\n",
       "      <td>1</td>\n",
       "      <td>8.89440</td>\n",
       "      <td>-79.47939</td>\n",
       "      <td>61e9f3d4b937134a3c4bff1f</td>\n",
       "      <td>535.0</td>\n",
       "      <td>172.0</td>\n",
       "      <td>1.735502e+09</td>\n",
       "    </tr>\n",
       "    <tr>\n",
       "      <th>2</th>\n",
       "      <td>1.704067e+09</td>\n",
       "      <td>111.0</td>\n",
       "      <td>11.0</td>\n",
       "      <td>0</td>\n",
       "      <td>112</td>\n",
       "      <td>0</td>\n",
       "      <td>39.19065</td>\n",
       "      <td>-76.47567</td>\n",
       "      <td>61e9f436b937134a3c4c0131</td>\n",
       "      <td>482.0</td>\n",
       "      <td>7.0</td>\n",
       "      <td>1.704186e+09</td>\n",
       "    </tr>\n",
       "    <tr>\n",
       "      <th>3</th>\n",
       "      <td>1.704067e+09</td>\n",
       "      <td>96.4</td>\n",
       "      <td>0.0</td>\n",
       "      <td>0</td>\n",
       "      <td>142</td>\n",
       "      <td>1</td>\n",
       "      <td>-34.41189</td>\n",
       "      <td>151.02067</td>\n",
       "      <td>61e9f3b4b937134a3c4bfe77</td>\n",
       "      <td>686.0</td>\n",
       "      <td>197.0</td>\n",
       "      <td>1.735675e+09</td>\n",
       "    </tr>\n",
       "    <tr>\n",
       "      <th>4</th>\n",
       "      <td>1.704067e+09</td>\n",
       "      <td>214.0</td>\n",
       "      <td>19.7</td>\n",
       "      <td>0</td>\n",
       "      <td>215</td>\n",
       "      <td>0</td>\n",
       "      <td>35.88379</td>\n",
       "      <td>-5.91636</td>\n",
       "      <td>61e9f41bb937134a3c4c0087</td>\n",
       "      <td>738.0</td>\n",
       "      <td>534.0</td>\n",
       "      <td>1.706184e+09</td>\n",
       "    </tr>\n",
       "  </tbody>\n",
       "</table>\n",
       "</div>"
      ],
      "text/plain": [
       "         time_s    cog   sog  rot  heading  navstat  latitude  longitude  \\\n",
       "0  1.704067e+09  284.0   0.7    0       88        0 -34.74370  -57.85130   \n",
       "1  1.704067e+09  109.6   0.0   -6      347        1   8.89440  -79.47939   \n",
       "2  1.704067e+09  111.0  11.0    0      112        0  39.19065  -76.47567   \n",
       "3  1.704067e+09   96.4   0.0    0      142        1 -34.41189  151.02067   \n",
       "4  1.704067e+09  214.0  19.7    0      215        0  35.88379   -5.91636   \n",
       "\n",
       "                   vesselId  padded_vesselId  padded_portId         eta_s  \n",
       "0  61e9f3a8b937134a3c4bfdf7            595.0          966.0  1.704841e+09  \n",
       "1  61e9f3d4b937134a3c4bff1f            535.0          172.0  1.735502e+09  \n",
       "2  61e9f436b937134a3c4c0131            482.0            7.0  1.704186e+09  \n",
       "3  61e9f3b4b937134a3c4bfe77            686.0          197.0  1.735675e+09  \n",
       "4  61e9f41bb937134a3c4c0087            738.0          534.0  1.706184e+09  "
      ]
     },
     "execution_count": 4,
     "metadata": {},
     "output_type": "execute_result"
    }
   ],
   "source": [
    "#Using tokenizer on vesselId and portId\n",
    "tokenizer = Tokenizer()\n",
    "\n",
    "#Ensuring that all missing values are empty strings\n",
    "df[\"vesselId\"] = df[\"vesselId\"].fillna(\"\")\n",
    "df[\"portId\"] = df[\"portId\"].fillna(\"\")\n",
    "\n",
    "# Fit the tokenizer on both columns separately\n",
    "tokenizer.fit_on_texts(df[\"vesselId\"])\n",
    "tokenizer.fit_on_texts(df[\"portId\"])\n",
    "\n",
    "# Convert the text columns to sequences of integers\n",
    "seq_vessel = tokenizer.texts_to_sequences(df[\"vesselId\"])\n",
    "seq_port = tokenizer.texts_to_sequences(df[\"portId\"])\n",
    "\n",
    "# Pad the sequences to ensure uniform length (for each column separately)\n",
    "max_length_vessel = max(len(seq) for seq in seq_vessel)\n",
    "max_length_port = max(len(seq) for seq in seq_port)\n",
    "\n",
    "pad_seq_vessel = pad_sequences(seq_vessel, maxlen=max_length_vessel, padding='post')\n",
    "pad_seq_port = pad_sequences(seq_port, maxlen=max_length_port, padding='post')\n",
    "\n",
    "pad_seq_vessel = np.array(pad_seq_vessel).astype(np.float32)\n",
    "pad_seq_port = np.array(pad_seq_port).astype(np.float32)\n",
    "\n",
    "# Add these sequences back to the DataFrame (or keep them as arrays for model input)\n",
    "df['padded_vesselId'] = pad_seq_vessel\n",
    "df['padded_portId'] = pad_seq_port\n",
    "\n",
    "#Converting time stamps to seconds.\n",
    "df[\"time_s\"] = df['time'].astype(int)//1e9\n",
    "\n",
    "df[\"eta_s\"] = df['etaParsed'].astype(int)//1e9\n",
    "\n",
    "#Getting rid of columns time and etaParsed.\n",
    "df = df[[\"time_s\", \"cog\", \"sog\", \"rot\", \"heading\", \"navstat\",\"latitude\",\"longitude\",\"vesselId\",\"padded_vesselId\", \"padded_portId\", \"eta_s\"]].copy()\n",
    "df.head()\n",
    "\n"
   ]
  },
  {
   "cell_type": "code",
   "execution_count": 5,
   "metadata": {},
   "outputs": [],
   "source": [
    "def sequencing(df, window_size):\n",
    "  ids = df.vesselId.unique()\n",
    "  X = []\n",
    "  y = []\n",
    "  for j in range(len(ids)):\n",
    "    df_id = df[df[\"vesselId\"] == ids[j]].copy()\n",
    "    if df_id.shape[0]>window_size:\n",
    "      df_id_np = df_id.to_numpy()\n",
    "      for i in range(len(df_id_np)-window_size):\n",
    "        row = [r for r in df_id_np[i:i+window_size]]\n",
    "        X.append(row)\n",
    "        label = [df_id_np[i+window_size][6], df_id_np[i+window_size][7]]\n",
    "        y.append(label)\n",
    "  \n",
    "  y = np.array(y)\n",
    "  X = np.array(X)\n",
    "  y_reshaped = y[:,:, np.newaxis]\n",
    "  XandY=np.concatenate((X, np.tile(y_reshaped, (1, 1, X.shape[2]))), axis=1)\n",
    "  XandY[XandY[:,0,0].argsort()]\n",
    "  X = XandY[:,:-2,:]\n",
    "  y = XandY[:,-2:,0]\n",
    "  \n",
    "  return X,y\n",
    "\n",
    "Xs,ys = sequencing(df, 7)\n"
   ]
  },
  {
   "cell_type": "code",
   "execution_count": 6,
   "metadata": {},
   "outputs": [],
   "source": [
    "\n",
    "\n",
    "Xs = np.delete(Xs, 8, axis=2)\n"
   ]
  },
  {
   "cell_type": "code",
   "execution_count": 7,
   "metadata": {},
   "outputs": [
    {
     "name": "stdout",
     "output_type": "stream",
     "text": [
      "(1517255, 7, 11)\n"
     ]
    }
   ],
   "source": [
    "print(Xs.shape)\n",
    "train_X = Xs[:int(np.round(Xs.shape[0]*0.7))]\n",
    "train_Y = ys[:int(np.round(Xs.shape[0]*0.7))]\n",
    "val_X = Xs[int(np.round(Xs.shape[0]*0.7)):int(np.round(Xs.shape[0]*0.85))]\n",
    "val_Y = ys[int(np.round(Xs.shape[0]*0.7)):int(np.round(Xs.shape[0]*0.85))]\n",
    "test_X = Xs[int(np.round(Xs.shape[0]*0.85)):]\n",
    "test_Y = ys[int(np.round(Xs.shape[0]*0.85)):]"
   ]
  },
  {
   "cell_type": "code",
   "execution_count": 8,
   "metadata": {},
   "outputs": [
    {
     "name": "stdout",
     "output_type": "stream",
     "text": [
      "[[1704067225.0 284.0 0.7 0 88 0 -34.7437 -57.8513 595.0 966.0\n",
      "  1704841200.0]\n",
      " [1704089348.0 92.8 14.2 0 90 0 -35.16787 -56.7721 595.0 966.0\n",
      "  1704841200.0]\n",
      " [1704091099.0 90.5 14.3 0 88 0 -35.16863 -56.63185 595.0 966.0\n",
      "  1704841200.0]\n",
      " [1704092335.0 88.2 14.3 0 86 0 -35.16805 -56.5319 595.0 966.0\n",
      "  1704841200.0]\n",
      " [1704093356.0 88.3 12.3 0 86 0 -35.16715 -56.45306 595.0 966.0\n",
      "  1704841200.0]\n",
      " [1704094095.0 86.8 11.7 0 85 0 -35.16646 -56.40306 595.0 966.0\n",
      "  1704841200.0]\n",
      " [1704096215.0 70.4 15.2 0 67 0 -35.16544 -56.23866 595.0 966.0\n",
      "  1704841200.0]]\n"
     ]
    }
   ],
   "source": [
    "print(Xs[0,:,:])\n",
    "def preprocess_design(X, lo_mean, lo_std, la_mean, la_std ):\n",
    "  X[:, :, 6] = (X[:, :, 6] - la_mean) / la_std\n",
    "  X[:, :, 7] = (X[:, :, 7] - lo_mean) / lo_std\n",
    "  X[:, :, 3] = X[:, :, 3].astype(np.float32)\n",
    "  X[:, :, 4] = X[:, :, 4].astype(np.float32)\n",
    "  X[:, :, 5] = X[:, :, 5].astype(np.float32)\n",
    "\n",
    "  return X\n",
    "\n",
    "def preprocess_output(y,lo_mean, lo_std, la_mean, la_std):\n",
    "  y[:, 0] = (y[:, 0] - la_mean) / la_std\n",
    "  y[:, 1] = (y[:, 1] - lo_mean) / lo_std\n",
    "\n",
    "  return y"
   ]
  },
  {
   "cell_type": "code",
   "execution_count": 9,
   "metadata": {},
   "outputs": [],
   "source": [
    "lang_t_mean = np.mean(train_X[:, :, 6])\n",
    "lang_t_std = np.std(train_X[:, :, 6])\n",
    "\n",
    "long_t_mean = np.mean(train_X[:, :, 7])\n",
    "long_t_std = np.std(train_X[:, :, 7])\n",
    "\n",
    "train_X = preprocess_design(train_X, long_t_mean, long_t_std, lang_t_mean, lang_t_std)\n",
    "train_Y = preprocess_output(train_Y, long_t_mean, long_t_std, lang_t_mean, lang_t_std)\n",
    "val_X = preprocess_design(val_X, long_t_mean, long_t_std, lang_t_mean, lang_t_std)\n",
    "val_Y = preprocess_output(val_Y, long_t_mean, long_t_std, lang_t_mean, lang_t_std)\n",
    "test_X = preprocess_design(test_X, long_t_mean, long_t_std, lang_t_mean, lang_t_std)\n",
    "test_Y = preprocess_output(test_Y, long_t_mean, long_t_std, lang_t_mean, lang_t_std)"
   ]
  },
  {
   "cell_type": "code",
   "execution_count": 16,
   "metadata": {},
   "outputs": [
    {
     "name": "stdout",
     "output_type": "stream",
     "text": [
      "[[1704089348.0 92.8 14.2 0 90 0 -3.633415549939463 -1.1625419351294957\n",
      "  595.0 966.0 1704841200.0]\n",
      " [1704091099.0 90.5 14.3 0 88 0 -3.6334523143478274 -1.16008197308319\n",
      "  595.0 966.0 1704841200.0]\n",
      " [1704092335.0 88.2 14.3 0 86 0 -3.633424257299339 -1.1583288664412772\n",
      "  595.0 966.0 1704841200.0]\n",
      " [1704093356.0 88.3 12.3 0 86 0 -3.63338072049996 -1.156946025744445\n",
      "  595.0 966.0 1704841200.0]\n",
      " [1704094095.0 86.8 11.7 0 85 0 -3.633347342287103 -1.1560690339275803\n",
      "  595.0 966.0 1704841200.0]\n",
      " [1704096215.0 70.4 15.2 0 67 0 -3.6332980005811395 -1.1531854848337288\n",
      "  595.0 966.0 1704841200.0]\n",
      " [1704106179.0 91.1 15.0 0 91 0 -3.629612852384815 -1.1403112449621544\n",
      "  595.0 966.0 1704841200.0]]\n"
     ]
    }
   ],
   "source": [
    "print(train_X[1, :, :])"
   ]
  },
  {
   "cell_type": "code",
   "execution_count": 27,
   "metadata": {},
   "outputs": [],
   "source": [
    "train_X= np.array(train_X, dtype = np.float32)\n",
    "val_X = np.array(val_X, dtype = np.float32)\n",
    "test_X = np.array(test_X, dtype = np.float32)\n",
    "test_Y = np.array(test_Y, dtype = np.float32)\n",
    "val_Y = np.array(val_Y, dtype = np.float32)\n",
    "train_Y = np.array(train_Y, dtype = np.float32)\n",
    "\n",
    "\n",
    "\n",
    "train_X = ts.convert_to_tensor(train_X, dtype = np.float32)\n",
    "val_X = ts.convert_to_tensor(val_X, dtype = np.float32)\n",
    "test_X = ts.convert_to_tensor(test_X, dtype = np.float32)\n",
    "\n",
    "\n"
   ]
  },
  {
   "cell_type": "code",
   "execution_count": 31,
   "metadata": {},
   "outputs": [
    {
     "data": {
      "text/html": [
       "<pre style=\"white-space:pre;overflow-x:auto;line-height:normal;font-family:Menlo,'DejaVu Sans Mono',consolas,'Courier New',monospace\"><span style=\"font-weight: bold\">Model: \"sequential_6\"</span>\n",
       "</pre>\n"
      ],
      "text/plain": [
       "\u001b[1mModel: \"sequential_6\"\u001b[0m\n"
      ]
     },
     "metadata": {},
     "output_type": "display_data"
    },
    {
     "data": {
      "text/html": [
       "<pre style=\"white-space:pre;overflow-x:auto;line-height:normal;font-family:Menlo,'DejaVu Sans Mono',consolas,'Courier New',monospace\">┏━━━━━━━━━━━━━━━━━━━━━━━━━━━━━━━━━┳━━━━━━━━━━━━━━━━━━━━━━━━┳━━━━━━━━━━━━━━━┓\n",
       "┃<span style=\"font-weight: bold\"> Layer (type)                    </span>┃<span style=\"font-weight: bold\"> Output Shape           </span>┃<span style=\"font-weight: bold\">       Param # </span>┃\n",
       "┡━━━━━━━━━━━━━━━━━━━━━━━━━━━━━━━━━╇━━━━━━━━━━━━━━━━━━━━━━━━╇━━━━━━━━━━━━━━━┩\n",
       "│ lstm_6 (<span style=\"color: #0087ff; text-decoration-color: #0087ff\">LSTM</span>)                   │ (<span style=\"color: #00d7ff; text-decoration-color: #00d7ff\">None</span>, <span style=\"color: #00af00; text-decoration-color: #00af00\">64</span>)             │        <span style=\"color: #00af00; text-decoration-color: #00af00\">19,456</span> │\n",
       "├─────────────────────────────────┼────────────────────────┼───────────────┤\n",
       "│ dense_10 (<span style=\"color: #0087ff; text-decoration-color: #0087ff\">Dense</span>)                │ (<span style=\"color: #00d7ff; text-decoration-color: #00d7ff\">None</span>, <span style=\"color: #00af00; text-decoration-color: #00af00\">8</span>)              │           <span style=\"color: #00af00; text-decoration-color: #00af00\">520</span> │\n",
       "├─────────────────────────────────┼────────────────────────┼───────────────┤\n",
       "│ dense_11 (<span style=\"color: #0087ff; text-decoration-color: #0087ff\">Dense</span>)                │ (<span style=\"color: #00d7ff; text-decoration-color: #00d7ff\">None</span>, <span style=\"color: #00af00; text-decoration-color: #00af00\">2</span>)              │            <span style=\"color: #00af00; text-decoration-color: #00af00\">18</span> │\n",
       "└─────────────────────────────────┴────────────────────────┴───────────────┘\n",
       "</pre>\n"
      ],
      "text/plain": [
       "┏━━━━━━━━━━━━━━━━━━━━━━━━━━━━━━━━━┳━━━━━━━━━━━━━━━━━━━━━━━━┳━━━━━━━━━━━━━━━┓\n",
       "┃\u001b[1m \u001b[0m\u001b[1mLayer (type)                   \u001b[0m\u001b[1m \u001b[0m┃\u001b[1m \u001b[0m\u001b[1mOutput Shape          \u001b[0m\u001b[1m \u001b[0m┃\u001b[1m \u001b[0m\u001b[1m      Param #\u001b[0m\u001b[1m \u001b[0m┃\n",
       "┡━━━━━━━━━━━━━━━━━━━━━━━━━━━━━━━━━╇━━━━━━━━━━━━━━━━━━━━━━━━╇━━━━━━━━━━━━━━━┩\n",
       "│ lstm_6 (\u001b[38;5;33mLSTM\u001b[0m)                   │ (\u001b[38;5;45mNone\u001b[0m, \u001b[38;5;34m64\u001b[0m)             │        \u001b[38;5;34m19,456\u001b[0m │\n",
       "├─────────────────────────────────┼────────────────────────┼───────────────┤\n",
       "│ dense_10 (\u001b[38;5;33mDense\u001b[0m)                │ (\u001b[38;5;45mNone\u001b[0m, \u001b[38;5;34m8\u001b[0m)              │           \u001b[38;5;34m520\u001b[0m │\n",
       "├─────────────────────────────────┼────────────────────────┼───────────────┤\n",
       "│ dense_11 (\u001b[38;5;33mDense\u001b[0m)                │ (\u001b[38;5;45mNone\u001b[0m, \u001b[38;5;34m2\u001b[0m)              │            \u001b[38;5;34m18\u001b[0m │\n",
       "└─────────────────────────────────┴────────────────────────┴───────────────┘\n"
      ]
     },
     "metadata": {},
     "output_type": "display_data"
    },
    {
     "data": {
      "text/html": [
       "<pre style=\"white-space:pre;overflow-x:auto;line-height:normal;font-family:Menlo,'DejaVu Sans Mono',consolas,'Courier New',monospace\"><span style=\"font-weight: bold\"> Total params: </span><span style=\"color: #00af00; text-decoration-color: #00af00\">19,994</span> (78.10 KB)\n",
       "</pre>\n"
      ],
      "text/plain": [
       "\u001b[1m Total params: \u001b[0m\u001b[38;5;34m19,994\u001b[0m (78.10 KB)\n"
      ]
     },
     "metadata": {},
     "output_type": "display_data"
    },
    {
     "data": {
      "text/html": [
       "<pre style=\"white-space:pre;overflow-x:auto;line-height:normal;font-family:Menlo,'DejaVu Sans Mono',consolas,'Courier New',monospace\"><span style=\"font-weight: bold\"> Trainable params: </span><span style=\"color: #00af00; text-decoration-color: #00af00\">19,994</span> (78.10 KB)\n",
       "</pre>\n"
      ],
      "text/plain": [
       "\u001b[1m Trainable params: \u001b[0m\u001b[38;5;34m19,994\u001b[0m (78.10 KB)\n"
      ]
     },
     "metadata": {},
     "output_type": "display_data"
    },
    {
     "data": {
      "text/html": [
       "<pre style=\"white-space:pre;overflow-x:auto;line-height:normal;font-family:Menlo,'DejaVu Sans Mono',consolas,'Courier New',monospace\"><span style=\"font-weight: bold\"> Non-trainable params: </span><span style=\"color: #00af00; text-decoration-color: #00af00\">0</span> (0.00 B)\n",
       "</pre>\n"
      ],
      "text/plain": [
       "\u001b[1m Non-trainable params: \u001b[0m\u001b[38;5;34m0\u001b[0m (0.00 B)\n"
      ]
     },
     "metadata": {},
     "output_type": "display_data"
    }
   ],
   "source": [
    "\n",
    "\n",
    "model1 = Sequential()\n",
    "model1.add(LSTM(64, input_shape = (7,11)))\n",
    "model1.add(Dense(8, 'relu'))\n",
    "model1.add(Dense(2, 'linear'))\n",
    "\n",
    "model1.summary()"
   ]
  },
  {
   "cell_type": "code",
   "execution_count": 33,
   "metadata": {},
   "outputs": [],
   "source": [
    "cp5 = ModelCheckpoint('model5.keras', save_best_only=True)\n",
    "model1.compile(loss=MeanSquaredError(), optimizer=Adam(learning_rate=0.0001), metrics=[RootMeanSquaredError()])"
   ]
  },
  {
   "cell_type": "code",
   "execution_count": 34,
   "metadata": {},
   "outputs": [
    {
     "name": "stdout",
     "output_type": "stream",
     "text": [
      "Epoch 1/10\n",
      "\u001b[1m33190/33190\u001b[0m \u001b[32m━━━━━━━━━━━━━━━━━━━━\u001b[0m\u001b[37m\u001b[0m \u001b[1m80s\u001b[0m 2ms/step - loss: 1.0002 - root_mean_squared_error: 1.0001 - val_loss: 2.1163 - val_root_mean_squared_error: 1.4547\n",
      "Epoch 2/10\n",
      "\u001b[1m33190/33190\u001b[0m \u001b[32m━━━━━━━━━━━━━━━━━━━━\u001b[0m\u001b[37m\u001b[0m \u001b[1m81s\u001b[0m 2ms/step - loss: 1.0018 - root_mean_squared_error: 1.0009 - val_loss: 2.1205 - val_root_mean_squared_error: 1.4562\n",
      "Epoch 3/10\n",
      "\u001b[1m33190/33190\u001b[0m \u001b[32m━━━━━━━━━━━━━━━━━━━━\u001b[0m\u001b[37m\u001b[0m \u001b[1m81s\u001b[0m 2ms/step - loss: 0.9989 - root_mean_squared_error: 0.9995 - val_loss: 2.1190 - val_root_mean_squared_error: 1.4557\n",
      "Epoch 4/10\n",
      "\u001b[1m33190/33190\u001b[0m \u001b[32m━━━━━━━━━━━━━━━━━━━━\u001b[0m\u001b[37m\u001b[0m \u001b[1m85s\u001b[0m 3ms/step - loss: 0.9998 - root_mean_squared_error: 0.9999 - val_loss: 2.1158 - val_root_mean_squared_error: 1.4546\n",
      "Epoch 5/10\n",
      "\u001b[1m33190/33190\u001b[0m \u001b[32m━━━━━━━━━━━━━━━━━━━━\u001b[0m\u001b[37m\u001b[0m \u001b[1m79s\u001b[0m 2ms/step - loss: 1.0013 - root_mean_squared_error: 1.0007 - val_loss: 2.1181 - val_root_mean_squared_error: 1.4554\n",
      "Epoch 6/10\n",
      "\u001b[1m33190/33190\u001b[0m \u001b[32m━━━━━━━━━━━━━━━━━━━━\u001b[0m\u001b[37m\u001b[0m \u001b[1m78s\u001b[0m 2ms/step - loss: 1.0001 - root_mean_squared_error: 1.0000 - val_loss: 2.1134 - val_root_mean_squared_error: 1.4538\n",
      "Epoch 7/10\n",
      "\u001b[1m33190/33190\u001b[0m \u001b[32m━━━━━━━━━━━━━━━━━━━━\u001b[0m\u001b[37m\u001b[0m \u001b[1m77s\u001b[0m 2ms/step - loss: 0.9990 - root_mean_squared_error: 0.9995 - val_loss: 2.1158 - val_root_mean_squared_error: 1.4546\n",
      "Epoch 8/10\n",
      "\u001b[1m33190/33190\u001b[0m \u001b[32m━━━━━━━━━━━━━━━━━━━━\u001b[0m\u001b[37m\u001b[0m \u001b[1m79s\u001b[0m 2ms/step - loss: 0.9984 - root_mean_squared_error: 0.9992 - val_loss: 2.1219 - val_root_mean_squared_error: 1.4567\n",
      "Epoch 9/10\n",
      "\u001b[1m33190/33190\u001b[0m \u001b[32m━━━━━━━━━━━━━━━━━━━━\u001b[0m\u001b[37m\u001b[0m \u001b[1m79s\u001b[0m 2ms/step - loss: 1.0025 - root_mean_squared_error: 1.0012 - val_loss: 2.1186 - val_root_mean_squared_error: 1.4556\n",
      "Epoch 10/10\n",
      "\u001b[1m33190/33190\u001b[0m \u001b[32m━━━━━━━━━━━━━━━━━━━━\u001b[0m\u001b[37m\u001b[0m \u001b[1m74s\u001b[0m 2ms/step - loss: 0.9996 - root_mean_squared_error: 0.9998 - val_loss: 2.1209 - val_root_mean_squared_error: 1.4563\n"
     ]
    },
    {
     "data": {
      "text/plain": [
       "<keras.src.callbacks.history.History at 0x7cd6ef3e4170>"
      ]
     },
     "execution_count": 34,
     "metadata": {},
     "output_type": "execute_result"
    }
   ],
   "source": [
    "model1.fit(train_X, train_Y, validation_data=(val_X, val_Y), epochs=10, callbacks=[cp5])\n",
    "#Epoch must be tuned. "
   ]
  },
  {
   "cell_type": "code",
   "execution_count": 35,
   "metadata": {},
   "outputs": [
    {
     "name": "stdout",
     "output_type": "stream",
     "text": [
      "\u001b[1m7113/7113\u001b[0m \u001b[32m━━━━━━━━━━━━━━━━━━━━\u001b[0m\u001b[37m\u001b[0m \u001b[1m5s\u001b[0m 721us/step\n"
     ]
    },
    {
     "data": {
      "text/html": [
       "<div>\n",
       "<style scoped>\n",
       "    .dataframe tbody tr th:only-of-type {\n",
       "        vertical-align: middle;\n",
       "    }\n",
       "\n",
       "    .dataframe tbody tr th {\n",
       "        vertical-align: top;\n",
       "    }\n",
       "\n",
       "    .dataframe thead th {\n",
       "        text-align: right;\n",
       "    }\n",
       "</style>\n",
       "<table border=\"1\" class=\"dataframe\">\n",
       "  <thead>\n",
       "    <tr style=\"text-align: right;\">\n",
       "      <th></th>\n",
       "      <th>Latitude Predictions</th>\n",
       "      <th>Latitude Actuals</th>\n",
       "      <th>Longitude Predictions</th>\n",
       "      <th>Longitude Actuals</th>\n",
       "    </tr>\n",
       "  </thead>\n",
       "  <tbody>\n",
       "    <tr>\n",
       "      <th>0</th>\n",
       "      <td>0.015678</td>\n",
       "      <td>0.550195</td>\n",
       "      <td>0.01209</td>\n",
       "      <td>-0.110199</td>\n",
       "    </tr>\n",
       "    <tr>\n",
       "      <th>1</th>\n",
       "      <td>0.015678</td>\n",
       "      <td>0.550195</td>\n",
       "      <td>0.01209</td>\n",
       "      <td>-0.110198</td>\n",
       "    </tr>\n",
       "    <tr>\n",
       "      <th>2</th>\n",
       "      <td>0.015678</td>\n",
       "      <td>0.550194</td>\n",
       "      <td>0.01209</td>\n",
       "      <td>-0.110198</td>\n",
       "    </tr>\n",
       "    <tr>\n",
       "      <th>3</th>\n",
       "      <td>0.015678</td>\n",
       "      <td>0.550194</td>\n",
       "      <td>0.01209</td>\n",
       "      <td>-0.110198</td>\n",
       "    </tr>\n",
       "    <tr>\n",
       "      <th>4</th>\n",
       "      <td>0.015678</td>\n",
       "      <td>0.550194</td>\n",
       "      <td>0.01209</td>\n",
       "      <td>-0.110198</td>\n",
       "    </tr>\n",
       "    <tr>\n",
       "      <th>...</th>\n",
       "      <td>...</td>\n",
       "      <td>...</td>\n",
       "      <td>...</td>\n",
       "      <td>...</td>\n",
       "    </tr>\n",
       "    <tr>\n",
       "      <th>95</th>\n",
       "      <td>0.015678</td>\n",
       "      <td>0.817224</td>\n",
       "      <td>0.01209</td>\n",
       "      <td>-0.058363</td>\n",
       "    </tr>\n",
       "    <tr>\n",
       "      <th>96</th>\n",
       "      <td>0.015678</td>\n",
       "      <td>0.819397</td>\n",
       "      <td>0.01209</td>\n",
       "      <td>-0.056684</td>\n",
       "    </tr>\n",
       "    <tr>\n",
       "      <th>97</th>\n",
       "      <td>0.015678</td>\n",
       "      <td>0.820969</td>\n",
       "      <td>0.01209</td>\n",
       "      <td>-0.054724</td>\n",
       "    </tr>\n",
       "    <tr>\n",
       "      <th>98</th>\n",
       "      <td>0.015678</td>\n",
       "      <td>0.822206</td>\n",
       "      <td>0.01209</td>\n",
       "      <td>-0.052989</td>\n",
       "    </tr>\n",
       "    <tr>\n",
       "      <th>99</th>\n",
       "      <td>0.015678</td>\n",
       "      <td>0.823699</td>\n",
       "      <td>0.01209</td>\n",
       "      <td>-0.050999</td>\n",
       "    </tr>\n",
       "  </tbody>\n",
       "</table>\n",
       "<p>100 rows × 4 columns</p>\n",
       "</div>"
      ],
      "text/plain": [
       "    Latitude Predictions  Latitude Actuals  Longitude Predictions  \\\n",
       "0               0.015678          0.550195                0.01209   \n",
       "1               0.015678          0.550195                0.01209   \n",
       "2               0.015678          0.550194                0.01209   \n",
       "3               0.015678          0.550194                0.01209   \n",
       "4               0.015678          0.550194                0.01209   \n",
       "..                   ...               ...                    ...   \n",
       "95              0.015678          0.817224                0.01209   \n",
       "96              0.015678          0.819397                0.01209   \n",
       "97              0.015678          0.820969                0.01209   \n",
       "98              0.015678          0.822206                0.01209   \n",
       "99              0.015678          0.823699                0.01209   \n",
       "\n",
       "    Longitude Actuals  \n",
       "0           -0.110199  \n",
       "1           -0.110198  \n",
       "2           -0.110198  \n",
       "3           -0.110198  \n",
       "4           -0.110198  \n",
       "..                ...  \n",
       "95          -0.058363  \n",
       "96          -0.056684  \n",
       "97          -0.054724  \n",
       "98          -0.052989  \n",
       "99          -0.050999  \n",
       "\n",
       "[100 rows x 4 columns]"
      ]
     },
     "execution_count": 35,
     "metadata": {},
     "output_type": "execute_result"
    },
    {
     "data": {
      "image/png": "[encoded data removed]",
      "text/plain": [
       "<Figure size 640x480 with 1 Axes>"
      ]
     },
     "metadata": {},
     "output_type": "display_data"
    }
   ],
   "source": [
    "#Model predictions\n",
    "def plot_predictions(model, X, y, start=0, end=100):\n",
    "  predictions = model.predict(X)\n",
    "  lat_preds, long_preds = predictions[:, 0], predictions[:, 1]\n",
    "  lat_actuals, long_actuals = y[:, 0], y[:, 1]\n",
    "  df = pd.DataFrame(data={'Latitude Predictions': lat_preds,\n",
    "                          'Latitude Actuals':lat_actuals,\n",
    "                          'Longitude Predictions': long_preds,\n",
    "                          'Longitude Actuals': long_actuals\n",
    "                          })\n",
    "  plt.plot(df['Latitude Predictions'][start:end])\n",
    "  plt.plot(df['Latitude Actuals'][start:end])\n",
    "  plt.plot(df['Longitude Actuals'][start:end])\n",
    "  plt.plot(df['Longitude Actuals'][start:end])\n",
    "  return df[start:end]\n",
    "\n",
    "plot_predictions(model1, test_X, test_Y, start = 0, end = 100)"
   ]
  }
 ],
 "metadata": {
  "kernelspec": {
   "display_name": "base",
   "language": "python",
   "name": "python3"
  },
  "language_info": {
   "codemirror_mode": {
    "name": "ipython",
    "version": 3
   },
   "file_extension": ".py",
   "mimetype": "text/x-python",
   "name": "python",
   "nbconvert_exporter": "python",
   "pygments_lexer": "ipython3",
   "version": "3.12.4"
  }
 },
 "nbformat": 4,
 "nbformat_minor": 2
}
