{
 "cells": [
  {
   "cell_type": "code",
   "execution_count": 1,
   "metadata": {},
   "outputs": [
    {
     "name": "stderr",
     "output_type": "stream",
     "text": [
      "2024-10-08 16:16:26.430318: I tensorflow/core/util/port.cc:153] oneDNN custom operations are on. You may see slightly different numerical results due to floating-point round-off errors from different computation orders. To turn them off, set the environment variable `TF_ENABLE_ONEDNN_OPTS=0`.\n",
      "2024-10-08 16:16:26.431085: I external/local_xla/xla/tsl/cuda/cudart_stub.cc:32] Could not find cuda drivers on your machine, GPU will not be used.\n",
      "2024-10-08 16:16:26.435011: I external/local_xla/xla/tsl/cuda/cudart_stub.cc:32] Could not find cuda drivers on your machine, GPU will not be used.\n",
      "2024-10-08 16:16:26.445371: E external/local_xla/xla/stream_executor/cuda/cuda_fft.cc:485] Unable to register cuFFT factory: Attempting to register factory for plugin cuFFT when one has already been registered\n",
      "2024-10-08 16:16:26.462868: E external/local_xla/xla/stream_executor/cuda/cuda_dnn.cc:8454] Unable to register cuDNN factory: Attempting to register factory for plugin cuDNN when one has already been registered\n",
      "2024-10-08 16:16:26.468030: E external/local_xla/xla/stream_executor/cuda/cuda_blas.cc:1452] Unable to register cuBLAS factory: Attempting to register factory for plugin cuBLAS when one has already been registered\n",
      "2024-10-08 16:16:26.480567: I tensorflow/core/platform/cpu_feature_guard.cc:210] This TensorFlow binary is optimized to use available CPU instructions in performance-critical operations.\n",
      "To enable the following instructions: AVX2 AVX512F AVX512_VNNI FMA, in other operations, rebuild TensorFlow with the appropriate compiler flags.\n",
      "2024-10-08 16:16:27.308935: W tensorflow/compiler/tf2tensorrt/utils/py_utils.cc:38] TF-TRT Warning: Could not find TensorRT\n"
     ]
    }
   ],
   "source": [
    "import pandas as pd\n",
    "import numpy as np\n",
    "import matplotlib.pyplot as plt\n",
    "import seaborn as sns\n",
    "from datetime import datetime\n",
    "from csv_parser import CSVParser\n",
    "from sklearn.model_selection import train_test_split\n",
    "from sklearn.preprocessing import StandardScaler\n",
    "import tensorflow as ts\n",
    "import os"
   ]
  },
  {
   "cell_type": "code",
   "execution_count": 2,
   "metadata": {},
   "outputs": [],
   "source": [
    "from tensorflow.keras.models import Sequential\n",
    "from tensorflow.keras.layers import *\n",
    "from tensorflow.keras.callbacks import ModelCheckpoint\n",
    "from tensorflow.keras.losses import MeanSquaredError\n",
    "from tensorflow.keras.metrics import RootMeanSquaredError\n",
    "from tensorflow.keras.optimizers import Adam"
   ]
  },
  {
   "cell_type": "code",
   "execution_count": 3,
   "metadata": {},
   "outputs": [
    {
     "data": {
      "text/html": [
       "<div>\n",
       "<style scoped>\n",
       "    .dataframe tbody tr th:only-of-type {\n",
       "        vertical-align: middle;\n",
       "    }\n",
       "\n",
       "    .dataframe tbody tr th {\n",
       "        vertical-align: top;\n",
       "    }\n",
       "\n",
       "    .dataframe thead th {\n",
       "        text-align: right;\n",
       "    }\n",
       "</style>\n",
       "<table border=\"1\" class=\"dataframe\">\n",
       "  <thead>\n",
       "    <tr style=\"text-align: right;\">\n",
       "      <th></th>\n",
       "      <th>time</th>\n",
       "      <th>cog</th>\n",
       "      <th>sog</th>\n",
       "      <th>rot</th>\n",
       "      <th>heading</th>\n",
       "      <th>navstat</th>\n",
       "      <th>latitude</th>\n",
       "      <th>longitude</th>\n",
       "      <th>vesselId</th>\n",
       "      <th>portId</th>\n",
       "      <th>etaParsed</th>\n",
       "    </tr>\n",
       "  </thead>\n",
       "  <tbody>\n",
       "    <tr>\n",
       "      <th>0</th>\n",
       "      <td>2024-01-01 00:00:25</td>\n",
       "      <td>284.0</td>\n",
       "      <td>0.7</td>\n",
       "      <td>0</td>\n",
       "      <td>88</td>\n",
       "      <td>0</td>\n",
       "      <td>-34.74370</td>\n",
       "      <td>-57.85130</td>\n",
       "      <td>61e9f3a8b937134a3c4bfdf7</td>\n",
       "      <td>61d371c43aeaecc07011a37f</td>\n",
       "      <td>2024-01-09 23:00:00</td>\n",
       "    </tr>\n",
       "    <tr>\n",
       "      <th>1</th>\n",
       "      <td>2024-01-01 00:00:36</td>\n",
       "      <td>109.6</td>\n",
       "      <td>0.0</td>\n",
       "      <td>-6</td>\n",
       "      <td>347</td>\n",
       "      <td>1</td>\n",
       "      <td>8.89440</td>\n",
       "      <td>-79.47939</td>\n",
       "      <td>61e9f3d4b937134a3c4bff1f</td>\n",
       "      <td>634c4de270937fc01c3a7689</td>\n",
       "      <td>2024-12-29 20:00:00</td>\n",
       "    </tr>\n",
       "    <tr>\n",
       "      <th>2</th>\n",
       "      <td>2024-01-01 00:01:45</td>\n",
       "      <td>111.0</td>\n",
       "      <td>11.0</td>\n",
       "      <td>0</td>\n",
       "      <td>112</td>\n",
       "      <td>0</td>\n",
       "      <td>39.19065</td>\n",
       "      <td>-76.47567</td>\n",
       "      <td>61e9f436b937134a3c4c0131</td>\n",
       "      <td>61d3847bb7b7526e1adf3d19</td>\n",
       "      <td>2024-01-02 09:00:00</td>\n",
       "    </tr>\n",
       "    <tr>\n",
       "      <th>3</th>\n",
       "      <td>2024-01-01 00:03:11</td>\n",
       "      <td>96.4</td>\n",
       "      <td>0.0</td>\n",
       "      <td>0</td>\n",
       "      <td>142</td>\n",
       "      <td>1</td>\n",
       "      <td>-34.41189</td>\n",
       "      <td>151.02067</td>\n",
       "      <td>61e9f3b4b937134a3c4bfe77</td>\n",
       "      <td>61d36f770a1807568ff9a126</td>\n",
       "      <td>2024-12-31 20:00:00</td>\n",
       "    </tr>\n",
       "    <tr>\n",
       "      <th>4</th>\n",
       "      <td>2024-01-01 00:03:51</td>\n",
       "      <td>214.0</td>\n",
       "      <td>19.7</td>\n",
       "      <td>0</td>\n",
       "      <td>215</td>\n",
       "      <td>0</td>\n",
       "      <td>35.88379</td>\n",
       "      <td>-5.91636</td>\n",
       "      <td>61e9f41bb937134a3c4c0087</td>\n",
       "      <td>634c4de270937fc01c3a74f3</td>\n",
       "      <td>2024-01-25 12:00:00</td>\n",
       "    </tr>\n",
       "  </tbody>\n",
       "</table>\n",
       "</div>"
      ],
      "text/plain": [
       "                 time    cog   sog  rot  heading  navstat  latitude  \\\n",
       "0 2024-01-01 00:00:25  284.0   0.7    0       88        0 -34.74370   \n",
       "1 2024-01-01 00:00:36  109.6   0.0   -6      347        1   8.89440   \n",
       "2 2024-01-01 00:01:45  111.0  11.0    0      112        0  39.19065   \n",
       "3 2024-01-01 00:03:11   96.4   0.0    0      142        1 -34.41189   \n",
       "4 2024-01-01 00:03:51  214.0  19.7    0      215        0  35.88379   \n",
       "\n",
       "   longitude                  vesselId                    portId  \\\n",
       "0  -57.85130  61e9f3a8b937134a3c4bfdf7  61d371c43aeaecc07011a37f   \n",
       "1  -79.47939  61e9f3d4b937134a3c4bff1f  634c4de270937fc01c3a7689   \n",
       "2  -76.47567  61e9f436b937134a3c4c0131  61d3847bb7b7526e1adf3d19   \n",
       "3  151.02067  61e9f3b4b937134a3c4bfe77  61d36f770a1807568ff9a126   \n",
       "4   -5.91636  61e9f41bb937134a3c4c0087  634c4de270937fc01c3a74f3   \n",
       "\n",
       "            etaParsed  \n",
       "0 2024-01-09 23:00:00  \n",
       "1 2024-12-29 20:00:00  \n",
       "2 2024-01-02 09:00:00  \n",
       "3 2024-12-31 20:00:00  \n",
       "4 2024-01-25 12:00:00  "
      ]
     },
     "execution_count": 3,
     "metadata": {},
     "output_type": "execute_result"
    }
   ],
   "source": [
    "parser = CSVParser(folderpath=\"../../Project materials(1)/\")\n",
    "df = parser.retrieve_training_data()\n",
    "df.head()\n",
    "\n",
    "#Column 6 is lat.\n",
    "#Column 7 is long.\n"
   ]
  },
  {
   "cell_type": "code",
   "execution_count": 4,
   "metadata": {},
   "outputs": [],
   "source": [
    "def sequencing(df, window_size):\n",
    "  ids = df.vesselId.unique()\n",
    "  X = []\n",
    "  y = []\n",
    "  for j in range(len(ids)):\n",
    "    df_id = df[df[\"vesselId\"] == ids[j]].copy()\n",
    "    if df_id.shape[0]>window_size:\n",
    "      df_id_np = df_id.to_numpy()\n",
    "      for i in range(len(df_id_np)-window_size):\n",
    "        row = [r for r in df_id_np[i:i+window_size]]\n",
    "        X.append(row)\n",
    "        label = [df_id_np[i+window_size][6], df_id_np[i+window_size][7]]\n",
    "        y.append(label)\n",
    "  \n",
    "  y = np.array(y)\n",
    "  X = np.array(X)\n",
    "  y_reshaped = y[:,:, np.newaxis]\n",
    "  XandY=np.concatenate((X, np.tile(y_reshaped, (1, 1, X.shape[2]))), axis=1)\n",
    "  XandY[XandY[:,0,0].argsort()]\n",
    "  X = XandY[:,:-2,:]\n",
    "  y = XandY[:,-2:,0]\n",
    "  \n",
    "  return X,y\n",
    "\n",
    "Xs,ys = sequencing(df, 7)\n"
   ]
  },
  {
   "cell_type": "code",
   "execution_count": 5,
   "metadata": {},
   "outputs": [
    {
     "name": "stdout",
     "output_type": "stream",
     "text": [
      "[[-35.08926 -55.50466]\n",
      " [-35.09485 -55.35699]\n",
      " [-35.10507 -55.25475]\n",
      " ...\n",
      " [37.15745 144.85164]\n",
      " [37.20409 144.94732]\n",
      " [37.22231 144.98452]]\n"
     ]
    }
   ],
   "source": []
  },
  {
   "cell_type": "code",
   "execution_count": 11,
   "metadata": {},
   "outputs": [
    {
     "ename": "TypeError",
     "evalue": "float() argument must be a string or a real number, not 'NaTType'",
     "output_type": "error",
     "traceback": [
      "\u001b[0;31m---------------------------------------------------------------------------\u001b[0m",
      "\u001b[0;31mTypeError\u001b[0m                                 Traceback (most recent call last)",
      "Cell \u001b[0;32mIn[11], line 21\u001b[0m\n\u001b[1;32m     13\u001b[0m     \u001b[38;5;28;01mreturn\u001b[39;00m \u001b[38;5;28mfloat\u001b[39m(timestamp)\n\u001b[1;32m     19\u001b[0m Xs[:, :, \u001b[38;5;241m0\u001b[39m] \u001b[38;5;241m=\u001b[39m np\u001b[38;5;241m.\u001b[39marray([np\u001b[38;5;241m.\u001b[39marray([convert_timestamp_to_seconds(x) \u001b[38;5;28;01mfor\u001b[39;00m x \u001b[38;5;129;01min\u001b[39;00m column]) \u001b[38;5;28;01mfor\u001b[39;00m column \u001b[38;5;129;01min\u001b[39;00m Xs[:, :, \u001b[38;5;241m0\u001b[39m]])\n\u001b[0;32m---> 21\u001b[0m Xs[:, :, \u001b[38;5;241m-\u001b[39m\u001b[38;5;241m1\u001b[39m] \u001b[38;5;241m=\u001b[39m np\u001b[38;5;241m.\u001b[39marray([np\u001b[38;5;241m.\u001b[39marray([convert_timestamp_to_seconds(x) \u001b[38;5;28;01mfor\u001b[39;00m x \u001b[38;5;129;01min\u001b[39;00m column]) \u001b[38;5;28;01mfor\u001b[39;00m column \u001b[38;5;129;01min\u001b[39;00m Xs[:, :, \u001b[38;5;241m-\u001b[39m\u001b[38;5;241m1\u001b[39m]])\n\u001b[1;32m     22\u001b[0m \u001b[38;5;28mprint\u001b[39m(Xs[:, :, \u001b[38;5;241m0\u001b[39m])\n",
      "Cell \u001b[0;32mIn[11], line 13\u001b[0m, in \u001b[0;36mconvert_timestamp_to_seconds\u001b[0;34m(timestamp)\u001b[0m\n\u001b[1;32m     11\u001b[0m \u001b[38;5;28;01melif\u001b[39;00m \u001b[38;5;28mtype\u001b[39m(timestamp)\u001b[38;5;241m==\u001b[39m\u001b[38;5;124m'\u001b[39m\u001b[38;5;124mNaTType\u001b[39m\u001b[38;5;124m'\u001b[39m:\n\u001b[1;32m     12\u001b[0m     \u001b[38;5;28mprint\u001b[39m(timestamp)\n\u001b[0;32m---> 13\u001b[0m \u001b[38;5;28;01mreturn\u001b[39;00m \u001b[38;5;28mfloat\u001b[39m(timestamp)\n",
      "\u001b[0;31mTypeError\u001b[0m: float() argument must be a string or a real number, not 'NaTType'"
     ]
    }
   ],
   "source": [
    "def convert_timestamp_to_seconds(timestamp):\n",
    "    \"\"\"\n",
    "    Input:\n",
    "    timestamp: A pandas Timestamp object\n",
    "    \n",
    "    Output:\n",
    "    seconds: The number of seconds since the (January 1, 2023)\n",
    "    \"\"\"\n",
    "    if isinstance(timestamp, pd.Timestamp):\n",
    "        return float((timestamp - pd.Timestamp('2023-01-01')).total_seconds()) \n",
    "    elif type(timestamp)=='NaTType':\n",
    "        print(timestamp)\n",
    "    return float(timestamp)\n",
    "\n",
    "\n",
    "\n",
    "\n",
    "\n",
    "Xs[:, :, 0] = np.array([np.array([convert_timestamp_to_seconds(x) for x in column]) for column in Xs[:, :, 0]])\n",
    "\n",
    "Xs[:, :, -1] = np.array([np.array([convert_timestamp_to_seconds(x) for x in column]) for column in Xs[:, :, -1]])\n",
    "print(Xs[:, :, 0])\n"
   ]
  },
  {
   "cell_type": "code",
   "execution_count": null,
   "metadata": {},
   "outputs": [],
   "source": [
    "train_X = Xs[:int(np.round(Xs.shape[0]*0.7))]\n",
    "train_Y = ys[:int(np.round(Xs.shape[0]*0.7))]\n",
    "val_X = Xs[int(np.round(Xs.shape[0]*0.7)):int(np.round(Xs.shape[0]*0.85))]\n",
    "val_Y = ys[int(np.round(Xs.shape[0]*0.7)):int(np.round(Xs.shape[0]*0.85))]\n",
    "test_X = Xs[int(np.round(Xs.shape[0]*0.85)):]\n",
    "test_Y = ys[int(np.round(Xs.shape[0]*0.85)):]"
   ]
  },
  {
   "cell_type": "code",
   "execution_count": 5,
   "metadata": {},
   "outputs": [
    {
     "name": "stdout",
     "output_type": "stream",
     "text": [
      "[[Timestamp('2024-01-01 00:00:25') 284.0 0.7 0 88 0 -34.7437 -57.8513\n",
      "  '61e9f3a8b937134a3c4bfdf7' '61d371c43aeaecc07011a37f'\n",
      "  Timestamp('2024-01-09 23:00:00')]\n",
      " [Timestamp('2024-01-01 06:09:08') 92.8 14.2 0 90 0 -35.16787 -56.7721\n",
      "  '61e9f3a8b937134a3c4bfdf7' '61d371c43aeaecc07011a37f'\n",
      "  Timestamp('2024-01-09 23:00:00')]\n",
      " [Timestamp('2024-01-01 06:38:19') 90.5 14.3 0 88 0 -35.16863 -56.63185\n",
      "  '61e9f3a8b937134a3c4bfdf7' '61d371c43aeaecc07011a37f'\n",
      "  Timestamp('2024-01-09 23:00:00')]\n",
      " [Timestamp('2024-01-01 06:58:55') 88.2 14.3 0 86 0 -35.16805 -56.5319\n",
      "  '61e9f3a8b937134a3c4bfdf7' '61d371c43aeaecc07011a37f'\n",
      "  Timestamp('2024-01-09 23:00:00')]\n",
      " [Timestamp('2024-01-01 07:15:56') 88.3 12.3 0 86 0 -35.16715 -56.45306\n",
      "  '61e9f3a8b937134a3c4bfdf7' '61d371c43aeaecc07011a37f'\n",
      "  Timestamp('2024-01-09 23:00:00')]\n",
      " [Timestamp('2024-01-01 07:28:15') 86.8 11.7 0 85 0 -35.16646 -56.40306\n",
      "  '61e9f3a8b937134a3c4bfdf7' '61d371c43aeaecc07011a37f'\n",
      "  Timestamp('2024-01-09 23:00:00')]\n",
      " [Timestamp('2024-01-01 08:03:35') 70.4 15.2 0 67 0 -35.16544 -56.23866\n",
      "  '61e9f3a8b937134a3c4bfdf7' '61d371c43aeaecc07011a37f'\n",
      "  Timestamp('2024-01-09 23:00:00')]]\n"
     ]
    }
   ],
   "source": [
    "print(Xs[0,:,:])\n",
    "def preprocess_design(X, lo_mean, lo_std, la_mean, la_std ):\n",
    "  X[:, :, 6] = (X[:, :, 6] - la_mean) / la_std\n",
    "  X[:, :, 7] = (X[:, :, 7] - lo_mean) / lo_std\n",
    "\n",
    "  return X\n",
    "\n",
    "def preprocess_output(y,lo_mean, lo_std, la_mean, la_std):\n",
    "  y[:, 0] = (y[:, 0] - la_mean) / la_std\n",
    "  y[:, 1] = (y[:, 1] - lo_mean) / lo_std\n",
    "\n",
    "  return y"
   ]
  },
  {
   "cell_type": "code",
   "execution_count": 8,
   "metadata": {},
   "outputs": [],
   "source": [
    "lang_t_mean = np.mean(train_X[:, :, 6])\n",
    "lang_t_std = np.std(train_X[:, :, 6])\n",
    "\n",
    "long_t_mean = np.mean(train_X[:, :, 7])\n",
    "long_t_std = np.std(train_X[:, :, 7])\n",
    "\n",
    "train_X = preprocess_design(train_X, long_t_mean, long_t_std, lang_t_mean, lang_t_std)\n",
    "train_Y = preprocess_output(train_Y, long_t_mean, long_t_std, lang_t_mean, lang_t_std)\n",
    "val_X = preprocess_design(val_X, long_t_mean, long_t_std, lang_t_mean, lang_t_std)\n",
    "val_Y = preprocess_output(val_Y, long_t_mean, long_t_std, lang_t_mean, lang_t_std)\n",
    "test_X = preprocess_design(test_X, long_t_mean, long_t_std, lang_t_mean, lang_t_std)\n",
    "test_Y = preprocess_output(test_Y, long_t_mean, long_t_std, lang_t_mean, lang_t_std)"
   ]
  },
  {
   "cell_type": "code",
   "execution_count": 32,
   "metadata": {},
   "outputs": [
    {
     "name": "stdout",
     "output_type": "stream",
     "text": [
      "[[Timestamp('2024-01-01 00:00:25') 284.0 0.7 0 88 0 -3.61289665639214\n",
      "  -1.1814709265047045 '61e9f3a8b937134a3c4bfdf7'\n",
      "  '61d371c43aeaecc07011a37f' Timestamp('2024-01-09 23:00:00')]\n",
      " [Timestamp('2024-01-01 06:09:08') 92.8 14.2 0 90 0 -3.633415549939463\n",
      "  -1.1625419351294957 '61e9f3a8b937134a3c4bfdf7'\n",
      "  '61d371c43aeaecc07011a37f' Timestamp('2024-01-09 23:00:00')]\n",
      " [Timestamp('2024-01-01 06:38:19') 90.5 14.3 0 88 0 -3.6334523143478274\n",
      "  -1.16008197308319 '61e9f3a8b937134a3c4bfdf7' '61d371c43aeaecc07011a37f'\n",
      "  Timestamp('2024-01-09 23:00:00')]\n",
      " [Timestamp('2024-01-01 06:58:55') 88.2 14.3 0 86 0 -3.633424257299339\n",
      "  -1.1583288664412772 '61e9f3a8b937134a3c4bfdf7'\n",
      "  '61d371c43aeaecc07011a37f' Timestamp('2024-01-09 23:00:00')]\n",
      " [Timestamp('2024-01-01 07:15:56') 88.3 12.3 0 86 0 -3.63338072049996\n",
      "  -1.156946025744445 '61e9f3a8b937134a3c4bfdf7'\n",
      "  '61d371c43aeaecc07011a37f' Timestamp('2024-01-09 23:00:00')]\n",
      " [Timestamp('2024-01-01 07:28:15') 86.8 11.7 0 85 0 -3.633347342287103\n",
      "  -1.1560690339275803 '61e9f3a8b937134a3c4bfdf7'\n",
      "  '61d371c43aeaecc07011a37f' Timestamp('2024-01-09 23:00:00')]\n",
      " [Timestamp('2024-01-01 08:03:35') 70.4 15.2 0 67 0 -3.6332980005811395\n",
      "  -1.1531854848337288 '61e9f3a8b937134a3c4bfdf7'\n",
      "  '61d371c43aeaecc07011a37f' Timestamp('2024-01-09 23:00:00')]]\n"
     ]
    }
   ],
   "source": [
    "def convert_timestamp_to_seconds(timestamp):\n",
    "    \"\"\"\n",
    "    Input:\n",
    "    timestamp: A pandas Timestamp object\n",
    "    \n",
    "    Output:\n",
    "    seconds: The number of seconds since the (January 1, 2023)\n",
    "    \"\"\"\n",
    "    if isinstance(timestamp, pd.Timestamp):\n",
    "        return float((timestamp - pd.Timestamp('2023-01-01')).total_seconds())\n",
    "    return float(timestamp)\n",
    "\n"
   ]
  },
  {
   "cell_type": "code",
   "execution_count": 9,
   "metadata": {},
   "outputs": [
    {
     "data": {
      "text/html": [
       "<pre style=\"white-space:pre;overflow-x:auto;line-height:normal;font-family:Menlo,'DejaVu Sans Mono',consolas,'Courier New',monospace\"><span style=\"font-weight: bold\">Model: \"sequential\"</span>\n",
       "</pre>\n"
      ],
      "text/plain": [
       "\u001b[1mModel: \"sequential\"\u001b[0m\n"
      ]
     },
     "metadata": {},
     "output_type": "display_data"
    },
    {
     "data": {
      "text/html": [
       "<pre style=\"white-space:pre;overflow-x:auto;line-height:normal;font-family:Menlo,'DejaVu Sans Mono',consolas,'Courier New',monospace\">┏━━━━━━━━━━━━━━━━━━━━━━━━━━━━━━━━━┳━━━━━━━━━━━━━━━━━━━━━━━━┳━━━━━━━━━━━━━━━┓\n",
       "┃<span style=\"font-weight: bold\"> Layer (type)                    </span>┃<span style=\"font-weight: bold\"> Output Shape           </span>┃<span style=\"font-weight: bold\">       Param # </span>┃\n",
       "┡━━━━━━━━━━━━━━━━━━━━━━━━━━━━━━━━━╇━━━━━━━━━━━━━━━━━━━━━━━━╇━━━━━━━━━━━━━━━┩\n",
       "│ lstm (<span style=\"color: #0087ff; text-decoration-color: #0087ff\">LSTM</span>)                     │ (<span style=\"color: #00d7ff; text-decoration-color: #00d7ff\">None</span>, <span style=\"color: #00af00; text-decoration-color: #00af00\">64</span>)             │        <span style=\"color: #00af00; text-decoration-color: #00af00\">19,456</span> │\n",
       "├─────────────────────────────────┼────────────────────────┼───────────────┤\n",
       "│ dense (<span style=\"color: #0087ff; text-decoration-color: #0087ff\">Dense</span>)                   │ (<span style=\"color: #00d7ff; text-decoration-color: #00d7ff\">None</span>, <span style=\"color: #00af00; text-decoration-color: #00af00\">8</span>)              │           <span style=\"color: #00af00; text-decoration-color: #00af00\">520</span> │\n",
       "├─────────────────────────────────┼────────────────────────┼───────────────┤\n",
       "│ dense_1 (<span style=\"color: #0087ff; text-decoration-color: #0087ff\">Dense</span>)                 │ (<span style=\"color: #00d7ff; text-decoration-color: #00d7ff\">None</span>, <span style=\"color: #00af00; text-decoration-color: #00af00\">2</span>)              │            <span style=\"color: #00af00; text-decoration-color: #00af00\">18</span> │\n",
       "└─────────────────────────────────┴────────────────────────┴───────────────┘\n",
       "</pre>\n"
      ],
      "text/plain": [
       "┏━━━━━━━━━━━━━━━━━━━━━━━━━━━━━━━━━┳━━━━━━━━━━━━━━━━━━━━━━━━┳━━━━━━━━━━━━━━━┓\n",
       "┃\u001b[1m \u001b[0m\u001b[1mLayer (type)                   \u001b[0m\u001b[1m \u001b[0m┃\u001b[1m \u001b[0m\u001b[1mOutput Shape          \u001b[0m\u001b[1m \u001b[0m┃\u001b[1m \u001b[0m\u001b[1m      Param #\u001b[0m\u001b[1m \u001b[0m┃\n",
       "┡━━━━━━━━━━━━━━━━━━━━━━━━━━━━━━━━━╇━━━━━━━━━━━━━━━━━━━━━━━━╇━━━━━━━━━━━━━━━┩\n",
       "│ lstm (\u001b[38;5;33mLSTM\u001b[0m)                     │ (\u001b[38;5;45mNone\u001b[0m, \u001b[38;5;34m64\u001b[0m)             │        \u001b[38;5;34m19,456\u001b[0m │\n",
       "├─────────────────────────────────┼────────────────────────┼───────────────┤\n",
       "│ dense (\u001b[38;5;33mDense\u001b[0m)                   │ (\u001b[38;5;45mNone\u001b[0m, \u001b[38;5;34m8\u001b[0m)              │           \u001b[38;5;34m520\u001b[0m │\n",
       "├─────────────────────────────────┼────────────────────────┼───────────────┤\n",
       "│ dense_1 (\u001b[38;5;33mDense\u001b[0m)                 │ (\u001b[38;5;45mNone\u001b[0m, \u001b[38;5;34m2\u001b[0m)              │            \u001b[38;5;34m18\u001b[0m │\n",
       "└─────────────────────────────────┴────────────────────────┴───────────────┘\n"
      ]
     },
     "metadata": {},
     "output_type": "display_data"
    },
    {
     "data": {
      "text/html": [
       "<pre style=\"white-space:pre;overflow-x:auto;line-height:normal;font-family:Menlo,'DejaVu Sans Mono',consolas,'Courier New',monospace\"><span style=\"font-weight: bold\"> Total params: </span><span style=\"color: #00af00; text-decoration-color: #00af00\">19,994</span> (78.10 KB)\n",
       "</pre>\n"
      ],
      "text/plain": [
       "\u001b[1m Total params: \u001b[0m\u001b[38;5;34m19,994\u001b[0m (78.10 KB)\n"
      ]
     },
     "metadata": {},
     "output_type": "display_data"
    },
    {
     "data": {
      "text/html": [
       "<pre style=\"white-space:pre;overflow-x:auto;line-height:normal;font-family:Menlo,'DejaVu Sans Mono',consolas,'Courier New',monospace\"><span style=\"font-weight: bold\"> Trainable params: </span><span style=\"color: #00af00; text-decoration-color: #00af00\">19,994</span> (78.10 KB)\n",
       "</pre>\n"
      ],
      "text/plain": [
       "\u001b[1m Trainable params: \u001b[0m\u001b[38;5;34m19,994\u001b[0m (78.10 KB)\n"
      ]
     },
     "metadata": {},
     "output_type": "display_data"
    },
    {
     "data": {
      "text/html": [
       "<pre style=\"white-space:pre;overflow-x:auto;line-height:normal;font-family:Menlo,'DejaVu Sans Mono',consolas,'Courier New',monospace\"><span style=\"font-weight: bold\"> Non-trainable params: </span><span style=\"color: #00af00; text-decoration-color: #00af00\">0</span> (0.00 B)\n",
       "</pre>\n"
      ],
      "text/plain": [
       "\u001b[1m Non-trainable params: \u001b[0m\u001b[38;5;34m0\u001b[0m (0.00 B)\n"
      ]
     },
     "metadata": {},
     "output_type": "display_data"
    }
   ],
   "source": [
    "model1 = Sequential()\n",
    "model1.add(InputLayer((7, 11))) \n",
    "model1.add(LSTM(64))\n",
    "model1.add(Dense(8, 'relu'))\n",
    "model1.add(Dense(2, 'linear'))\n",
    "\n",
    "model1.summary()"
   ]
  },
  {
   "cell_type": "code",
   "execution_count": 10,
   "metadata": {},
   "outputs": [],
   "source": [
    "cp5 = ModelCheckpoint('model5.keras', save_best_only=True)\n",
    "model1.compile(loss=MeanSquaredError(), optimizer=Adam(learning_rate=0.0001), metrics=[RootMeanSquaredError()])"
   ]
  },
  {
   "cell_type": "code",
   "execution_count": 11,
   "metadata": {},
   "outputs": [
    {
     "ename": "ValueError",
     "evalue": "Failed to convert a NumPy array to a Tensor (Unsupported object type Timestamp).",
     "output_type": "error",
     "traceback": [
      "\u001b[0;31m---------------------------------------------------------------------------\u001b[0m",
      "\u001b[0;31mValueError\u001b[0m                                Traceback (most recent call last)",
      "Cell \u001b[0;32mIn[11], line 1\u001b[0m\n\u001b[0;32m----> 1\u001b[0m model1\u001b[38;5;241m.\u001b[39mfit(train_X, train_Y, validation_data\u001b[38;5;241m=\u001b[39m(val_X, val_Y), epochs\u001b[38;5;241m=\u001b[39m\u001b[38;5;241m10\u001b[39m, callbacks\u001b[38;5;241m=\u001b[39m[cp5])\n",
      "File \u001b[0;32m~/anaconda3/lib/python3.12/site-packages/keras/src/utils/traceback_utils.py:122\u001b[0m, in \u001b[0;36mfilter_traceback.<locals>.error_handler\u001b[0;34m(*args, **kwargs)\u001b[0m\n\u001b[1;32m    119\u001b[0m     filtered_tb \u001b[38;5;241m=\u001b[39m _process_traceback_frames(e\u001b[38;5;241m.\u001b[39m__traceback__)\n\u001b[1;32m    120\u001b[0m     \u001b[38;5;66;03m# To get the full stack trace, call:\u001b[39;00m\n\u001b[1;32m    121\u001b[0m     \u001b[38;5;66;03m# `keras.config.disable_traceback_filtering()`\u001b[39;00m\n\u001b[0;32m--> 122\u001b[0m     \u001b[38;5;28;01mraise\u001b[39;00m e\u001b[38;5;241m.\u001b[39mwith_traceback(filtered_tb) \u001b[38;5;28;01mfrom\u001b[39;00m \u001b[38;5;28;01mNone\u001b[39;00m\n\u001b[1;32m    123\u001b[0m \u001b[38;5;28;01mfinally\u001b[39;00m:\n\u001b[1;32m    124\u001b[0m     \u001b[38;5;28;01mdel\u001b[39;00m filtered_tb\n",
      "File \u001b[0;32m~/anaconda3/lib/python3.12/site-packages/tensorflow/python/framework/constant_op.py:108\u001b[0m, in \u001b[0;36mconvert_to_eager_tensor\u001b[0;34m(value, ctx, dtype)\u001b[0m\n\u001b[1;32m    106\u001b[0m     dtype \u001b[38;5;241m=\u001b[39m dtypes\u001b[38;5;241m.\u001b[39mas_dtype(dtype)\u001b[38;5;241m.\u001b[39mas_datatype_enum\n\u001b[1;32m    107\u001b[0m ctx\u001b[38;5;241m.\u001b[39mensure_initialized()\n\u001b[0;32m--> 108\u001b[0m \u001b[38;5;28;01mreturn\u001b[39;00m ops\u001b[38;5;241m.\u001b[39mEagerTensor(value, ctx\u001b[38;5;241m.\u001b[39mdevice_name, dtype)\n",
      "\u001b[0;31mValueError\u001b[0m: Failed to convert a NumPy array to a Tensor (Unsupported object type Timestamp)."
     ]
    }
   ],
   "source": [
    "model1.fit(train_X, train_Y, validation_data=(val_X, val_Y), epochs=10, callbacks=[cp5])"
   ]
  }
 ],
 "metadata": {
  "kernelspec": {
   "display_name": "base",
   "language": "python",
   "name": "python3"
  },
  "language_info": {
   "codemirror_mode": {
    "name": "ipython",
    "version": 3
   },
   "file_extension": ".py",
   "mimetype": "text/x-python",
   "name": "python",
   "nbconvert_exporter": "python",
   "pygments_lexer": "ipython3",
   "version": "3.12.4"
  }
 },
 "nbformat": 4,
 "nbformat_minor": 2
}
