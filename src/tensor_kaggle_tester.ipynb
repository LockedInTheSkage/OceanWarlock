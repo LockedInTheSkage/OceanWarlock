{
 "cells": [
  {
   "cell_type": "code",
   "execution_count": null,
   "metadata": {},
   "outputs": [],
   "source": []
  },
  {
   "cell_type": "code",
   "execution_count": 5,
   "metadata": {},
   "outputs": [],
   "source": [
    "from tensorflow.keras.models import load_model\n",
    "import numpy as np\n",
    "import pandas as pd\n",
    "\n",
    "from feature_engineering.tensor_features import develop_features, floating_conv\n",
    "from path_finder import test_path_sorter\n",
    "\n",
    "from sklearn.preprocessing import StandardScaler\n",
    "from data_handler import LocalToLargeDataLoader"
   ]
  },
  {
   "cell_type": "code",
   "execution_count": 6,
   "metadata": {},
   "outputs": [
    {
     "name": "stdout",
     "output_type": "stream",
     "text": [
      "Retrieving training data...\n",
      "Retrieving testing data...\n"
     ]
    }
   ],
   "source": [
    "data_loader = LocalToLargeDataLoader(print_progress=True)\n",
    "parsed_data = data_loader.load_raw_data(path=\"../../resources\")\n",
    "test_data = data_loader.load_test_data(path=\"../../resources\")"
   ]
  },
  {
   "cell_type": "code",
   "execution_count": 11,
   "metadata": {},
   "outputs": [
    {
     "name": "stdout",
     "output_type": "stream",
     "text": [
      "          ID                  vesselId                time  scaling_factor\n",
      "0          0  61e9f3aeb937134a3c4bfe3d 2024-05-08 00:03:16             0.3\n",
      "1          1  61e9f473b937134a3c4c02df 2024-05-08 00:06:17             0.3\n",
      "2          2  61e9f469b937134a3c4c029b 2024-05-08 00:10:02             0.3\n",
      "3          3  61e9f45bb937134a3c4c0221 2024-05-08 00:10:34             0.3\n",
      "4          4  61e9f38eb937134a3c4bfd8d 2024-05-08 00:12:27             0.3\n",
      "...      ...                       ...                 ...             ...\n",
      "51734  51734  61e9f3a8b937134a3c4bfdf3 2024-05-12 23:59:58             0.1\n",
      "51735  51735  61e9f3b4b937134a3c4bfe77 2024-05-12 23:59:58             0.1\n",
      "51736  51736  61e9f46cb937134a3c4c02b7 2024-05-12 23:59:58             0.1\n",
      "51737  51737  61e9f465b937134a3c4c0269 2024-05-12 23:59:58             0.1\n",
      "51738  51738  61e9f3adb937134a3c4bfe39 2024-05-12 23:59:58             0.1\n",
      "\n",
      "[51739 rows x 4 columns]\n",
      "[===================-] 100.0% complete\n",
      "[====================] 100.0% complete\n",
      "Concatting dataframes\n",
      "Number of dataframes: 688\n",
      "     rot  heading  navstat                   vesselId  \\\n",
      "0      9      325        1   61e9f38eb937134a3c4bfd8b   \n",
      "1      0      277        2   61e9f38eb937134a3c4bfd8d   \n",
      "2      0      122        0   61e9f38eb937134a3c4bfd8f   \n",
      "3      6      302        0   61e9f38eb937134a3c4bfd91   \n",
      "4     -8       34        0   61e9f390b937134a3c4bfd93   \n",
      "..   ...      ...      ...                        ...   \n",
      "683    0      150        5  clh6aqawa0003gh0zu0aznvt2   \n",
      "684    0       24        0  clh6aqawa0004gh0z12aogec9   \n",
      "685    0      181        0  clh6aqawa0005gh0z64y4xyip   \n",
      "686    0       51        5  clh6aqawa0006gh0zje911dl3   \n",
      "687    3       50        0  clh6aqawa0007gh0z9h6zi9bo   \n",
      "\n",
      "                       portId            etaParsed UN_LOCODE ISO  \\\n",
      "0    61d36ee00a1807568ff9a072  2024-05-04 22:45:00     DZSKI  DZ   \n",
      "1    61d3743d3aeaecc07011a6fa  2024-05-09 04:00:00     FRBES  FR   \n",
      "2    61d37ab61366c3998241d9f4  2024-05-12 22:00:00     MXESE  MX   \n",
      "3    61d37a1d1366c3998241d91e  2024-05-21 14:00:00     JPNGO  JP   \n",
      "4    61d38259b7b7526e1adf3a41  2024-05-13 18:00:00     TRDRC  TR   \n",
      "..                        ...                  ...       ...  ..   \n",
      "683  61d36f210a1807568ff9a0c3  2024-05-05 10:00:00     ARZAE  AR   \n",
      "684  634c4de270937fc01c3a71cf  2024-05-08 03:30:00     DKBOG  DK   \n",
      "685  61d37a091366c3998241d8f6  2024-05-09 06:00:00     JPKAI  JP   \n",
      "686  61d36f9a0a1807568ff9a156  2024-05-09 05:00:00     BEZEE  BE   \n",
      "687  61d373b83aeaecc07011a62b  2024-05-08 03:00:00     FITKU  FI   \n",
      "\n",
      "     portLongitude  portLatitude  ...               time_8  cog_8  sog_8  \\\n",
      "0         6.905833     36.887500  ...  2024-05-05 01:31:47   14.6    0.3   \n",
      "1        -4.474167     48.380556  ...  2024-05-07 21:15:19  238.0   19.5   \n",
      "2      -116.626389     31.850833  ...  2024-04-25 15:09:22   95.5   15.8   \n",
      "3       136.848056     35.045000  ...  2024-05-05 01:14:52  186.5    9.1   \n",
      "4        29.841944     40.751111  ...  2024-05-07 19:57:07   32.4   15.3   \n",
      "..             ...           ...  ...                  ...    ...    ...   \n",
      "683     -59.007778    -34.098889  ...  2024-05-07 07:55:19  275.7    0.0   \n",
      "684      12.050000     54.933000  ...  2024-05-07 21:19:22  353.0    5.7   \n",
      "685     135.191389     34.153056  ...  2024-05-01 08:56:17  219.0   15.3   \n",
      "686       3.207222     51.336389  ...  2024-05-07 21:11:18   51.0    0.0   \n",
      "687      22.216389     60.437778  ...  2024-05-07 21:19:18  288.5   15.4   \n",
      "\n",
      "     latitude_8  longitude_8               time_9  cog_9  sog_9  latitude_9  \\\n",
      "0      36.99575      5.79647  2024-05-04 23:16:12   69.4    0.1    36.98595   \n",
      "1      48.94785     -5.57303  2024-05-07 20:59:13  238.0   19.4    48.99392   \n",
      "2      41.52104    141.89924  2024-04-25 14:56:11   95.7   16.2    41.52662   \n",
      "3      33.67069   -118.24944  2024-05-05 00:59:52  160.4    8.0    33.70762   \n",
      "4      32.39234    -10.07203  2024-05-07 19:36:49   33.3   14.8    32.32061   \n",
      "..          ...          ...                  ...    ...    ...         ...   \n",
      "683   -34.06412    -59.03509  2024-05-07 07:34:20  246.0    0.0   -34.06414   \n",
      "684    54.15321     12.10200  2024-05-07 20:59:12  353.0    0.0    54.15080   \n",
      "685    34.54962    135.21877  2024-05-01 08:35:11  206.0   14.1    34.61763   \n",
      "686    51.35306      3.19242  2024-05-07 20:37:56   51.0    0.0    51.35306   \n",
      "687    59.48803     21.96346  2024-05-07 20:59:11  288.7   15.5    59.46124   \n",
      "\n",
      "     longitude_9  \n",
      "0        5.79692  \n",
      "1       -5.46102  \n",
      "2      141.82191  \n",
      "3     -118.24893  \n",
      "4      -10.12783  \n",
      "..           ...  \n",
      "683    -59.03509  \n",
      "684     12.10152  \n",
      "685    135.28448  \n",
      "686      3.19242  \n",
      "687     22.12378  \n",
      "\n",
      "[688 rows x 60 columns]\n"
     ]
    }
   ],
   "source": [
    "print(test_data)\n",
    "new_data=test_path_sorter(parsed_data, test_data)\n",
    "print(new_data)"
   ]
  },
  {
   "cell_type": "code",
   "execution_count": null,
   "metadata": {},
   "outputs": [],
   "source": [
    "ids = new_data['ID']\n",
    "X_new = new_data.drop(columns=['ID'])\n",
    "\n",
    "X_new = new_data.to_numpy()\n",
    "\n",
    "print(X_new.shape)"
   ]
  },
  {
   "cell_type": "code",
   "execution_count": null,
   "metadata": {},
   "outputs": [],
   "source": [
    "model = load_model('best_model.keras')"
   ]
  },
  {
   "cell_type": "code",
   "execution_count": null,
   "metadata": {},
   "outputs": [],
   "source": [
    "predictions = model.predict(X_new.to_numpy())  # Ensure the input is a numpy array\n",
    "\n",
    "longitude_predicted = predictions[:, 0]\n",
    "latitude_predicted = predictions[:, 1]"
   ]
  },
  {
   "cell_type": "code",
   "execution_count": null,
   "metadata": {},
   "outputs": [],
   "source": [
    "predictions_df = pd.DataFrame({\n",
    "    'ID': ids,\n",
    "    'longitude_predicted': longitude_predicted,\n",
    "    'latitude_predicted': latitude_predicted\n",
    "})\n",
    "print(predictions_df.head())\n",
    "\n",
    "predictions_df.to_csv('predictions.csv', index=False)"
   ]
  }
 ],
 "metadata": {
  "kernelspec": {
   "display_name": "Python 3",
   "language": "python",
   "name": "python3"
  },
  "language_info": {
   "codemirror_mode": {
    "name": "ipython",
    "version": 3
   },
   "file_extension": ".py",
   "mimetype": "text/x-python",
   "name": "python",
   "nbconvert_exporter": "python",
   "pygments_lexer": "ipython3",
   "version": "3.11.3"
  }
 },
 "nbformat": 4,
 "nbformat_minor": 2
}
