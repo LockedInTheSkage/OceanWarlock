{
 "cells": [
  {
   "cell_type": "code",
   "execution_count": 3,
   "metadata": {},
   "outputs": [
    {
     "name": "stdout",
     "output_type": "stream",
     "text": [
      "The autoreload extension is already loaded. To reload it, use:\n",
      "  %reload_ext autoreload\n"
     ]
    }
   ],
   "source": [
    "%load_ext autoreload\n",
    "\n",
    "%autoreload 2"
   ]
  },
  {
   "cell_type": "code",
   "execution_count": 17,
   "metadata": {},
   "outputs": [],
   "source": [
    "import numpy as np\n",
    "import pandas as pd\n",
    "\n",
    "from tensorflow.keras.models import load_model\n",
    "\n",
    "from feature_engineering.tensor_features import develop_features, floating_conv\n",
    "import path_finder as pf\n",
    "\n",
    "from sklearn.preprocessing import StandardScaler\n",
    "from data_handler import LocalToLargeDataLoader"
   ]
  },
  {
   "cell_type": "code",
   "execution_count": 18,
   "metadata": {},
   "outputs": [
    {
     "name": "stdout",
     "output_type": "stream",
     "text": [
      "Retrieving training data...\n",
      "Retrieving testing data...\n"
     ]
    }
   ],
   "source": [
    "data_loader = LocalToLargeDataLoader(print_progress=True)\n",
    "parsed_data = data_loader.load_raw_data(path=\"../../resources\")\n",
    "test_data = data_loader.load_test_data(path=\"../../resources\")"
   ]
  },
  {
   "cell_type": "code",
   "execution_count": 19,
   "metadata": {},
   "outputs": [
    {
     "name": "stdout",
     "output_type": "stream",
     "text": [
      "New\n",
      "[===================-] 100.0% complete\n",
      "[====================] 100.0% complete\n",
      "Concatting dataframes\n",
      "Number of dataframes: 215\n",
      "Index(['ID', 'rot', 'heading', 'navstat', 'vesselId', 'portId', 'etaParsed',\n",
      "       'UN_LOCODE', 'ISO', 'portLongitude', 'portLatitude', 'time_1', 'cog_1',\n",
      "       'sog_1', 'latitude_1', 'longitude_1', 'time_2', 'cog_2', 'sog_2',\n",
      "       'latitude_2', 'longitude_2', 'time_3', 'cog_3', 'sog_3', 'latitude_3',\n",
      "       'longitude_3', 'time_4', 'cog_4', 'sog_4', 'latitude_4', 'longitude_4',\n",
      "       'time_5', 'cog_5', 'sog_5', 'latitude_5', 'longitude_5', 'time_6',\n",
      "       'cog_6', 'sog_6', 'latitude_6', 'longitude_6', 'time_7', 'cog_7',\n",
      "       'sog_7', 'latitude_7', 'longitude_7', 'time_8', 'cog_8', 'sog_8',\n",
      "       'latitude_8', 'longitude_8', 'time_9', 'cog_9', 'sog_9', 'latitude_9',\n",
      "       'longitude_9', 'time_0'],\n",
      "      dtype='object')\n"
     ]
    }
   ],
   "source": [
    "new_data = pf.test_path_sorter(parsed_data, test_data)\n",
    "print(new_data.keys())"
   ]
  },
  {
   "cell_type": "code",
   "execution_count": 20,
   "metadata": {},
   "outputs": [],
   "source": [
    "#new_data = new_data.drop(columns=['UN_LOCODE', 'ISO', 'portLongitude', 'portLatitude'])"
   ]
  },
  {
   "cell_type": "code",
   "execution_count": 21,
   "metadata": {},
   "outputs": [
    {
     "name": "stdout",
     "output_type": "stream",
     "text": [
      "56 11\n",
      "Index(['ID', 'rot', 'heading', 'navstat', 'vesselId', 'portId', 'etaParsed',\n",
      "       'UN_LOCODE', 'ISO', 'portLongitude', 'portLatitude', 'time_0', 'time_1',\n",
      "       'cog_1', 'sog_1', 'latitude_1', 'longitude_1', 'time_2', 'cog_2',\n",
      "       'sog_2', 'latitude_2', 'longitude_2', 'time_3', 'cog_3', 'sog_3',\n",
      "       'latitude_3', 'longitude_3', 'time_4', 'cog_4', 'sog_4', 'latitude_4',\n",
      "       'longitude_4', 'time_5', 'cog_5', 'sog_5', 'latitude_5', 'longitude_5',\n",
      "       'time_6', 'cog_6', 'sog_6', 'latitude_6', 'longitude_6', 'time_7',\n",
      "       'cog_7', 'sog_7', 'latitude_7', 'longitude_7', 'time_8', 'cog_8',\n",
      "       'sog_8', 'latitude_8', 'longitude_8', 'time_9', 'cog_9', 'sog_9',\n",
      "       'latitude_9', 'longitude_9'],\n",
      "      dtype='object')\n",
      "(51739, 57)\n"
     ]
    }
   ],
   "source": [
    "cols = new_data.columns.tolist()\n",
    "\n",
    "time_0_index = cols.index(\"time_0\")\n",
    "time_1_index = cols.index(\"time_1\")\n",
    "print(time_0_index, time_1_index)\n",
    "\n",
    "cols = cols[:time_1_index] + [cols[time_0_index]] + cols[time_1_index:-1]\n",
    "\n",
    "X_new = new_data[cols]\n",
    "X_new.sort_values(by=[\"ID\"], inplace=True)\n",
    "X_new = X_new.reset_index(drop=True)\n",
    "\n",
    "print(X_new.keys())\n",
    "print(X_new.shape)"
   ]
  },
  {
   "cell_type": "code",
   "execution_count": 28,
   "metadata": {},
   "outputs": [
    {
     "name": "stdout",
     "output_type": "stream",
     "text": [
      "Developing features with the following columns:  Index(['rot', 'heading', 'navstat', 'etaParsed', 'UN_LOCODE', 'ISO',\n",
      "       'portLongitude', 'portLatitude', 'time_0', 'time_1', 'cog_1', 'sog_1',\n",
      "       'latitude_1', 'longitude_1', 'time_2', 'cog_2', 'sog_2', 'latitude_2',\n",
      "       'longitude_2', 'time_3', 'cog_3', 'sog_3', 'latitude_3', 'longitude_3',\n",
      "       'time_4', 'cog_4', 'sog_4', 'latitude_4', 'longitude_4', 'time_5',\n",
      "       'cog_5', 'sog_5', 'latitude_5', 'longitude_5', 'time_6', 'cog_6',\n",
      "       'sog_6', 'latitude_6', 'longitude_6', 'time_7', 'cog_7', 'sog_7',\n",
      "       'latitude_7', 'longitude_7', 'time_8', 'cog_8', 'sog_8', 'latitude_8',\n",
      "       'longitude_8', 'time_9', 'cog_9', 'sog_9', 'latitude_9', 'longitude_9'],\n",
      "      dtype='object')\n",
      "Categorizing...\n",
      "Tokenizing...\n",
      "Normalizing timestamps...\n"
     ]
    }
   ],
   "source": [
    "test_data=develop_features(X_new.drop(columns=[\"ID\"]))"
   ]
  },
  {
   "cell_type": "code",
   "execution_count": 31,
   "metadata": {},
   "outputs": [],
   "source": [
    "model = load_model('best_model.keras')"
   ]
  },
  {
   "cell_type": "code",
   "execution_count": 38,
   "metadata": {},
   "outputs": [
    {
     "name": "stdout",
     "output_type": "stream",
     "text": [
      "   rot  heading  navstat   etaParsed  UN_LOCODE  ISO  portLongitude  \\\n",
      "0  0.0    344.0      5.0  42461100.0        0.0  0.0     -81.496667   \n",
      "1  0.0    214.0      5.0  42073200.0        1.0  1.0     120.279444   \n",
      "2  0.0      6.0      0.0  42641100.0        2.0  2.0      11.780833   \n",
      "3  0.0     31.0      1.0  42513300.0        3.0  3.0     172.716111   \n",
      "4  0.0    277.0      2.0  42696000.0        4.0  4.0      -4.474167   \n",
      "\n",
      "   portLatitude      time_0      time_1  ...      time_8  cog_8  sog_8  \\\n",
      "0     31.140556  42595396.0  42594496.0  ...  42544448.0   72.6    0.0   \n",
      "1     14.808333  42595577.0  42595036.0  ...  42586592.0   24.7    0.0   \n",
      "2     42.098889  42595802.0  42595148.0  ...  42532979.0  231.0   17.2   \n",
      "3    -43.606111  42595834.0  42594754.0  ...  42585574.0  186.8    0.1   \n",
      "4     48.380556  42595947.0  42594689.0  ...  42586723.0  238.0   19.4   \n",
      "\n",
      "   latitude_8  longitude_8      time_9  cog_9  sog_9  latitude_9  longitude_9  \n",
      "0    31.14645    -81.49791  42541752.0   53.3    0.0    31.14645    -81.49791  \n",
      "1    14.81688    120.29627  42585333.0   24.7    0.0    14.81694    120.29634  \n",
      "2    37.77330     11.52038  42532271.0  230.0   17.7    37.81037     11.57713  \n",
      "3   -43.53768    172.83604  42585394.0  110.3    0.2   -43.53762    172.83600  \n",
      "4    48.88018     -5.73513  42585319.0  238.0   19.5    48.94785     -5.57303  \n",
      "\n",
      "[5 rows x 54 columns]\n",
      "['rot', 'heading', 'navstat', 'etaParsed', 'UN_LOCODE', 'ISO', 'portLongitude', 'portLatitude', 'time_0', 'time_1', 'cog_1', 'sog_1', 'latitude_1', 'longitude_1', 'time_2', 'cog_2', 'sog_2', 'latitude_2', 'longitude_2', 'time_3', 'cog_3', 'sog_3', 'latitude_3', 'longitude_3', 'time_4', 'cog_4', 'sog_4', 'latitude_4', 'longitude_4', 'time_5', 'cog_5', 'sog_5', 'latitude_5', 'longitude_5', 'time_6', 'cog_6', 'sog_6', 'latitude_6', 'longitude_6', 'time_7', 'cog_7', 'sog_7', 'latitude_7', 'longitude_7', 'time_8', 'cog_8', 'sog_8', 'latitude_8', 'longitude_8', 'time_9', 'cog_9', 'sog_9', 'latitude_9', 'longitude_9']\n",
      "rot              0.000000e+00\n",
      "heading          5.100000e+01\n",
      "navstat          5.000000e+00\n",
      "etaParsed        4.269960e+07\n",
      "UN_LOCODE        5.000000e+00\n",
      "ISO              5.000000e+00\n",
      "portLongitude    3.207222e+00\n",
      "portLatitude     5.133639e+01\n",
      "time_0           4.259595e+07\n",
      "time_1           4.259486e+07\n",
      "cog_1            5.100000e+01\n",
      "sog_1            0.000000e+00\n",
      "latitude_1       5.135306e+01\n",
      "longitude_1      3.192410e+00\n",
      "time_2           4.259269e+07\n",
      "cog_2            5.100000e+01\n",
      "sog_2            0.000000e+00\n",
      "latitude_2       5.135306e+01\n",
      "longitude_2      3.192410e+00\n",
      "time_3           4.259178e+07\n",
      "cog_3            5.100000e+01\n",
      "sog_3            0.000000e+00\n",
      "latitude_3       5.135306e+01\n",
      "longitude_3      3.192420e+00\n",
      "time_4           4.259033e+07\n",
      "cog_4            5.100000e+01\n",
      "sog_4            0.000000e+00\n",
      "latitude_4       5.135306e+01\n",
      "longitude_4      3.192420e+00\n",
      "time_5           4.259015e+07\n",
      "cog_5            5.100000e+01\n",
      "sog_5            0.000000e+00\n",
      "latitude_5       5.135306e+01\n",
      "longitude_5      3.192420e+00\n",
      "time_6           4.258779e+07\n",
      "cog_6            5.000000e+01\n",
      "sog_6            0.000000e+00\n",
      "latitude_6       5.135306e+01\n",
      "longitude_6      3.192410e+00\n",
      "time_7           4.258761e+07\n",
      "cog_7            5.100000e+01\n",
      "sog_7            0.000000e+00\n",
      "latitude_7       5.135306e+01\n",
      "longitude_7      3.192420e+00\n",
      "time_8           4.258670e+07\n",
      "cog_8            5.100000e+01\n",
      "sog_8            0.000000e+00\n",
      "latitude_8       5.135306e+01\n",
      "longitude_8      3.192420e+00\n",
      "time_9           4.258508e+07\n",
      "cog_9            5.100000e+01\n",
      "sog_9            0.000000e+00\n",
      "latitude_9       5.135306e+01\n",
      "longitude_9      3.192420e+00\n",
      "Name: 5, dtype: float64\n"
     ]
    }
   ],
   "source": [
    "print(test_data.head())\n",
    "print(list(test_data.keys()))\n",
    "\n",
    "\n",
    "print(test_data.iloc[5])\n",
    "# all_columns=['rot', 'heading', 'etaParsed', 'UN_LOCODE', 'ISO', 'portLongitude', 'portLatitude', 'time_0', 'time_1', 'cog_1', 'sog_1', 'latitude_1', 'longitude_1', 'time_2', 'cog_2', 'sog_2', 'latitude_2', 'longitude_2', 'time_3', 'cog_3', 'sog_3', 'latitude_3', 'longitude_3', 'time_4', 'cog_4', 'sog_4', 'latitude_4', 'longitude_4', 'time_5', 'cog_5', 'sog_5', 'latitude_5', 'longitude_5', 'time_6', 'cog_6', 'sog_6', 'latitude_6', 'longitude_6', 'time_7', 'cog_7', 'sog_7', 'latitude_7', 'longitude_7', 'time_8', 'cog_8', 'sog_8', 'latitude_8', 'longitude_8', 'time_9', 'cog_9', 'sog_9', 'latitude_9', 'longitude_9', 'navstat_0', 'navstat_1', 'navstat_2', 'navstat_3', 'navstat_4', 'navstat_5', 'navstat_6', 'navstat_8', 'navstat_13', 'navstat_15']\n",
    "# print(all_columns)\n",
    "# missing_columns=[col for col in all_columns if not col in list(test_data.keys())]\n",
    "# if missing_columns:\n",
    "#     test_data[missing_columns]=0\n",
    "# test_data"
   ]
  },
  {
   "cell_type": "code",
   "execution_count": 32,
   "metadata": {},
   "outputs": [
    {
     "name": "stdout",
     "output_type": "stream",
     "text": [
      "(51739, 54)\n",
      "\u001b[1m1617/1617\u001b[0m \u001b[32m━━━━━━━━━━━━━━━━━━━━\u001b[0m\u001b[37m\u001b[0m \u001b[1m2s\u001b[0m 1ms/step\n",
      "(51739, 2)\n",
      "[[36.19226  11.114759]\n",
      " [36.19226  11.114759]\n",
      " [36.19226  11.114759]\n",
      " ...\n",
      " [36.19226  11.114759]\n",
      " [36.19226  11.114759]\n",
      " [36.19226  11.114759]]\n"
     ]
    }
   ],
   "source": [
    "print(test_data.shape)\n",
    "predictions = model.predict(test_data.to_numpy())  # Ensure the input is a numpy arrayArithmeticError\n",
    "\n",
    "print(predictions.shape)\n",
    "print(predictions)\n",
    "\n",
    "# Assuming predictions are in the form of (longitude, latitude) for a regression task\n",
    "longitude_predicted = predictions[:, 0]  # First column corresponds to predicted longitude\n",
    "latitude_predicted = predictions[:, 1]  # Second column corresponds to predicted latitude\n",
    "\n",
    "# Step 3: Create a new DataFrame with the ID and predictions\n",
    "predictions_df = pd.DataFrame({\n",
    "    'ID': X_new['ID'],\n",
    "    'longitude_predicted': longitude_predicted,\n",
    "    'latitude_predicted': latitude_predicted\n",
    "})"
   ]
  },
  {
   "cell_type": "code",
   "execution_count": 51,
   "metadata": {},
   "outputs": [],
   "source": [
    "predictions_df.to_csv('../results/predictions.csv', index=False)"
   ]
  }
 ],
 "metadata": {
  "kernelspec": {
   "display_name": "Python 3",
   "language": "python",
   "name": "python3"
  },
  "language_info": {
   "codemirror_mode": {
    "name": "ipython",
    "version": 3
   },
   "file_extension": ".py",
   "mimetype": "text/x-python",
   "name": "python",
   "nbconvert_exporter": "python",
   "pygments_lexer": "ipython3",
   "version": "3.11.3"
  }
 },
 "nbformat": 4,
 "nbformat_minor": 2
}
