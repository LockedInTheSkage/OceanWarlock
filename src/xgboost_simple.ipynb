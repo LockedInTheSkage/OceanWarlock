{
 "cells": [
  {
   "cell_type": "code",
   "execution_count": null,
   "metadata": {},
   "outputs": [],
   "source": []
  },
  {
   "cell_type": "code",
   "execution_count": 7,
   "metadata": {},
   "outputs": [],
   "source": [
    "import pandas as pd\n",
    "import numpy as np\n",
    "import re\n",
    "from datetime import timedelta\n",
    "from collections import deque\n",
    "import xgboost as xgb\n",
    "from xgboost import plot_importance, plot_tree\n",
    "from sklearn.metrics import mean_absolute_error\n",
    "from sklearn.metrics import r2_score\n",
    "from warnings import simplefilter\n",
    "simplefilter(action=\"ignore\", category=pd.errors.PerformanceWarning)\n",
    "simplefilter(action=\"ignore\", category=FutureWarning)\n",
    "simplefilter(action=\"ignore\", category=UserWarning)\n",
    "from sklearn.model_selection import RandomizedSearchCV, TimeSeriesSplit\n",
    "\n",
    "import loadBar\n",
    "from csv_parser import CSVParser\n",
    "from globals import RESOURCE_FOLDER, STEPSIZES, OUTPUT_WINDOW, INPUT_WINDOW, OUTPUT_FORECAST, DELETEABLE_COLUMNS, ONE_HOT_COLUMNS\n",
    "from markovSquares import apply_markov\n",
    "from feature_engineer import FeatureEngineer\n",
    "from exploring_data_functions import *\n",
    "\n",
    "from searoutePointFinder import fill_with_proximity"
   ]
  },
  {
   "cell_type": "code",
   "execution_count": 90,
   "metadata": {},
   "outputs": [
    {
     "ename": "KeyboardInterrupt",
     "evalue": "",
     "output_type": "error",
     "traceback": [
      "\u001b[1;31m---------------------------------------------------------------------------\u001b[0m",
      "\u001b[1;31mKeyboardInterrupt\u001b[0m                         Traceback (most recent call last)",
      "Cell \u001b[1;32mIn[90], line 2\u001b[0m\n\u001b[0;32m      1\u001b[0m parser \u001b[38;5;241m=\u001b[39m CSVParser(RESOURCE_FOLDER)\n\u001b[1;32m----> 2\u001b[0m total_df \u001b[38;5;241m=\u001b[39m \u001b[43mparser\u001b[49m\u001b[38;5;241;43m.\u001b[39;49m\u001b[43mretrieve_training_data\u001b[49m\u001b[43m(\u001b[49m\u001b[43m)\u001b[49m\n",
      "File \u001b[1;32mc:\\Users\\Bruker\\OneDrive - NTNU\\Studier\\2024_Host\\TDT4173 Moderne maskinlæring i praksis\\OceanWarlock\\OceanWarlock\\src\\csv_parser.py:67\u001b[0m, in \u001b[0;36mCSVParser.retrieve_training_data\u001b[1;34m(self)\u001b[0m\n\u001b[0;32m     66\u001b[0m \u001b[38;5;28;01mdef\u001b[39;00m \u001b[38;5;21mretrieve_training_data\u001b[39m(\u001b[38;5;28mself\u001b[39m):\n\u001b[1;32m---> 67\u001b[0m     df_ais\u001b[38;5;241m=\u001b[39m\u001b[38;5;28;43mself\u001b[39;49m\u001b[38;5;241;43m.\u001b[39;49m\u001b[43mretrieve_ais\u001b[49m\u001b[43m(\u001b[49m\u001b[38;5;28;43mself\u001b[39;49m\u001b[38;5;241;43m.\u001b[39;49m\u001b[43mfolderpath\u001b[49m\u001b[38;5;241;43m+\u001b[39;49m\u001b[38;5;124;43m'\u001b[39;49m\u001b[38;5;124;43m/ais_train.csv\u001b[39;49m\u001b[38;5;124;43m'\u001b[39;49m\u001b[43m)\u001b[49m\n\u001b[0;32m     68\u001b[0m     df_ports\u001b[38;5;241m=\u001b[39m\u001b[38;5;28mself\u001b[39m\u001b[38;5;241m.\u001b[39mretrieve_ports(\u001b[38;5;28mself\u001b[39m\u001b[38;5;241m.\u001b[39mfolderpath\u001b[38;5;241m+\u001b[39m\u001b[38;5;124m'\u001b[39m\u001b[38;5;124m/ports.csv\u001b[39m\u001b[38;5;124m'\u001b[39m)\n\u001b[0;32m     69\u001b[0m     \u001b[38;5;66;03m# df_schedules=self.retrieve_schedules(self.folderpath+'/schedules_to_may_2024.csv')\u001b[39;00m\n",
      "File \u001b[1;32mc:\\Users\\Bruker\\OneDrive - NTNU\\Studier\\2024_Host\\TDT4173 Moderne maskinlæring i praksis\\OceanWarlock\\OceanWarlock\\src\\csv_parser.py:33\u001b[0m, in \u001b[0;36mCSVParser.retrieve_ais\u001b[1;34m(self, path)\u001b[0m\n\u001b[0;32m     31\u001b[0m df_ais \u001b[38;5;241m=\u001b[39m pd\u001b[38;5;241m.\u001b[39mread_csv(path, sep\u001b[38;5;241m=\u001b[39m\u001b[38;5;124m'\u001b[39m\u001b[38;5;124m|\u001b[39m\u001b[38;5;124m'\u001b[39m)\n\u001b[0;32m     32\u001b[0m df_ais[\u001b[38;5;124m'\u001b[39m\u001b[38;5;124mtime\u001b[39m\u001b[38;5;124m'\u001b[39m] \u001b[38;5;241m=\u001b[39m pd\u001b[38;5;241m.\u001b[39mto_datetime(df_ais[\u001b[38;5;124m'\u001b[39m\u001b[38;5;124mtime\u001b[39m\u001b[38;5;124m'\u001b[39m])\n\u001b[1;32m---> 33\u001b[0m df_ais[\u001b[38;5;124m'\u001b[39m\u001b[38;5;124metaParsed\u001b[39m\u001b[38;5;124m'\u001b[39m] \u001b[38;5;241m=\u001b[39m \u001b[43mdf_ais\u001b[49m\u001b[43m[\u001b[49m\u001b[38;5;124;43m'\u001b[39;49m\u001b[38;5;124;43metaRaw\u001b[39;49m\u001b[38;5;124;43m'\u001b[39;49m\u001b[43m]\u001b[49m\u001b[38;5;241;43m.\u001b[39;49m\u001b[43mapply\u001b[49m\u001b[43m(\u001b[49m\u001b[38;5;28;43mself\u001b[39;49m\u001b[38;5;241;43m.\u001b[39;49m\u001b[43mparse_time\u001b[49m\u001b[43m)\u001b[49m\n\u001b[0;32m     34\u001b[0m df_ais\u001b[38;5;241m=\u001b[39mdf_ais\u001b[38;5;241m.\u001b[39mdrop([\u001b[38;5;124m'\u001b[39m\u001b[38;5;124metaRaw\u001b[39m\u001b[38;5;124m'\u001b[39m], axis \u001b[38;5;241m=\u001b[39m \u001b[38;5;241m1\u001b[39m)\n\u001b[0;32m     35\u001b[0m \u001b[38;5;28;01mreturn\u001b[39;00m df_ais\n",
      "File \u001b[1;32mc:\\Users\\Bruker\\AppData\\Local\\Programs\\Python\\Python311\\Lib\\site-packages\\pandas\\core\\series.py:4924\u001b[0m, in \u001b[0;36mSeries.apply\u001b[1;34m(self, func, convert_dtype, args, by_row, **kwargs)\u001b[0m\n\u001b[0;32m   4789\u001b[0m \u001b[38;5;28;01mdef\u001b[39;00m \u001b[38;5;21mapply\u001b[39m(\n\u001b[0;32m   4790\u001b[0m     \u001b[38;5;28mself\u001b[39m,\n\u001b[0;32m   4791\u001b[0m     func: AggFuncType,\n\u001b[1;32m   (...)\u001b[0m\n\u001b[0;32m   4796\u001b[0m     \u001b[38;5;241m*\u001b[39m\u001b[38;5;241m*\u001b[39mkwargs,\n\u001b[0;32m   4797\u001b[0m ) \u001b[38;5;241m-\u001b[39m\u001b[38;5;241m>\u001b[39m DataFrame \u001b[38;5;241m|\u001b[39m Series:\n\u001b[0;32m   4798\u001b[0m \u001b[38;5;250m    \u001b[39m\u001b[38;5;124;03m\"\"\"\u001b[39;00m\n\u001b[0;32m   4799\u001b[0m \u001b[38;5;124;03m    Invoke function on values of Series.\u001b[39;00m\n\u001b[0;32m   4800\u001b[0m \n\u001b[1;32m   (...)\u001b[0m\n\u001b[0;32m   4915\u001b[0m \u001b[38;5;124;03m    dtype: float64\u001b[39;00m\n\u001b[0;32m   4916\u001b[0m \u001b[38;5;124;03m    \"\"\"\u001b[39;00m\n\u001b[0;32m   4917\u001b[0m     \u001b[38;5;28;01mreturn\u001b[39;00m \u001b[43mSeriesApply\u001b[49m\u001b[43m(\u001b[49m\n\u001b[0;32m   4918\u001b[0m \u001b[43m        \u001b[49m\u001b[38;5;28;43mself\u001b[39;49m\u001b[43m,\u001b[49m\n\u001b[0;32m   4919\u001b[0m \u001b[43m        \u001b[49m\u001b[43mfunc\u001b[49m\u001b[43m,\u001b[49m\n\u001b[0;32m   4920\u001b[0m \u001b[43m        \u001b[49m\u001b[43mconvert_dtype\u001b[49m\u001b[38;5;241;43m=\u001b[39;49m\u001b[43mconvert_dtype\u001b[49m\u001b[43m,\u001b[49m\n\u001b[0;32m   4921\u001b[0m \u001b[43m        \u001b[49m\u001b[43mby_row\u001b[49m\u001b[38;5;241;43m=\u001b[39;49m\u001b[43mby_row\u001b[49m\u001b[43m,\u001b[49m\n\u001b[0;32m   4922\u001b[0m \u001b[43m        \u001b[49m\u001b[43margs\u001b[49m\u001b[38;5;241;43m=\u001b[39;49m\u001b[43margs\u001b[49m\u001b[43m,\u001b[49m\n\u001b[0;32m   4923\u001b[0m \u001b[43m        \u001b[49m\u001b[43mkwargs\u001b[49m\u001b[38;5;241;43m=\u001b[39;49m\u001b[43mkwargs\u001b[49m\u001b[43m,\u001b[49m\n\u001b[1;32m-> 4924\u001b[0m \u001b[43m    \u001b[49m\u001b[43m)\u001b[49m\u001b[38;5;241;43m.\u001b[39;49m\u001b[43mapply\u001b[49m\u001b[43m(\u001b[49m\u001b[43m)\u001b[49m\n",
      "File \u001b[1;32mc:\\Users\\Bruker\\AppData\\Local\\Programs\\Python\\Python311\\Lib\\site-packages\\pandas\\core\\apply.py:1427\u001b[0m, in \u001b[0;36mSeriesApply.apply\u001b[1;34m(self)\u001b[0m\n\u001b[0;32m   1424\u001b[0m     \u001b[38;5;28;01mreturn\u001b[39;00m \u001b[38;5;28mself\u001b[39m\u001b[38;5;241m.\u001b[39mapply_compat()\n\u001b[0;32m   1426\u001b[0m \u001b[38;5;66;03m# self.func is Callable\u001b[39;00m\n\u001b[1;32m-> 1427\u001b[0m \u001b[38;5;28;01mreturn\u001b[39;00m \u001b[38;5;28;43mself\u001b[39;49m\u001b[38;5;241;43m.\u001b[39;49m\u001b[43mapply_standard\u001b[49m\u001b[43m(\u001b[49m\u001b[43m)\u001b[49m\n",
      "File \u001b[1;32mc:\\Users\\Bruker\\AppData\\Local\\Programs\\Python\\Python311\\Lib\\site-packages\\pandas\\core\\apply.py:1507\u001b[0m, in \u001b[0;36mSeriesApply.apply_standard\u001b[1;34m(self)\u001b[0m\n\u001b[0;32m   1501\u001b[0m \u001b[38;5;66;03m# row-wise access\u001b[39;00m\n\u001b[0;32m   1502\u001b[0m \u001b[38;5;66;03m# apply doesn't have a `na_action` keyword and for backward compat reasons\u001b[39;00m\n\u001b[0;32m   1503\u001b[0m \u001b[38;5;66;03m# we need to give `na_action=\"ignore\"` for categorical data.\u001b[39;00m\n\u001b[0;32m   1504\u001b[0m \u001b[38;5;66;03m# TODO: remove the `na_action=\"ignore\"` when that default has been changed in\u001b[39;00m\n\u001b[0;32m   1505\u001b[0m \u001b[38;5;66;03m#  Categorical (GH51645).\u001b[39;00m\n\u001b[0;32m   1506\u001b[0m action \u001b[38;5;241m=\u001b[39m \u001b[38;5;124m\"\u001b[39m\u001b[38;5;124mignore\u001b[39m\u001b[38;5;124m\"\u001b[39m \u001b[38;5;28;01mif\u001b[39;00m \u001b[38;5;28misinstance\u001b[39m(obj\u001b[38;5;241m.\u001b[39mdtype, CategoricalDtype) \u001b[38;5;28;01melse\u001b[39;00m \u001b[38;5;28;01mNone\u001b[39;00m\n\u001b[1;32m-> 1507\u001b[0m mapped \u001b[38;5;241m=\u001b[39m \u001b[43mobj\u001b[49m\u001b[38;5;241;43m.\u001b[39;49m\u001b[43m_map_values\u001b[49m\u001b[43m(\u001b[49m\n\u001b[0;32m   1508\u001b[0m \u001b[43m    \u001b[49m\u001b[43mmapper\u001b[49m\u001b[38;5;241;43m=\u001b[39;49m\u001b[43mcurried\u001b[49m\u001b[43m,\u001b[49m\u001b[43m \u001b[49m\u001b[43mna_action\u001b[49m\u001b[38;5;241;43m=\u001b[39;49m\u001b[43maction\u001b[49m\u001b[43m,\u001b[49m\u001b[43m \u001b[49m\u001b[43mconvert\u001b[49m\u001b[38;5;241;43m=\u001b[39;49m\u001b[38;5;28;43mself\u001b[39;49m\u001b[38;5;241;43m.\u001b[39;49m\u001b[43mconvert_dtype\u001b[49m\n\u001b[0;32m   1509\u001b[0m \u001b[43m\u001b[49m\u001b[43m)\u001b[49m\n\u001b[0;32m   1511\u001b[0m \u001b[38;5;28;01mif\u001b[39;00m \u001b[38;5;28mlen\u001b[39m(mapped) \u001b[38;5;129;01mand\u001b[39;00m \u001b[38;5;28misinstance\u001b[39m(mapped[\u001b[38;5;241m0\u001b[39m], ABCSeries):\n\u001b[0;32m   1512\u001b[0m     \u001b[38;5;66;03m# GH#43986 Need to do list(mapped) in order to get treated as nested\u001b[39;00m\n\u001b[0;32m   1513\u001b[0m     \u001b[38;5;66;03m#  See also GH#25959 regarding EA support\u001b[39;00m\n\u001b[0;32m   1514\u001b[0m     \u001b[38;5;28;01mreturn\u001b[39;00m obj\u001b[38;5;241m.\u001b[39m_constructor_expanddim(\u001b[38;5;28mlist\u001b[39m(mapped), index\u001b[38;5;241m=\u001b[39mobj\u001b[38;5;241m.\u001b[39mindex)\n",
      "File \u001b[1;32mc:\\Users\\Bruker\\AppData\\Local\\Programs\\Python\\Python311\\Lib\\site-packages\\pandas\\core\\base.py:921\u001b[0m, in \u001b[0;36mIndexOpsMixin._map_values\u001b[1;34m(self, mapper, na_action, convert)\u001b[0m\n\u001b[0;32m    918\u001b[0m \u001b[38;5;28;01mif\u001b[39;00m \u001b[38;5;28misinstance\u001b[39m(arr, ExtensionArray):\n\u001b[0;32m    919\u001b[0m     \u001b[38;5;28;01mreturn\u001b[39;00m arr\u001b[38;5;241m.\u001b[39mmap(mapper, na_action\u001b[38;5;241m=\u001b[39mna_action)\n\u001b[1;32m--> 921\u001b[0m \u001b[38;5;28;01mreturn\u001b[39;00m \u001b[43malgorithms\u001b[49m\u001b[38;5;241;43m.\u001b[39;49m\u001b[43mmap_array\u001b[49m\u001b[43m(\u001b[49m\u001b[43marr\u001b[49m\u001b[43m,\u001b[49m\u001b[43m \u001b[49m\u001b[43mmapper\u001b[49m\u001b[43m,\u001b[49m\u001b[43m \u001b[49m\u001b[43mna_action\u001b[49m\u001b[38;5;241;43m=\u001b[39;49m\u001b[43mna_action\u001b[49m\u001b[43m,\u001b[49m\u001b[43m \u001b[49m\u001b[43mconvert\u001b[49m\u001b[38;5;241;43m=\u001b[39;49m\u001b[43mconvert\u001b[49m\u001b[43m)\u001b[49m\n",
      "File \u001b[1;32mc:\\Users\\Bruker\\AppData\\Local\\Programs\\Python\\Python311\\Lib\\site-packages\\pandas\\core\\algorithms.py:1743\u001b[0m, in \u001b[0;36mmap_array\u001b[1;34m(arr, mapper, na_action, convert)\u001b[0m\n\u001b[0;32m   1741\u001b[0m values \u001b[38;5;241m=\u001b[39m arr\u001b[38;5;241m.\u001b[39mastype(\u001b[38;5;28mobject\u001b[39m, copy\u001b[38;5;241m=\u001b[39m\u001b[38;5;28;01mFalse\u001b[39;00m)\n\u001b[0;32m   1742\u001b[0m \u001b[38;5;28;01mif\u001b[39;00m na_action \u001b[38;5;129;01mis\u001b[39;00m \u001b[38;5;28;01mNone\u001b[39;00m:\n\u001b[1;32m-> 1743\u001b[0m     \u001b[38;5;28;01mreturn\u001b[39;00m \u001b[43mlib\u001b[49m\u001b[38;5;241;43m.\u001b[39;49m\u001b[43mmap_infer\u001b[49m\u001b[43m(\u001b[49m\u001b[43mvalues\u001b[49m\u001b[43m,\u001b[49m\u001b[43m \u001b[49m\u001b[43mmapper\u001b[49m\u001b[43m,\u001b[49m\u001b[43m \u001b[49m\u001b[43mconvert\u001b[49m\u001b[38;5;241;43m=\u001b[39;49m\u001b[43mconvert\u001b[49m\u001b[43m)\u001b[49m\n\u001b[0;32m   1744\u001b[0m \u001b[38;5;28;01melse\u001b[39;00m:\n\u001b[0;32m   1745\u001b[0m     \u001b[38;5;28;01mreturn\u001b[39;00m lib\u001b[38;5;241m.\u001b[39mmap_infer_mask(\n\u001b[0;32m   1746\u001b[0m         values, mapper, mask\u001b[38;5;241m=\u001b[39misna(values)\u001b[38;5;241m.\u001b[39mview(np\u001b[38;5;241m.\u001b[39muint8), convert\u001b[38;5;241m=\u001b[39mconvert\n\u001b[0;32m   1747\u001b[0m     )\n",
      "File \u001b[1;32mlib.pyx:2972\u001b[0m, in \u001b[0;36mpandas._libs.lib.map_infer\u001b[1;34m()\u001b[0m\n",
      "File \u001b[1;32mc:\\Users\\Bruker\\OneDrive - NTNU\\Studier\\2024_Host\\TDT4173 Moderne maskinlæring i praksis\\OceanWarlock\\OceanWarlock\\src\\csv_parser.py:21\u001b[0m, in \u001b[0;36mCSVParser.parse_time\u001b[1;34m(self, raw_time)\u001b[0m\n\u001b[0;32m     18\u001b[0m date_format \u001b[38;5;241m=\u001b[39m \u001b[38;5;124m\"\u001b[39m\u001b[38;5;124m%\u001b[39m\u001b[38;5;124mm-\u001b[39m\u001b[38;5;132;01m%d\u001b[39;00m\u001b[38;5;124m \u001b[39m\u001b[38;5;124m%\u001b[39m\u001b[38;5;124mH:\u001b[39m\u001b[38;5;124m%\u001b[39m\u001b[38;5;124mM\u001b[39m\u001b[38;5;124m\"\u001b[39m\n\u001b[0;32m     20\u001b[0m \u001b[38;5;66;03m# Parse the cleaned string into a datetime object\u001b[39;00m\n\u001b[1;32m---> 21\u001b[0m parsed_datetime \u001b[38;5;241m=\u001b[39m \u001b[43mdatetime\u001b[49m\u001b[38;5;241;43m.\u001b[39;49m\u001b[43mstrptime\u001b[49m\u001b[43m(\u001b[49m\u001b[43mraw_time\u001b[49m\u001b[43m,\u001b[49m\u001b[43m \u001b[49m\u001b[43mdate_format\u001b[49m\u001b[43m)\u001b[49m\n\u001b[0;32m     23\u001b[0m \u001b[38;5;66;03m# Add placeholder year 2024.\u001b[39;00m\n\u001b[0;32m     25\u001b[0m \u001b[38;5;28;01mreturn\u001b[39;00m parsed_datetime\u001b[38;5;241m.\u001b[39mreplace(year \u001b[38;5;241m=\u001b[39m \u001b[38;5;241m2024\u001b[39m)\n",
      "File \u001b[1;32mc:\\Users\\Bruker\\AppData\\Local\\Programs\\Python\\Python311\\Lib\\_strptime.py:568\u001b[0m, in \u001b[0;36m_strptime_datetime\u001b[1;34m(cls, data_string, format)\u001b[0m\n\u001b[0;32m    565\u001b[0m \u001b[38;5;28;01mdef\u001b[39;00m \u001b[38;5;21m_strptime_datetime\u001b[39m(\u001b[38;5;28mcls\u001b[39m, data_string, \u001b[38;5;28mformat\u001b[39m\u001b[38;5;241m=\u001b[39m\u001b[38;5;124m\"\u001b[39m\u001b[38;5;132;01m%a\u001b[39;00m\u001b[38;5;124m \u001b[39m\u001b[38;5;124m%\u001b[39m\u001b[38;5;124mb \u001b[39m\u001b[38;5;132;01m%d\u001b[39;00m\u001b[38;5;124m \u001b[39m\u001b[38;5;124m%\u001b[39m\u001b[38;5;124mH:\u001b[39m\u001b[38;5;124m%\u001b[39m\u001b[38;5;124mM:\u001b[39m\u001b[38;5;124m%\u001b[39m\u001b[38;5;124mS \u001b[39m\u001b[38;5;124m%\u001b[39m\u001b[38;5;124mY\u001b[39m\u001b[38;5;124m\"\u001b[39m):\n\u001b[0;32m    566\u001b[0m \u001b[38;5;250m    \u001b[39m\u001b[38;5;124;03m\"\"\"Return a class cls instance based on the input string and the\u001b[39;00m\n\u001b[0;32m    567\u001b[0m \u001b[38;5;124;03m    format string.\"\"\"\u001b[39;00m\n\u001b[1;32m--> 568\u001b[0m     tt, fraction, gmtoff_fraction \u001b[38;5;241m=\u001b[39m \u001b[43m_strptime\u001b[49m\u001b[43m(\u001b[49m\u001b[43mdata_string\u001b[49m\u001b[43m,\u001b[49m\u001b[43m \u001b[49m\u001b[38;5;28;43mformat\u001b[39;49m\u001b[43m)\u001b[49m\n\u001b[0;32m    569\u001b[0m     tzname, gmtoff \u001b[38;5;241m=\u001b[39m tt[\u001b[38;5;241m-\u001b[39m\u001b[38;5;241m2\u001b[39m:]\n\u001b[0;32m    570\u001b[0m     args \u001b[38;5;241m=\u001b[39m tt[:\u001b[38;5;241m6\u001b[39m] \u001b[38;5;241m+\u001b[39m (fraction,)\n",
      "File \u001b[1;32mc:\\Users\\Bruker\\AppData\\Local\\Programs\\Python\\Python311\\Lib\\_strptime.py:314\u001b[0m, in \u001b[0;36m_strptime\u001b[1;34m(data_string, format)\u001b[0m\n\u001b[0;32m    309\u001b[0m \u001b[38;5;28;01mdef\u001b[39;00m \u001b[38;5;21m_strptime\u001b[39m(data_string, \u001b[38;5;28mformat\u001b[39m\u001b[38;5;241m=\u001b[39m\u001b[38;5;124m\"\u001b[39m\u001b[38;5;132;01m%a\u001b[39;00m\u001b[38;5;124m \u001b[39m\u001b[38;5;124m%\u001b[39m\u001b[38;5;124mb \u001b[39m\u001b[38;5;132;01m%d\u001b[39;00m\u001b[38;5;124m \u001b[39m\u001b[38;5;124m%\u001b[39m\u001b[38;5;124mH:\u001b[39m\u001b[38;5;124m%\u001b[39m\u001b[38;5;124mM:\u001b[39m\u001b[38;5;124m%\u001b[39m\u001b[38;5;124mS \u001b[39m\u001b[38;5;124m%\u001b[39m\u001b[38;5;124mY\u001b[39m\u001b[38;5;124m\"\u001b[39m):\n\u001b[0;32m    310\u001b[0m \u001b[38;5;250m    \u001b[39m\u001b[38;5;124;03m\"\"\"Return a 2-tuple consisting of a time struct and an int containing\u001b[39;00m\n\u001b[0;32m    311\u001b[0m \u001b[38;5;124;03m    the number of microseconds based on the input string and the\u001b[39;00m\n\u001b[0;32m    312\u001b[0m \u001b[38;5;124;03m    format string.\"\"\"\u001b[39;00m\n\u001b[1;32m--> 314\u001b[0m     \u001b[38;5;28;01mfor\u001b[39;00m index, arg \u001b[38;5;129;01min\u001b[39;00m \u001b[38;5;28menumerate\u001b[39m([data_string, \u001b[38;5;28mformat\u001b[39m]):\n\u001b[0;32m    315\u001b[0m         \u001b[38;5;28;01mif\u001b[39;00m \u001b[38;5;129;01mnot\u001b[39;00m \u001b[38;5;28misinstance\u001b[39m(arg, \u001b[38;5;28mstr\u001b[39m):\n\u001b[0;32m    316\u001b[0m             msg \u001b[38;5;241m=\u001b[39m \u001b[38;5;124m\"\u001b[39m\u001b[38;5;124mstrptime() argument \u001b[39m\u001b[38;5;132;01m{}\u001b[39;00m\u001b[38;5;124m must be str, not \u001b[39m\u001b[38;5;132;01m{}\u001b[39;00m\u001b[38;5;124m\"\u001b[39m\n",
      "\u001b[1;31mKeyboardInterrupt\u001b[0m: "
     ]
    }
   ],
   "source": [
    "parser = CSVParser(RESOURCE_FOLDER)\n",
    "total_df = parser.retrieve_training_data()"
   ]
  },
  {
   "cell_type": "code",
   "execution_count": null,
   "metadata": {},
   "outputs": [],
   "source": [
    "total_df[\"time\"] = pd.to_datetime(total_df['time'])"
   ]
  },
  {
   "cell_type": "code",
   "execution_count": 65,
   "metadata": {},
   "outputs": [],
   "source": [
    "def map_indexes_within_timewindow(df, time_col, timewindow):\n",
    "    # Initialize the dictionary to store the mappings\n",
    "    index_map = {}    \n",
    "\n",
    "    within_window = deque()\n",
    "    \n",
    "    # Iterate over the DataFrame by index and row\n",
    "    for current_idx in range(len((df))):\n",
    "        current_row = df.iloc[current_idx]\n",
    "        current_time = current_row[time_col]\n",
    "        \n",
    "        # Remove outdated timestamps from the left of the deque\n",
    "        while within_window and (current_time - within_window[0][1] > timewindow):\n",
    "            index_map[within_window[0][0]] = within_window[-1][0]\n",
    "            within_window.popleft()\n",
    "        \n",
    "        # If this is the last row, map all the remaining indexes to this row\n",
    "        if current_idx == df.index[-1]:\n",
    "            for idx, _ in within_window:\n",
    "                index_map[idx] = current_idx\n",
    "        \n",
    "        # Add the current index and time to the deque\n",
    "        within_window.append((current_idx, current_time))\n",
    "    \n",
    "    return index_map"
   ]
  },
  {
   "cell_type": "code",
   "execution_count": null,
   "metadata": {},
   "outputs": [],
   "source": [
    "def calculate_time_diffs_within_window(df):\n",
    "    result_list= []\n",
    "    vessel_dfs = df.groupby('vesselId')\n",
    "    j=0\n",
    "    for _, vessel_df in vessel_dfs:\n",
    "        j+=1\n",
    "        loadBar.load_bar(len(vessel_dfs), j)\n",
    "        \n",
    "        vessel_df = vessel_df.sort_values(by='time')\n",
    "        groups = vessel_df.groupby(pd.Grouper(key=\"time\", freq='5D'))\n",
    "        for _, group in groups:\n",
    "                for i in range(len(group)):\n",
    "                    current_row = group.iloc[0]\n",
    "                    future_row = group.iloc[i]\n",
    "                    new_row = current_row.copy()\n",
    "                    new_row['next_latitude'] = future_row['latitude']\n",
    "                    new_row['next_longitude'] = future_row['longitude']\n",
    "                    new_row['time_diff'] = (future_row['time'] - current_row['time']).total_seconds()\n",
    "                    result_list.append(new_row)\n",
    "    \n",
    "    print(\"Concating\")\n",
    "    result_df = pd.DataFrame(result_list)\n",
    "    result_df['diff_seconds'] = result_df['time_diff']\n",
    "    result_df['diff_minutes'] = result_df['diff_seconds'] / 60\n",
    "    result_df['diff_hours'] = result_df['diff_seconds'] / 3600\n",
    "    result_df['diff_days'] = result_df['diff_seconds'] / 86400\n",
    "    \n",
    "    # Identify the last row for each vesselId for separation\n",
    "    last_rows = df.groupby('vesselId').tail(1)\n",
    "\n",
    "    last_rows = last_rows.reset_index(drop=True)\n",
    "    result_df\n",
    "    \n",
    "    return result_df, last_rows"
   ]
  },
  {
   "cell_type": "code",
   "execution_count": null,
   "metadata": {},
   "outputs": [],
   "source": []
  },
  {
   "cell_type": "code",
   "execution_count": null,
   "metadata": {},
   "outputs": [],
   "source": []
  },
  {
   "cell_type": "code",
   "execution_count": null,
   "metadata": {},
   "outputs": [],
   "source": [
    "def calculate_time_diffs_with_coords(df):\n",
    "    # Ensure the DataFrame is sorted by vesselId and time\n",
    "    df = df.sort_values(by=['vesselId', 'time']).reset_index(drop=True)\n",
    "    last_rows = df.groupby('vesselId').tail(1)\n",
    "    # Calculate the time difference in seconds between consecutive times per vesselId\n",
    "    df['time_diff'] = df.groupby('vesselId')['time'].diff().shift(-1)\n",
    "    \n",
    "    # Create columns for each time unit by converting from seconds\n",
    "    df['diff_seconds'] = df['time_diff'].dt.total_seconds()\n",
    "    df['diff_minutes'] = df['diff_seconds'] / 60\n",
    "    df['diff_hours'] = df['diff_seconds'] / 3600\n",
    "    df['diff_days'] = df['diff_seconds'] / 86400\n",
    "    \n",
    "    # Get the latitude and longitude of the next row within each vesselId group\n",
    "    df['next_latitude'] = df.groupby('vesselId')['latitude'].shift(-1)\n",
    "    df['next_longitude'] = df.groupby('vesselId')['longitude'].shift(-1)\n",
    "    \n",
    "    # Identify the last row for each vesselId\n",
    "    \n",
    "    \n",
    "    # Remove the last rows from the main DataFrame\n",
    "    df = df.drop(last_rows.index).reset_index(drop=True)\n",
    "    last_rows = last_rows.reset_index(drop=True)\n",
    "    \n",
    "    # Drop the temporary 'time_diff' column\n",
    "    df = df.drop(columns=['time_diff'])\n",
    "    \n",
    "    return df, last_rows"
   ]
  },
  {
   "cell_type": "code",
   "execution_count": null,
   "metadata": {},
   "outputs": [
    {
     "name": "stdout",
     "output_type": "stream",
     "text": [
      "                       time    cog  sog  rot  heading  navstat  latitude  \\\n",
      "43956   2024-01-04 19:04:25   64.0  0.0    6        9        1   9.45853   \n",
      "44274   2024-01-04 19:49:21  301.0  0.0    4      356        1   9.45838   \n",
      "44442   2024-01-04 20:13:20  317.4  0.0   -1       11        1   9.45845   \n",
      "45226   2024-01-04 21:46:28  127.0  0.1   -1      346        1   9.45844   \n",
      "45710   2024-01-04 22:48:42   99.0  0.0    5      346        1   9.45845   \n",
      "...                     ...    ...  ...  ...      ...      ...       ...   \n",
      "1513020 2024-05-07 10:54:10  349.9  0.0    0      344        5  31.14645   \n",
      "1513116 2024-05-07 11:00:12  148.1  0.0    0      344        5  31.14645   \n",
      "1519897 2024-05-07 23:15:16  323.3  0.0    0      344        5  31.14648   \n",
      "1520076 2024-05-07 23:27:20  114.0  0.0    0      344        5  31.14648   \n",
      "1520268 2024-05-07 23:48:16  179.6  0.0    0      344        5  31.14647   \n",
      "\n",
      "         longitude                  vesselId                    portId  ...  \\\n",
      "43956    -79.85258  61e9f3aeb937134a3c4bfe3d  61d37d0199db2ccf7339eee1  ...   \n",
      "44274    -79.85236  61e9f3aeb937134a3c4bfe3d  61d37d0199db2ccf7339eee1  ...   \n",
      "44442    -79.85236  61e9f3aeb937134a3c4bfe3d  61d37d0199db2ccf7339eee1  ...   \n",
      "45226    -79.85222  61e9f3aeb937134a3c4bfe3d  61d37d0199db2ccf7339eee1  ...   \n",
      "45710    -79.85236  61e9f3aeb937134a3c4bfe3d  61d37d0199db2ccf7339eee1  ...   \n",
      "...            ...                       ...                       ...  ...   \n",
      "1513020  -81.49792  61e9f3aeb937134a3c4bfe3d  61d38499b7b7526e1adf3d54  ...   \n",
      "1513116  -81.49792  61e9f3aeb937134a3c4bfe3d  61d38499b7b7526e1adf3d54  ...   \n",
      "1519897  -81.49789  61e9f3aeb937134a3c4bfe3d  61d38499b7b7526e1adf3d54  ...   \n",
      "1520076  -81.49789  61e9f3aeb937134a3c4bfe3d  61d38499b7b7526e1adf3d54  ...   \n",
      "1520268  -81.49789  61e9f3aeb937134a3c4bfe3d  61d38499b7b7526e1adf3d54  ...   \n",
      "\n",
      "        enginePower freshWater fuel  homePort  length maxHeight  maxSpeed  \\\n",
      "43956           0.0        NaN  NaN  VALLETTA   230.0       NaN       NaN   \n",
      "44274           0.0        NaN  NaN  VALLETTA   230.0       NaN       NaN   \n",
      "44442           0.0        NaN  NaN  VALLETTA   230.0       NaN       NaN   \n",
      "45226           0.0        NaN  NaN  VALLETTA   230.0       NaN       NaN   \n",
      "45710           0.0        NaN  NaN  VALLETTA   230.0       NaN       NaN   \n",
      "...             ...        ...  ...       ...     ...       ...       ...   \n",
      "1513020         0.0        NaN  NaN  VALLETTA   230.0       NaN       NaN   \n",
      "1513116         0.0        NaN  NaN  VALLETTA   230.0       NaN       NaN   \n",
      "1519897         0.0        NaN  NaN  VALLETTA   230.0       NaN       NaN   \n",
      "1520076         0.0        NaN  NaN  VALLETTA   230.0       NaN       NaN   \n",
      "1520268         0.0        NaN  NaN  VALLETTA   230.0       NaN       NaN   \n",
      "\n",
      "         maxWidth  rampCapacity  yearBuilt  \n",
      "43956         NaN           NaN       2011  \n",
      "44274         NaN           NaN       2011  \n",
      "44442         NaN           NaN       2011  \n",
      "45226         NaN           NaN       2011  \n",
      "45710         NaN           NaN       2011  \n",
      "...           ...           ...        ...  \n",
      "1513020       NaN           NaN       2011  \n",
      "1513116       NaN           NaN       2011  \n",
      "1519897       NaN           NaN       2011  \n",
      "1520076       NaN           NaN       2011  \n",
      "1520268       NaN           NaN       2011  \n",
      "\n",
      "[1939 rows x 34 columns]\n",
      "{0: 48, 1: 48, 2: 48, 3: 48, 4: 48, 5: 48, 6: 48, 7: 48, 8: 48, 9: 48, 10: 48, 11: 48, 12: 48, 13: 48, 14: 48, 15: 48, 16: 48, 17: 48, 18: 48, 19: 48, 20: 48, 21: 48, 22: 48, 23: 48, 24: 48, 25: 48, 26: 48, 27: 48, 28: 48, 29: 48, 30: 48, 31: 48, 32: 48, 33: 48, 34: 48, 35: 48, 36: 48, 37: 48, 38: 48, 39: 48, 40: 48, 41: 48, 42: 48, 43: 48, 44: 48, 45: 48, 46: 48, 47: 48, 48: 48, 49: 57, 50: 57, 51: 57, 52: 57, 53: 57, 54: 57, 55: 57, 56: 57, 57: 57, 58: 176, 59: 176, 60: 176, 61: 176, 62: 176, 63: 176, 64: 176, 65: 176, 66: 176, 67: 176, 68: 176, 69: 176, 70: 176, 71: 176, 72: 176, 73: 176, 74: 176, 75: 176, 76: 176, 77: 176, 78: 176, 79: 176, 80: 176, 81: 176, 82: 176, 83: 176, 84: 176, 85: 176, 86: 176, 87: 176, 88: 176, 89: 176, 90: 176, 91: 176, 92: 177, 93: 177, 94: 177, 95: 177, 96: 178, 97: 178, 98: 179, 99: 180, 100: 181, 101: 181, 102: 183, 103: 184, 104: 185, 105: 186, 106: 186, 107: 187, 108: 188, 109: 189, 110: 189, 111: 190, 112: 190, 113: 190, 114: 191, 115: 191, 116: 192, 117: 192, 118: 192, 119: 193, 120: 194, 121: 195, 122: 195, 123: 196, 124: 196, 125: 197, 126: 197, 127: 197, 128: 197, 129: 197, 130: 197, 131: 197, 132: 198, 133: 199, 134: 199, 135: 199, 136: 199, 137: 200, 138: 200, 139: 200, 140: 200, 141: 201, 142: 202, 143: 202, 144: 203, 145: 204, 146: 205, 147: 205, 148: 207, 149: 207, 150: 207, 151: 207, 152: 207, 153: 208, 154: 209, 155: 209, 156: 210, 157: 210, 158: 210, 159: 210, 160: 210, 161: 210, 162: 211, 163: 211, 164: 211, 165: 211, 166: 211, 167: 211, 168: 211, 169: 354, 170: 354, 171: 354, 172: 354, 173: 354, 174: 354, 175: 354, 176: 354, 177: 392, 178: 392, 179: 392, 180: 392, 181: 392, 182: 393, 183: 393, 184: 394, 185: 394, 186: 394, 187: 394, 188: 394, 189: 394, 190: 394, 191: 394, 192: 394, 193: 394, 194: 394, 195: 394, 196: 394, 197: 394, 198: 395, 199: 395, 200: 395, 201: 395, 202: 395, 203: 396, 204: 396, 205: 396, 206: 397, 207: 397, 208: 397, 209: 398, 210: 398, 211: 400, 212: 402, 213: 403, 214: 403, 215: 403, 216: 403, 217: 403, 218: 403, 219: 403, 220: 404, 221: 404, 222: 404, 223: 404, 224: 405, 225: 405, 226: 406, 227: 406, 228: 406, 229: 408, 230: 408, 231: 408, 232: 408, 233: 408, 234: 408, 235: 408, 236: 408, 237: 408, 238: 408, 239: 408, 240: 408, 241: 408, 242: 408, 243: 408, 244: 408, 245: 408, 246: 408, 247: 408, 248: 408, 249: 408, 250: 408, 251: 408, 252: 408, 253: 408, 254: 408, 255: 408, 256: 408, 257: 408, 258: 408, 259: 408, 260: 408, 261: 408, 262: 408, 263: 408, 264: 408, 265: 408, 266: 408, 267: 408, 268: 408, 269: 408, 270: 408, 271: 408, 272: 408, 273: 408, 274: 408, 275: 408, 276: 408, 277: 408, 278: 408, 279: 408, 280: 408, 281: 408, 282: 408, 283: 408, 284: 408, 285: 408, 286: 408, 287: 408, 288: 408, 289: 408, 290: 408, 291: 408, 292: 408, 293: 408, 294: 408, 295: 408, 296: 408, 297: 408, 298: 408, 299: 408, 300: 408, 301: 408, 302: 408, 303: 408, 304: 408, 305: 408, 306: 408, 307: 408, 308: 408, 309: 408, 310: 408, 311: 408, 312: 408, 313: 408, 314: 408, 315: 408, 316: 408, 317: 408, 318: 408, 319: 408, 320: 408, 321: 408, 322: 409, 323: 409, 324: 409, 325: 409, 326: 409, 327: 409, 328: 409, 329: 409, 330: 409, 331: 409, 332: 409, 333: 409, 334: 409, 335: 409, 336: 409, 337: 409, 338: 409, 339: 409, 340: 409, 341: 409, 342: 409, 343: 409, 344: 409, 345: 409, 346: 409, 347: 409, 348: 409, 349: 409, 350: 409, 351: 409, 352: 409, 353: 409, 354: 409, 355: 412, 356: 412, 357: 412, 358: 412, 359: 412, 360: 412, 361: 412, 362: 412, 363: 412, 364: 412, 365: 412, 366: 412, 367: 412, 368: 412, 369: 412, 370: 412, 371: 412, 372: 412, 373: 412, 374: 412, 375: 412, 376: 412, 377: 412, 378: 412, 379: 412, 380: 412, 381: 412, 382: 412, 383: 412, 384: 412, 385: 412, 386: 412, 387: 412, 388: 412, 389: 412, 390: 412, 391: 412, 392: 412, 393: 412, 394: 412, 395: 414, 396: 422, 397: 422, 398: 422, 399: 422, 400: 422, 401: 422, 402: 422, 403: 427, 404: 453, 405: 458, 406: 459, 407: 460, 408: 462, 409: 502, 410: 506, 411: 506, 412: 506, 413: 527, 414: 527, 415: 527, 416: 527, 417: 527, 418: 527, 419: 527, 420: 527, 421: 527, 422: 527, 423: 532, 424: 535, 425: 535, 426: 535, 427: 535, 428: 535, 429: 535, 430: 535, 431: 536, 432: 537, 433: 537, 434: 537, 435: 537, 436: 537, 437: 538, 438: 538, 439: 538, 440: 539, 441: 541, 442: 542, 443: 542, 444: 542, 445: 542, 446: 542, 447: 542, 448: 542, 449: 542, 450: 542, 451: 542, 452: 543, 453: 544, 454: 544, 455: 544, 456: 544, 457: 544, 458: 545, 459: 547, 460: 548, 461: 549, 462: 549, 463: 561, 464: 561, 465: 562, 466: 562, 467: 563, 468: 565, 469: 565, 470: 568, 471: 568, 472: 569, 473: 569, 474: 569, 475: 571, 476: 571, 477: 573, 478: 574, 479: 574, 480: 575, 481: 576, 482: 577, 483: 579, 484: 580, 485: 581, 486: 582, 487: 583, 488: 584, 489: 585, 490: 586, 491: 587, 492: 588, 493: 589, 494: 590, 495: 591, 496: 592, 497: 592, 498: 594, 499: 594, 500: 595, 501: 597, 502: 599, 503: 634, 504: 656, 505: 657, 506: 657, 507: 713, 508: 714, 509: 715, 510: 716, 511: 716, 512: 717, 513: 718, 514: 719, 515: 720, 516: 721, 517: 722, 518: 723, 519: 723, 520: 725, 521: 725, 522: 725, 523: 725, 524: 725, 525: 726, 526: 727, 527: 727, 528: 771, 529: 771, 530: 772, 531: 772, 532: 773, 533: 773, 534: 774, 535: 775, 536: 780, 537: 781, 538: 785, 539: 786, 540: 787, 541: 788, 542: 789, 543: 797, 544: 798, 545: 801, 546: 803, 547: 803, 548: 805, 549: 805, 550: 809, 551: 810, 552: 810, 553: 811, 554: 811, 555: 812, 556: 813, 557: 813, 558: 814, 559: 814, 560: 814, 561: 814, 562: 815, 563: 816, 564: 817, 565: 818, 566: 819, 567: 822, 568: 822, 569: 824, 570: 827, 571: 827, 572: 829, 573: 830, 574: 830, 575: 831, 576: 832, 577: 833, 578: 833, 579: 834, 580: 835, 581: 835, 582: 835, 583: 836, 584: 837, 585: 838, 586: 840, 587: 841, 588: 842, 589: 842, 590: 843, 591: 844, 592: 845, 593: 846, 594: 847, 595: 848, 596: 849, 597: 852, 598: 854, 599: 854, 600: 854, 601: 855, 602: 856, 603: 857, 604: 857, 605: 859, 606: 860, 607: 860, 608: 862, 609: 862, 610: 862, 611: 863, 612: 863, 613: 864, 614: 864, 615: 865, 616: 865, 617: 865, 618: 865, 619: 866, 620: 866, 621: 867, 622: 867, 623: 867, 624: 867, 625: 867, 626: 868, 627: 869, 628: 869, 629: 869, 630: 869, 631: 870, 632: 870, 633: 870, 634: 870, 635: 870, 636: 870, 637: 870, 638: 870, 639: 871, 640: 871, 641: 871, 642: 871, 643: 871, 644: 871, 645: 873, 646: 873, 647: 874, 648: 875, 649: 877, 650: 877, 651: 878, 652: 880, 653: 880, 654: 882, 655: 882, 656: 882, 657: 882, 658: 884, 659: 885, 660: 887, 661: 887, 662: 888, 663: 888, 664: 891, 665: 891, 666: 891, 667: 891, 668: 892, 669: 892, 670: 892, 671: 892, 672: 892, 673: 892, 674: 892, 675: 894, 676: 894, 677: 894, 678: 895, 679: 895, 680: 895, 681: 895, 682: 899, 683: 899, 684: 900, 685: 902, 686: 903, 687: 903, 688: 904, 689: 904, 690: 904, 691: 905, 692: 906, 693: 906, 694: 907, 695: 908, 696: 909, 697: 909, 698: 909, 699: 910, 700: 910, 701: 913, 702: 913, 703: 915, 704: 916, 705: 917, 706: 918, 707: 919, 708: 919, 709: 920, 710: 921, 711: 921, 712: 922, 713: 923, 714: 923, 715: 923, 716: 923, 717: 925, 718: 926, 719: 926, 720: 927, 721: 927, 722: 927, 723: 927, 724: 929, 725: 930, 726: 932, 727: 932, 728: 932, 729: 932, 730: 932, 731: 932, 732: 932, 733: 932, 734: 932, 735: 932, 736: 932, 737: 933, 738: 934, 739: 935, 740: 936, 741: 938, 742: 939, 743: 940, 744: 940, 745: 940, 746: 940, 747: 941, 748: 942, 749: 942, 750: 942, 751: 942, 752: 942, 753: 943, 754: 944, 755: 944, 756: 944, 757: 944, 758: 944, 759: 946, 760: 946, 761: 946, 762: 947, 763: 948, 764: 949, 765: 950, 766: 951, 767: 952, 768: 953, 769: 955, 770: 955, 771: 955, 772: 957, 773: 957, 774: 957, 775: 957, 776: 957, 777: 957, 778: 957, 779: 958, 780: 960, 781: 962, 782: 963, 783: 964, 784: 965, 785: 966, 786: 969, 787: 970, 788: 971, 789: 971, 790: 971, 791: 971, 792: 971, 793: 971, 794: 971, 795: 971, 796: 971, 797: 971, 798: 971, 799: 971, 800: 971, 801: 971, 802: 971, 803: 971, 804: 971, 805: 971, 806: 971, 807: 971, 808: 971, 809: 971, 810: 971, 811: 971, 812: 971, 813: 971, 814: 971, 815: 971, 816: 971, 817: 971, 818: 971, 819: 971, 820: 971, 821: 971, 822: 971, 823: 971, 824: 971, 825: 971, 826: 971, 827: 971, 828: 971, 829: 971, 830: 971, 831: 971, 832: 971, 833: 971, 834: 971, 835: 971, 836: 971, 837: 971, 838: 971, 839: 971, 840: 971, 841: 971, 842: 971, 843: 971, 844: 971, 845: 971, 846: 971, 847: 971, 848: 971, 849: 971, 850: 971, 851: 971, 852: 971, 853: 971, 854: 971, 855: 971, 856: 971, 857: 971, 858: 971, 859: 971, 860: 971, 861: 971, 862: 971, 863: 971, 864: 971, 865: 971, 866: 971, 867: 971, 868: 971, 869: 971, 870: 971, 871: 971, 872: 971, 873: 971, 874: 971, 875: 971, 876: 971, 877: 971, 878: 971, 879: 971, 880: 971, 881: 971, 882: 971, 883: 971, 884: 971, 885: 971, 886: 971, 887: 971, 888: 971, 889: 971, 890: 971, 891: 971, 892: 971, 893: 971, 894: 971, 895: 971, 896: 971, 897: 971, 898: 971, 899: 971, 900: 971, 901: 971, 902: 971, 903: 971, 904: 971, 905: 971, 906: 971, 907: 971, 908: 971, 909: 971, 910: 971, 911: 971, 912: 971, 913: 971, 914: 971, 915: 971, 916: 971, 917: 971, 918: 971, 919: 971, 920: 971, 921: 973, 922: 982, 923: 985, 924: 988, 925: 989, 926: 989, 927: 990, 928: 991, 929: 991, 930: 991, 931: 991, 932: 991, 933: 991, 934: 991, 935: 991, 936: 991, 937: 991, 938: 991, 939: 991, 940: 991, 941: 991, 942: 991, 943: 996, 944: 996, 945: 996, 946: 996, 947: 996, 948: 996, 949: 996, 950: 996, 951: 996, 952: 996, 953: 996, 954: 996, 955: 996, 956: 996, 957: 996, 958: 996, 959: 996, 960: 996, 961: 996, 962: 996, 963: 996, 964: 996, 965: 996, 966: 996, 967: 996, 968: 996, 969: 996, 970: 996, 971: 996, 972: 1020, 973: 1020, 974: 1020, 975: 1020, 976: 1020, 977: 1020, 978: 1020, 979: 1020, 980: 1020, 981: 1020, 982: 1020, 983: 1020, 984: 1020, 985: 1020, 986: 1020, 987: 1020, 988: 1020, 989: 1020, 990: 1020, 991: 1020, 992: 1039, 993: 1040, 994: 1042, 995: 1043, 996: 1043, 997: 1157, 998: 1157, 999: 1157, 1000: 1157, 1001: 1157, 1002: 1157, 1003: 1157, 1004: 1157, 1005: 1157, 1006: 1157, 1007: 1157, 1008: 1157, 1009: 1157, 1010: 1157, 1011: 1159, 1012: 1159, 1013: 1159, 1014: 1159, 1015: 1159, 1016: 1160, 1017: 1160, 1018: 1160, 1019: 1162, 1020: 1162, 1021: 1167, 1022: 1167, 1023: 1167, 1024: 1167, 1025: 1167, 1026: 1167, 1027: 1167, 1028: 1167, 1029: 1167, 1030: 1167, 1031: 1167, 1032: 1167, 1033: 1167, 1034: 1167, 1035: 1167, 1036: 1167, 1037: 1167, 1038: 1167, 1039: 1167, 1040: 1167, 1041: 1167, 1042: 1167, 1043: 1167, 1044: 1167, 1045: 1167, 1046: 1167, 1047: 1167, 1048: 1167, 1049: 1167, 1050: 1167, 1051: 1167, 1052: 1167, 1053: 1167, 1054: 1167, 1055: 1167, 1056: 1167, 1057: 1167, 1058: 1167, 1059: 1167, 1060: 1167, 1061: 1167, 1062: 1167, 1063: 1167, 1064: 1167, 1065: 1167, 1066: 1167, 1067: 1167, 1068: 1167, 1069: 1167, 1070: 1167, 1071: 1167, 1072: 1167, 1073: 1167, 1074: 1167, 1075: 1167, 1076: 1167, 1077: 1167, 1078: 1167, 1079: 1167, 1080: 1167, 1081: 1167, 1082: 1167, 1083: 1167, 1084: 1167, 1085: 1167, 1086: 1167, 1087: 1167, 1088: 1167, 1089: 1167, 1090: 1167, 1091: 1167, 1092: 1167, 1093: 1167, 1094: 1167, 1095: 1167, 1096: 1167, 1097: 1167, 1098: 1167, 1099: 1167, 1100: 1167, 1101: 1167, 1102: 1167, 1103: 1167, 1104: 1167, 1105: 1167, 1106: 1167, 1107: 1167, 1108: 1167, 1109: 1167, 1110: 1167, 1111: 1167, 1112: 1167, 1113: 1167, 1114: 1167, 1115: 1167, 1116: 1167, 1117: 1167, 1118: 1167, 1119: 1167, 1120: 1167, 1121: 1167, 1122: 1167, 1123: 1167, 1124: 1167, 1125: 1167, 1126: 1167, 1127: 1167, 1128: 1167, 1129: 1167, 1130: 1167, 1131: 1167, 1132: 1167, 1133: 1167, 1134: 1167, 1135: 1167, 1136: 1167, 1137: 1167, 1138: 1167, 1139: 1167, 1140: 1167, 1141: 1167, 1142: 1167, 1143: 1167, 1144: 1167, 1145: 1167, 1146: 1167, 1147: 1167, 1148: 1167, 1149: 1167, 1150: 1167, 1151: 1167, 1152: 1167, 1153: 1167, 1154: 1167, 1155: 1167, 1156: 1167, 1157: 1167, 1158: 1205, 1159: 1205, 1160: 1210, 1161: 1213, 1162: 1213, 1163: 1215, 1164: 1216, 1165: 1222, 1166: 1227, 1167: 1228, 1168: 1328, 1169: 1328, 1170: 1328, 1171: 1328, 1172: 1328, 1173: 1328, 1174: 1328, 1175: 1328, 1176: 1328, 1177: 1328, 1178: 1328, 1179: 1328, 1180: 1328, 1181: 1328, 1182: 1328, 1183: 1328, 1184: 1328, 1185: 1328, 1186: 1328, 1187: 1328, 1188: 1328, 1189: 1330, 1190: 1330, 1191: 1330, 1192: 1330, 1193: 1330, 1194: 1330, 1195: 1330, 1196: 1330, 1197: 1330, 1198: 1330, 1199: 1331, 1200: 1331, 1201: 1331, 1202: 1331, 1203: 1331, 1204: 1331, 1205: 1331, 1206: 1331, 1207: 1331, 1208: 1331, 1209: 1331, 1210: 1331, 1211: 1331, 1212: 1331, 1213: 1331, 1214: 1331, 1215: 1331, 1216: 1331, 1217: 1331, 1218: 1331, 1219: 1331, 1220: 1331, 1221: 1331, 1222: 1331, 1223: 1331, 1224: 1331, 1225: 1331, 1226: 1331, 1227: 1331, 1228: 1331, 1229: 1331, 1230: 1331, 1231: 1331, 1232: 1331, 1233: 1331, 1234: 1331, 1235: 1331, 1236: 1331, 1237: 1331, 1238: 1331, 1239: 1331, 1240: 1331, 1241: 1331, 1242: 1331, 1243: 1331, 1244: 1331, 1245: 1331, 1246: 1331, 1247: 1331, 1248: 1331, 1249: 1331, 1250: 1331, 1251: 1331, 1252: 1331, 1253: 1331, 1254: 1331, 1255: 1331, 1256: 1331, 1257: 1331, 1258: 1331, 1259: 1331, 1260: 1331, 1261: 1331, 1262: 1331, 1263: 1331, 1264: 1331, 1265: 1331, 1266: 1331, 1267: 1331, 1268: 1331, 1269: 1331, 1270: 1331, 1271: 1331, 1272: 1331, 1273: 1331, 1274: 1331, 1275: 1331, 1276: 1331, 1277: 1331, 1278: 1331, 1279: 1331, 1280: 1331, 1281: 1331, 1282: 1331, 1283: 1331, 1284: 1331, 1285: 1331, 1286: 1331, 1287: 1331, 1288: 1331, 1289: 1331, 1290: 1331, 1291: 1331, 1292: 1331, 1293: 1331, 1294: 1331, 1295: 1331, 1296: 1331, 1297: 1331, 1298: 1331, 1299: 1331, 1300: 1331, 1301: 1331, 1302: 1331, 1303: 1331, 1304: 1331, 1305: 1331, 1306: 1331, 1307: 1331, 1308: 1331, 1309: 1331, 1310: 1331, 1311: 1331, 1312: 1331, 1313: 1331, 1314: 1331, 1315: 1331, 1316: 1331, 1317: 1331, 1318: 1331, 1319: 1331, 1320: 1331, 1321: 1331, 1322: 1331, 1323: 1331, 1324: 1331, 1325: 1331, 1326: 1331, 1327: 1331, 1328: 1331, 1329: 1331, 1330: 1331, 1331: 1331, 1332: 1489, 1333: 1489, 1334: 1489, 1335: 1489, 1336: 1489, 1337: 1489, 1338: 1489, 1339: 1489, 1340: 1489, 1341: 1489, 1342: 1489, 1343: 1489, 1344: 1489, 1345: 1489, 1346: 1489, 1347: 1489, 1348: 1489, 1349: 1489, 1350: 1489, 1351: 1489, 1352: 1491, 1353: 1492, 1354: 1492, 1355: 1492, 1356: 1492, 1357: 1492, 1358: 1492, 1359: 1492, 1360: 1492, 1361: 1492, 1362: 1492, 1363: 1492, 1364: 1492, 1365: 1492, 1366: 1492, 1367: 1492, 1368: 1492, 1369: 1492, 1370: 1492, 1371: 1492, 1372: 1492, 1373: 1492, 1374: 1492, 1375: 1492, 1376: 1492, 1377: 1492, 1378: 1492, 1379: 1492, 1380: 1492, 1381: 1492, 1382: 1492, 1383: 1492, 1384: 1492, 1385: 1492, 1386: 1492, 1387: 1492, 1388: 1492, 1389: 1492, 1390: 1492, 1391: 1492, 1392: 1492, 1393: 1492, 1394: 1492, 1395: 1492, 1396: 1493, 1397: 1494, 1398: 1494, 1399: 1494, 1400: 1494, 1401: 1495, 1402: 1496, 1403: 1497, 1404: 1497, 1405: 1499, 1406: 1499, 1407: 1499, 1408: 1501, 1409: 1501, 1410: 1502, 1411: 1503, 1412: 1505, 1413: 1505, 1414: 1505, 1415: 1505, 1416: 1505, 1417: 1505, 1418: 1505, 1419: 1505, 1420: 1505, 1421: 1505, 1422: 1505, 1423: 1505, 1424: 1505, 1425: 1505, 1426: 1505, 1427: 1505, 1428: 1505, 1429: 1505, 1430: 1505, 1431: 1505, 1432: 1505, 1433: 1505, 1434: 1505, 1435: 1505, 1436: 1505, 1437: 1505, 1438: 1505, 1439: 1505, 1440: 1505, 1441: 1505, 1442: 1505, 1443: 1505, 1444: 1505, 1445: 1505, 1446: 1505, 1447: 1505, 1448: 1505, 1449: 1505, 1450: 1505, 1451: 1505, 1452: 1505, 1453: 1505, 1454: 1505, 1455: 1505, 1456: 1505, 1457: 1505, 1458: 1505, 1459: 1505, 1460: 1505, 1461: 1505, 1462: 1505, 1463: 1505, 1464: 1505, 1465: 1505, 1466: 1505, 1467: 1505, 1468: 1505, 1469: 1505, 1470: 1505, 1471: 1505, 1472: 1505, 1473: 1505, 1474: 1505, 1475: 1505, 1476: 1505, 1477: 1505, 1478: 1505, 1479: 1505, 1480: 1505, 1481: 1505, 1482: 1505, 1483: 1505, 1484: 1505, 1485: 1505, 1486: 1505, 1487: 1505, 1488: 1505, 1489: 1505, 1490: 1505, 1491: 1505, 1492: 1505, 1493: 1505, 1494: 1505, 1495: 1505, 1496: 1505, 1497: 1505, 1498: 1505, 1499: 1505, 1500: 1505, 1501: 1505, 1502: 1505, 1503: 1505, 1504: 1505, 1505: 1505, 1506: 1589, 1507: 1589, 1508: 1589, 1509: 1589, 1510: 1589, 1511: 1589, 1512: 1589, 1513: 1589, 1514: 1589, 1515: 1589, 1516: 1589, 1517: 1589, 1518: 1589, 1519: 1589, 1520: 1589, 1521: 1589, 1522: 1589, 1523: 1589, 1524: 1589, 1525: 1589, 1526: 1589, 1527: 1589, 1528: 1589, 1529: 1589, 1530: 1590, 1531: 1591, 1532: 1591, 1533: 1593, 1534: 1593, 1535: 1595, 1536: 1595, 1537: 1595, 1538: 1595, 1539: 1595, 1540: 1595, 1541: 1595, 1542: 1595, 1543: 1595, 1544: 1595, 1545: 1595, 1546: 1595, 1547: 1595, 1548: 1595, 1549: 1595, 1550: 1595, 1551: 1595, 1552: 1595, 1553: 1595, 1554: 1595, 1555: 1595, 1556: 1595, 1557: 1595, 1558: 1595, 1559: 1595, 1560: 1596, 1561: 1599, 1562: 1600, 1563: 1601, 1564: 1602, 1565: 1602, 1566: 1607, 1567: 1609, 1568: 1609, 1569: 1612, 1570: 1612, 1571: 1613, 1572: 1619, 1573: 1620, 1574: 1620, 1575: 1622, 1576: 1622, 1577: 1624, 1578: 1624, 1579: 1625, 1580: 1626, 1581: 1626, 1582: 1626, 1583: 1634, 1584: 1639, 1585: 1640, 1586: 1642, 1587: 1643, 1588: 1644, 1589: 1646, 1590: 1675, 1591: 1676, 1592: 1678, 1593: 1679, 1594: 1680, 1595: 1680, 1596: 1684, 1597: 1684, 1598: 1684, 1599: 1684, 1600: 1684, 1601: 1684, 1602: 1684, 1603: 1684, 1604: 1684, 1605: 1684, 1606: 1684, 1607: 1684, 1608: 1684, 1609: 1684, 1610: 1684, 1611: 1684, 1612: 1684, 1613: 1684, 1614: 1684, 1615: 1684, 1616: 1684, 1617: 1684, 1618: 1684, 1619: 1684, 1620: 1684, 1621: 1684, 1622: 1684, 1623: 1684, 1624: 1684, 1625: 1684, 1626: 1684, 1627: 1684, 1628: 1684, 1629: 1684, 1630: 1684, 1631: 1684, 1632: 1684, 1633: 1685, 1634: 1686, 1635: 1686, 1636: 1688, 1637: 1688, 1638: 1689, 1639: 1690, 1640: 1691, 1641: 1693, 1642: 1693, 1643: 1695, 1644: 1695, 1645: 1698, 1646: 1698, 1647: 1699, 1648: 1700, 1649: 1701, 1650: 1704, 1651: 1705, 1652: 1705, 1653: 1707, 1654: 1708, 1655: 1708, 1656: 1709, 1657: 1710, 1658: 1711, 1659: 1712, 1660: 1714, 1661: 1714, 1662: 1887, 1663: 1887, 1664: 1888, 1665: 1888, 1666: 1888, 1667: 1888, 1668: 1888, 1669: 1888, 1670: 1888, 1671: 1888, 1672: 1888, 1673: 1888, 1674: 1888, 1675: 1888, 1676: 1888, 1677: 1888, 1678: 1888, 1679: 1888, 1680: 1888, 1681: 1888, 1682: 1888, 1683: 1888, 1684: 1888, 1685: 1888, 1686: 1888, 1687: 1888, 1688: 1888, 1689: 1888, 1690: 1888, 1691: 1888, 1692: 1888, 1693: 1888, 1694: 1888, 1695: 1888, 1696: 1888, 1697: 1888, 1698: 1888, 1699: 1888, 1700: 1888, 1701: 1888, 1702: 1888, 1703: 1888, 1704: 1888, 1705: 1888, 1706: 1888, 1707: 1889, 1708: 1890, 1709: 1890, 1710: 1890, 1711: 1890, 1712: 1890, 1713: 1890, 1714: 1890, 1715: 1890, 1716: 1890, 1717: 1890, 1718: 1890, 1719: 1890, 1720: 1890, 1721: 1890, 1722: 1890, 1723: 1890, 1724: 1890, 1725: 1890, 1726: 1890, 1727: 1890, 1728: 1890, 1729: 1890, 1730: 1890, 1731: 1890, 1732: 1890, 1733: 1890, 1734: 1890, 1735: 1890, 1736: 1891, 1737: 1891, 1738: 1892, 1739: 1892, 1740: 1893, 1741: 1894, 1742: 1894, 1743: 1895, 1744: 1895, 1745: 1895, 1746: 1895, 1747: 1895, 1748: 1895, 1749: 1895, 1750: 1896, 1751: 1896, 1752: 1896, 1753: 1896, 1754: 1896, 1755: 1896, 1756: 1896, 1757: 1896, 1758: 1896, 1759: 1896, 1760: 1896, 1761: 1896, 1762: 1896, 1763: 1896, 1764: 1896, 1765: 1896, 1766: 1896, 1767: 1897, 1768: 1897, 1769: 1897, 1770: 1897, 1771: 1897, 1772: 1897, 1773: 1897, 1774: 1897, 1775: 1897, 1776: 1897, 1777: 1897, 1778: 1898, 1779: 1898, 1780: 1899, 1781: 1901, 1782: 1902, 1783: 1902, 1784: 1903, 1785: 1904, 1786: 1905, 1787: 1906, 1788: 1908, 1789: 1909, 1790: 1910, 1791: 1911, 1792: 1911, 1793: 1913, 1794: 1913, 1795: 1914, 1796: 1916, 1797: 1917, 1798: 1917, 1799: 1919, 1800: 1920, 1801: 1921, 1802: 1922, 1803: 1923, 1804: 1924, 1805: 1925, 1806: 1925, 1807: 1925, 1808: 1925, 1809: 1925, 1810: 1925, 1811: 1925, 1812: 1925, 1813: 1925, 1814: 1925, 1815: 1925, 1816: 1925, 1817: 1925, 1818: 1925, 1819: 1925, 1820: 1925, 1821: 1925, 1822: 1926, 1823: 1926, 1824: 1927, 1825: 1927, 1826: 1927, 1827: 1928, 1828: 1928, 1829: 1929, 1830: 1929, 1831: 1929, 1832: 1929, 1833: 1929, 1834: 1929, 1835: 1929, 1836: 1929, 1837: 1929, 1838: 1929, 1839: 1929, 1840: 1929, 1841: 1929, 1842: 1929, 1843: 1929, 1844: 1929, 1845: 1929, 1846: 1929, 1847: 1930, 1848: 1930, 1849: 1932, 1850: 1932, 1851: 1932, 1852: 1935, 1853: 1935, 1854: 1935, 1855: 1935, 1856: 1935, 1857: 1935, 1858: 1935, 1859: 1935, 1860: 1935, 1861: 1935, 1862: 1935, 1863: 1935, 1864: 1935, 1865: 1935, 1866: 1935, 1867: 1935, 1868: 1935, 1869: 1935, 1870: 1935, 1871: 1935, 1872: 1935, 1873: 1935, 1874: 1935, 1875: 1935, 1876: 1935, 1877: 1935, 1878: 1935, 1879: 1935, 1880: 1937}\n"
     ]
    }
   ],
   "source": [
    "vessel_df1 = total_df[total_df['vesselId'] == \"61e9f3aeb937134a3c4bfe3d\"]\n",
    "\n",
    "vessel_df1 = vessel_df1.sort_values(by='time')\n",
    "\n",
    "diction=map_indexes_within_timewindow(vessel_df1, \"time\", timedelta(days=5))\n",
    "\n",
    "print(vessel_df1)\n",
    "print(diction)\n"
   ]
  },
  {
   "cell_type": "code",
   "execution_count": 108,
   "metadata": {},
   "outputs": [
    {
     "ename": "KeyError",
     "evalue": "'vesselId'",
     "output_type": "error",
     "traceback": [
      "\u001b[1;31m---------------------------------------------------------------------------\u001b[0m",
      "\u001b[1;31mKeyError\u001b[0m                                  Traceback (most recent call last)",
      "Cell \u001b[1;32mIn[108], line 1\u001b[0m\n\u001b[1;32m----> 1\u001b[0m total_df, last_rows \u001b[38;5;241m=\u001b[39m \u001b[43mcalculate_time_diffs_within_window\u001b[49m\u001b[43m(\u001b[49m\u001b[43mtotal_df\u001b[49m\u001b[43m)\u001b[49m\n",
      "Cell \u001b[1;32mIn[107], line 3\u001b[0m, in \u001b[0;36mcalculate_time_diffs_within_window\u001b[1;34m(df)\u001b[0m\n\u001b[0;32m      1\u001b[0m \u001b[38;5;28;01mdef\u001b[39;00m \u001b[38;5;21mcalculate_time_diffs_within_window\u001b[39m(df):\n\u001b[0;32m      2\u001b[0m     result_list\u001b[38;5;241m=\u001b[39m []\n\u001b[1;32m----> 3\u001b[0m     vessel_dfs \u001b[38;5;241m=\u001b[39m \u001b[43mdf\u001b[49m\u001b[38;5;241;43m.\u001b[39;49m\u001b[43mgroupby\u001b[49m\u001b[43m(\u001b[49m\u001b[38;5;124;43m'\u001b[39;49m\u001b[38;5;124;43mvesselId\u001b[39;49m\u001b[38;5;124;43m'\u001b[39;49m\u001b[43m)\u001b[49m\n\u001b[0;32m      4\u001b[0m     j\u001b[38;5;241m=\u001b[39m\u001b[38;5;241m0\u001b[39m\n\u001b[0;32m      5\u001b[0m     v\u001b[38;5;241m=\u001b[39m\u001b[38;5;241m0\u001b[39m\n",
      "File \u001b[1;32mc:\\Users\\Bruker\\AppData\\Local\\Programs\\Python\\Python311\\Lib\\site-packages\\pandas\\core\\frame.py:9183\u001b[0m, in \u001b[0;36mDataFrame.groupby\u001b[1;34m(self, by, axis, level, as_index, sort, group_keys, observed, dropna)\u001b[0m\n\u001b[0;32m   9180\u001b[0m \u001b[38;5;28;01mif\u001b[39;00m level \u001b[38;5;129;01mis\u001b[39;00m \u001b[38;5;28;01mNone\u001b[39;00m \u001b[38;5;129;01mand\u001b[39;00m by \u001b[38;5;129;01mis\u001b[39;00m \u001b[38;5;28;01mNone\u001b[39;00m:\n\u001b[0;32m   9181\u001b[0m     \u001b[38;5;28;01mraise\u001b[39;00m \u001b[38;5;167;01mTypeError\u001b[39;00m(\u001b[38;5;124m\"\u001b[39m\u001b[38;5;124mYou have to supply one of \u001b[39m\u001b[38;5;124m'\u001b[39m\u001b[38;5;124mby\u001b[39m\u001b[38;5;124m'\u001b[39m\u001b[38;5;124m and \u001b[39m\u001b[38;5;124m'\u001b[39m\u001b[38;5;124mlevel\u001b[39m\u001b[38;5;124m'\u001b[39m\u001b[38;5;124m\"\u001b[39m)\n\u001b[1;32m-> 9183\u001b[0m \u001b[38;5;28;01mreturn\u001b[39;00m \u001b[43mDataFrameGroupBy\u001b[49m\u001b[43m(\u001b[49m\n\u001b[0;32m   9184\u001b[0m \u001b[43m    \u001b[49m\u001b[43mobj\u001b[49m\u001b[38;5;241;43m=\u001b[39;49m\u001b[38;5;28;43mself\u001b[39;49m\u001b[43m,\u001b[49m\n\u001b[0;32m   9185\u001b[0m \u001b[43m    \u001b[49m\u001b[43mkeys\u001b[49m\u001b[38;5;241;43m=\u001b[39;49m\u001b[43mby\u001b[49m\u001b[43m,\u001b[49m\n\u001b[0;32m   9186\u001b[0m \u001b[43m    \u001b[49m\u001b[43maxis\u001b[49m\u001b[38;5;241;43m=\u001b[39;49m\u001b[43maxis\u001b[49m\u001b[43m,\u001b[49m\n\u001b[0;32m   9187\u001b[0m \u001b[43m    \u001b[49m\u001b[43mlevel\u001b[49m\u001b[38;5;241;43m=\u001b[39;49m\u001b[43mlevel\u001b[49m\u001b[43m,\u001b[49m\n\u001b[0;32m   9188\u001b[0m \u001b[43m    \u001b[49m\u001b[43mas_index\u001b[49m\u001b[38;5;241;43m=\u001b[39;49m\u001b[43mas_index\u001b[49m\u001b[43m,\u001b[49m\n\u001b[0;32m   9189\u001b[0m \u001b[43m    \u001b[49m\u001b[43msort\u001b[49m\u001b[38;5;241;43m=\u001b[39;49m\u001b[43msort\u001b[49m\u001b[43m,\u001b[49m\n\u001b[0;32m   9190\u001b[0m \u001b[43m    \u001b[49m\u001b[43mgroup_keys\u001b[49m\u001b[38;5;241;43m=\u001b[39;49m\u001b[43mgroup_keys\u001b[49m\u001b[43m,\u001b[49m\n\u001b[0;32m   9191\u001b[0m \u001b[43m    \u001b[49m\u001b[43mobserved\u001b[49m\u001b[38;5;241;43m=\u001b[39;49m\u001b[43mobserved\u001b[49m\u001b[43m,\u001b[49m\n\u001b[0;32m   9192\u001b[0m \u001b[43m    \u001b[49m\u001b[43mdropna\u001b[49m\u001b[38;5;241;43m=\u001b[39;49m\u001b[43mdropna\u001b[49m\u001b[43m,\u001b[49m\n\u001b[0;32m   9193\u001b[0m \u001b[43m\u001b[49m\u001b[43m)\u001b[49m\n",
      "File \u001b[1;32mc:\\Users\\Bruker\\AppData\\Local\\Programs\\Python\\Python311\\Lib\\site-packages\\pandas\\core\\groupby\\groupby.py:1329\u001b[0m, in \u001b[0;36mGroupBy.__init__\u001b[1;34m(self, obj, keys, axis, level, grouper, exclusions, selection, as_index, sort, group_keys, observed, dropna)\u001b[0m\n\u001b[0;32m   1326\u001b[0m \u001b[38;5;28mself\u001b[39m\u001b[38;5;241m.\u001b[39mdropna \u001b[38;5;241m=\u001b[39m dropna\n\u001b[0;32m   1328\u001b[0m \u001b[38;5;28;01mif\u001b[39;00m grouper \u001b[38;5;129;01mis\u001b[39;00m \u001b[38;5;28;01mNone\u001b[39;00m:\n\u001b[1;32m-> 1329\u001b[0m     grouper, exclusions, obj \u001b[38;5;241m=\u001b[39m \u001b[43mget_grouper\u001b[49m\u001b[43m(\u001b[49m\n\u001b[0;32m   1330\u001b[0m \u001b[43m        \u001b[49m\u001b[43mobj\u001b[49m\u001b[43m,\u001b[49m\n\u001b[0;32m   1331\u001b[0m \u001b[43m        \u001b[49m\u001b[43mkeys\u001b[49m\u001b[43m,\u001b[49m\n\u001b[0;32m   1332\u001b[0m \u001b[43m        \u001b[49m\u001b[43maxis\u001b[49m\u001b[38;5;241;43m=\u001b[39;49m\u001b[43maxis\u001b[49m\u001b[43m,\u001b[49m\n\u001b[0;32m   1333\u001b[0m \u001b[43m        \u001b[49m\u001b[43mlevel\u001b[49m\u001b[38;5;241;43m=\u001b[39;49m\u001b[43mlevel\u001b[49m\u001b[43m,\u001b[49m\n\u001b[0;32m   1334\u001b[0m \u001b[43m        \u001b[49m\u001b[43msort\u001b[49m\u001b[38;5;241;43m=\u001b[39;49m\u001b[43msort\u001b[49m\u001b[43m,\u001b[49m\n\u001b[0;32m   1335\u001b[0m \u001b[43m        \u001b[49m\u001b[43mobserved\u001b[49m\u001b[38;5;241;43m=\u001b[39;49m\u001b[38;5;28;43;01mFalse\u001b[39;49;00m\u001b[43m \u001b[49m\u001b[38;5;28;43;01mif\u001b[39;49;00m\u001b[43m \u001b[49m\u001b[43mobserved\u001b[49m\u001b[43m \u001b[49m\u001b[38;5;129;43;01mis\u001b[39;49;00m\u001b[43m \u001b[49m\u001b[43mlib\u001b[49m\u001b[38;5;241;43m.\u001b[39;49m\u001b[43mno_default\u001b[49m\u001b[43m \u001b[49m\u001b[38;5;28;43;01melse\u001b[39;49;00m\u001b[43m \u001b[49m\u001b[43mobserved\u001b[49m\u001b[43m,\u001b[49m\n\u001b[0;32m   1336\u001b[0m \u001b[43m        \u001b[49m\u001b[43mdropna\u001b[49m\u001b[38;5;241;43m=\u001b[39;49m\u001b[38;5;28;43mself\u001b[39;49m\u001b[38;5;241;43m.\u001b[39;49m\u001b[43mdropna\u001b[49m\u001b[43m,\u001b[49m\n\u001b[0;32m   1337\u001b[0m \u001b[43m    \u001b[49m\u001b[43m)\u001b[49m\n\u001b[0;32m   1339\u001b[0m \u001b[38;5;28;01mif\u001b[39;00m observed \u001b[38;5;129;01mis\u001b[39;00m lib\u001b[38;5;241m.\u001b[39mno_default:\n\u001b[0;32m   1340\u001b[0m     \u001b[38;5;28;01mif\u001b[39;00m \u001b[38;5;28many\u001b[39m(ping\u001b[38;5;241m.\u001b[39m_passed_categorical \u001b[38;5;28;01mfor\u001b[39;00m ping \u001b[38;5;129;01min\u001b[39;00m grouper\u001b[38;5;241m.\u001b[39mgroupings):\n",
      "File \u001b[1;32mc:\\Users\\Bruker\\AppData\\Local\\Programs\\Python\\Python311\\Lib\\site-packages\\pandas\\core\\groupby\\grouper.py:1043\u001b[0m, in \u001b[0;36mget_grouper\u001b[1;34m(obj, key, axis, level, sort, observed, validate, dropna)\u001b[0m\n\u001b[0;32m   1041\u001b[0m         in_axis, level, gpr \u001b[38;5;241m=\u001b[39m \u001b[38;5;28;01mFalse\u001b[39;00m, gpr, \u001b[38;5;28;01mNone\u001b[39;00m\n\u001b[0;32m   1042\u001b[0m     \u001b[38;5;28;01melse\u001b[39;00m:\n\u001b[1;32m-> 1043\u001b[0m         \u001b[38;5;28;01mraise\u001b[39;00m \u001b[38;5;167;01mKeyError\u001b[39;00m(gpr)\n\u001b[0;32m   1044\u001b[0m \u001b[38;5;28;01melif\u001b[39;00m \u001b[38;5;28misinstance\u001b[39m(gpr, Grouper) \u001b[38;5;129;01mand\u001b[39;00m gpr\u001b[38;5;241m.\u001b[39mkey \u001b[38;5;129;01mis\u001b[39;00m \u001b[38;5;129;01mnot\u001b[39;00m \u001b[38;5;28;01mNone\u001b[39;00m:\n\u001b[0;32m   1045\u001b[0m     \u001b[38;5;66;03m# Add key to exclusions\u001b[39;00m\n\u001b[0;32m   1046\u001b[0m     exclusions\u001b[38;5;241m.\u001b[39madd(gpr\u001b[38;5;241m.\u001b[39mkey)\n",
      "\u001b[1;31mKeyError\u001b[0m: 'vesselId'"
     ]
    }
   ],
   "source": [
    "total_df, last_rows = calculate_time_diffs_within_window(total_df)"
   ]
  },
  {
   "cell_type": "code",
   "execution_count": 98,
   "metadata": {},
   "outputs": [],
   "source": [
    "feature_engineering_functions = [categorize_navstat, numerize_UN_LOCODE, numerize_ISO] #, apply_markov, minutes_to_etaParsed, categorize_rot, type_dummies\n",
    "\n",
    "\n",
    "feature_engineer = FeatureEngineer(total_df)\n",
    "feature_engineer.apply_features(feature_engineering_functions)\n",
    "total_df = feature_engineer.get_dataframe()\n",
    "\n",
    "total_df.set_index(\"time\", inplace=True)"
   ]
  },
  {
   "cell_type": "code",
   "execution_count": 99,
   "metadata": {},
   "outputs": [],
   "source": [
    "\n",
    "def remove_non_numeric_columns(df):\n",
    "    # Select columns that are either of type bool, float, or int\n",
    "    df = df.select_dtypes(include=['bool', 'float', 'int'])\n",
    "    return df\n",
    "\n",
    "total_df = remove_non_numeric_columns(total_df)\n"
   ]
  },
  {
   "cell_type": "code",
   "execution_count": 106,
   "metadata": {},
   "outputs": [
    {
     "name": "stdout",
     "output_type": "stream",
     "text": [
      "9338\n"
     ]
    }
   ],
   "source": [
    "print(len(total_df))"
   ]
  },
  {
   "cell_type": "code",
   "execution_count": 101,
   "metadata": {},
   "outputs": [],
   "source": [
    "def train_test_split(df_old, perc1, perc2):\n",
    "\n",
    "    df = df_old.sample(frac=1).reset_index(drop=True)\n",
    "\n",
    "    y_list = ['next_latitude', 'next_longitude'] #'next_latitude', 'next_longitude'\n",
    "    ys = df[y_list]\n",
    "    Xs = df.drop(columns = y_list)\n",
    "\n",
    "    X_train = Xs.iloc[:int(np.round(Xs.shape[0]*perc1)),:]\n",
    "    y_train = ys.iloc[:int(np.round(Xs.shape[0]*perc1)),:]\n",
    "    X_val = Xs.iloc[int(np.round(Xs.shape[0]*perc1)):int(np.round(Xs.shape[0]*perc2)),:]\n",
    "    y_val = ys.iloc[int(np.round(Xs.shape[0]*perc1)):int(np.round(Xs.shape[0]*perc2)),:]\n",
    "    X_test = Xs.iloc[int(np.round(Xs.shape[0]*perc2)):,:]\n",
    "    y_test = ys.iloc[int(np.round(Xs.shape[0]*perc2)):,:]\n",
    "\n",
    "    return X_train, y_train, X_val, y_val, X_test, y_test"
   ]
  },
  {
   "cell_type": "code",
   "execution_count": 102,
   "metadata": {},
   "outputs": [],
   "source": [
    "X_train, y_train, X_val, y_val, X_test, y_test = train_test_split(total_df, 0.85, 0.99)"
   ]
  },
  {
   "cell_type": "code",
   "execution_count": 103,
   "metadata": {},
   "outputs": [],
   "source": [
    "X_train_cols= X_train.columns"
   ]
  },
  {
   "cell_type": "code",
   "execution_count": 105,
   "metadata": {},
   "outputs": [
    {
     "name": "stdout",
     "output_type": "stream",
     "text": [
      "        cog   sog  rot  heading  navstat  latitude  longitude  portLongitude  \\\n",
      "0     286.0  16.5    0      286        0  36.30838   -7.52787      -6.922500   \n",
      "1     254.0  13.0    0      253        0  50.12007   -2.13162      -1.967000   \n",
      "2     133.0   0.0    0       40        5  35.89107   -5.50187      -5.399444   \n",
      "3      25.0  15.8    0       29        0  43.37325   -9.65963      -9.167000   \n",
      "4     204.0  17.5    0      203        0  25.42733   54.97281      55.059444   \n",
      "...     ...   ...  ...      ...      ...       ...        ...            ...   \n",
      "7932  179.0   0.0    0      165        5  51.32312    3.21045       3.207222   \n",
      "7933  181.7  10.9    6      185        0 -37.88316  144.92815     144.917500   \n",
      "7934  303.0   0.2    0      237        5  47.29233   -2.16240      -2.883000   \n",
      "7935  149.8  12.9  -10      154        0 -30.32881  114.25141     115.850000   \n",
      "7936   25.0  15.8    0       29        0  43.37325   -9.65963      -9.167000   \n",
      "\n",
      "      portLatitude   CEU  ...  maxWidth  rampCapacity  yearBuilt  time_diff  \\\n",
      "0        37.177500  4902  ...       NaN           NaN       2006   169321.0   \n",
      "1        50.617000  4902  ...       NaN           NaN       2006   225739.0   \n",
      "2        36.148611  4902  ...       NaN           NaN       2006   291643.0   \n",
      "3        43.117000  4902  ...       NaN           NaN       2006    91037.0   \n",
      "4        24.995833  7450  ...       NaN           NaN       2018     8564.0   \n",
      "...            ...   ...  ...       ...           ...        ...        ...   \n",
      "7932     51.336389  4902  ...       NaN           NaN       2006   290208.0   \n",
      "7933    -37.832778  4200  ...       NaN           NaN       2011   279645.0   \n",
      "7934     47.333000  4902  ...       NaN           NaN       2006    99894.0   \n",
      "7935    -31.950000  4200  ...       NaN           NaN       2011   128139.0   \n",
      "7936     43.117000  4902  ...       NaN           NaN       2006   170477.0   \n",
      "\n",
      "      diff_seconds  diff_minutes  diff_hours  diff_days  UN_LOCODE_num  \\\n",
      "0         169321.0   2822.016667   47.033611   1.959734              9   \n",
      "1         225739.0   3762.316667   62.705278   2.612720             15   \n",
      "2         291643.0   4860.716667   81.011944   3.375498             13   \n",
      "3          91037.0   1517.283333   25.288056   1.053669             12   \n",
      "4           8564.0    142.733333    2.378889   0.099120             50   \n",
      "...            ...           ...         ...        ...            ...   \n",
      "7932      290208.0   4836.800000   80.613333   3.358889              6   \n",
      "7933      279645.0   4660.750000   77.679167   3.236632             39   \n",
      "7934       99894.0   1664.900000   27.748333   1.156181             10   \n",
      "7935      128139.0   2135.650000   35.594167   1.483090             34   \n",
      "7936      170477.0   2841.283333   47.354722   1.973113             12   \n",
      "\n",
      "      ISO_num  \n",
      "0           4  \n",
      "1           7  \n",
      "2           4  \n",
      "3           4  \n",
      "4          15  \n",
      "...       ...  \n",
      "7932        5  \n",
      "7933       17  \n",
      "7934        6  \n",
      "7935       17  \n",
      "7936        4  \n",
      "\n",
      "[7937 rows x 33 columns]\n",
      "<xgboost.core.DMatrix object at 0x0000023702B93F50>\n",
      "[0]\tvalidation-rmse:2.50489\n",
      "[1]\tvalidation-rmse:1.70147\n",
      "[2]\tvalidation-rmse:0.92572\n",
      "[3]\tvalidation-rmse:0.75850\n",
      "[4]\tvalidation-rmse:0.62675\n",
      "[5]\tvalidation-rmse:0.52236\n",
      "[6]\tvalidation-rmse:0.45767\n",
      "[7]\tvalidation-rmse:0.40046\n",
      "[8]\tvalidation-rmse:0.36213\n",
      "[9]\tvalidation-rmse:0.33023\n",
      "[10]\tvalidation-rmse:0.30293\n",
      "[11]\tvalidation-rmse:0.27735\n",
      "[12]\tvalidation-rmse:0.25956\n",
      "[13]\tvalidation-rmse:0.24667\n",
      "[14]\tvalidation-rmse:0.23664\n",
      "[15]\tvalidation-rmse:0.22729\n",
      "[16]\tvalidation-rmse:0.21893\n",
      "[17]\tvalidation-rmse:0.21283\n",
      "[18]\tvalidation-rmse:0.20758\n",
      "[19]\tvalidation-rmse:0.20322\n",
      "[20]\tvalidation-rmse:0.19976\n",
      "[21]\tvalidation-rmse:0.19638\n",
      "[22]\tvalidation-rmse:0.19351\n",
      "[23]\tvalidation-rmse:0.19091\n",
      "[24]\tvalidation-rmse:0.18850\n",
      "[25]\tvalidation-rmse:0.18626\n",
      "[26]\tvalidation-rmse:0.18468\n",
      "[27]\tvalidation-rmse:0.18291\n",
      "[28]\tvalidation-rmse:0.18131\n",
      "[29]\tvalidation-rmse:0.17986\n"
     ]
    }
   ],
   "source": [
    "print(X_train)\n",
    "\n",
    "\n",
    "\n",
    "dtrain = xgb.DMatrix(X_train, label=y_train)\n",
    "dval = xgb.DMatrix(X_val, label=y_val)\n",
    "dtest_X = xgb.DMatrix(X_test)\n",
    "\n",
    "params = {\"objective\": \"reg:squarederror\",\n",
    "            \"max_depth\": 7,\n",
    "            \"booster\": \"gbtree\",\n",
    "            \"tree-method\": \"gpu_hist\",\n",
    "            \"colsample_bynode\": 0.4,\n",
    "            \"num_parallel_tree\": 50,\n",
    "            \"subsample\": 0.6,\n",
    "            \"seed\": 42,\n",
    "            \"learning_rate\": 1,\n",
    "            #\"n_estimators\": 100,\n",
    "            #\"reg_alpha\": 0.1,\n",
    "            #\"reg_lambda\": 0.1,\n",
    "            #\"n_jobs\": -1,\n",
    "            \"verbosity\": 1\n",
    "            }\n",
    "\n",
    "#Subsample was 0.8, num-parallel tree was 100, colsample-bynode was 0.5 and max-depth was 5. Before tuning. \n",
    "\n",
    "#After first round of tuning we got sumbsample was 0.6, num-parallel tree was 50, colsample-bynode was 0.4 and max-depth was 7. Before tuning. \n",
    "\n",
    "num_boost_round = 30\n",
    "\n",
    "#Tried 50, but that stagnated quickly. So reducing again to 30.  \n",
    "\n",
    "\n",
    "early_stopping_rounds = 3\n",
    "\n",
    "print(dtrain)\n",
    "\n",
    "model = xgb.train(params, dtrain, num_boost_round, evals=[(dval, \"validation\")], \n",
    "                  early_stopping_rounds=early_stopping_rounds, verbose_eval=True)\n",
    "\n",
    "\n",
    "preds = model.predict(dtest_X)"
   ]
  },
  {
   "cell_type": "code",
   "execution_count": null,
   "metadata": {},
   "outputs": [],
   "source": [
    "def calculate_time_diff_with_last_rows(test_df, last_rows):\n",
    "    # Merge test_df with last_rows on vesselId to get the last row time for each vesselId\n",
    "    merged_df = pd.merge(\n",
    "        test_df[[\"ID\", \"vesselId\", \"time\"]],\n",
    "        last_rows,\n",
    "        on='vesselId',\n",
    "        suffixes=('', '_last')\n",
    "    )\n",
    "    print(merged_df.columns)\n",
    "    # Calculate time difference between test_df time and last row time\n",
    "    merged_df['time_diff'] = (merged_df['time'] - merged_df['time_last']).dt.total_seconds()\n",
    "    \n",
    "    # Create columns for each time unit by converting from seconds\n",
    "    merged_df['diff_seconds'] = merged_df['time_diff']\n",
    "    merged_df['diff_minutes'] = merged_df['time_diff'] / 60\n",
    "    merged_df['diff_hours'] = merged_df['time_diff'] / 3600\n",
    "    merged_df['diff_days'] = merged_df['time_diff'] / 86400\n",
    "    \n",
    "    # Drop the temporary 'time_diff' column and 'time_last' if desired\n",
    "    merged_df = merged_df.drop(columns=['time_diff', 'time_last'])\n",
    "    \n",
    "    \n",
    "    return merged_df"
   ]
  },
  {
   "cell_type": "code",
   "execution_count": null,
   "metadata": {},
   "outputs": [],
   "source": [
    "test_df = parser.retrieve_test_data()"
   ]
  },
  {
   "cell_type": "code",
   "execution_count": null,
   "metadata": {},
   "outputs": [
    {
     "name": "stdout",
     "output_type": "stream",
     "text": [
      "   ID                  vesselId                time  scaling_factor\n",
      "0   0  61e9f3aeb937134a3c4bfe3d 2024-05-08 00:03:16             0.3\n",
      "1   1  61e9f473b937134a3c4c02df 2024-05-08 00:06:17             0.3\n",
      "2   2  61e9f469b937134a3c4c029b 2024-05-08 00:10:02             0.3\n",
      "3   3  61e9f45bb937134a3c4c0221 2024-05-08 00:10:34             0.3\n",
      "4   4  61e9f38eb937134a3c4bfd8d 2024-05-08 00:12:27             0.3\n"
     ]
    }
   ],
   "source": [
    "print(test_df.head())"
   ]
  },
  {
   "cell_type": "code",
   "execution_count": null,
   "metadata": {},
   "outputs": [
    {
     "name": "stdout",
     "output_type": "stream",
     "text": [
      "                   time    cog   sog  rot  heading  navstat  latitude  \\\n",
      "0   2024-05-05 13:25:50   40.0   0.0    1      328        1  36.84686   \n",
      "1   2024-05-07 23:51:29  291.0   0.3    0      275        2  48.53320   \n",
      "2   2024-05-07 21:53:14  129.3  15.6    0      128        0  28.82071   \n",
      "3   2024-05-05 04:33:43  303.7  10.0   -2      303        0  33.86918   \n",
      "4   2024-05-07 23:42:38   38.9  15.5    3       40        0  33.18068   \n",
      "..                  ...    ...   ...  ...      ...      ...       ...   \n",
      "683 2024-05-07 20:04:21   45.8   0.0    0      150        5 -34.06421   \n",
      "684 2024-05-07 23:59:04   27.6  16.0    0       28        0  54.71940   \n",
      "685 2024-05-01 11:34:29  182.0  15.0    0      182        0  33.96570   \n",
      "686 2024-05-07 23:54:24   51.0   0.0    0       51        5  51.35306   \n",
      "687 2024-05-07 23:59:01   53.6  17.7   -1       51        0  59.89167   \n",
      "\n",
      "     longitude                   vesselId                    portId  ...  \\\n",
      "0      5.84638   61e9f38eb937134a3c4bfd8b  61d36ee00a1807568ff9a072  ...   \n",
      "1     -6.12003   61e9f38eb937134a3c4bfd8d  61d3743d3aeaecc07011a6fa  ...   \n",
      "2   -120.46513   61e9f38eb937134a3c4bfd8f  61d37ab61366c3998241d9f4  ...   \n",
      "3   -118.81433   61e9f38eb937134a3c4bfd91  61d37a1d1366c3998241d91e  ...   \n",
      "4     -9.43055   61e9f390b937134a3c4bfd93  61d38259b7b7526e1adf3a41  ...   \n",
      "..         ...                        ...                       ...  ...   \n",
      "683  -59.03513  clh6aqawa0003gh0zu0aznvt2  61d36f210a1807568ff9a0c3  ...   \n",
      "684   12.46165  clh6aqawa0004gh0z12aogec9  634c4de270937fc01c3a71cf  ...   \n",
      "685  134.93027  clh6aqawa0005gh0z64y4xyip  61d37a091366c3998241d8f6  ...   \n",
      "686    3.19241  clh6aqawa0006gh0zje911dl3  61d36f9a0a1807568ff9a156  ...   \n",
      "687   21.54685  clh6aqawa0007gh0z9h6zi9bo  61d373b83aeaecc07011a62b  ...   \n",
      "\n",
      "    enginePower freshWater     fuel      homePort  length maxHeight  maxSpeed  \\\n",
      "0           0.0        NaN      NaN          OSLO  199.00       5.0      18.6   \n",
      "1       14220.0        NaN      NaN      MONROVIA  182.00       NaN       NaN   \n",
      "2       14220.0        NaN      NaN  SAINT JOHN'S  182.00       NaN       NaN   \n",
      "3       11060.0        NaN      NaN           NaN  167.00       NaN       NaN   \n",
      "4       13140.0     491.47  3236.78        Panama  199.98       NaN       NaN   \n",
      "..          ...        ...      ...           ...     ...       ...       ...   \n",
      "683         NaN        NaN      NaN           NaN  200.00       NaN       NaN   \n",
      "684         NaN        NaN      NaN           NaN  177.00       NaN       NaN   \n",
      "685         NaN        NaN      NaN           NaN  200.00       NaN       NaN   \n",
      "686         NaN        NaN      NaN           NaN  191.00       NaN       NaN   \n",
      "687         NaN        NaN      NaN           NaN  191.00       NaN       NaN   \n",
      "\n",
      "     maxWidth  rampCapacity  yearBuilt  \n",
      "0        15.2         150.0       2000  \n",
      "1         NaN           NaN       2006  \n",
      "2         NaN           NaN       2010  \n",
      "3         NaN           NaN       2011  \n",
      "4         NaN           NaN       2018  \n",
      "..        ...           ...        ...  \n",
      "683       NaN           NaN       2014  \n",
      "684       NaN           NaN       1989  \n",
      "685       NaN           NaN       2002  \n",
      "686       NaN           NaN       2007  \n",
      "687       NaN           NaN       2017  \n",
      "\n",
      "[688 rows x 34 columns]\n"
     ]
    }
   ],
   "source": [
    "print(last_rows)"
   ]
  },
  {
   "cell_type": "code",
   "execution_count": null,
   "metadata": {},
   "outputs": [
    {
     "name": "stdout",
     "output_type": "stream",
     "text": [
      "Index(['ID', 'vesselId', 'time', 'time_last', 'cog', 'sog', 'rot', 'heading',\n",
      "       'navstat', 'latitude', 'longitude', 'portId', 'etaParsed', 'UN_LOCODE',\n",
      "       'ISO', 'portLongitude', 'portLatitude', 'shippingLineId', 'CEU', 'DWT',\n",
      "       'GT', 'NT', 'vesselType', 'breadth', 'depth', 'draft', 'enginePower',\n",
      "       'freshWater', 'fuel', 'homePort', 'length', 'maxHeight', 'maxSpeed',\n",
      "       'maxWidth', 'rampCapacity', 'yearBuilt'],\n",
      "      dtype='object')\n"
     ]
    }
   ],
   "source": [
    "test_df=calculate_time_diff_with_last_rows(test_df,last_rows)"
   ]
  },
  {
   "cell_type": "code",
   "execution_count": null,
   "metadata": {},
   "outputs": [
    {
     "name": "stdout",
     "output_type": "stream",
     "text": [
      "Index(['ID', 'vesselId', 'time', 'cog', 'sog', 'rot', 'heading', 'navstat',\n",
      "       'latitude', 'longitude', 'portId', 'etaParsed', 'UN_LOCODE', 'ISO',\n",
      "       'portLongitude', 'portLatitude', 'shippingLineId', 'CEU', 'DWT', 'GT',\n",
      "       'NT', 'vesselType', 'breadth', 'depth', 'draft', 'enginePower',\n",
      "       'freshWater', 'fuel', 'homePort', 'length', 'maxHeight', 'maxSpeed',\n",
      "       'maxWidth', 'rampCapacity', 'yearBuilt', 'diff_seconds', 'diff_minutes',\n",
      "       'diff_hours', 'diff_days'],\n",
      "      dtype='object')\n"
     ]
    }
   ],
   "source": [
    "print(test_df.columns)"
   ]
  },
  {
   "cell_type": "code",
   "execution_count": null,
   "metadata": {},
   "outputs": [],
   "source": [
    "feature_engineer = FeatureEngineer(test_df)\n",
    "feature_engineer.apply_features(feature_engineering_functions)\n",
    "test_df = feature_engineer.get_dataframe()\n",
    "\n",
    "test_df.set_index(\"time\", inplace=True)\n",
    "test_df = remove_non_numeric_columns(test_df)\n",
    "\n"
   ]
  },
  {
   "cell_type": "code",
   "execution_count": null,
   "metadata": {},
   "outputs": [
    {
     "name": "stdout",
     "output_type": "stream",
     "text": [
      "                     ID    cog   sog  rot  heading  navstat  latitude  \\\n",
      "time                                                                    \n",
      "2024-05-08 00:03:16   0  179.6   0.0    0      344        5  31.14647   \n",
      "2024-05-08 00:06:17   1   24.7   0.0    0      214        5  14.81694   \n",
      "2024-05-08 00:10:02   2    8.0  18.7    0        6        0  38.27895   \n",
      "2024-05-08 00:10:34   3  321.3   0.1    0       70        1 -43.53785   \n",
      "2024-05-08 00:12:27   4  291.0   0.3    0      275        2  48.53320   \n",
      "\n",
      "                     longitude  portLongitude  portLatitude  ...  maxSpeed  \\\n",
      "time                                                         ...             \n",
      "2024-05-08 00:03:16  -81.49789     -81.496667     31.140556  ...       NaN   \n",
      "2024-05-08 00:06:17  120.29625     120.279444     14.808333  ...       NaN   \n",
      "2024-05-08 00:10:02   10.78280      11.780833     42.098889  ...       NaN   \n",
      "2024-05-08 00:10:34  172.83522     172.716111    -43.606111  ...      22.2   \n",
      "2024-05-08 00:12:27   -6.12003      -4.474167     48.380556  ...       NaN   \n",
      "\n",
      "                     maxWidth  rampCapacity  yearBuilt  diff_seconds  \\\n",
      "time                                                                   \n",
      "2024-05-08 00:03:16       NaN           NaN       2011         900.0   \n",
      "2024-05-08 00:06:17       NaN           NaN       2012         541.0   \n",
      "2024-05-08 00:10:02       NaN           NaN       2003         654.0   \n",
      "2024-05-08 00:10:34       NaN           NaN       2011        1080.0   \n",
      "2024-05-08 00:12:27       NaN           NaN       2006        1258.0   \n",
      "\n",
      "                     diff_minutes  diff_hours  diff_days  UN_LOCODE_num  \\\n",
      "time                                                                      \n",
      "2024-05-08 00:03:16     15.000000    0.250000   0.010417              0   \n",
      "2024-05-08 00:06:17      9.016667    0.150278   0.006262              1   \n",
      "2024-05-08 00:10:02     10.900000    0.181667   0.007569              2   \n",
      "2024-05-08 00:10:34     18.000000    0.300000   0.012500              3   \n",
      "2024-05-08 00:12:27     20.966667    0.349444   0.014560              4   \n",
      "\n",
      "                     ISO_num  \n",
      "time                          \n",
      "2024-05-08 00:03:16        0  \n",
      "2024-05-08 00:06:17        1  \n",
      "2024-05-08 00:10:02        2  \n",
      "2024-05-08 00:10:34        3  \n",
      "2024-05-08 00:12:27        4  \n",
      "\n",
      "[5 rows x 33 columns]\n"
     ]
    }
   ],
   "source": [
    "print(test_df.head())"
   ]
  },
  {
   "cell_type": "code",
   "execution_count": null,
   "metadata": {},
   "outputs": [],
   "source": [
    "def make_predictions(model, input_df):\n",
    "    # Extract the features for prediction, excluding the 'ID' column\n",
    "    features_df = input_df.drop(columns=['ID'])\n",
    "    features_df = features_df[X_train_cols]\n",
    "    # Generate predictions using the model\n",
    "    predictions = model.predict(xgb.DMatrix(features_df))\n",
    "    \n",
    "    # Create a DataFrame with the predictions, renaming columns as required\n",
    "    predictions_df = pd.DataFrame(predictions, columns=['next_latitude', 'next_longitude'])\n",
    "    predictions_df = predictions_df.rename(columns={'next_latitude': 'latitude', 'next_longitude': 'longitude'})\n",
    "    \n",
    "    # Combine the 'ID' column with the predictions DataFrame\n",
    "    result_df = pd.concat([input_df['ID'].reset_index(drop=True), predictions_df], axis=1)\n",
    "    \n",
    "    return result_df"
   ]
  },
  {
   "cell_type": "code",
   "execution_count": null,
   "metadata": {},
   "outputs": [],
   "source": [
    "result_df = make_predictions(model, test_df)"
   ]
  },
  {
   "cell_type": "code",
   "execution_count": null,
   "metadata": {},
   "outputs": [],
   "source": [
    "result_df.to_csv(RESOURCE_FOLDER+\"/result_simple.csv\", index=False)"
   ]
  }
 ],
 "metadata": {
  "kernelspec": {
   "display_name": "Python 3",
   "language": "python",
   "name": "python3"
  },
  "language_info": {
   "codemirror_mode": {
    "name": "ipython",
    "version": 3
   },
   "file_extension": ".py",
   "mimetype": "text/x-python",
   "name": "python",
   "nbconvert_exporter": "python",
   "pygments_lexer": "ipython3",
   "version": "3.11.3"
  }
 },
 "nbformat": 4,
 "nbformat_minor": 2
}
