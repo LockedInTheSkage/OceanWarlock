{
 "cells": [
  {
   "cell_type": "code",
   "execution_count": 44,
   "metadata": {},
   "outputs": [
    {
     "name": "stdout",
     "output_type": "stream",
     "text": [
      "The autoreload extension is already loaded. To reload it, use:\n",
      "  %reload_ext autoreload\n"
     ]
    }
   ],
   "source": [
    "%load_ext autoreload\n",
    "%autoreload 2"
   ]
  },
  {
   "cell_type": "code",
   "execution_count": 45,
   "metadata": {},
   "outputs": [],
   "source": [
    "import pandas as pd\n",
    "import numpy as np\n",
    "import re\n",
    "from datetime import timedelta\n",
    "from collections import deque\n",
    "import xgboost as xgb\n",
    "from xgboost import plot_importance, plot_tree\n",
    "from sklearn.metrics import mean_absolute_error\n",
    "from sklearn.metrics import r2_score\n",
    "from warnings import simplefilter\n",
    "simplefilter(action=\"ignore\", category=pd.errors.PerformanceWarning)\n",
    "simplefilter(action=\"ignore\", category=FutureWarning)\n",
    "simplefilter(action=\"ignore\", category=UserWarning)\n",
    "from sklearn.model_selection import RandomizedSearchCV, TimeSeriesSplit\n",
    "\n",
    "import loadBar\n",
    "from csv_parser import CSVParser\n",
    "from globals import RESOURCE_FOLDER, STEPSIZES, OUTPUT_WINDOW, INPUT_WINDOW, OUTPUT_FORECAST, DELETEABLE_COLUMNS, ONE_HOT_COLUMNS\n",
    "from feature_engineer import FeatureEngineer\n",
    "from exploring_data_functions import *\n",
    "\n"
   ]
  },
  {
   "cell_type": "code",
   "execution_count": 46,
   "metadata": {},
   "outputs": [],
   "source": [
    "parser = CSVParser(RESOURCE_FOLDER)\n",
    "total_df = parser.retrieve_training_data()"
   ]
  },
  {
   "cell_type": "code",
   "execution_count": 47,
   "metadata": {},
   "outputs": [],
   "source": [
    "total_df[\"time\"] = pd.to_datetime(total_df['time'])"
   ]
  },
  {
   "cell_type": "code",
   "execution_count": 48,
   "metadata": {},
   "outputs": [],
   "source": [
    "def map_indexes_within_timewindow(df, time_col, timewindow):\n",
    "\n",
    "    index_map = {}    \n",
    "\n",
    "    within_window = deque()\n",
    "    \n",
    "\n",
    "    for current_idx in range(len((df))):\n",
    "        current_row = df.iloc[current_idx]\n",
    "        current_time = current_row[time_col]\n",
    "        \n",
    "\n",
    "        while within_window and (current_time - within_window[0][1] > timewindow):\n",
    "            index_map[within_window[0][0]] = within_window[-1][0]\n",
    "            within_window.popleft()\n",
    "        \n",
    "        if current_idx == df.index[-1]:\n",
    "            for idx, _ in within_window:\n",
    "                index_map[idx] = current_idx\n",
    "        \n",
    "\n",
    "        within_window.append((current_idx, current_time))\n",
    "    \n",
    "    return index_map"
   ]
  },
  {
   "cell_type": "code",
   "execution_count": 49,
   "metadata": {},
   "outputs": [],
   "source": [
    "def calculate_time_diffs_within_window(df, time_deltas=[]):\n",
    "    result_list= []\n",
    "    vessel_dfs = df.groupby('vesselId')\n",
    "    j=0\n",
    "    for _, vessel_df in vessel_dfs:\n",
    "        j+=1\n",
    "        loadBar.load_bar(len(vessel_dfs), j)\n",
    "        \n",
    "        vessel_df = vessel_df.sort_values(by='time')\n",
    "        groups = vessel_df.groupby(pd.Grouper(key=\"time\", freq='5D'))\n",
    "        \n",
    "        for _, group in groups:\n",
    "                group_deltas=time_deltas.copy()\n",
    "                if len(group) < 2:\n",
    "                    continue\n",
    "                while group_deltas and group.iloc[-1]['time']-group.iloc[0]['time'] < group_deltas[0]:\n",
    "                    group_deltas.pop(0)\n",
    "                feature_rows=[group.iloc[0]]\n",
    "\n",
    "                for i in range(len(group)):\n",
    "                    future_row = group.iloc[i]\n",
    "\n",
    "                    for current_row in feature_rows:\n",
    "                        new_row = current_row.copy()\n",
    "                        new_row['next_latitude'] = future_row['latitude']\n",
    "                        new_row['next_longitude'] = future_row['longitude']\n",
    "                        new_row['time_diff'] = (future_row['time'] - current_row['time']).total_seconds()\n",
    "                        result_list.append(new_row)\n",
    "\n",
    "                    if group_deltas:\n",
    "                        if group.iloc[-1]['time']-future_row['time'] < group_deltas[0]:\n",
    "                            group_deltas.pop(0)\n",
    "                            feature_rows.append(future_row)\n",
    "                        \n",
    "    print(\"Concating\")\n",
    "    result_df = pd.DataFrame(result_list)\n",
    "\n",
    "    last_rows = df.groupby('vesselId').tail(1)\n",
    "\n",
    "    last_rows = last_rows.reset_index(drop=True)\n",
    "    result_df\n",
    "    \n",
    "    return result_df, last_rows"
   ]
  },
  {
   "cell_type": "code",
   "execution_count": 50,
   "metadata": {},
   "outputs": [
    {
     "name": "stdout",
     "output_type": "stream",
     "text": [
      "                       time    cog   sog  rot  heading  navstat  latitude  \\\n",
      "0       2024-01-01 00:00:25  284.0   0.7    0       88        0 -34.74370   \n",
      "1       2024-01-01 00:00:36  109.6   0.0   -6      347        1   8.89440   \n",
      "2       2024-01-01 00:01:45  111.0  11.0    0      112        0  39.19065   \n",
      "3       2024-01-01 00:03:11   96.4   0.0    0      142        1 -34.41189   \n",
      "4       2024-01-01 00:03:51  214.0  19.7    0      215        0  35.88379   \n",
      "...                     ...    ...   ...  ...      ...      ...       ...   \n",
      "1520445 2024-05-07 23:59:07  359.1  13.4    0        1        0  52.19131   \n",
      "1520446 2024-05-07 23:59:08   12.3  17.1    0       13        0  38.96142   \n",
      "1520447 2024-05-07 23:59:08  269.8  14.9   -1      270        0  49.71372   \n",
      "1520448 2024-05-07 23:59:08    8.0  18.7    0        6        0  38.27895   \n",
      "1520449 2024-05-07 23:59:08  336.0  14.3    5      337        0  38.98635   \n",
      "\n",
      "         longitude                   vesselId                    portId  ...  \\\n",
      "0        -57.85130   61e9f3a8b937134a3c4bfdf7  61d371c43aeaecc07011a37f  ...   \n",
      "1        -79.47939   61e9f3d4b937134a3c4bff1f  634c4de270937fc01c3a7689  ...   \n",
      "2        -76.47567   61e9f436b937134a3c4c0131  61d3847bb7b7526e1adf3d19  ...   \n",
      "3        151.02067   61e9f3b4b937134a3c4bfe77  61d36f770a1807568ff9a126  ...   \n",
      "4         -5.91636   61e9f41bb937134a3c4c0087  634c4de270937fc01c3a74f3  ...   \n",
      "...            ...                        ...                       ...  ...   \n",
      "1520445   -5.82223  clh6aqawa0002gh0zypfa5dut  634c4de270937fc01c3a7417  ...   \n",
      "1520446  -12.00502   61e9f3aeb937134a3c4bfe43  634c4de270937fc01c3a76a1  ...   \n",
      "1520447   -5.22042   61e9f43db937134a3c4c0169  634c4de270937fc01c3a787b  ...   \n",
      "1520448   10.78280   61e9f469b937134a3c4c029b  61d3781293c6feb83e5eb73b  ...   \n",
      "1520449  -75.13275   62080cff66fc0a8e43c6123a  61d38528b7b7526e1adf3e6f  ...   \n",
      "\n",
      "            GT       NT breadth  enginePower  freshWater     fuel  \\\n",
      "0        57718      NaN   32.00          0.0         NaN      NaN   \n",
      "1        59583  19091.0   32.26      15100.0      663.00  2742.00   \n",
      "2        59217      NaN   32.00          0.0         NaN      NaN   \n",
      "3        55598      NaN   32.00          0.0         NaN      NaN   \n",
      "4        58939  18159.0   32.20      15130.0      331.00  2951.00   \n",
      "...        ...      ...     ...          ...         ...      ...   \n",
      "1520445  21005      NaN   25.00          NaN         NaN      NaN   \n",
      "1520446  61328      NaN   32.00          0.0         NaN      NaN   \n",
      "1520447  72700  22257.0   38.00      13200.0      437.84  2994.51   \n",
      "1520448  25995      NaN   27.00          0.0         NaN      NaN   \n",
      "1520449  59454      NaN   32.00          0.0         NaN      NaN   \n",
      "\n",
      "            homePort  length  maxHeight  maxSpeed  \n",
      "0             NASSAU  199.00        NaN       NaN  \n",
      "1           Monrovia  199.97        NaN      22.5  \n",
      "2                NaN  199.00        NaN       NaN  \n",
      "3                NaN  199.00        NaN       NaN  \n",
      "4             Panama  199.95        NaN      22.4  \n",
      "...              ...     ...        ...       ...  \n",
      "1520445          NaN  182.00        NaN       NaN  \n",
      "1520446  SOUTHAMPTON  199.00        NaN       NaN  \n",
      "1520447     Monrovia  199.96        NaN      21.1  \n",
      "1520448      PALERMO  186.00        NaN       NaN  \n",
      "1520449       PANAMA  200.00        NaN       NaN  \n",
      "\n",
      "[1520450 rows x 28 columns]\n"
     ]
    }
   ],
   "source": [
    "print(total_df)"
   ]
  },
  {
   "cell_type": "code",
   "execution_count": 51,
   "metadata": {},
   "outputs": [
    {
     "name": "stdout",
     "output_type": "stream",
     "text": [
      "[--------------------] 1.01% complete\r"
     ]
    },
    {
     "ename": "KeyboardInterrupt",
     "evalue": "",
     "output_type": "error",
     "traceback": [
      "\u001b[1;31m---------------------------------------------------------------------------\u001b[0m",
      "\u001b[1;31mKeyError\u001b[0m                                  Traceback (most recent call last)",
      "File \u001b[1;32mc:\\Users\\Bruker\\AppData\\Local\\Programs\\Python\\Python311\\Lib\\site-packages\\pandas\\core\\indexes\\base.py:3805\u001b[0m, in \u001b[0;36mIndex.get_loc\u001b[1;34m(self, key)\u001b[0m\n\u001b[0;32m   3804\u001b[0m \u001b[38;5;28;01mtry\u001b[39;00m:\n\u001b[1;32m-> 3805\u001b[0m     \u001b[38;5;28;01mreturn\u001b[39;00m \u001b[38;5;28;43mself\u001b[39;49m\u001b[38;5;241;43m.\u001b[39;49m\u001b[43m_engine\u001b[49m\u001b[38;5;241;43m.\u001b[39;49m\u001b[43mget_loc\u001b[49m\u001b[43m(\u001b[49m\u001b[43mcasted_key\u001b[49m\u001b[43m)\u001b[49m\n\u001b[0;32m   3806\u001b[0m \u001b[38;5;28;01mexcept\u001b[39;00m \u001b[38;5;167;01mKeyError\u001b[39;00m \u001b[38;5;28;01mas\u001b[39;00m err:\n",
      "File \u001b[1;32mindex.pyx:167\u001b[0m, in \u001b[0;36mpandas._libs.index.IndexEngine.get_loc\u001b[1;34m()\u001b[0m\n",
      "File \u001b[1;32mindex.pyx:196\u001b[0m, in \u001b[0;36mpandas._libs.index.IndexEngine.get_loc\u001b[1;34m()\u001b[0m\n",
      "File \u001b[1;32mpandas\\\\_libs\\\\hashtable_class_helper.pxi:7081\u001b[0m, in \u001b[0;36mpandas._libs.hashtable.PyObjectHashTable.get_item\u001b[1;34m()\u001b[0m\n",
      "File \u001b[1;32mpandas\\\\_libs\\\\hashtable_class_helper.pxi:7089\u001b[0m, in \u001b[0;36mpandas._libs.hashtable.PyObjectHashTable.get_item\u001b[1;34m()\u001b[0m\n",
      "\u001b[1;31mKeyError\u001b[0m: 'time_diff'",
      "\nThe above exception was the direct cause of the following exception:\n",
      "\u001b[1;31mKeyError\u001b[0m                                  Traceback (most recent call last)",
      "File \u001b[1;32mc:\\Users\\Bruker\\AppData\\Local\\Programs\\Python\\Python311\\Lib\\site-packages\\pandas\\core\\series.py:1298\u001b[0m, in \u001b[0;36mSeries.__setitem__\u001b[1;34m(self, key, value)\u001b[0m\n\u001b[0;32m   1297\u001b[0m \u001b[38;5;28;01mtry\u001b[39;00m:\n\u001b[1;32m-> 1298\u001b[0m     \u001b[38;5;28;43mself\u001b[39;49m\u001b[38;5;241;43m.\u001b[39;49m\u001b[43m_set_with_engine\u001b[49m\u001b[43m(\u001b[49m\u001b[43mkey\u001b[49m\u001b[43m,\u001b[49m\u001b[43m \u001b[49m\u001b[43mvalue\u001b[49m\u001b[43m,\u001b[49m\u001b[43m \u001b[49m\u001b[43mwarn\u001b[49m\u001b[38;5;241;43m=\u001b[39;49m\u001b[43mwarn\u001b[49m\u001b[43m)\u001b[49m\n\u001b[0;32m   1299\u001b[0m \u001b[38;5;28;01mexcept\u001b[39;00m \u001b[38;5;167;01mKeyError\u001b[39;00m:\n\u001b[0;32m   1300\u001b[0m     \u001b[38;5;66;03m# We have a scalar (or for MultiIndex or object-dtype, scalar-like)\u001b[39;00m\n\u001b[0;32m   1301\u001b[0m     \u001b[38;5;66;03m#  key that is not present in self.index.\u001b[39;00m\n",
      "File \u001b[1;32mc:\\Users\\Bruker\\AppData\\Local\\Programs\\Python\\Python311\\Lib\\site-packages\\pandas\\core\\series.py:1370\u001b[0m, in \u001b[0;36mSeries._set_with_engine\u001b[1;34m(self, key, value, warn)\u001b[0m\n\u001b[0;32m   1369\u001b[0m \u001b[38;5;28;01mdef\u001b[39;00m \u001b[38;5;21m_set_with_engine\u001b[39m(\u001b[38;5;28mself\u001b[39m, key, value, warn: \u001b[38;5;28mbool\u001b[39m \u001b[38;5;241m=\u001b[39m \u001b[38;5;28;01mTrue\u001b[39;00m) \u001b[38;5;241m-\u001b[39m\u001b[38;5;241m>\u001b[39m \u001b[38;5;28;01mNone\u001b[39;00m:\n\u001b[1;32m-> 1370\u001b[0m     loc \u001b[38;5;241m=\u001b[39m \u001b[38;5;28;43mself\u001b[39;49m\u001b[38;5;241;43m.\u001b[39;49m\u001b[43mindex\u001b[49m\u001b[38;5;241;43m.\u001b[39;49m\u001b[43mget_loc\u001b[49m\u001b[43m(\u001b[49m\u001b[43mkey\u001b[49m\u001b[43m)\u001b[49m\n\u001b[0;32m   1372\u001b[0m     \u001b[38;5;66;03m# this is equivalent to self._values[key] = value\u001b[39;00m\n",
      "File \u001b[1;32mc:\\Users\\Bruker\\AppData\\Local\\Programs\\Python\\Python311\\Lib\\site-packages\\pandas\\core\\indexes\\base.py:3812\u001b[0m, in \u001b[0;36mIndex.get_loc\u001b[1;34m(self, key)\u001b[0m\n\u001b[0;32m   3811\u001b[0m         \u001b[38;5;28;01mraise\u001b[39;00m InvalidIndexError(key)\n\u001b[1;32m-> 3812\u001b[0m     \u001b[38;5;28;01mraise\u001b[39;00m \u001b[38;5;167;01mKeyError\u001b[39;00m(key) \u001b[38;5;28;01mfrom\u001b[39;00m \u001b[38;5;21;01merr\u001b[39;00m\n\u001b[0;32m   3813\u001b[0m \u001b[38;5;28;01mexcept\u001b[39;00m \u001b[38;5;167;01mTypeError\u001b[39;00m:\n\u001b[0;32m   3814\u001b[0m     \u001b[38;5;66;03m# If we have a listlike key, _check_indexing_error will raise\u001b[39;00m\n\u001b[0;32m   3815\u001b[0m     \u001b[38;5;66;03m#  InvalidIndexError. Otherwise we fall through and re-raise\u001b[39;00m\n\u001b[0;32m   3816\u001b[0m     \u001b[38;5;66;03m#  the TypeError.\u001b[39;00m\n",
      "\u001b[1;31mKeyError\u001b[0m: 'time_diff'",
      "\nDuring handling of the above exception, another exception occurred:\n",
      "\u001b[1;31mKeyboardInterrupt\u001b[0m                         Traceback (most recent call last)",
      "Cell \u001b[1;32mIn[51], line 2\u001b[0m\n\u001b[0;32m      1\u001b[0m timedeltas\u001b[38;5;241m=\u001b[39m[timedelta(days\u001b[38;5;241m=\u001b[39m\u001b[38;5;241m3\u001b[39m),timedelta(days\u001b[38;5;241m=\u001b[39m\u001b[38;5;241m1\u001b[39m)]\n\u001b[1;32m----> 2\u001b[0m total_df, last_rows \u001b[38;5;241m=\u001b[39m \u001b[43mcalculate_time_diffs_within_window\u001b[49m\u001b[43m(\u001b[49m\u001b[43mtotal_df\u001b[49m\u001b[43m,\u001b[49m\u001b[43m \u001b[49m\u001b[43mtimedeltas\u001b[49m\u001b[43m)\u001b[49m \u001b[38;5;66;03m#1 min 14 sec on no delta, 2 min 30 sec on 1 and 3 day delta\u001b[39;00m\n",
      "Cell \u001b[1;32mIn[49], line 27\u001b[0m, in \u001b[0;36mcalculate_time_diffs_within_window\u001b[1;34m(df, time_deltas)\u001b[0m\n\u001b[0;32m     25\u001b[0m     new_row[\u001b[38;5;124m'\u001b[39m\u001b[38;5;124mnext_latitude\u001b[39m\u001b[38;5;124m'\u001b[39m] \u001b[38;5;241m=\u001b[39m future_row[\u001b[38;5;124m'\u001b[39m\u001b[38;5;124mlatitude\u001b[39m\u001b[38;5;124m'\u001b[39m]\n\u001b[0;32m     26\u001b[0m     new_row[\u001b[38;5;124m'\u001b[39m\u001b[38;5;124mnext_longitude\u001b[39m\u001b[38;5;124m'\u001b[39m] \u001b[38;5;241m=\u001b[39m future_row[\u001b[38;5;124m'\u001b[39m\u001b[38;5;124mlongitude\u001b[39m\u001b[38;5;124m'\u001b[39m]\n\u001b[1;32m---> 27\u001b[0m     \u001b[43mnew_row\u001b[49m\u001b[43m[\u001b[49m\u001b[38;5;124;43m'\u001b[39;49m\u001b[38;5;124;43mtime_diff\u001b[39;49m\u001b[38;5;124;43m'\u001b[39;49m\u001b[43m]\u001b[49m \u001b[38;5;241m=\u001b[39m (future_row[\u001b[38;5;124m'\u001b[39m\u001b[38;5;124mtime\u001b[39m\u001b[38;5;124m'\u001b[39m] \u001b[38;5;241m-\u001b[39m current_row[\u001b[38;5;124m'\u001b[39m\u001b[38;5;124mtime\u001b[39m\u001b[38;5;124m'\u001b[39m])\u001b[38;5;241m.\u001b[39mtotal_seconds()\n\u001b[0;32m     28\u001b[0m     result_list\u001b[38;5;241m.\u001b[39mappend(new_row)\n\u001b[0;32m     30\u001b[0m \u001b[38;5;28;01mif\u001b[39;00m group_deltas:\n",
      "File \u001b[1;32mc:\\Users\\Bruker\\AppData\\Local\\Programs\\Python\\Python311\\Lib\\site-packages\\pandas\\core\\series.py:1322\u001b[0m, in \u001b[0;36mSeries.__setitem__\u001b[1;34m(self, key, value)\u001b[0m\n\u001b[0;32m   1319\u001b[0m             \u001b[38;5;28mself\u001b[39m\u001b[38;5;241m.\u001b[39m_set_values(key, value)\n\u001b[0;32m   1320\u001b[0m     \u001b[38;5;28;01melse\u001b[39;00m:\n\u001b[0;32m   1321\u001b[0m         \u001b[38;5;66;03m# GH#12862 adding a new key to the Series\u001b[39;00m\n\u001b[1;32m-> 1322\u001b[0m         \u001b[38;5;28;43mself\u001b[39;49m\u001b[38;5;241;43m.\u001b[39;49m\u001b[43mloc\u001b[49m\u001b[43m[\u001b[49m\u001b[43mkey\u001b[49m\u001b[43m]\u001b[49m \u001b[38;5;241m=\u001b[39m value\n\u001b[0;32m   1324\u001b[0m \u001b[38;5;28;01mexcept\u001b[39;00m (\u001b[38;5;167;01mTypeError\u001b[39;00m, \u001b[38;5;167;01mValueError\u001b[39;00m, LossySetitemError):\n\u001b[0;32m   1325\u001b[0m     \u001b[38;5;66;03m# The key was OK, but we cannot set the value losslessly\u001b[39;00m\n\u001b[0;32m   1326\u001b[0m     indexer \u001b[38;5;241m=\u001b[39m \u001b[38;5;28mself\u001b[39m\u001b[38;5;241m.\u001b[39mindex\u001b[38;5;241m.\u001b[39mget_loc(key)\n",
      "File \u001b[1;32mc:\\Users\\Bruker\\AppData\\Local\\Programs\\Python\\Python311\\Lib\\site-packages\\pandas\\core\\indexing.py:911\u001b[0m, in \u001b[0;36m_LocationIndexer.__setitem__\u001b[1;34m(self, key, value)\u001b[0m\n\u001b[0;32m    908\u001b[0m \u001b[38;5;28mself\u001b[39m\u001b[38;5;241m.\u001b[39m_has_valid_setitem_indexer(key)\n\u001b[0;32m    910\u001b[0m iloc \u001b[38;5;241m=\u001b[39m \u001b[38;5;28mself\u001b[39m \u001b[38;5;28;01mif\u001b[39;00m \u001b[38;5;28mself\u001b[39m\u001b[38;5;241m.\u001b[39mname \u001b[38;5;241m==\u001b[39m \u001b[38;5;124m\"\u001b[39m\u001b[38;5;124miloc\u001b[39m\u001b[38;5;124m\"\u001b[39m \u001b[38;5;28;01melse\u001b[39;00m \u001b[38;5;28mself\u001b[39m\u001b[38;5;241m.\u001b[39mobj\u001b[38;5;241m.\u001b[39miloc\n\u001b[1;32m--> 911\u001b[0m \u001b[43miloc\u001b[49m\u001b[38;5;241;43m.\u001b[39;49m\u001b[43m_setitem_with_indexer\u001b[49m\u001b[43m(\u001b[49m\u001b[43mindexer\u001b[49m\u001b[43m,\u001b[49m\u001b[43m \u001b[49m\u001b[43mvalue\u001b[49m\u001b[43m,\u001b[49m\u001b[43m \u001b[49m\u001b[38;5;28;43mself\u001b[39;49m\u001b[38;5;241;43m.\u001b[39;49m\u001b[43mname\u001b[49m\u001b[43m)\u001b[49m\n",
      "File \u001b[1;32mc:\\Users\\Bruker\\AppData\\Local\\Programs\\Python\\Python311\\Lib\\site-packages\\pandas\\core\\indexing.py:1932\u001b[0m, in \u001b[0;36m_iLocIndexer._setitem_with_indexer\u001b[1;34m(self, indexer, value, name)\u001b[0m\n\u001b[0;32m   1929\u001b[0m     indexer, missing \u001b[38;5;241m=\u001b[39m convert_missing_indexer(indexer)\n\u001b[0;32m   1931\u001b[0m     \u001b[38;5;28;01mif\u001b[39;00m missing:\n\u001b[1;32m-> 1932\u001b[0m         \u001b[38;5;28;43mself\u001b[39;49m\u001b[38;5;241;43m.\u001b[39;49m\u001b[43m_setitem_with_indexer_missing\u001b[49m\u001b[43m(\u001b[49m\u001b[43mindexer\u001b[49m\u001b[43m,\u001b[49m\u001b[43m \u001b[49m\u001b[43mvalue\u001b[49m\u001b[43m)\u001b[49m\n\u001b[0;32m   1933\u001b[0m         \u001b[38;5;28;01mreturn\u001b[39;00m\n\u001b[0;32m   1935\u001b[0m \u001b[38;5;28;01mif\u001b[39;00m name \u001b[38;5;241m==\u001b[39m \u001b[38;5;124m\"\u001b[39m\u001b[38;5;124mloc\u001b[39m\u001b[38;5;124m\"\u001b[39m:\n\u001b[0;32m   1936\u001b[0m     \u001b[38;5;66;03m# must come after setting of missing\u001b[39;00m\n",
      "File \u001b[1;32mc:\\Users\\Bruker\\AppData\\Local\\Programs\\Python\\Python311\\Lib\\site-packages\\pandas\\core\\indexing.py:2282\u001b[0m, in \u001b[0;36m_iLocIndexer._setitem_with_indexer_missing\u001b[1;34m(self, indexer, value)\u001b[0m\n\u001b[0;32m   2278\u001b[0m     \u001b[38;5;28;01mif\u001b[39;00m \u001b[38;5;28mlen\u001b[39m(\u001b[38;5;28mself\u001b[39m\u001b[38;5;241m.\u001b[39mobj\u001b[38;5;241m.\u001b[39m_values):\n\u001b[0;32m   2279\u001b[0m         \u001b[38;5;66;03m# GH#22717 handle casting compatibility that np.concatenate\u001b[39;00m\n\u001b[0;32m   2280\u001b[0m         \u001b[38;5;66;03m#  does incorrectly\u001b[39;00m\n\u001b[0;32m   2281\u001b[0m         new_values \u001b[38;5;241m=\u001b[39m concat_compat([\u001b[38;5;28mself\u001b[39m\u001b[38;5;241m.\u001b[39mobj\u001b[38;5;241m.\u001b[39m_values, new_values])\n\u001b[1;32m-> 2282\u001b[0m     \u001b[38;5;28mself\u001b[39m\u001b[38;5;241m.\u001b[39mobj\u001b[38;5;241m.\u001b[39m_mgr \u001b[38;5;241m=\u001b[39m \u001b[38;5;28;43mself\u001b[39;49m\u001b[38;5;241;43m.\u001b[39;49m\u001b[43mobj\u001b[49m\u001b[38;5;241;43m.\u001b[39;49m\u001b[43m_constructor\u001b[49m\u001b[43m(\u001b[49m\n\u001b[0;32m   2283\u001b[0m \u001b[43m        \u001b[49m\u001b[43mnew_values\u001b[49m\u001b[43m,\u001b[49m\u001b[43m \u001b[49m\u001b[43mindex\u001b[49m\u001b[38;5;241;43m=\u001b[39;49m\u001b[43mnew_index\u001b[49m\u001b[43m,\u001b[49m\u001b[43m \u001b[49m\u001b[43mname\u001b[49m\u001b[38;5;241;43m=\u001b[39;49m\u001b[38;5;28;43mself\u001b[39;49m\u001b[38;5;241;43m.\u001b[39;49m\u001b[43mobj\u001b[49m\u001b[38;5;241;43m.\u001b[39;49m\u001b[43mname\u001b[49m\n\u001b[0;32m   2284\u001b[0m \u001b[43m    \u001b[49m\u001b[43m)\u001b[49m\u001b[38;5;241m.\u001b[39m_mgr\n\u001b[0;32m   2285\u001b[0m     \u001b[38;5;28mself\u001b[39m\u001b[38;5;241m.\u001b[39mobj\u001b[38;5;241m.\u001b[39m_maybe_update_cacher(clear\u001b[38;5;241m=\u001b[39m\u001b[38;5;28;01mTrue\u001b[39;00m)\n\u001b[0;32m   2287\u001b[0m \u001b[38;5;28;01melif\u001b[39;00m \u001b[38;5;28mself\u001b[39m\u001b[38;5;241m.\u001b[39mndim \u001b[38;5;241m==\u001b[39m \u001b[38;5;241m2\u001b[39m:\n",
      "File \u001b[1;32mc:\\Users\\Bruker\\AppData\\Local\\Programs\\Python\\Python311\\Lib\\site-packages\\pandas\\core\\series.py:586\u001b[0m, in \u001b[0;36mSeries.__init__\u001b[1;34m(self, data, index, dtype, name, copy, fastpath)\u001b[0m\n\u001b[0;32m    583\u001b[0m \u001b[38;5;28;01melse\u001b[39;00m:\n\u001b[0;32m    584\u001b[0m     data \u001b[38;5;241m=\u001b[39m sanitize_array(data, index, dtype, copy)\n\u001b[1;32m--> 586\u001b[0m     manager \u001b[38;5;241m=\u001b[39m \u001b[43m_get_option\u001b[49m\u001b[43m(\u001b[49m\u001b[38;5;124;43m\"\u001b[39;49m\u001b[38;5;124;43mmode.data_manager\u001b[39;49m\u001b[38;5;124;43m\"\u001b[39;49m\u001b[43m,\u001b[49m\u001b[43m \u001b[49m\u001b[43msilent\u001b[49m\u001b[38;5;241;43m=\u001b[39;49m\u001b[38;5;28;43;01mTrue\u001b[39;49;00m\u001b[43m)\u001b[49m\n\u001b[0;32m    587\u001b[0m     \u001b[38;5;28;01mif\u001b[39;00m manager \u001b[38;5;241m==\u001b[39m \u001b[38;5;124m\"\u001b[39m\u001b[38;5;124mblock\u001b[39m\u001b[38;5;124m\"\u001b[39m:\n\u001b[0;32m    588\u001b[0m         data \u001b[38;5;241m=\u001b[39m SingleBlockManager\u001b[38;5;241m.\u001b[39mfrom_array(data, index, refs\u001b[38;5;241m=\u001b[39mrefs)\n",
      "File \u001b[1;32mc:\\Users\\Bruker\\AppData\\Local\\Programs\\Python\\Python311\\Lib\\site-packages\\pandas\\_config\\config.py:149\u001b[0m, in \u001b[0;36m_get_option\u001b[1;34m(pat, silent)\u001b[0m\n\u001b[0;32m    146\u001b[0m key \u001b[38;5;241m=\u001b[39m _get_single_key(pat, silent)\n\u001b[0;32m    148\u001b[0m \u001b[38;5;66;03m# walk the nested dict\u001b[39;00m\n\u001b[1;32m--> 149\u001b[0m root, k \u001b[38;5;241m=\u001b[39m \u001b[43m_get_root\u001b[49m\u001b[43m(\u001b[49m\u001b[43mkey\u001b[49m\u001b[43m)\u001b[49m\n\u001b[0;32m    150\u001b[0m \u001b[38;5;28;01mreturn\u001b[39;00m root[k]\n",
      "File \u001b[1;32mc:\\Users\\Bruker\\AppData\\Local\\Programs\\Python\\Python311\\Lib\\site-packages\\pandas\\_config\\config.py:639\u001b[0m, in \u001b[0;36m_get_root\u001b[1;34m(key)\u001b[0m\n\u001b[0;32m    637\u001b[0m cursor \u001b[38;5;241m=\u001b[39m _global_config\n\u001b[0;32m    638\u001b[0m \u001b[38;5;28;01mfor\u001b[39;00m p \u001b[38;5;129;01min\u001b[39;00m path[:\u001b[38;5;241m-\u001b[39m\u001b[38;5;241m1\u001b[39m]:\n\u001b[1;32m--> 639\u001b[0m     cursor \u001b[38;5;241m=\u001b[39m cursor[p]\n\u001b[0;32m    640\u001b[0m \u001b[38;5;28;01mreturn\u001b[39;00m cursor, path[\u001b[38;5;241m-\u001b[39m\u001b[38;5;241m1\u001b[39m]\n",
      "\u001b[1;31mKeyboardInterrupt\u001b[0m: "
     ]
    }
   ],
   "source": [
    "timedeltas=[timedelta(days=3),timedelta(days=1)]\n",
    "total_df, last_rows = calculate_time_diffs_within_window(total_df, timedeltas) #1 min 14 sec on no delta, 2 min 30 sec on 1 and 3 day delta"
   ]
  },
  {
   "cell_type": "code",
   "execution_count": null,
   "metadata": {},
   "outputs": [
    {
     "name": "stdout",
     "output_type": "stream",
     "text": [
      "                   time    cog  sog  rot  heading  navstat  latitude  \\\n",
      "64  2024-01-01 00:14:36  348.0  0.0    0      333        5  51.30883   \n",
      "64  2024-01-01 00:14:36  348.0  0.0    0      333        5  51.30883   \n",
      "64  2024-01-01 00:14:36  348.0  0.0    0      333        5  51.30883   \n",
      "64  2024-01-01 00:14:36  348.0  0.0    0      333        5  51.30883   \n",
      "64  2024-01-01 00:14:36  348.0  0.0    0      333        5  51.30883   \n",
      "..                  ...    ...  ...  ...      ...      ...       ...   \n",
      "141 2024-01-01 00:16:21  345.0  0.0    0      345        5  54.37932   \n",
      "141 2024-01-01 00:16:21  345.0  0.0    0      345        5  54.37932   \n",
      "141 2024-01-01 00:16:21  345.0  0.0    0      345        5  54.37932   \n",
      "141 2024-01-01 00:16:21  345.0  0.0    0      345        5  54.37932   \n",
      "141 2024-01-01 00:16:21  345.0  0.0    0      345        5  54.37932   \n",
      "\n",
      "     longitude                   vesselId                    portId  \\\n",
      "64     3.23027   61e9f38eb937134a3c4bfd8d  61d36f9a0a1807568ff9a156   \n",
      "64     3.23027   61e9f38eb937134a3c4bfd8d  61d36f9a0a1807568ff9a156   \n",
      "64     3.23027   61e9f38eb937134a3c4bfd8d  61d36f9a0a1807568ff9a156   \n",
      "64     3.23027   61e9f38eb937134a3c4bfd8d  61d36f9a0a1807568ff9a156   \n",
      "64     3.23027   61e9f38eb937134a3c4bfd8d  61d36f9a0a1807568ff9a156   \n",
      "..         ...                        ...                       ...   \n",
      "141   18.65969  clh6aqawa0004gh0z12aogec9  61d37d7799db2ccf7339ef75   \n",
      "141   18.65969  clh6aqawa0004gh0z12aogec9  61d37d7799db2ccf7339ef75   \n",
      "141   18.65969  clh6aqawa0004gh0z12aogec9  61d37d7799db2ccf7339ef75   \n",
      "141   18.65969  clh6aqawa0004gh0z12aogec9  61d37d7799db2ccf7339ef75   \n",
      "141   18.65969  clh6aqawa0004gh0z12aogec9  61d37d7799db2ccf7339ef75   \n",
      "\n",
      "              etaParsed UN_LOCODE ISO  portLongitude  portLatitude  \\\n",
      "64  2024-12-29 21:00:00     BEZEE  BE       3.207222     51.336389   \n",
      "64  2024-12-29 21:00:00     BEZEE  BE       3.207222     51.336389   \n",
      "64  2024-12-29 21:00:00     BEZEE  BE       3.207222     51.336389   \n",
      "64  2024-12-29 21:00:00     BEZEE  BE       3.207222     51.336389   \n",
      "64  2024-12-29 21:00:00     BEZEE  BE       3.207222     51.336389   \n",
      "..                  ...       ...  ..            ...           ...   \n",
      "141 2024-12-28 17:00:00     PLGDN  PL      18.670000     54.393333   \n",
      "141 2024-12-28 17:00:00     PLGDN  PL      18.670000     54.393333   \n",
      "141 2024-12-28 17:00:00     PLGDN  PL      18.670000     54.393333   \n",
      "141 2024-12-28 17:00:00     PLGDN  PL      18.670000     54.393333   \n",
      "141 2024-12-28 17:00:00     PLGDN  PL      18.670000     54.393333   \n",
      "\n",
      "     next_latitude  next_longitude  time_diff  \n",
      "64        51.30883         3.23027        0.0  \n",
      "64        51.30882         3.23025     1260.0  \n",
      "64        51.30882         3.23027     2518.0  \n",
      "64        51.30880         3.23023     3779.0  \n",
      "64        51.30882         3.23030     4860.0  \n",
      "..             ...             ...        ...  \n",
      "141       54.37930        18.65969    72140.0  \n",
      "141       54.37931        18.65969    73272.0  \n",
      "141       54.37930        18.65970    74546.0  \n",
      "141       54.37931        18.65970    75626.0  \n",
      "141       54.37931        18.65970    76575.0  \n",
      "\n",
      "[9987 rows x 18 columns]\n"
     ]
    }
   ],
   "source": [
    "print(total_df)"
   ]
  },
  {
   "cell_type": "code",
   "execution_count": null,
   "metadata": {},
   "outputs": [
    {
     "name": "stdout",
     "output_type": "stream",
     "text": [
      "Applying categorize_navstat\n",
      "Applying numerize_UN_LOCODE\n",
      "Applying numerize_ISO\n",
      "Applying type_dummies\n",
      "Applying minutes_to_etaParsed\n",
      "                       cog  sog  rot  heading  latitude  longitude  \\\n",
      "time                                                                 \n",
      "2024-01-01 00:14:36  348.0  0.0    0      333  51.30883    3.23027   \n",
      "2024-01-01 00:14:36  348.0  0.0    0      333  51.30883    3.23027   \n",
      "2024-01-01 00:14:36  348.0  0.0    0      333  51.30883    3.23027   \n",
      "2024-01-01 00:14:36  348.0  0.0    0      333  51.30883    3.23027   \n",
      "2024-01-01 00:14:36  348.0  0.0    0      333  51.30883    3.23027   \n",
      "...                    ...  ...  ...      ...       ...        ...   \n",
      "2024-01-01 00:16:21  345.0  0.0    0      345  54.37932   18.65969   \n",
      "2024-01-01 00:16:21  345.0  0.0    0      345  54.37932   18.65969   \n",
      "2024-01-01 00:16:21  345.0  0.0    0      345  54.37932   18.65969   \n",
      "2024-01-01 00:16:21  345.0  0.0    0      345  54.37932   18.65969   \n",
      "2024-01-01 00:16:21  345.0  0.0    0      345  54.37932   18.65969   \n",
      "\n",
      "                                      vesselId                    portId  \\\n",
      "time                                                                       \n",
      "2024-01-01 00:14:36   61e9f38eb937134a3c4bfd8d  61d36f9a0a1807568ff9a156   \n",
      "2024-01-01 00:14:36   61e9f38eb937134a3c4bfd8d  61d36f9a0a1807568ff9a156   \n",
      "2024-01-01 00:14:36   61e9f38eb937134a3c4bfd8d  61d36f9a0a1807568ff9a156   \n",
      "2024-01-01 00:14:36   61e9f38eb937134a3c4bfd8d  61d36f9a0a1807568ff9a156   \n",
      "2024-01-01 00:14:36   61e9f38eb937134a3c4bfd8d  61d36f9a0a1807568ff9a156   \n",
      "...                                        ...                       ...   \n",
      "2024-01-01 00:16:21  clh6aqawa0004gh0z12aogec9  61d37d7799db2ccf7339ef75   \n",
      "2024-01-01 00:16:21  clh6aqawa0004gh0z12aogec9  61d37d7799db2ccf7339ef75   \n",
      "2024-01-01 00:16:21  clh6aqawa0004gh0z12aogec9  61d37d7799db2ccf7339ef75   \n",
      "2024-01-01 00:16:21  clh6aqawa0004gh0z12aogec9  61d37d7799db2ccf7339ef75   \n",
      "2024-01-01 00:16:21  clh6aqawa0004gh0z12aogec9  61d37d7799db2ccf7339ef75   \n",
      "\n",
      "                     portLongitude  portLatitude  next_latitude  \\\n",
      "time                                                              \n",
      "2024-01-01 00:14:36       3.207222     51.336389       51.30883   \n",
      "2024-01-01 00:14:36       3.207222     51.336389       51.30882   \n",
      "2024-01-01 00:14:36       3.207222     51.336389       51.30882   \n",
      "2024-01-01 00:14:36       3.207222     51.336389       51.30880   \n",
      "2024-01-01 00:14:36       3.207222     51.336389       51.30882   \n",
      "...                            ...           ...            ...   \n",
      "2024-01-01 00:16:21      18.670000     54.393333       54.37930   \n",
      "2024-01-01 00:16:21      18.670000     54.393333       54.37931   \n",
      "2024-01-01 00:16:21      18.670000     54.393333       54.37930   \n",
      "2024-01-01 00:16:21      18.670000     54.393333       54.37931   \n",
      "2024-01-01 00:16:21      18.670000     54.393333       54.37931   \n",
      "\n",
      "                     next_longitude  time_diff  navstat_value_Anchor  \\\n",
      "time                                                                   \n",
      "2024-01-01 00:14:36         3.23027        0.0                 False   \n",
      "2024-01-01 00:14:36         3.23025     1260.0                 False   \n",
      "2024-01-01 00:14:36         3.23027     2518.0                 False   \n",
      "2024-01-01 00:14:36         3.23023     3779.0                 False   \n",
      "2024-01-01 00:14:36         3.23030     4860.0                 False   \n",
      "...                             ...        ...                   ...   \n",
      "2024-01-01 00:16:21        18.65969    72140.0                 False   \n",
      "2024-01-01 00:16:21        18.65969    73272.0                 False   \n",
      "2024-01-01 00:16:21        18.65970    74546.0                 False   \n",
      "2024-01-01 00:16:21        18.65970    75626.0                 False   \n",
      "2024-01-01 00:16:21        18.65970    76575.0                 False   \n",
      "\n",
      "                     navstat_value_Moored  navstat_value_OMW_E  \\\n",
      "time                                                             \n",
      "2024-01-01 00:14:36                  True                False   \n",
      "2024-01-01 00:14:36                  True                False   \n",
      "2024-01-01 00:14:36                  True                False   \n",
      "2024-01-01 00:14:36                  True                False   \n",
      "2024-01-01 00:14:36                  True                False   \n",
      "...                                   ...                  ...   \n",
      "2024-01-01 00:16:21                  True                False   \n",
      "2024-01-01 00:16:21                  True                False   \n",
      "2024-01-01 00:16:21                  True                False   \n",
      "2024-01-01 00:16:21                  True                False   \n",
      "2024-01-01 00:16:21                  True                False   \n",
      "\n",
      "                     navstat_value_nan  UN_LOCODE_num  ISO_num  \\\n",
      "time                                                             \n",
      "2024-01-01 00:14:36              False              0        0   \n",
      "2024-01-01 00:14:36              False              0        0   \n",
      "2024-01-01 00:14:36              False              0        0   \n",
      "2024-01-01 00:14:36              False              0        0   \n",
      "2024-01-01 00:14:36              False              0        0   \n",
      "...                                ...            ...      ...   \n",
      "2024-01-01 00:16:21              False             90       34   \n",
      "2024-01-01 00:16:21              False             90       34   \n",
      "2024-01-01 00:16:21              False             90       34   \n",
      "2024-01-01 00:16:21              False             90       34   \n",
      "2024-01-01 00:16:21              False             90       34   \n",
      "\n",
      "                     days_to_etaParsed  \n",
      "time                                    \n",
      "2024-01-01 00:14:36                363  \n",
      "2024-01-01 00:14:36                363  \n",
      "2024-01-01 00:14:36                363  \n",
      "2024-01-01 00:14:36                363  \n",
      "2024-01-01 00:14:36                363  \n",
      "...                                ...  \n",
      "2024-01-01 00:16:21                362  \n",
      "2024-01-01 00:16:21                362  \n",
      "2024-01-01 00:16:21                362  \n",
      "2024-01-01 00:16:21                362  \n",
      "2024-01-01 00:16:21                362  \n",
      "\n",
      "[9987 rows x 20 columns]\n"
     ]
    }
   ],
   "source": [
    "feature_engineering_functions = [numerize_vesselId, numerize_portId, numerize_shippingLineId, \n",
    "                                 numerize_homePort, categorize_navstat, numerize_UN_LOCODE, \n",
    "                                 numerize_ISO, type_dummies, minutes_to_etaParsed] #, apply_markov,, categorize_rot\n",
    "\n",
    "\n",
    "\n",
    "feature_engineer = FeatureEngineer(total_df)\n",
    "feature_engineer.apply_features(feature_engineering_functions)\n",
    "total_df = feature_engineer.get_dataframe()\n",
    "\n",
    "total_df.set_index(\"time\", inplace=True)"
   ]
  },
  {
   "cell_type": "code",
   "execution_count": null,
   "metadata": {},
   "outputs": [],
   "source": [
    "def replace_nan_with_zero(df):\n",
    "    # Iterate over each column in the DataFrame\n",
    "    for col in df.columns:\n",
    "        # Check if column contains NaN values\n",
    "        if df[col].isna().any():\n",
    "            # Drop NaNs temporarily to check the data types of the rest of the values\n",
    "            non_na_values = df[col].dropna()\n",
    "            # Check if all non-NaN values are either bool, float, or int\n",
    "            if non_na_values.apply(lambda x: isinstance(x, (bool, int, float))).all():\n",
    "                df[col].fillna(0, inplace=True)\n",
    "    return df\n",
    "\n",
    "total_df = replace_nan_with_zero(total_df)"
   ]
  },
  {
   "cell_type": "code",
   "execution_count": null,
   "metadata": {},
   "outputs": [],
   "source": [
    "\n",
    "def remove_non_numeric_columns(df):\n",
    "    # Select columns that are either of type bool, float, or int\n",
    "    df = df.select_dtypes(include=['bool', 'float', 'int'])\n",
    "    return df\n",
    "\n",
    "total_df = remove_non_numeric_columns(total_df)\n"
   ]
  },
  {
   "cell_type": "code",
   "execution_count": null,
   "metadata": {},
   "outputs": [
    {
     "name": "stdout",
     "output_type": "stream",
     "text": [
      "Index(['cog', 'sog', 'rot', 'heading', 'navstat', 'latitude', 'longitude',\n",
      "       'portLongitude', 'portLatitude', 'next_latitude', 'next_longitude',\n",
      "       'time_diff', 'UN_LOCODE_num', 'ISO_num'],\n",
      "      dtype='object')\n"
     ]
    }
   ],
   "source": [
    "print((total_df.columns))"
   ]
  },
  {
   "cell_type": "code",
   "execution_count": null,
   "metadata": {},
   "outputs": [],
   "source": [
    "def train_test_split(df_old, perc1, perc2):\n",
    "\n",
    "    df = df_old.sample(frac=1).reset_index(drop=True)\n",
    "\n",
    "    y_list = ['next_latitude', 'next_longitude'] #'next_latitude', 'next_longitude'\n",
    "    ys = df[y_list]\n",
    "    Xs = df.drop(columns = y_list)\n",
    "\n",
    "    X_train = Xs.iloc[:int(np.round(Xs.shape[0]*perc1)),:]\n",
    "    y_train = ys.iloc[:int(np.round(Xs.shape[0]*perc1)),:]\n",
    "    X_val = Xs.iloc[int(np.round(Xs.shape[0]*perc1)):int(np.round(Xs.shape[0]*perc2)),:]\n",
    "    y_val = ys.iloc[int(np.round(Xs.shape[0]*perc1)):int(np.round(Xs.shape[0]*perc2)),:]\n",
    "    X_test = Xs.iloc[int(np.round(Xs.shape[0]*perc2)):,:]\n",
    "    y_test = ys.iloc[int(np.round(Xs.shape[0]*perc2)):,:]\n",
    "\n",
    "    return X_train, y_train, X_val, y_val, X_test, y_test"
   ]
  },
  {
   "cell_type": "code",
   "execution_count": null,
   "metadata": {},
   "outputs": [],
   "source": [
    "X_train, y_train, X_val, y_val, X_test, y_test = train_test_split(total_df, 0.85, 0.90)"
   ]
  },
  {
   "cell_type": "code",
   "execution_count": null,
   "metadata": {},
   "outputs": [],
   "source": [
    "X_train_cols= X_train.columns"
   ]
  },
  {
   "cell_type": "code",
   "execution_count": null,
   "metadata": {},
   "outputs": [
    {
     "name": "stdout",
     "output_type": "stream",
     "text": [
      "           cog   sog  rot  heading  navstat  latitude  longitude  \\\n",
      "0        128.1  13.9    2      130        0  39.24893   14.84582   \n",
      "1        333.1   1.8    0      196        0 -26.30243  153.29050   \n",
      "2        201.7   0.0    0       77        5 -27.44781  153.09581   \n",
      "3        313.0  17.4    0      314        0  11.77978  101.23957   \n",
      "4        338.8  16.4  -10      338        0  36.79964   21.58398   \n",
      "...        ...   ...  ...      ...      ...       ...        ...   \n",
      "1292377   24.1  13.5    0       25        0  54.51090   12.27081   \n",
      "1292378  177.6  13.3    0      182        0  54.79259   10.86377   \n",
      "1292379  302.5   0.0    0      131        5  55.85553   12.83279   \n",
      "1292380  316.0   9.0    0      316        0  36.91642  -75.90893   \n",
      "1292381  144.0  18.4    0      142        0 -20.11615    5.84657   \n",
      "\n",
      "         portLongitude  portLatitude  time_diff  UN_LOCODE_num  ISO_num  \n",
      "0            15.904444     38.456667    22461.0            317       38  \n",
      "1           153.169444    -27.382500    83649.0             47       17  \n",
      "2           153.169444    -27.382500    32400.0             47       17  \n",
      "3           101.300000     12.650000   224512.0             66       27  \n",
      "4            20.900000     37.783000   399759.0            325       23  \n",
      "...                ...           ...        ...            ...      ...  \n",
      "1292377      12.118611     54.152500   296480.0            546       25  \n",
      "1292378      10.869167     53.952222   277246.0            541       25  \n",
      "1292379      12.690000     56.033333   152280.0            461       54  \n",
      "1292380     -76.297778     36.901944    51580.0            128       16  \n",
      "1292381      13.570833    -12.336944     7004.0            302       48  \n",
      "\n",
      "[1292382 rows x 12 columns]\n",
      "<xgboost.core.DMatrix object at 0x79a2177bcb00>\n",
      "[0]\tvalidation-rmse:3.41364\n",
      "[1]\tvalidation-rmse:2.84938\n",
      "[2]\tvalidation-rmse:2.59108\n",
      "[3]\tvalidation-rmse:2.50716\n",
      "[4]\tvalidation-rmse:2.38597\n",
      "[5]\tvalidation-rmse:2.27983\n",
      "[6]\tvalidation-rmse:2.16111\n",
      "[7]\tvalidation-rmse:2.07200\n",
      "[8]\tvalidation-rmse:1.98467\n",
      "[9]\tvalidation-rmse:1.90930\n",
      "[10]\tvalidation-rmse:1.84675\n",
      "[11]\tvalidation-rmse:1.78116\n",
      "[12]\tvalidation-rmse:1.70552\n",
      "[13]\tvalidation-rmse:1.64569\n",
      "[14]\tvalidation-rmse:1.59799\n",
      "[15]\tvalidation-rmse:1.54744\n",
      "[16]\tvalidation-rmse:1.49915\n",
      "[17]\tvalidation-rmse:1.45350\n",
      "[18]\tvalidation-rmse:1.40963\n",
      "[19]\tvalidation-rmse:1.37684\n",
      "[20]\tvalidation-rmse:1.33962\n",
      "[21]\tvalidation-rmse:1.30439\n",
      "[22]\tvalidation-rmse:1.27138\n",
      "[23]\tvalidation-rmse:1.24143\n",
      "[24]\tvalidation-rmse:1.21051\n",
      "[25]\tvalidation-rmse:1.18538\n",
      "[26]\tvalidation-rmse:1.16016\n",
      "[27]\tvalidation-rmse:1.13512\n",
      "[28]\tvalidation-rmse:1.11249\n",
      "[29]\tvalidation-rmse:1.09250\n"
     ]
    }
   ],
   "source": [
    "\n",
    "dtrain = xgb.DMatrix(X_train, label=y_train)\n",
    "dval = xgb.DMatrix(X_val, label=y_val)\n",
    "dtest_X = xgb.DMatrix(X_test)\n",
    "\n",
    "params = {\"objective\": \"reg:squarederror\",\n",
    "            \"max_depth\": 10, #7\n",
    "            \"booster\": \"gbtree\",\n",
    "            \"tree-method\": \"gpu_hist\",\n",
    "            \"colsample_bynode\": 0.5, #0.4\n",
    "            \"num_parallel_tree\": 30, #50\n",
    "            \"subsample\": 0.7, #0.6\n",
    "            \"seed\": 42,\n",
    "            \"learning_rate\": 1,\n",
    "            #\"n_estimators\": 100,\n",
    "            #\"reg_alpha\": 0.1,\n",
    "            #\"reg_lambda\": 0.1,\n",
    "            #\"n_jobs\": -1,\n",
    "            \"verbosity\": 1\n",
    "            }\n",
    "\n",
    "#Subsample was 0.8, num-parallel tree was 100, colsample-bynode was 0.5 and max-depth was 5. Before tuning. \n",
    "\n",
    "#After first round of tuning we got sumbsample was 0.6, num-parallel tree was 50, colsample-bynode was 0.4 and max-depth was 7. Before tuning. \n",
    "\n",
    "num_boost_round = 30\n",
    "\n",
    "#Tried 50, but that stagnated quickly. So reducing again to 30.  \n",
    "\n",
    "\n",
    "early_stopping_rounds = 3\n",
    "\n",
    "print(dtrain)\n",
    "\n",
    "model = xgb.train(params, dtrain, num_boost_round, evals=[(dval, \"validation\")], \n",
    "                  early_stopping_rounds=early_stopping_rounds, verbose_eval=True)\n",
    "\n",
    "\n",
    "preds = model.predict(dtest_X)"
   ]
  },
  {
   "cell_type": "code",
   "execution_count": null,
   "metadata": {},
   "outputs": [],
   "source": [
    "def calculate_time_diff_with_last_rows(test_df, last_rows):\n",
    "    \n",
    "    merged_df = pd.merge(\n",
    "        test_df[[\"ID\", \"vesselId\", \"time\"]],\n",
    "        last_rows,\n",
    "        on='vesselId',\n",
    "        suffixes=('', '_last')\n",
    "    )\n",
    "    print(merged_df.columns)\n",
    "    \n",
    "    merged_df['time_diff'] = (merged_df['time'] - merged_df['time_last']).dt.total_seconds()\n",
    "    \n",
    "    merged_df = merged_df.drop(columns=[ 'time_last'])\n",
    "    \n",
    "    \n",
    "    return merged_df"
   ]
  },
  {
   "cell_type": "code",
   "execution_count": null,
   "metadata": {},
   "outputs": [],
   "source": [
    "test_df = parser.retrieve_test_data()"
   ]
  },
  {
   "cell_type": "code",
   "execution_count": null,
   "metadata": {},
   "outputs": [
    {
     "name": "stdout",
     "output_type": "stream",
     "text": [
      "   ID                  vesselId                time  scaling_factor\n",
      "0   0  61e9f3aeb937134a3c4bfe3d 2024-05-08 00:03:16             0.3\n",
      "1   1  61e9f473b937134a3c4c02df 2024-05-08 00:06:17             0.3\n",
      "2   2  61e9f469b937134a3c4c029b 2024-05-08 00:10:02             0.3\n",
      "3   3  61e9f45bb937134a3c4c0221 2024-05-08 00:10:34             0.3\n",
      "4   4  61e9f38eb937134a3c4bfd8d 2024-05-08 00:12:27             0.3\n"
     ]
    }
   ],
   "source": [
    "print(test_df.head())"
   ]
  },
  {
   "cell_type": "code",
   "execution_count": null,
   "metadata": {},
   "outputs": [
    {
     "data": {
      "text/plain": [
       "\"\\nlast_rows =last_rows[['time', 'cog', 'sog', 'rot', 'heading', 'navstat', 'latitude',\\n       'longitude', 'vesselId', 'portId', 'etaParsed', 'UN_LOCODE', 'ISO',\\n       'portLongitude', 'portLatitude', \\n       #'shippingLineId', 'CEU', 'DWT', 'GT',\\n       #'NT', \\n       'vesselType', \\n       #'breadth', 'depth', 'draft', 'enginePower',\\n       #'freshWater', 'fuel', 'homePort', 'length', 'maxHeight', 'maxSpeed',\\n       #'maxWidth', 'rampCapacity', 'yearBuilt\\n]]\""
      ]
     },
     "execution_count": 22,
     "metadata": {},
     "output_type": "execute_result"
    }
   ],
   "source": [
    "#print(last_rows.columns)\n",
    "\"\"\"\n",
    "last_rows =last_rows[['time', 'cog', 'sog', 'rot', 'heading', 'navstat', 'latitude',\n",
    "       'longitude', 'vesselId', 'portId', 'etaParsed', 'UN_LOCODE', 'ISO',\n",
    "       'portLongitude', 'portLatitude', \n",
    "       #'shippingLineId', 'CEU', 'DWT', 'GT',\n",
    "       #'NT', \n",
    "       'vesselType', \n",
    "       #'breadth', 'depth', 'draft', 'enginePower',\n",
    "       #'freshWater', 'fuel', 'homePort', 'length', 'maxHeight', 'maxSpeed',\n",
    "       #'maxWidth', 'rampCapacity', 'yearBuilt\n",
    "]]\"\"\"\n",
    "\n",
    "\n"
   ]
  },
  {
   "cell_type": "code",
   "execution_count": null,
   "metadata": {},
   "outputs": [],
   "source": [
    "def split_dataframe(df):\n",
    "    # Generate a unique ID for each row\n",
    "    df['ID'] = range(1, len(df) + 1)\n",
    "    \n",
    "    # Create the first DataFrame with ID, predicted_latitude, and predicted_longitude\n",
    "    df_predicted = df[['ID', 'latitude', 'longitude']].rename(columns={'latitude': 'predicted_latitude', 'longitude': 'predicted_longitude'})\n",
    "    \n",
    "    # Create the second DataFrame with ID, time, and vesselId\n",
    "    df_info = df[['ID', 'time', 'vesselId']]\n",
    "    \n",
    "    return df_predicted, df_info"
   ]
  },
  {
   "cell_type": "code",
   "execution_count": null,
   "metadata": {},
   "outputs": [
    {
     "name": "stdout",
     "output_type": "stream",
     "text": [
      "Index(['ID', 'vesselId', 'time', 'time_last', 'cog', 'sog', 'rot', 'heading',\n",
      "       'navstat', 'latitude', 'longitude', 'portId', 'etaParsed', 'UN_LOCODE',\n",
      "       'ISO', 'portLongitude', 'portLatitude'],\n",
      "      dtype='object')\n"
     ]
    }
   ],
   "source": [
    "test_df=calculate_time_diff_with_last_rows(test_df,last_rows)"
   ]
  },
  {
   "cell_type": "code",
   "execution_count": null,
   "metadata": {},
   "outputs": [
    {
     "name": "stdout",
     "output_type": "stream",
     "text": [
      "Index(['ID', 'vesselId', 'time', 'cog', 'sog', 'rot', 'heading', 'navstat',\n",
      "       'latitude', 'longitude', 'portId', 'etaParsed', 'UN_LOCODE', 'ISO',\n",
      "       'portLongitude', 'portLatitude', 'time_diff'],\n",
      "      dtype='object')\n"
     ]
    }
   ],
   "source": [
    "print(test_df.columns)"
   ]
  },
  {
   "cell_type": "code",
   "execution_count": null,
   "metadata": {},
   "outputs": [],
   "source": [
    "feature_engineer = FeatureEngineer(test_df)\n",
    "feature_engineer.apply_features(feature_engineering_functions)\n",
    "test_df = feature_engineer.get_dataframe()\n",
    "\n",
    "test_df.set_index(\"time\", inplace=True)\n",
    "test_df = remove_non_numeric_columns(test_df)\n",
    "\n",
    "\n",
    "\n"
   ]
  },
  {
   "cell_type": "code",
   "execution_count": null,
   "metadata": {},
   "outputs": [],
   "source": [
    "#test_df.drop(columns=\"vesselType\")"
   ]
  },
  {
   "cell_type": "code",
   "execution_count": null,
   "metadata": {},
   "outputs": [],
   "source": [
    "def make_predictions(model, input_df):\n",
    "    # Extract the features for prediction, excluding the 'ID' column\n",
    "    features_df = input_df.drop(columns=['ID'])\n",
    "    features_df = features_df[X_train_cols]\n",
    "    # Generate predictions using the model\n",
    "    predictions = model.predict(xgb.DMatrix(features_df))\n",
    "    \n",
    "    # Create a DataFrame with the predictions, renaming columns as required\n",
    "    predictions_df = pd.DataFrame(predictions, columns=['next_latitude', 'next_longitude'])\n",
    "    predictions_df = predictions_df.rename(columns={'next_latitude': 'latitude', 'next_longitude': 'longitude'})\n",
    "    \n",
    "    # Combine the 'ID' column with the predictions DataFrame\n",
    "    result_df = pd.concat([input_df['ID'].reset_index(drop=True), predictions_df], axis=1)\n",
    "    \n",
    "    return result_df"
   ]
  },
  {
   "cell_type": "code",
   "execution_count": null,
   "metadata": {},
   "outputs": [],
   "source": [
    "result_df = make_predictions(model, test_df)\n",
    "result_fin = pd.DataFrame()\n",
    "result_fin[[\"ID\",\"longitude_predicted\",\"latitude_predicted\"]]=result_df[[\"ID\",\"longitude\",\"latitude\"]]"
   ]
  },
  {
   "cell_type": "code",
   "execution_count": null,
   "metadata": {},
   "outputs": [],
   "source": [
    "result_fin.to_csv(RESOURCE_FOLDER+\"/result_simple.csv\", index=False)"
   ]
  },
  {
   "cell_type": "code",
   "execution_count": null,
   "metadata": {},
   "outputs": [
    {
     "data": {
      "text/plain": [
       "<Axes: title={'center': 'Feature importance'}, xlabel='F score', ylabel='Features'>"
      ]
     },
     "execution_count": 30,
     "metadata": {},
     "output_type": "execute_result"
    },
    {
     "data": {
      "image/png": "[encoded data removed]",
      "text/plain": [
       "<Figure size 640x480 with 1 Axes>"
      ]
     },
     "metadata": {},
     "output_type": "display_data"
    }
   ],
   "source": [
    "plot_importance(model, height=0.9)"
   ]
  },
  {
   "cell_type": "markdown",
   "metadata": {},
   "source": [
    "Mde 1\n",
    "With stuff + prt crdinates"
   ]
  },
  {
   "cell_type": "markdown",
   "metadata": {},
   "source": [
    "Mde 2\n",
    "Vessetype nt imprtant "
   ]
  },
  {
   "cell_type": "markdown",
   "metadata": {},
   "source": [
    "Mde 3\n",
    "Away with Minutes, hrs and day with tuned hyperparams"
   ]
  }
 ],
 "metadata": {
  "kernelspec": {
   "display_name": "Python 3",
   "language": "python",
   "name": "python3"
  },
  "language_info": {
   "codemirror_mode": {
    "name": "ipython",
    "version": 3
   },
   "file_extension": ".py",
   "mimetype": "text/x-python",
   "name": "python",
   "nbconvert_exporter": "python",
   "pygments_lexer": "ipython3",
   "version": "3.11.3"
  }
 },
 "nbformat": 4,
 "nbformat_minor": 2
}
