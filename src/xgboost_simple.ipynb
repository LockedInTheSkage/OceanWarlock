{
 "cells": [
  {
   "cell_type": "code",
   "execution_count": 44,
   "metadata": {},
   "outputs": [
    {
     "name": "stdout",
     "output_type": "stream",
     "text": [
      "The autoreload extension is already loaded. To reload it, use:\n",
      "  %reload_ext autoreload\n"
     ]
    }
   ],
   "source": [
    "%load_ext autoreload\n",
    "%autoreload 2"
   ]
  },
  {
   "cell_type": "code",
   "execution_count": 45,
   "metadata": {},
   "outputs": [],
   "source": [
    "import pandas as pd\n",
    "import numpy as np\n",
    "import re\n",
    "from datetime import timedelta\n",
    "from collections import deque\n",
    "import xgboost as xgb\n",
    "from xgboost import plot_importance, plot_tree\n",
    "from sklearn.metrics import mean_absolute_error\n",
    "from sklearn.metrics import r2_score\n",
    "from warnings import simplefilter\n",
    "simplefilter(action=\"ignore\", category=pd.errors.PerformanceWarning)\n",
    "simplefilter(action=\"ignore\", category=FutureWarning)\n",
    "simplefilter(action=\"ignore\", category=UserWarning)\n",
    "from sklearn.model_selection import RandomizedSearchCV, TimeSeriesSplit\n",
    "\n",
    "import loadBar\n",
    "from csv_parser import CSVParser\n",
    "from globals import RESOURCE_FOLDER, STEPSIZES, OUTPUT_WINDOW, INPUT_WINDOW, OUTPUT_FORECAST, DELETEABLE_COLUMNS, ONE_HOT_COLUMNS\n",
    "from feature_engineer import FeatureEngineer\n",
    "from exploring_data_functions import *\n",
    "\n"
   ]
  },
  {
   "cell_type": "code",
   "execution_count": 46,
   "metadata": {},
   "outputs": [],
   "source": [
    "parser = CSVParser(RESOURCE_FOLDER)\n",
    "total_df = parser.retrieve_training_data()"
   ]
  },
  {
   "cell_type": "code",
   "execution_count": 47,
   "metadata": {},
   "outputs": [],
   "source": [
    "total_df[\"time\"] = pd.to_datetime(total_df['time'])"
   ]
  },
  {
   "cell_type": "code",
   "execution_count": 48,
   "metadata": {},
   "outputs": [],
   "source": [
    "def map_indexes_within_timewindow(df, time_col, timewindow):\n",
    "\n",
    "    index_map = {}    \n",
    "\n",
    "    within_window = deque()\n",
    "    \n",
    "\n",
    "    for current_idx in range(len((df))):\n",
    "        current_row = df.iloc[current_idx]\n",
    "        current_time = current_row[time_col]\n",
    "        \n",
    "\n",
    "        while within_window and (current_time - within_window[0][1] > timewindow):\n",
    "            index_map[within_window[0][0]] = within_window[-1][0]\n",
    "            within_window.popleft()\n",
    "        \n",
    "        if current_idx == df.index[-1]:\n",
    "            for idx, _ in within_window:\n",
    "                index_map[idx] = current_idx\n",
    "        \n",
    "\n",
    "        within_window.append((current_idx, current_time))\n",
    "    \n",
    "    return index_map"
   ]
  },
  {
   "cell_type": "code",
   "execution_count": 49,
   "metadata": {},
   "outputs": [],
   "source": [
    "def calculate_time_diffs_within_window(df, time_deltas=[]):\n",
    "    result_list= []\n",
    "    vessel_dfs = df.groupby('vesselId')\n",
    "    j=0\n",
    "    for _, vessel_df in vessel_dfs:\n",
    "        j+=1\n",
    "        loadBar.load_bar(len(vessel_dfs), j)\n",
    "        \n",
    "        vessel_df = vessel_df.sort_values(by='time')\n",
    "        groups = vessel_df.groupby(pd.Grouper(key=\"time\", freq='5D'))\n",
    "        \n",
    "        for _, group in groups:\n",
    "                group_deltas=time_deltas.copy()\n",
    "                if len(group) < 2:\n",
    "                    continue\n",
    "                while group_deltas and group.iloc[-1]['time']-group.iloc[0]['time'] < group_deltas[0]:\n",
    "                    group_deltas.pop(0)\n",
    "                feature_rows=[group.iloc[0]]\n",
    "\n",
    "                for i in range(len(group)):\n",
    "                    future_row = group.iloc[i]\n",
    "\n",
    "                    for current_row in feature_rows:\n",
    "                        new_row = current_row.copy()\n",
    "                        new_row['next_latitude'] = future_row['latitude']\n",
    "                        new_row['next_longitude'] = future_row['longitude']\n",
    "                        new_row['time_diff'] = (future_row['time'] - current_row['time']).total_seconds()\n",
    "                        result_list.append(new_row)\n",
    "\n",
    "                    if group_deltas:\n",
    "                        if group.iloc[-1]['time']-future_row['time'] < group_deltas[0]:\n",
    "                            group_deltas.pop(0)\n",
    "                            feature_rows.append(future_row)\n",
    "                        \n",
    "    print(\"Concating\")\n",
    "    result_df = pd.DataFrame(result_list)\n",
    "\n",
    "    last_rows = df.groupby('vesselId').tail(1)\n",
    "\n",
    "    last_rows = last_rows.reset_index(drop=True)\n",
    "    result_df\n",
    "    \n",
    "    return result_df, last_rows"
   ]
  },
  {
   "cell_type": "code",
   "execution_count": 50,
   "metadata": {},
   "outputs": [
    {
     "name": "stdout",
     "output_type": "stream",
     "text": [
      "                       time    cog   sog  rot  heading  navstat  latitude  \\\n",
      "0       2024-01-01 00:00:25  284.0   0.7    0       88        0 -34.74370   \n",
      "1       2024-01-01 00:00:36  109.6   0.0   -6      347        1   8.89440   \n",
      "2       2024-01-01 00:01:45  111.0  11.0    0      112        0  39.19065   \n",
      "3       2024-01-01 00:03:11   96.4   0.0    0      142        1 -34.41189   \n",
      "4       2024-01-01 00:03:51  214.0  19.7    0      215        0  35.88379   \n",
      "...                     ...    ...   ...  ...      ...      ...       ...   \n",
      "1520445 2024-05-07 23:59:07  359.1  13.4    0        1        0  52.19131   \n",
      "1520446 2024-05-07 23:59:08   12.3  17.1    0       13        0  38.96142   \n",
      "1520447 2024-05-07 23:59:08  269.8  14.9   -1      270        0  49.71372   \n",
      "1520448 2024-05-07 23:59:08    8.0  18.7    0        6        0  38.27895   \n",
      "1520449 2024-05-07 23:59:08  336.0  14.3    5      337        0  38.98635   \n",
      "\n",
      "         longitude                   vesselId                    portId  ...  \\\n",
      "0        -57.85130   61e9f3a8b937134a3c4bfdf7  61d371c43aeaecc07011a37f  ...   \n",
      "1        -79.47939   61e9f3d4b937134a3c4bff1f  634c4de270937fc01c3a7689  ...   \n",
      "2        -76.47567   61e9f436b937134a3c4c0131  61d3847bb7b7526e1adf3d19  ...   \n",
      "3        151.02067   61e9f3b4b937134a3c4bfe77  61d36f770a1807568ff9a126  ...   \n",
      "4         -5.91636   61e9f41bb937134a3c4c0087  634c4de270937fc01c3a74f3  ...   \n",
      "...            ...                        ...                       ...  ...   \n",
      "1520445   -5.82223  clh6aqawa0002gh0zypfa5dut  634c4de270937fc01c3a7417  ...   \n",
      "1520446  -12.00502   61e9f3aeb937134a3c4bfe43  634c4de270937fc01c3a76a1  ...   \n",
      "1520447   -5.22042   61e9f43db937134a3c4c0169  634c4de270937fc01c3a787b  ...   \n",
      "1520448   10.78280   61e9f469b937134a3c4c029b  61d3781293c6feb83e5eb73b  ...   \n",
      "1520449  -75.13275   62080cff66fc0a8e43c6123a  61d38528b7b7526e1adf3e6f  ...   \n",
      "\n",
      "            GT       NT breadth  enginePower  freshWater     fuel  \\\n",
      "0        57718      NaN   32.00          0.0         NaN      NaN   \n",
      "1        59583  19091.0   32.26      15100.0      663.00  2742.00   \n",
      "2        59217      NaN   32.00          0.0         NaN      NaN   \n",
      "3        55598      NaN   32.00          0.0         NaN      NaN   \n",
      "4        58939  18159.0   32.20      15130.0      331.00  2951.00   \n",
      "...        ...      ...     ...          ...         ...      ...   \n",
      "1520445  21005      NaN   25.00          NaN         NaN      NaN   \n",
      "1520446  61328      NaN   32.00          0.0         NaN      NaN   \n",
      "1520447  72700  22257.0   38.00      13200.0      437.84  2994.51   \n",
      "1520448  25995      NaN   27.00          0.0         NaN      NaN   \n",
      "1520449  59454      NaN   32.00          0.0         NaN      NaN   \n",
      "\n",
      "            homePort  length  maxHeight  maxSpeed  \n",
      "0             NASSAU  199.00        NaN       NaN  \n",
      "1           Monrovia  199.97        NaN      22.5  \n",
      "2                NaN  199.00        NaN       NaN  \n",
      "3                NaN  199.00        NaN       NaN  \n",
      "4             Panama  199.95        NaN      22.4  \n",
      "...              ...     ...        ...       ...  \n",
      "1520445          NaN  182.00        NaN       NaN  \n",
      "1520446  SOUTHAMPTON  199.00        NaN       NaN  \n",
      "1520447     Monrovia  199.96        NaN      21.1  \n",
      "1520448      PALERMO  186.00        NaN       NaN  \n",
      "1520449       PANAMA  200.00        NaN       NaN  \n",
      "\n",
      "[1520450 rows x 28 columns]\n"
     ]
    }
   ],
   "source": [
    "print(total_df)"
   ]
  },
  {
   "cell_type": "code",
   "execution_count": 51,
   "metadata": {},
   "outputs": [
    {
     "name": "stdout",
     "output_type": "stream",
     "text": [
      "[--------------------] 1.01% complete\r"
     ]
    },
    {
     "ename": "KeyboardInterrupt",
     "evalue": "",
     "output_type": "error",
     "traceback": [
      "\u001b[1;31m---------------------------------------------------------------------------\u001b[0m",
      "\u001b[1;31mKeyError\u001b[0m                                  Traceback (most recent call last)",
      "File \u001b[1;32mc:\\Users\\Bruker\\AppData\\Local\\Programs\\Python\\Python311\\Lib\\site-packages\\pandas\\core\\indexes\\base.py:3805\u001b[0m, in \u001b[0;36mIndex.get_loc\u001b[1;34m(self, key)\u001b[0m\n\u001b[0;32m   3804\u001b[0m \u001b[38;5;28;01mtry\u001b[39;00m:\n\u001b[1;32m-> 3805\u001b[0m     \u001b[38;5;28;01mreturn\u001b[39;00m \u001b[38;5;28;43mself\u001b[39;49m\u001b[38;5;241;43m.\u001b[39;49m\u001b[43m_engine\u001b[49m\u001b[38;5;241;43m.\u001b[39;49m\u001b[43mget_loc\u001b[49m\u001b[43m(\u001b[49m\u001b[43mcasted_key\u001b[49m\u001b[43m)\u001b[49m\n\u001b[0;32m   3806\u001b[0m \u001b[38;5;28;01mexcept\u001b[39;00m \u001b[38;5;167;01mKeyError\u001b[39;00m \u001b[38;5;28;01mas\u001b[39;00m err:\n",
      "File \u001b[1;32mindex.pyx:167\u001b[0m, in \u001b[0;36mpandas._libs.index.IndexEngine.get_loc\u001b[1;34m()\u001b[0m\n",
      "File \u001b[1;32mindex.pyx:196\u001b[0m, in \u001b[0;36mpandas._libs.index.IndexEngine.get_loc\u001b[1;34m()\u001b[0m\n",
      "File \u001b[1;32mpandas\\\\_libs\\\\hashtable_class_helper.pxi:7081\u001b[0m, in \u001b[0;36mpandas._libs.hashtable.PyObjectHashTable.get_item\u001b[1;34m()\u001b[0m\n",
      "File \u001b[1;32mpandas\\\\_libs\\\\hashtable_class_helper.pxi:7089\u001b[0m, in \u001b[0;36mpandas._libs.hashtable.PyObjectHashTable.get_item\u001b[1;34m()\u001b[0m\n",
      "\u001b[1;31mKeyError\u001b[0m: 'time_diff'",
      "\nThe above exception was the direct cause of the following exception:\n",
      "\u001b[1;31mKeyError\u001b[0m                                  Traceback (most recent call last)",
      "File \u001b[1;32mc:\\Users\\Bruker\\AppData\\Local\\Programs\\Python\\Python311\\Lib\\site-packages\\pandas\\core\\series.py:1298\u001b[0m, in \u001b[0;36mSeries.__setitem__\u001b[1;34m(self, key, value)\u001b[0m\n\u001b[0;32m   1297\u001b[0m \u001b[38;5;28;01mtry\u001b[39;00m:\n\u001b[1;32m-> 1298\u001b[0m     \u001b[38;5;28;43mself\u001b[39;49m\u001b[38;5;241;43m.\u001b[39;49m\u001b[43m_set_with_engine\u001b[49m\u001b[43m(\u001b[49m\u001b[43mkey\u001b[49m\u001b[43m,\u001b[49m\u001b[43m \u001b[49m\u001b[43mvalue\u001b[49m\u001b[43m,\u001b[49m\u001b[43m \u001b[49m\u001b[43mwarn\u001b[49m\u001b[38;5;241;43m=\u001b[39;49m\u001b[43mwarn\u001b[49m\u001b[43m)\u001b[49m\n\u001b[0;32m   1299\u001b[0m \u001b[38;5;28;01mexcept\u001b[39;00m \u001b[38;5;167;01mKeyError\u001b[39;00m:\n\u001b[0;32m   1300\u001b[0m     \u001b[38;5;66;03m# We have a scalar (or for MultiIndex or object-dtype, scalar-like)\u001b[39;00m\n\u001b[0;32m   1301\u001b[0m     \u001b[38;5;66;03m#  key that is not present in self.index.\u001b[39;00m\n",
      "File \u001b[1;32mc:\\Users\\Bruker\\AppData\\Local\\Programs\\Python\\Python311\\Lib\\site-packages\\pandas\\core\\series.py:1370\u001b[0m, in \u001b[0;36mSeries._set_with_engine\u001b[1;34m(self, key, value, warn)\u001b[0m\n\u001b[0;32m   1369\u001b[0m \u001b[38;5;28;01mdef\u001b[39;00m \u001b[38;5;21m_set_with_engine\u001b[39m(\u001b[38;5;28mself\u001b[39m, key, value, warn: \u001b[38;5;28mbool\u001b[39m \u001b[38;5;241m=\u001b[39m \u001b[38;5;28;01mTrue\u001b[39;00m) \u001b[38;5;241m-\u001b[39m\u001b[38;5;241m>\u001b[39m \u001b[38;5;28;01mNone\u001b[39;00m:\n\u001b[1;32m-> 1370\u001b[0m     loc \u001b[38;5;241m=\u001b[39m \u001b[38;5;28;43mself\u001b[39;49m\u001b[38;5;241;43m.\u001b[39;49m\u001b[43mindex\u001b[49m\u001b[38;5;241;43m.\u001b[39;49m\u001b[43mget_loc\u001b[49m\u001b[43m(\u001b[49m\u001b[43mkey\u001b[49m\u001b[43m)\u001b[49m\n\u001b[0;32m   1372\u001b[0m     \u001b[38;5;66;03m# this is equivalent to self._values[key] = value\u001b[39;00m\n",
      "File \u001b[1;32mc:\\Users\\Bruker\\AppData\\Local\\Programs\\Python\\Python311\\Lib\\site-packages\\pandas\\core\\indexes\\base.py:3812\u001b[0m, in \u001b[0;36mIndex.get_loc\u001b[1;34m(self, key)\u001b[0m\n\u001b[0;32m   3811\u001b[0m         \u001b[38;5;28;01mraise\u001b[39;00m InvalidIndexError(key)\n\u001b[1;32m-> 3812\u001b[0m     \u001b[38;5;28;01mraise\u001b[39;00m \u001b[38;5;167;01mKeyError\u001b[39;00m(key) \u001b[38;5;28;01mfrom\u001b[39;00m \u001b[38;5;21;01merr\u001b[39;00m\n\u001b[0;32m   3813\u001b[0m \u001b[38;5;28;01mexcept\u001b[39;00m \u001b[38;5;167;01mTypeError\u001b[39;00m:\n\u001b[0;32m   3814\u001b[0m     \u001b[38;5;66;03m# If we have a listlike key, _check_indexing_error will raise\u001b[39;00m\n\u001b[0;32m   3815\u001b[0m     \u001b[38;5;66;03m#  InvalidIndexError. Otherwise we fall through and re-raise\u001b[39;00m\n\u001b[0;32m   3816\u001b[0m     \u001b[38;5;66;03m#  the TypeError.\u001b[39;00m\n",
      "\u001b[1;31mKeyError\u001b[0m: 'time_diff'",
      "\nDuring handling of the above exception, another exception occurred:\n",
      "\u001b[1;31mKeyboardInterrupt\u001b[0m                         Traceback (most recent call last)",
      "Cell \u001b[1;32mIn[51], line 2\u001b[0m\n\u001b[0;32m      1\u001b[0m timedeltas\u001b[38;5;241m=\u001b[39m[timedelta(days\u001b[38;5;241m=\u001b[39m\u001b[38;5;241m3\u001b[39m),timedelta(days\u001b[38;5;241m=\u001b[39m\u001b[38;5;241m1\u001b[39m)]\n\u001b[1;32m----> 2\u001b[0m total_df, last_rows \u001b[38;5;241m=\u001b[39m \u001b[43mcalculate_time_diffs_within_window\u001b[49m\u001b[43m(\u001b[49m\u001b[43mtotal_df\u001b[49m\u001b[43m,\u001b[49m\u001b[43m \u001b[49m\u001b[43mtimedeltas\u001b[49m\u001b[43m)\u001b[49m \u001b[38;5;66;03m#1 min 14 sec on no delta, 2 min 30 sec on 1 and 3 day delta\u001b[39;00m\n",
      "Cell \u001b[1;32mIn[49], line 27\u001b[0m, in \u001b[0;36mcalculate_time_diffs_within_window\u001b[1;34m(df, time_deltas)\u001b[0m\n\u001b[0;32m     25\u001b[0m     new_row[\u001b[38;5;124m'\u001b[39m\u001b[38;5;124mnext_latitude\u001b[39m\u001b[38;5;124m'\u001b[39m] \u001b[38;5;241m=\u001b[39m future_row[\u001b[38;5;124m'\u001b[39m\u001b[38;5;124mlatitude\u001b[39m\u001b[38;5;124m'\u001b[39m]\n\u001b[0;32m     26\u001b[0m     new_row[\u001b[38;5;124m'\u001b[39m\u001b[38;5;124mnext_longitude\u001b[39m\u001b[38;5;124m'\u001b[39m] \u001b[38;5;241m=\u001b[39m future_row[\u001b[38;5;124m'\u001b[39m\u001b[38;5;124mlongitude\u001b[39m\u001b[38;5;124m'\u001b[39m]\n\u001b[1;32m---> 27\u001b[0m     \u001b[43mnew_row\u001b[49m\u001b[43m[\u001b[49m\u001b[38;5;124;43m'\u001b[39;49m\u001b[38;5;124;43mtime_diff\u001b[39;49m\u001b[38;5;124;43m'\u001b[39;49m\u001b[43m]\u001b[49m \u001b[38;5;241m=\u001b[39m (future_row[\u001b[38;5;124m'\u001b[39m\u001b[38;5;124mtime\u001b[39m\u001b[38;5;124m'\u001b[39m] \u001b[38;5;241m-\u001b[39m current_row[\u001b[38;5;124m'\u001b[39m\u001b[38;5;124mtime\u001b[39m\u001b[38;5;124m'\u001b[39m])\u001b[38;5;241m.\u001b[39mtotal_seconds()\n\u001b[0;32m     28\u001b[0m     result_list\u001b[38;5;241m.\u001b[39mappend(new_row)\n\u001b[0;32m     30\u001b[0m \u001b[38;5;28;01mif\u001b[39;00m group_deltas:\n",
      "File \u001b[1;32mc:\\Users\\Bruker\\AppData\\Local\\Programs\\Python\\Python311\\Lib\\site-packages\\pandas\\core\\series.py:1322\u001b[0m, in \u001b[0;36mSeries.__setitem__\u001b[1;34m(self, key, value)\u001b[0m\n\u001b[0;32m   1319\u001b[0m             \u001b[38;5;28mself\u001b[39m\u001b[38;5;241m.\u001b[39m_set_values(key, value)\n\u001b[0;32m   1320\u001b[0m     \u001b[38;5;28;01melse\u001b[39;00m:\n\u001b[0;32m   1321\u001b[0m         \u001b[38;5;66;03m# GH#12862 adding a new key to the Series\u001b[39;00m\n\u001b[1;32m-> 1322\u001b[0m         \u001b[38;5;28;43mself\u001b[39;49m\u001b[38;5;241;43m.\u001b[39;49m\u001b[43mloc\u001b[49m\u001b[43m[\u001b[49m\u001b[43mkey\u001b[49m\u001b[43m]\u001b[49m \u001b[38;5;241m=\u001b[39m value\n\u001b[0;32m   1324\u001b[0m \u001b[38;5;28;01mexcept\u001b[39;00m (\u001b[38;5;167;01mTypeError\u001b[39;00m, \u001b[38;5;167;01mValueError\u001b[39;00m, LossySetitemError):\n\u001b[0;32m   1325\u001b[0m     \u001b[38;5;66;03m# The key was OK, but we cannot set the value losslessly\u001b[39;00m\n\u001b[0;32m   1326\u001b[0m     indexer \u001b[38;5;241m=\u001b[39m \u001b[38;5;28mself\u001b[39m\u001b[38;5;241m.\u001b[39mindex\u001b[38;5;241m.\u001b[39mget_loc(key)\n",
      "File \u001b[1;32mc:\\Users\\Bruker\\AppData\\Local\\Programs\\Python\\Python311\\Lib\\site-packages\\pandas\\core\\indexing.py:911\u001b[0m, in \u001b[0;36m_LocationIndexer.__setitem__\u001b[1;34m(self, key, value)\u001b[0m\n\u001b[0;32m    908\u001b[0m \u001b[38;5;28mself\u001b[39m\u001b[38;5;241m.\u001b[39m_has_valid_setitem_indexer(key)\n\u001b[0;32m    910\u001b[0m iloc \u001b[38;5;241m=\u001b[39m \u001b[38;5;28mself\u001b[39m \u001b[38;5;28;01mif\u001b[39;00m \u001b[38;5;28mself\u001b[39m\u001b[38;5;241m.\u001b[39mname \u001b[38;5;241m==\u001b[39m \u001b[38;5;124m\"\u001b[39m\u001b[38;5;124miloc\u001b[39m\u001b[38;5;124m\"\u001b[39m \u001b[38;5;28;01melse\u001b[39;00m \u001b[38;5;28mself\u001b[39m\u001b[38;5;241m.\u001b[39mobj\u001b[38;5;241m.\u001b[39miloc\n\u001b[1;32m--> 911\u001b[0m \u001b[43miloc\u001b[49m\u001b[38;5;241;43m.\u001b[39;49m\u001b[43m_setitem_with_indexer\u001b[49m\u001b[43m(\u001b[49m\u001b[43mindexer\u001b[49m\u001b[43m,\u001b[49m\u001b[43m \u001b[49m\u001b[43mvalue\u001b[49m\u001b[43m,\u001b[49m\u001b[43m \u001b[49m\u001b[38;5;28;43mself\u001b[39;49m\u001b[38;5;241;43m.\u001b[39;49m\u001b[43mname\u001b[49m\u001b[43m)\u001b[49m\n",
      "File \u001b[1;32mc:\\Users\\Bruker\\AppData\\Local\\Programs\\Python\\Python311\\Lib\\site-packages\\pandas\\core\\indexing.py:1932\u001b[0m, in \u001b[0;36m_iLocIndexer._setitem_with_indexer\u001b[1;34m(self, indexer, value, name)\u001b[0m\n\u001b[0;32m   1929\u001b[0m     indexer, missing \u001b[38;5;241m=\u001b[39m convert_missing_indexer(indexer)\n\u001b[0;32m   1931\u001b[0m     \u001b[38;5;28;01mif\u001b[39;00m missing:\n\u001b[1;32m-> 1932\u001b[0m         \u001b[38;5;28;43mself\u001b[39;49m\u001b[38;5;241;43m.\u001b[39;49m\u001b[43m_setitem_with_indexer_missing\u001b[49m\u001b[43m(\u001b[49m\u001b[43mindexer\u001b[49m\u001b[43m,\u001b[49m\u001b[43m \u001b[49m\u001b[43mvalue\u001b[49m\u001b[43m)\u001b[49m\n\u001b[0;32m   1933\u001b[0m         \u001b[38;5;28;01mreturn\u001b[39;00m\n\u001b[0;32m   1935\u001b[0m \u001b[38;5;28;01mif\u001b[39;00m name \u001b[38;5;241m==\u001b[39m \u001b[38;5;124m\"\u001b[39m\u001b[38;5;124mloc\u001b[39m\u001b[38;5;124m\"\u001b[39m:\n\u001b[0;32m   1936\u001b[0m     \u001b[38;5;66;03m# must come after setting of missing\u001b[39;00m\n",
      "File \u001b[1;32mc:\\Users\\Bruker\\AppData\\Local\\Programs\\Python\\Python311\\Lib\\site-packages\\pandas\\core\\indexing.py:2282\u001b[0m, in \u001b[0;36m_iLocIndexer._setitem_with_indexer_missing\u001b[1;34m(self, indexer, value)\u001b[0m\n\u001b[0;32m   2278\u001b[0m     \u001b[38;5;28;01mif\u001b[39;00m \u001b[38;5;28mlen\u001b[39m(\u001b[38;5;28mself\u001b[39m\u001b[38;5;241m.\u001b[39mobj\u001b[38;5;241m.\u001b[39m_values):\n\u001b[0;32m   2279\u001b[0m         \u001b[38;5;66;03m# GH#22717 handle casting compatibility that np.concatenate\u001b[39;00m\n\u001b[0;32m   2280\u001b[0m         \u001b[38;5;66;03m#  does incorrectly\u001b[39;00m\n\u001b[0;32m   2281\u001b[0m         new_values \u001b[38;5;241m=\u001b[39m concat_compat([\u001b[38;5;28mself\u001b[39m\u001b[38;5;241m.\u001b[39mobj\u001b[38;5;241m.\u001b[39m_values, new_values])\n\u001b[1;32m-> 2282\u001b[0m     \u001b[38;5;28mself\u001b[39m\u001b[38;5;241m.\u001b[39mobj\u001b[38;5;241m.\u001b[39m_mgr \u001b[38;5;241m=\u001b[39m \u001b[38;5;28;43mself\u001b[39;49m\u001b[38;5;241;43m.\u001b[39;49m\u001b[43mobj\u001b[49m\u001b[38;5;241;43m.\u001b[39;49m\u001b[43m_constructor\u001b[49m\u001b[43m(\u001b[49m\n\u001b[0;32m   2283\u001b[0m \u001b[43m        \u001b[49m\u001b[43mnew_values\u001b[49m\u001b[43m,\u001b[49m\u001b[43m \u001b[49m\u001b[43mindex\u001b[49m\u001b[38;5;241;43m=\u001b[39;49m\u001b[43mnew_index\u001b[49m\u001b[43m,\u001b[49m\u001b[43m \u001b[49m\u001b[43mname\u001b[49m\u001b[38;5;241;43m=\u001b[39;49m\u001b[38;5;28;43mself\u001b[39;49m\u001b[38;5;241;43m.\u001b[39;49m\u001b[43mobj\u001b[49m\u001b[38;5;241;43m.\u001b[39;49m\u001b[43mname\u001b[49m\n\u001b[0;32m   2284\u001b[0m \u001b[43m    \u001b[49m\u001b[43m)\u001b[49m\u001b[38;5;241m.\u001b[39m_mgr\n\u001b[0;32m   2285\u001b[0m     \u001b[38;5;28mself\u001b[39m\u001b[38;5;241m.\u001b[39mobj\u001b[38;5;241m.\u001b[39m_maybe_update_cacher(clear\u001b[38;5;241m=\u001b[39m\u001b[38;5;28;01mTrue\u001b[39;00m)\n\u001b[0;32m   2287\u001b[0m \u001b[38;5;28;01melif\u001b[39;00m \u001b[38;5;28mself\u001b[39m\u001b[38;5;241m.\u001b[39mndim \u001b[38;5;241m==\u001b[39m \u001b[38;5;241m2\u001b[39m:\n",
      "File \u001b[1;32mc:\\Users\\Bruker\\AppData\\Local\\Programs\\Python\\Python311\\Lib\\site-packages\\pandas\\core\\series.py:586\u001b[0m, in \u001b[0;36mSeries.__init__\u001b[1;34m(self, data, index, dtype, name, copy, fastpath)\u001b[0m\n\u001b[0;32m    583\u001b[0m \u001b[38;5;28;01melse\u001b[39;00m:\n\u001b[0;32m    584\u001b[0m     data \u001b[38;5;241m=\u001b[39m sanitize_array(data, index, dtype, copy)\n\u001b[1;32m--> 586\u001b[0m     manager \u001b[38;5;241m=\u001b[39m \u001b[43m_get_option\u001b[49m\u001b[43m(\u001b[49m\u001b[38;5;124;43m\"\u001b[39;49m\u001b[38;5;124;43mmode.data_manager\u001b[39;49m\u001b[38;5;124;43m\"\u001b[39;49m\u001b[43m,\u001b[49m\u001b[43m \u001b[49m\u001b[43msilent\u001b[49m\u001b[38;5;241;43m=\u001b[39;49m\u001b[38;5;28;43;01mTrue\u001b[39;49;00m\u001b[43m)\u001b[49m\n\u001b[0;32m    587\u001b[0m     \u001b[38;5;28;01mif\u001b[39;00m manager \u001b[38;5;241m==\u001b[39m \u001b[38;5;124m\"\u001b[39m\u001b[38;5;124mblock\u001b[39m\u001b[38;5;124m\"\u001b[39m:\n\u001b[0;32m    588\u001b[0m         data \u001b[38;5;241m=\u001b[39m SingleBlockManager\u001b[38;5;241m.\u001b[39mfrom_array(data, index, refs\u001b[38;5;241m=\u001b[39mrefs)\n",
      "File \u001b[1;32mc:\\Users\\Bruker\\AppData\\Local\\Programs\\Python\\Python311\\Lib\\site-packages\\pandas\\_config\\config.py:149\u001b[0m, in \u001b[0;36m_get_option\u001b[1;34m(pat, silent)\u001b[0m\n\u001b[0;32m    146\u001b[0m key \u001b[38;5;241m=\u001b[39m _get_single_key(pat, silent)\n\u001b[0;32m    148\u001b[0m \u001b[38;5;66;03m# walk the nested dict\u001b[39;00m\n\u001b[1;32m--> 149\u001b[0m root, k \u001b[38;5;241m=\u001b[39m \u001b[43m_get_root\u001b[49m\u001b[43m(\u001b[49m\u001b[43mkey\u001b[49m\u001b[43m)\u001b[49m\n\u001b[0;32m    150\u001b[0m \u001b[38;5;28;01mreturn\u001b[39;00m root[k]\n",
      "File \u001b[1;32mc:\\Users\\Bruker\\AppData\\Local\\Programs\\Python\\Python311\\Lib\\site-packages\\pandas\\_config\\config.py:639\u001b[0m, in \u001b[0;36m_get_root\u001b[1;34m(key)\u001b[0m\n\u001b[0;32m    637\u001b[0m cursor \u001b[38;5;241m=\u001b[39m _global_config\n\u001b[0;32m    638\u001b[0m \u001b[38;5;28;01mfor\u001b[39;00m p \u001b[38;5;129;01min\u001b[39;00m path[:\u001b[38;5;241m-\u001b[39m\u001b[38;5;241m1\u001b[39m]:\n\u001b[1;32m--> 639\u001b[0m     cursor \u001b[38;5;241m=\u001b[39m cursor[p]\n\u001b[0;32m    640\u001b[0m \u001b[38;5;28;01mreturn\u001b[39;00m cursor, path[\u001b[38;5;241m-\u001b[39m\u001b[38;5;241m1\u001b[39m]\n",
      "\u001b[1;31mKeyboardInterrupt\u001b[0m: "
     ]
    }
   ],
   "source": [
    "timedeltas=[timedelta(days=3),timedelta(days=1)]\n",
    "total_df, last_rows = calculate_time_diffs_within_window(total_df, timedeltas) #1 min 14 sec on no delta, 2 min 30 sec on 1 and 3 day delta"
    "total_df.to_csv(RESOURCE_FOLDER+\"/time_diff_training_data.csv\", index=False)\n",
    "last_rows .to_csv(RESOURCE_FOLDER+\"/time_diff_training_st.csv\", index=False)\n",
    "#total_df = pd.read_csv(RESOURCE_FOLDER+\"/time_diff_training_data.csv\")"
   ]
  },
  {
   "cell_type": "code",
   "execution_count": null,
   "metadata": {},
   "outputs": [
    {
     "name": "stdout",
     "output_type": "stream",
     "text": [
      "                        time    cog   sog  rot  heading  navstat  latitude  \\\n",
      "0        2024-01-12 14:07:47  308.1  17.1   -6      316        0   7.50361   \n",
      "1        2024-01-12 14:07:47  308.1  17.1   -6      316        0   7.50361   \n",
      "2        2024-01-12 14:07:47  308.1  17.1   -6      316        0   7.50361   \n",
      "3        2024-01-12 14:07:47  308.1  17.1   -6      316        0   7.50361   \n",
      "4        2024-01-12 14:07:47  308.1  17.1   -6      316        0   7.50361   \n",
      "...                      ...    ...   ...  ...      ...      ...       ...   \n",
      "2719060  2024-05-07 03:17:20   36.9  18.3   -6       37        0  58.81392   \n",
      "2719061  2024-05-05 00:18:18   78.2  15.5    3       77        0  53.85591   \n",
      "2719062  2024-05-07 03:17:20   36.9  18.3   -6       37        0  58.81392   \n",
      "2719063  2024-05-05 00:18:18   78.2  15.5    3       77        0  53.85591   \n",
      "2719064  2024-05-07 03:17:20   36.9  18.3   -6       37        0  58.81392   \n",
      "\n",
      "         longitude                   vesselId                    portId  \\\n",
      "0         77.58340   61e9f38eb937134a3c4bfd8b  61d376b393c6feb83e5eb50c   \n",
      "1         77.58340   61e9f38eb937134a3c4bfd8b  61d376b393c6feb83e5eb50c   \n",
      "2         77.58340   61e9f38eb937134a3c4bfd8b  61d376b393c6feb83e5eb50c   \n",
      "3         77.58340   61e9f38eb937134a3c4bfd8b  61d376b393c6feb83e5eb50c   \n",
      "4         77.58340   61e9f38eb937134a3c4bfd8b  61d376b393c6feb83e5eb50c   \n",
      "...            ...                        ...                       ...   \n",
      "2719060   21.38890  clh6aqawa0007gh0z9h6zi9bo  634c4de270937fc01c3a724f   \n",
      "2719061    7.11858  clh6aqawa0007gh0z9h6zi9bo  634c4de270937fc01c3a7328   \n",
      "2719062   21.38890  clh6aqawa0007gh0z9h6zi9bo  634c4de270937fc01c3a724f   \n",
      "2719063    7.11858  clh6aqawa0007gh0z9h6zi9bo  634c4de270937fc01c3a7328   \n",
      "2719064   21.38890  clh6aqawa0007gh0z9h6zi9bo  634c4de270937fc01c3a724f   \n",
      "\n",
      "                   etaParsed UN_LOCODE ISO  portLongitude  portLatitude  \\\n",
      "0        2024-01-08 06:00:00     INENR  IN      80.341111     13.263333   \n",
      "1        2024-01-08 06:00:00     INENR  IN      80.341111     13.263333   \n",
      "2        2024-01-08 06:00:00     INENR  IN      80.341111     13.263333   \n",
      "3        2024-01-08 06:00:00     INENR  IN      80.341111     13.263333   \n",
      "4        2024-01-08 06:00:00     INENR  IN      80.341111     13.263333   \n",
      "...                      ...       ...  ..            ...           ...   \n",
      "2719060  2024-05-07 09:00:00     EEPLS  EE      24.083000     59.333000   \n",
      "2719061  2024-05-05 03:00:00     DEBMR  DE       7.367000     53.733000   \n",
      "2719062  2024-05-07 09:00:00     EEPLS  EE      24.083000     59.333000   \n",
      "2719063  2024-05-05 03:00:00     DEBMR  DE       7.367000     53.733000   \n",
      "2719064  2024-05-07 09:00:00     EEPLS  EE      24.083000     59.333000   \n",
      "\n",
      "         next_latitude  next_longitude  time_diff  \n",
      "0              7.50361        77.58340        0.0  \n",
      "1              7.57302        77.49505     1393.0  \n",
      "2              7.65043        77.39404     2976.0  \n",
      "3              7.71275        77.31394     4261.0  \n",
      "4              7.77191        77.23585     5520.0  \n",
      "...                ...             ...        ...  \n",
      "2719060       59.76388        21.35317    72034.0  \n",
      "2719061       59.83316        21.38489   256795.0  \n",
      "2719062       59.83316        21.38489    73253.0  \n",
      "2719063       59.89167        21.54685   258043.0  \n",
      "2719064       59.89167        21.54685    74501.0  \n",
      "\n",
      "[2719065 rows x 18 columns]\n"
     ]
    }
   ],
   "source": [
    "print(total_df)"
   ]
  },
  {
   "cell_type": "code",
   "execution_count": null,
   "metadata": {},
   "outputs": [
    {
     "name": "stdout",
     "output_type": "stream",
     "text": [
      "Applying categorize_navstat\n",
      "Applying numerize_UN_LOCODE\n",
      "Applying numerize_ISO\n",
      "Applying type_dummies\n",
      "Applying minutes_to_etaParsed\n",
      "                       cog  sog  rot  heading  latitude  longitude  \\\n",
      "time                                                                 \n",
      "2024-01-01 00:14:36  348.0  0.0    0      333  51.30883    3.23027   \n",
      "2024-01-01 00:14:36  348.0  0.0    0      333  51.30883    3.23027   \n",
      "2024-01-01 00:14:36  348.0  0.0    0      333  51.30883    3.23027   \n",
      "2024-01-01 00:14:36  348.0  0.0    0      333  51.30883    3.23027   \n",
      "2024-01-01 00:14:36  348.0  0.0    0      333  51.30883    3.23027   \n",
      "...                    ...  ...  ...      ...       ...        ...   \n",
      "2024-01-01 00:16:21  345.0  0.0    0      345  54.37932   18.65969   \n",
      "2024-01-01 00:16:21  345.0  0.0    0      345  54.37932   18.65969   \n",
      "2024-01-01 00:16:21  345.0  0.0    0      345  54.37932   18.65969   \n",
      "2024-01-01 00:16:21  345.0  0.0    0      345  54.37932   18.65969   \n",
      "2024-01-01 00:16:21  345.0  0.0    0      345  54.37932   18.65969   \n",
      "\n",
      "                                      vesselId                    portId  \\\n",
      "time                                                                       \n",
      "2024-01-01 00:14:36   61e9f38eb937134a3c4bfd8d  61d36f9a0a1807568ff9a156   \n",
      "2024-01-01 00:14:36   61e9f38eb937134a3c4bfd8d  61d36f9a0a1807568ff9a156   \n",
      "2024-01-01 00:14:36   61e9f38eb937134a3c4bfd8d  61d36f9a0a1807568ff9a156   \n",
      "2024-01-01 00:14:36   61e9f38eb937134a3c4bfd8d  61d36f9a0a1807568ff9a156   \n",
      "2024-01-01 00:14:36   61e9f38eb937134a3c4bfd8d  61d36f9a0a1807568ff9a156   \n",
      "...                                        ...                       ...   \n",
      "2024-01-01 00:16:21  clh6aqawa0004gh0z12aogec9  61d37d7799db2ccf7339ef75   \n",
      "2024-01-01 00:16:21  clh6aqawa0004gh0z12aogec9  61d37d7799db2ccf7339ef75   \n",
      "2024-01-01 00:16:21  clh6aqawa0004gh0z12aogec9  61d37d7799db2ccf7339ef75   \n",
      "2024-01-01 00:16:21  clh6aqawa0004gh0z12aogec9  61d37d7799db2ccf7339ef75   \n",
      "2024-01-01 00:16:21  clh6aqawa0004gh0z12aogec9  61d37d7799db2ccf7339ef75   \n",
      "\n",
      "                     portLongitude  portLatitude  next_latitude  \\\n",
      "time                                                              \n",
      "2024-01-01 00:14:36       3.207222     51.336389       51.30883   \n",
      "2024-01-01 00:14:36       3.207222     51.336389       51.30882   \n",
      "2024-01-01 00:14:36       3.207222     51.336389       51.30882   \n",
      "2024-01-01 00:14:36       3.207222     51.336389       51.30880   \n",
      "2024-01-01 00:14:36       3.207222     51.336389       51.30882   \n",
      "...                            ...           ...            ...   \n",
      "2024-01-01 00:16:21      18.670000     54.393333       54.37930   \n",
      "2024-01-01 00:16:21      18.670000     54.393333       54.37931   \n",
      "2024-01-01 00:16:21      18.670000     54.393333       54.37930   \n",
      "2024-01-01 00:16:21      18.670000     54.393333       54.37931   \n",
      "2024-01-01 00:16:21      18.670000     54.393333       54.37931   \n",
      "\n",
      "                     next_longitude  time_diff  navstat_value_Anchor  \\\n",
      "time                                                                   \n",
      "2024-01-01 00:14:36         3.23027        0.0                 False   \n",
      "2024-01-01 00:14:36         3.23025     1260.0                 False   \n",
      "2024-01-01 00:14:36         3.23027     2518.0                 False   \n",
      "2024-01-01 00:14:36         3.23023     3779.0                 False   \n",
      "2024-01-01 00:14:36         3.23030     4860.0                 False   \n",
      "...                             ...        ...                   ...   \n",
      "2024-01-01 00:16:21        18.65969    72140.0                 False   \n",
      "2024-01-01 00:16:21        18.65969    73272.0                 False   \n",
      "2024-01-01 00:16:21        18.65970    74546.0                 False   \n",
      "2024-01-01 00:16:21        18.65970    75626.0                 False   \n",
      "2024-01-01 00:16:21        18.65970    76575.0                 False   \n",
      "\n",
      "                     navstat_value_Moored  navstat_value_OMW_E  \\\n",
      "time                                                             \n",
      "2024-01-01 00:14:36                  True                False   \n",
      "2024-01-01 00:14:36                  True                False   \n",
      "2024-01-01 00:14:36                  True                False   \n",
      "2024-01-01 00:14:36                  True                False   \n",
      "2024-01-01 00:14:36                  True                False   \n",
      "...                                   ...                  ...   \n",
      "2024-01-01 00:16:21                  True                False   \n",
      "2024-01-01 00:16:21                  True                False   \n",
      "2024-01-01 00:16:21                  True                False   \n",
      "2024-01-01 00:16:21                  True                False   \n",
      "2024-01-01 00:16:21                  True                False   \n",
      "\n",
      "                     navstat_value_nan  UN_LOCODE_num  ISO_num  \\\n",
      "time                                                             \n",
      "2024-01-01 00:14:36              False              0        0   \n",
      "2024-01-01 00:14:36              False              0        0   \n",
      "2024-01-01 00:14:36              False              0        0   \n",
      "2024-01-01 00:14:36              False              0        0   \n",
      "2024-01-01 00:14:36              False              0        0   \n",
      "...                                ...            ...      ...   \n",
      "2024-01-01 00:16:21              False             90       34   \n",
      "2024-01-01 00:16:21              False             90       34   \n",
      "2024-01-01 00:16:21              False             90       34   \n",
      "2024-01-01 00:16:21              False             90       34   \n",
      "2024-01-01 00:16:21              False             90       34   \n",
      "\n",
      "                     days_to_etaParsed  \n",
      "time                                    \n",
      "2024-01-01 00:14:36                363  \n",
      "2024-01-01 00:14:36                363  \n",
      "2024-01-01 00:14:36                363  \n",
      "2024-01-01 00:14:36                363  \n",
      "2024-01-01 00:14:36                363  \n",
      "...                                ...  \n",
      "2024-01-01 00:16:21                362  \n",
      "2024-01-01 00:16:21                362  \n",
      "2024-01-01 00:16:21                362  \n",
      "2024-01-01 00:16:21                362  \n",
      "2024-01-01 00:16:21                362  \n",
      "\n",
      "[9987 rows x 20 columns]\n"
     ]
    }
   ],
   "source": [
    "feature_engineering_functions = [numerize_vesselId, numerize_portId, numerize_shippingLineId, \n",
    "                                 numerize_homePort, categorize_navstat, numerize_UN_LOCODE, \n",
    "                                 numerize_ISO, type_dummies, minutes_to_etaParsed] #, apply_markov,, categorize_rot\n",
    "\n",
    "\n",
    "\n",
    "feature_engineer = FeatureEngineer(total_df)\n",
    "feature_engineer.apply_features(feature_engineering_functions)\n",
    "total_df = feature_engineer.get_dataframe()\n",
    "total_df.set_index(\"time\", inplace=True)"
   ]
  },
  {
   "cell_type": "code",
   "execution_count": null,
   "metadata": {},
   "outputs": [
    {
     "name": "stdout",
     "output_type": "stream",
     "text": [
      "                       cog   sog  rot  heading  navstat  latitude  longitude  \\\n",
      "time                                                                           \n",
      "2024-01-12 14:07:47  308.1  17.1   -6      316        0   7.50361   77.58340   \n",
      "2024-01-12 14:07:47  308.1  17.1   -6      316        0   7.50361   77.58340   \n",
      "2024-01-12 14:07:47  308.1  17.1   -6      316        0   7.50361   77.58340   \n",
      "2024-01-12 14:07:47  308.1  17.1   -6      316        0   7.50361   77.58340   \n",
      "2024-01-12 14:07:47  308.1  17.1   -6      316        0   7.50361   77.58340   \n",
      "...                    ...   ...  ...      ...      ...       ...        ...   \n",
      "2024-05-07 03:17:20   36.9  18.3   -6       37        0  58.81392   21.38890   \n",
      "2024-05-05 00:18:18   78.2  15.5    3       77        0  53.85591    7.11858   \n",
      "2024-05-07 03:17:20   36.9  18.3   -6       37        0  58.81392   21.38890   \n",
      "2024-05-05 00:18:18   78.2  15.5    3       77        0  53.85591    7.11858   \n",
      "2024-05-07 03:17:20   36.9  18.3   -6       37        0  58.81392   21.38890   \n",
      "\n",
      "                                      vesselId                    portId  \\\n",
      "time                                                                       \n",
      "2024-01-12 14:07:47   61e9f38eb937134a3c4bfd8b  61d376b393c6feb83e5eb50c   \n",
      "2024-01-12 14:07:47   61e9f38eb937134a3c4bfd8b  61d376b393c6feb83e5eb50c   \n",
      "2024-01-12 14:07:47   61e9f38eb937134a3c4bfd8b  61d376b393c6feb83e5eb50c   \n",
      "2024-01-12 14:07:47   61e9f38eb937134a3c4bfd8b  61d376b393c6feb83e5eb50c   \n",
      "2024-01-12 14:07:47   61e9f38eb937134a3c4bfd8b  61d376b393c6feb83e5eb50c   \n",
      "...                                        ...                       ...   \n",
      "2024-05-07 03:17:20  clh6aqawa0007gh0z9h6zi9bo  634c4de270937fc01c3a724f   \n",
      "2024-05-05 00:18:18  clh6aqawa0007gh0z9h6zi9bo  634c4de270937fc01c3a7328   \n",
      "2024-05-07 03:17:20  clh6aqawa0007gh0z9h6zi9bo  634c4de270937fc01c3a724f   \n",
      "2024-05-05 00:18:18  clh6aqawa0007gh0z9h6zi9bo  634c4de270937fc01c3a7328   \n",
      "2024-05-07 03:17:20  clh6aqawa0007gh0z9h6zi9bo  634c4de270937fc01c3a724f   \n",
      "\n",
      "                               etaParsed UN_LOCODE ISO  portLongitude  \\\n",
      "time                                                                    \n",
      "2024-01-12 14:07:47  2024-01-08 06:00:00     INENR  IN      80.341111   \n",
      "2024-01-12 14:07:47  2024-01-08 06:00:00     INENR  IN      80.341111   \n",
      "2024-01-12 14:07:47  2024-01-08 06:00:00     INENR  IN      80.341111   \n",
      "2024-01-12 14:07:47  2024-01-08 06:00:00     INENR  IN      80.341111   \n",
      "2024-01-12 14:07:47  2024-01-08 06:00:00     INENR  IN      80.341111   \n",
      "...                                  ...       ...  ..            ...   \n",
      "2024-05-07 03:17:20  2024-05-07 09:00:00     EEPLS  EE      24.083000   \n",
      "2024-05-05 00:18:18  2024-05-05 03:00:00     DEBMR  DE       7.367000   \n",
      "2024-05-07 03:17:20  2024-05-07 09:00:00     EEPLS  EE      24.083000   \n",
      "2024-05-05 00:18:18  2024-05-05 03:00:00     DEBMR  DE       7.367000   \n",
      "2024-05-07 03:17:20  2024-05-07 09:00:00     EEPLS  EE      24.083000   \n",
      "\n",
      "                     portLatitude  next_latitude  next_longitude  time_diff  \\\n",
      "time                                                                          \n",
      "2024-01-12 14:07:47     13.263333        7.50361        77.58340        0.0   \n",
      "2024-01-12 14:07:47     13.263333        7.57302        77.49505     1393.0   \n",
      "2024-01-12 14:07:47     13.263333        7.65043        77.39404     2976.0   \n",
      "2024-01-12 14:07:47     13.263333        7.71275        77.31394     4261.0   \n",
      "2024-01-12 14:07:47     13.263333        7.77191        77.23585     5520.0   \n",
      "...                           ...            ...             ...        ...   \n",
      "2024-05-07 03:17:20     59.333000       59.76388        21.35317    72034.0   \n",
      "2024-05-05 00:18:18     53.733000       59.83316        21.38489   256795.0   \n",
      "2024-05-07 03:17:20     59.333000       59.83316        21.38489    73253.0   \n",
      "2024-05-05 00:18:18     53.733000       59.89167        21.54685   258043.0   \n",
      "2024-05-07 03:17:20     59.333000       59.89167        21.54685    74501.0   \n",
      "\n",
      "                    navstat_cat  UN_LOCODE_num  ISO_num  \n",
      "time                                                     \n",
      "2024-01-12 14:07:47       OMW_E              0        0  \n",
      "2024-01-12 14:07:47       OMW_E              0        0  \n",
      "2024-01-12 14:07:47       OMW_E              0        0  \n",
      "2024-01-12 14:07:47       OMW_E              0        0  \n",
      "2024-01-12 14:07:47       OMW_E              0        0  \n",
      "...                         ...            ...      ...  \n",
      "2024-05-07 03:17:20       OMW_E            544      102  \n",
      "2024-05-05 00:18:18       OMW_E             84       26  \n",
      "2024-05-07 03:17:20       OMW_E            544      102  \n",
      "2024-05-05 00:18:18       OMW_E             84       26  \n",
      "2024-05-07 03:17:20       OMW_E            544      102  \n",
      "\n",
      "[2719065 rows x 20 columns]\n"
     ]
    }
   ],
   "source": [
    "print(total_df)"
   ]
  },
  {
   "cell_type": "code",
   "execution_count": null,
   "metadata": {},
   "outputs": [],
   "source": [
    "def replace_nan_with_zero(df):\n",
    "    # Iterate over each column in the DataFrame\n",
    "    for col in df.columns:\n",
    "        # Check if column contains NaN values\n",
    "        if df[col].isna().any():\n",
    "            # Drop NaNs temporarily to check the data types of the rest of the values\n",
    "            non_na_values = df[col].dropna()\n",
    "            # Check if all non-NaN values are either bool, float, or int\n",
    "            if non_na_values.apply(lambda x: isinstance(x, (bool, int, float))).all():\n",
    "                df[col].fillna(0, inplace=True)\n",
    "    return df\n",
    "\n",
    "total_df = replace_nan_with_zero(total_df)"
   ]
  },
  {
   "cell_type": "code",
   "execution_count": null,
   "metadata": {},
   "outputs": [],
   "source": [
    "\n",
    "def remove_non_numeric_columns(df):\n",
    "    # Select columns that are either of type bool, float, or int\n",
    "    df = df.select_dtypes(include=['bool', 'float', 'int'])\n",
    "    return df\n",
    "\n",
    "total_df = remove_non_numeric_columns(total_df)\n"
   ]
  },
  {
   "cell_type": "code",
   "execution_count": null,
   "metadata": {},
   "outputs": [
    {
     "name": "stdout",
     "output_type": "stream",
     "text": [
      "Index(['cog', 'sog', 'rot', 'heading', 'navstat', 'latitude', 'longitude',\n",
      "       'portLongitude', 'portLatitude', 'next_latitude', 'next_longitude',\n",
      "       'time_diff', 'UN_LOCODE_num', 'ISO_num'],\n",
      "      dtype='object')\n"
     ]
    }
   ],
   "source": [
    "print((total_df.columns))"
   ]
  },
  {
   "cell_type": "code",
   "execution_count": null,
   "metadata": {},
   "outputs": [],
   "source": [
    "def train_test_split(df_old, perc1, perc2):\n",
    "\n",
    "    df = df_old.sample(frac=1).reset_index(drop=True)\n",
    "\n",
    "    y_list = ['next_latitude', 'next_longitude'] #'next_latitude', 'next_longitude'\n",
    "    ys = df[y_list]\n",
    "    Xs = df.drop(columns = y_list)\n",
    "\n",
    "    X_train = Xs.iloc[:int(np.round(Xs.shape[0]*perc1)),:]\n",
    "    y_train = ys.iloc[:int(np.round(Xs.shape[0]*perc1)),:]\n",
    "    X_val = Xs.iloc[int(np.round(Xs.shape[0]*perc1)):int(np.round(Xs.shape[0]*perc2)),:]\n",
    "    y_val = ys.iloc[int(np.round(Xs.shape[0]*perc1)):int(np.round(Xs.shape[0]*perc2)),:]\n",
    "    X_test = Xs.iloc[int(np.round(Xs.shape[0]*perc2)):,:]\n",
    "    y_test = ys.iloc[int(np.round(Xs.shape[0]*perc2)):,:]\n",
    "\n",
    "    return X_train, y_train, X_val, y_val, X_test, y_test"
   ]
  },
  {
   "cell_type": "code",
   "execution_count": null,
   "metadata": {},
   "outputs": [],
   "source": [
    "X_train, y_train, X_val, y_val, X_test, y_test = train_test_split(total_df, 0.85, 0.90)"
   ]
  },
  {
   "cell_type": "code",
   "execution_count": null,
   "metadata": {},
   "outputs": [],
   "source": [
    "X_train_cols= X_train.columns"
   ]
  },
  {
   "cell_type": "code",
   "execution_count": null,
   "metadata": {},
   "outputs": [
    {
     "name": "stdout",
     "output_type": "stream",
     "text": [
      "           cog   sog  rot  heading  navstat  latitude  longitude  \\\n",
      "0         23.7  19.5    0       26        0  25.19766  -80.05313   \n",
      "1         70.1   0.0    0      332        5  51.31644    3.22525   \n",
      "2         19.6  14.2    0       18        0  34.70156  129.22271   \n",
      "3        232.5  15.1    0      230        0  57.89419   11.51875   \n",
      "4         91.4  13.1   13       94        0  57.89750   11.03933   \n",
      "...        ...   ...  ...      ...      ...       ...        ...   \n",
      "2311200   79.0   0.0    0      226        5  24.98434   55.06381   \n",
      "2311201  108.0   0.0    0       72        1   6.03895  116.06827   \n",
      "2311202  346.9   0.0    0      323        5  40.69219  -74.13625   \n",
      "2311203  255.2   0.0    0      353        1  47.55541 -122.52629   \n",
      "2311204  102.6  16.8   -5      103        0  49.49629    0.02798   \n",
      "\n",
      "         portLongitude  portLatitude  time_diff  UN_LOCODE_num  ISO_num  \n",
      "0           -80.167222     25.775000    12030.0            173       17  \n",
      "1             3.207222     51.336389   236372.0              7        5  \n",
      "2           129.059444     35.109444   117747.0             45       14  \n",
      "3             8.554722     53.563611   101799.0             85       26  \n",
      "4            11.583000     57.933000    15531.0            326       57  \n",
      "...                ...           ...        ...            ...      ...  \n",
      "2311200      55.059444     24.995833   258603.0             36       12  \n",
      "2311201     116.076111      5.987500   249583.0            211       13  \n",
      "2311202     -74.028611     40.688333   198008.0            243       17  \n",
      "2311203    -122.637778     47.557222   129770.0            151       17  \n",
      "2311204       0.177778     49.466944    80390.0             18        8  \n",
      "\n",
      "[2311205 rows x 12 columns]\n",
      "<xgboost.core.DMatrix object at 0x78c9112a17f0>\n",
      "[0]\tvalidation-rmse:2.96605\n",
      "[1]\tvalidation-rmse:2.47565\n",
      "[2]\tvalidation-rmse:2.34758\n",
      "[3]\tvalidation-rmse:2.21387\n",
      "[4]\tvalidation-rmse:2.12125\n",
      "[5]\tvalidation-rmse:2.04252\n",
      "[6]\tvalidation-rmse:1.96030\n",
      "[7]\tvalidation-rmse:1.90517\n",
      "[8]\tvalidation-rmse:1.82754\n",
      "[9]\tvalidation-rmse:1.78154\n",
      "[10]\tvalidation-rmse:1.72527\n",
      "[11]\tvalidation-rmse:1.67505\n",
      "[12]\tvalidation-rmse:1.62679\n",
      "[13]\tvalidation-rmse:1.58169\n",
      "[14]\tvalidation-rmse:1.53452\n",
      "[15]\tvalidation-rmse:1.49342\n",
      "[16]\tvalidation-rmse:1.45801\n",
      "[17]\tvalidation-rmse:1.42175\n",
      "[18]\tvalidation-rmse:1.38867\n",
      "[19]\tvalidation-rmse:1.35293\n",
      "[20]\tvalidation-rmse:1.32217\n",
      "[21]\tvalidation-rmse:1.29201\n",
      "[22]\tvalidation-rmse:1.26074\n",
      "[23]\tvalidation-rmse:1.23499\n",
      "[24]\tvalidation-rmse:1.20864\n",
      "[25]\tvalidation-rmse:1.18364\n",
      "[26]\tvalidation-rmse:1.16022\n",
      "[27]\tvalidation-rmse:1.13780\n",
      "[28]\tvalidation-rmse:1.11402\n",
      "[29]\tvalidation-rmse:1.09445\n",
      "[30]\tvalidation-rmse:1.07285\n",
      "[31]\tvalidation-rmse:1.05197\n",
      "[32]\tvalidation-rmse:1.03133\n",
      "[33]\tvalidation-rmse:1.01289\n",
      "[34]\tvalidation-rmse:0.99683\n",
      "[35]\tvalidation-rmse:0.97917\n",
      "[36]\tvalidation-rmse:0.96307\n",
      "[37]\tvalidation-rmse:0.94863\n",
      "[38]\tvalidation-rmse:0.93294\n",
      "[39]\tvalidation-rmse:0.91963\n",
      "[40]\tvalidation-rmse:0.90599\n",
      "[41]\tvalidation-rmse:0.89245\n",
      "[42]\tvalidation-rmse:0.87969\n",
      "[43]\tvalidation-rmse:0.86742\n",
      "[44]\tvalidation-rmse:0.85504\n",
      "[45]\tvalidation-rmse:0.84346\n",
      "[46]\tvalidation-rmse:0.83274\n",
      "[47]\tvalidation-rmse:0.82141\n",
      "[48]\tvalidation-rmse:0.81058\n",
      "[49]\tvalidation-rmse:0.79930\n",
      "[50]\tvalidation-rmse:0.78954\n",
      "[51]\tvalidation-rmse:0.77916\n",
      "[52]\tvalidation-rmse:0.77052\n",
      "[53]\tvalidation-rmse:0.76108\n",
      "[54]\tvalidation-rmse:0.75210\n",
      "[55]\tvalidation-rmse:0.74354\n",
      "[56]\tvalidation-rmse:0.73452\n",
      "[57]\tvalidation-rmse:0.72537\n",
      "[58]\tvalidation-rmse:0.71796\n",
      "[59]\tvalidation-rmse:0.70983\n",
      "[60]\tvalidation-rmse:0.70243\n",
      "[61]\tvalidation-rmse:0.69456\n",
      "[62]\tvalidation-rmse:0.68744\n",
      "[63]\tvalidation-rmse:0.67971\n",
      "[64]\tvalidation-rmse:0.67250\n",
      "[65]\tvalidation-rmse:0.66597\n",
      "[66]\tvalidation-rmse:0.65932\n",
      "[67]\tvalidation-rmse:0.65297\n",
      "[68]\tvalidation-rmse:0.64586\n",
      "[69]\tvalidation-rmse:0.63983\n",
      "[70]\tvalidation-rmse:0.63364\n",
      "[71]\tvalidation-rmse:0.62775\n",
      "[72]\tvalidation-rmse:0.62195\n",
      "[73]\tvalidation-rmse:0.61577\n",
      "[74]\tvalidation-rmse:0.60972\n",
      "[75]\tvalidation-rmse:0.60441\n",
      "[76]\tvalidation-rmse:0.59888\n",
      "[77]\tvalidation-rmse:0.59381\n",
      "[78]\tvalidation-rmse:0.58832\n",
      "[79]\tvalidation-rmse:0.58357\n",
      "[80]\tvalidation-rmse:0.57869\n",
      "[81]\tvalidation-rmse:0.57384\n",
      "[82]\tvalidation-rmse:0.56914\n",
      "[83]\tvalidation-rmse:0.56466\n",
      "[84]\tvalidation-rmse:0.56041\n",
      "[85]\tvalidation-rmse:0.55569\n",
      "[86]\tvalidation-rmse:0.55117\n",
      "[87]\tvalidation-rmse:0.54749\n",
      "[88]\tvalidation-rmse:0.54344\n",
      "[89]\tvalidation-rmse:0.53956\n",
      "[90]\tvalidation-rmse:0.53580\n",
      "[91]\tvalidation-rmse:0.53208\n",
      "[92]\tvalidation-rmse:0.52794\n",
      "[93]\tvalidation-rmse:0.52380\n",
      "[94]\tvalidation-rmse:0.52023\n",
      "[95]\tvalidation-rmse:0.51688\n",
      "[96]\tvalidation-rmse:0.51327\n",
      "[97]\tvalidation-rmse:0.50963\n",
      "[98]\tvalidation-rmse:0.50617\n",
      "[99]\tvalidation-rmse:0.50256\n"
     ]
    }
   ],
   "source": [
    "\n",
    "dtrain = xgb.DMatrix(X_train, label=y_train)\n",
    "dval = xgb.DMatrix(X_val, label=y_val)\n",
    "dtest_X = xgb.DMatrix(X_test)\n",
    "\n",
    "params = {\"objective\": \"reg:squarederror\",\n",
    "            \"max_depth\": 10, #7\n",
    "            \"booster\": \"gbtree\",\n",
    "            \"tree-method\": \"gpu_hist\",\n",
    "            \"colsample_bynode\": 0.5, #0.4\n",
    "            \"num_parallel_tree\": 30, #50\n",
    "            \"subsample\": 0.7, #0.6\n",
    "            \"seed\": 42,\n",
    "            \"random_state\": 42,\n",
    "            \"learning_rate\": 1,\n",
    "            #\"n_estimators\": 100,\n",
    "            #\"reg_alpha\": 0.1,\n",
    "            #\"reg_lambda\": 0.1,\n",
    "            #\"n_jobs\": -1,\n",
    "            \"verbosity\": 1\n",
    "            }\n",
    "\n",
    "#Subsample was 0.8, num-parallel tree was 100, colsample-bynode was 0.5 and max-depth was 5. Before tuning. \n",
    "\n",
    "#After first round of tuning we got sumbsample was 0.6, num-parallel tree was 50, colsample-bynode was 0.4 and max-depth was 7. Before tuning. \n",
    "\n",
    "num_boost_round = 100\n",
    "\n",
    "#Tried 50, but that stagnated quickly. So reducing again to 30.  \n",
    "\n",
    "\n",
    "early_stopping_rounds = 3\n",
    "\n",
    "print(dtrain)\n",
    "\n",
    "model = xgb.train(params, dtrain, num_boost_round, evals=[(dval, \"validation\")], \n",
    "                  early_stopping_rounds=early_stopping_rounds, verbose_eval=True)\n",
    "\n",
    "\n",
    "preds = model.predict(dtest_X)"
   ]
  },
  {
   "cell_type": "code",
   "execution_count": null,
   "metadata": {},
   "outputs": [],
   "source": [
    "def calculate_time_diff_with_last_rows(test_df, last_rows):\n",
    "    \n",
    "    merged_df = pd.merge(\n",
    "        test_df[[\"ID\", \"vesselId\", \"time\"]],\n",
    "        last_rows,\n",
    "        on='vesselId',\n",
    "        suffixes=('', '_last')\n",
    "    )\n",
    "    print(merged_df.columns)\n",
    "    \n",
    "    merged_df['time_diff'] = (merged_df['time'] - merged_df['time_last']).dt.total_seconds()\n",
    "    \n",
    "    merged_df = merged_df.drop(columns=[ 'time_last'])\n",
    "    \n",
    "    \n",
    "    return merged_df"
   ]
  },
  {
   "cell_type": "code",
   "execution_count": null,
   "metadata": {},
   "outputs": [],
   "source": [
    "test_df = parser.retrieve_test_data()"
   ]
  },
  {
   "cell_type": "code",
   "execution_count": null,
   "metadata": {},
   "outputs": [
    {
     "name": "stdout",
     "output_type": "stream",
     "text": [
      "   ID                  vesselId                time  scaling_factor\n",
      "0   0  61e9f3aeb937134a3c4bfe3d 2024-05-08 00:03:16             0.3\n",
      "1   1  61e9f473b937134a3c4c02df 2024-05-08 00:06:17             0.3\n",
      "2   2  61e9f469b937134a3c4c029b 2024-05-08 00:10:02             0.3\n",
      "3   3  61e9f45bb937134a3c4c0221 2024-05-08 00:10:34             0.3\n",
      "4   4  61e9f38eb937134a3c4bfd8d 2024-05-08 00:12:27             0.3\n"
     ]
    }
   ],
   "source": [
    "print(test_df.head())"
   ]
  },
  {
   "cell_type": "code",
   "execution_count": null,
   "metadata": {},
   "outputs": [
    {
     "data": {
      "text/plain": [
       "\"\\nlast_rows =last_rows[['time', 'cog', 'sog', 'rot', 'heading', 'navstat', 'latitude',\\n       'longitude', 'vesselId', 'portId', 'etaParsed', 'UN_LOCODE', 'ISO',\\n       'portLongitude', 'portLatitude', \\n       #'shippingLineId', 'CEU', 'DWT', 'GT',\\n       #'NT', \\n       'vesselType', \\n       #'breadth', 'depth', 'draft', 'enginePower',\\n       #'freshWater', 'fuel', 'homePort', 'length', 'maxHeight', 'maxSpeed',\\n       #'maxWidth', 'rampCapacity', 'yearBuilt\\n]]\""
      ]
     },
     "execution_count": 19,
     "metadata": {},
     "output_type": "execute_result"
    }
   ],
   "source": [
    "#print(last_rows.columns)\n",
    "\"\"\"\n",
    "last_rows =last_rows[['time', 'cog', 'sog', 'rot', 'heading', 'navstat', 'latitude',\n",
    "       'longitude', 'vesselId', 'portId', 'etaParsed', 'UN_LOCODE', 'ISO',\n",
    "       'portLongitude', 'portLatitude', \n",
    "       #'shippingLineId', 'CEU', 'DWT', 'GT',\n",
    "       #'NT', \n",
    "       'vesselType', \n",
    "       #'breadth', 'depth', 'draft', 'enginePower',\n",
    "       #'freshWater', 'fuel', 'homePort', 'length', 'maxHeight', 'maxSpeed',\n",
    "       #'maxWidth', 'rampCapacity', 'yearBuilt\n",
    "]]\"\"\"\n",
    "\n",
    "\n"
   ]
  },
  {
   "cell_type": "code",
   "execution_count": null,
   "metadata": {},
   "outputs": [],
   "source": [
    "def split_dataframe(df):\n",
    "    # Generate a unique ID for each row\n",
    "    df['ID'] = range(1, len(df) + 1)\n",
    "    \n",
    "    # Create the first DataFrame with ID, predicted_latitude, and predicted_longitude\n",
    "    df_predicted = df[['ID', 'latitude', 'longitude']].rename(columns={'latitude': 'predicted_latitude', 'longitude': 'predicted_longitude'})\n",
    "    \n",
    "    # Create the second DataFrame with ID, time, and vesselId\n",
    "    df_info = df[['ID', 'time', 'vesselId']]\n",
    "    \n",
    "    return df_predicted, df_info"
   ]
  },
  {
   "cell_type": "code",
   "execution_count": null,
   "metadata": {},
   "outputs": [
    {
     "ename": "NameError",
     "evalue": "name 'last_rows' is not defined",
     "output_type": "error",
     "traceback": [
      "\u001b[0;31m---------------------------------------------------------------------------\u001b[0m",
      "\u001b[0;31mNameError\u001b[0m                                 Traceback (most recent call last)",
      "Cell \u001b[0;32mIn[20], line 1\u001b[0m\n\u001b[0;32m----> 1\u001b[0m test_df\u001b[38;5;241m=\u001b[39mcalculate_time_diff_with_last_rows(test_df,last_rows)\n",
      "\u001b[0;31mNameError\u001b[0m: name 'last_rows' is not defined"
     ]
    }
   ],
   "source": [
    "test_df=calculate_time_diff_with_last_rows(test_df,last_rows)"
   ]
  },
  {
   "cell_type": "code",
   "execution_count": null,
   "metadata": {},
   "outputs": [
    {
     "name": "stdout",
     "output_type": "stream",
     "text": [
      "Index(['ID', 'vesselId', 'time', 'cog', 'sog', 'rot', 'heading', 'navstat',\n",
      "       'latitude', 'longitude', 'portId', 'etaParsed', 'UN_LOCODE', 'ISO',\n",
      "       'portLongitude', 'portLatitude', 'time_diff'],\n",
      "      dtype='object')\n"
     ]
    }
   ],
   "source": [
    "print(test_df.columns)"
   ]
  },
  {
   "cell_type": "code",
   "execution_count": null,
   "metadata": {},
   "outputs": [],
   "source": [
    "feature_engineer = FeatureEngineer(test_df)\n",
    "feature_engineer.apply_features(feature_engineering_functions)\n",
    "test_df = feature_engineer.get_dataframe()\n",
    "\n",
    "test_df.set_index(\"time\", inplace=True)\n",
    "test_df = remove_non_numeric_columns(test_df)\n",
    "\n",
    "\n",
    "\n"
   ]
  },
  {
   "cell_type": "code",
   "execution_count": null,
   "metadata": {},
   "outputs": [],
   "source": [
    "#test_df.drop(columns=\"vesselType\")"
   ]
  },
  {
   "cell_type": "code",
   "execution_count": null,
   "metadata": {},
   "outputs": [],
   "source": [
    "def make_predictions(model, input_df):\n",
    "    # Extract the features for prediction, excluding the 'ID' column\n",
    "    features_df = input_df.drop(columns=['ID'])\n",
    "    features_df = features_df[X_train_cols]\n",
    "    # Generate predictions using the model\n",
    "    predictions = model.predict(xgb.DMatrix(features_df))\n",
    "    \n",
    "    # Create a DataFrame with the predictions, renaming columns as required\n",
    "    predictions_df = pd.DataFrame(predictions, columns=['next_latitude', 'next_longitude'])\n",
    "    predictions_df = predictions_df.rename(columns={'next_latitude': 'latitude', 'next_longitude': 'longitude'})\n",
    "    \n",
    "    # Combine the 'ID' column with the predictions DataFrame\n",
    "    result_df = pd.concat([input_df['ID'].reset_index(drop=True), predictions_df], axis=1)\n",
    "    \n",
    "    return result_df"
   ]
  },
  {
   "cell_type": "code",
   "execution_count": null,
   "metadata": {},
   "outputs": [],
   "source": [
    "result_df = make_predictions(model, test_df)\n",
    "result_fin = pd.DataFrame()\n",
    "result_fin[[\"ID\",\"longitude_predicted\",\"latitude_predicted\"]]=result_df[[\"ID\",\"longitude\",\"latitude\"]]"
   ]
  },
  {
   "cell_type": "code",
   "execution_count": null,
   "metadata": {},
   "outputs": [],
   "source": [
    "result_fin.to_csv(RESOURCE_FOLDER+\"/result_simple.csv\", index=False)"
   ]
  },
  {
   "cell_type": "code",
   "execution_count": null,
   "metadata": {},
   "outputs": [
    {
     "data": {
      "text/plain": [
       "<Axes: title={'center': 'Feature importance'}, xlabel='F score', ylabel='Features'>"
      ]
     },
     "execution_count": 32,
     "metadata": {},
     "output_type": "execute_result"
    },
    {
     "data": {
      "image/png": "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",
      "text/plain": [
       "<Figure size 640x480 with 1 Axes>"
      ]
     },
     "metadata": {},
     "output_type": "display_data"
    }
   ],
   "source": [
    "plot_importance(model, height=0.9)"
   ]
  },
  {
   "cell_type": "markdown",
   "metadata": {},
   "source": [
    "Mde 1\n",
    "With stuff + prt crdinates"
   ]
  },
  {
   "cell_type": "markdown",
   "metadata": {},
   "source": [
    "Mde 2\n",
    "Vessetype nt imprtant "
   ]
  },
  {
   "cell_type": "markdown",
   "metadata": {},
   "source": [
    "Mde 3\n",
    "Away with Minutes, hrs and day with tuned hyperparams"
   ]
  },
  {
   "cell_type": "markdown",
   "metadata": {},
   "source": [
    "Mde 4\n",
    "Added training rnd t 100 and timedeta added 1, 3 "
   ]
  }
 ],
 "metadata": {
  "kernelspec": {
   "display_name": "base",
   "language": "python",
   "name": "python3"
  },
  "language_info": {
   "codemirror_mode": {
    "name": "ipython",
    "version": 3
   },
   "file_extension": ".py",
   "mimetype": "text/x-python",
   "name": "python",
   "nbconvert_exporter": "python",
   "pygments_lexer": "ipython3",
   "version": "3.12.4"
  }
 },
 "nbformat": 4,
 "nbformat_minor": 2
}
