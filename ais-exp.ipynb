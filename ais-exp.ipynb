{
 "cells": [
  {
   "cell_type": "code",
   "execution_count": 1,
   "metadata": {},
   "outputs": [],
   "source": [
    "import pandas as pd\n",
    "import numpy as np\n",
    "import matplotlib.pyplot as plt\n",
    "import seaborn as sns\n",
    "from datetime import datetime\n",
    "plt.style.use(\"ggplot\")\n"
   ]
  },
  {
   "cell_type": "markdown",
   "metadata": {},
   "source": [
    "## Data understanding"
   ]
  },
  {
   "cell_type": "code",
   "execution_count": null,
   "metadata": {},
   "outputs": [],
   "source": [
    "df_ais = pd.read_csv('ais_train.csv', sep='|')\n",
    "df_ais.head()\n",
    "df_ais['time'] = pd.to_datetime(df_ais['time'])\n",
    "\n",
    "df_ais.shape\n",
    "#n = 1522065\n",
    "#columns = 11\n",
    "df_ais.columns\n",
    "#latitude and longitude are our targets. Relevant covariates may be time, cog, sog, rot, heading, navstat, etaRAW, vesselId and portId.\n",
    "\n",
    "df_ais.dtypes\n",
    "#time, cog, latide and longitude are floats. Rot, heading and navstat are ints. etaRaw, vesselId and portId are objects. \n",
    "\n",
    "df_ais.describe()\n",
    "#cog: course over ground. From 0 to 360 degrees.\n",
    "#sog: speed over ground. from 0 to 1023 knots. \n",
    "#rot: rate of turning (of heading, which is the compass direction of where the boats bow/nose is heading). Degrees per minute.\n",
    "#heading: direction of where boats bow is pointing. Measured in degrees from 0 to 360.\n",
    "#navstat: Navigational status. The number tells the status of the boat. From 0 to 15.\n",
    "#latitude: north-south position. Degrees. From -90 (south) to +90 (north). \n",
    "#longitude: east-west position. Degrees. From -180 (west) to +180 (east)"
   ]
  },
  {
   "cell_type": "markdown",
   "metadata": {},
   "source": [
    "## Data preparation"
   ]
  },
  {
   "cell_type": "markdown",
   "metadata": {},
   "source": [
    "### Documentation of exploring estimated arrival times (don't run this!)"
   ]
  },
  {
   "cell_type": "code",
   "execution_count": null,
   "metadata": {},
   "outputs": [],
   "source": [
    "#Double-checking types of our columns.\n",
    "#etaRAW should be a date since this is estimated time of arrival.\n",
    "df_ais['etaRaw']\n",
    "\n",
    "print(df_ais['etaRaw'][1:3])\n",
    "\n",
    "def parse_time(raw_time):\n",
    "    try:\n",
    "    \n",
    "        # Define the format without the year\n",
    "        date_format = \"%m-%d %H:%M\"\n",
    "    \n",
    "        # Parse the cleaned string into a datetime object\n",
    "        parsed_datetime = datetime.strptime(raw_time, date_format)\n",
    "\n",
    "        # Add the correct year (2024)\n",
    "\n",
    "        return parsed_datetime.replace(year = 2024)\n",
    "    \n",
    "    except ValueError:\n",
    "        return None\n",
    "\n",
    "\n",
    "df_ais['etaParsed'] = df_ais['etaRaw'].apply(parse_time)\n",
    "\n",
    "#Want to ensure that the eta is the latest date. Checking how many instances I have of december.\n",
    "\n",
    "december_count = df_ais[df_ais['etaParsed'].dt.month == 12].shape[0]\n",
    "\n",
    "total_count = df_ais.shape[0]\n",
    "\n",
    "\n",
    "print(f\"Number of instances in December: {december_count/total_count}\")\n",
    "\n",
    "#Checking if I have instances of the etaParsed is later than time.\n",
    "\n",
    "df_ais['later'] = df_ais['etaParsed'] > df_ais['time']\n",
    "\n",
    "#November and later:\n",
    "df_ais['later'] = df_ais['etaParsed'] > df_ais['time']\n",
    "\n",
    "df_coolio = df_ais[df_ais['later'] == True].copy()\n",
    "\n",
    "#Checking if there is any instances where etaParsed is in november\n",
    "df_coolio[df_coolio['vesselId'] == '61e9f3a8b937134a3c4bfdf7'].head(10)\n",
    "\n",
    "df_coolio_nov = df_coolio[df_coolio['etaParsed'].dt.month == 9].copy()\n",
    "\n",
    "df_coolio_nov[df_coolio_nov['vesselId'] == '61e9f42eb937134a3c4c0103'].tail(40)\n",
    "\n",
    "df_ais[df_ais['vesselId'] == '61e9f42eb937134a3c4c0103'].head(10)\n",
    "\n",
    "#NOt fruitful\n",
    "\n",
    "\"\"\"\n",
    "\n",
    "later_count = df_ais[df_ais['later']  == False].shape[0]\n",
    "\n",
    "print(f\"Number of instances where time is later than eta: {later_count}\")\n",
    "df_ais[df_ais['later']  == False].head()\n",
    "\n",
    "#I have instances where time is later than eta if I do this solution. \n",
    "\n",
    "#So when later is False I want to ensure that the year of etaParsed is 2025.\n",
    "\n",
    "def adjust_year(time1,time2):\n",
    "    if time1 <= time2:\n",
    "        return time1.replace(year = 2025)\n",
    "    return time1\n",
    "\n",
    "df_ais['etaParsed'] = df_ais.apply(lambda row: adjust_year(row['etaParsed'], row['time']), axis = 1)\n",
    "df_ais[df_ais['later']  == False].head() #It's fixed\n",
    "\"\"\"\n",
    "\n"
   ]
  },
  {
   "cell_type": "markdown",
   "metadata": {},
   "source": [
    "### Actual useful stuff"
   ]
  },
  {
   "cell_type": "code",
   "execution_count": 3,
   "metadata": {},
   "outputs": [],
   "source": [
    "def parse_time(raw_time):\n",
    "    try:\n",
    "    \n",
    "        # Define the format without the year\n",
    "        date_format = \"%m-%d %H:%M\"\n",
    "    \n",
    "        # Parse the cleaned string into a datetime object\n",
    "        parsed_datetime = datetime.strptime(raw_time, date_format)\n",
    "\n",
    "        # Add placeholder year 2024.\n",
    "\n",
    "        return parsed_datetime.replace(year = 2024)\n",
    "    \n",
    "    except ValueError:\n",
    "        return None\n",
    "\n",
    "\n",
    "df_ais['etaParsed'] = df_ais['etaRaw'].apply(parse_time)\n",
    "\n",
    "#Sets all years to 2024, because not able to determine which years estimated arrival time should be."
   ]
  },
  {
   "cell_type": "code",
   "execution_count": null,
   "metadata": {},
   "outputs": [],
   "source": [
    "df_ais.drop(['etaRaw'], axis = 1)\n",
    "\n",
    "df_ais.isna().sum() #Estimated arrival time (1615 entries) and portId (1615 entries)\n",
    "\n",
    "df_ais.loc[df_ais.duplicated()] #No duplicated rows\n",
    "\n"
   ]
  }
 ],
 "metadata": {
  "kernelspec": {
   "display_name": "base",
   "language": "python",
   "name": "python3"
  },
  "language_info": {
   "codemirror_mode": {
    "name": "ipython",
    "version": 3
   },
   "file_extension": ".py",
   "mimetype": "text/x-python",
   "name": "python",
   "nbconvert_exporter": "python",
   "pygments_lexer": "ipython3",
   "version": "3.12.4"
  }
 },
 "nbformat": 4,
 "nbformat_minor": 2
}
